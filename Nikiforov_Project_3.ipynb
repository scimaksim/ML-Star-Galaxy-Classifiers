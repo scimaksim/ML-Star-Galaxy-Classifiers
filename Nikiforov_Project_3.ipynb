{
 "cells": [
  {
   "cell_type": "markdown",
   "id": "3869e550-01cf-49c5-809b-4693f69c36bc",
   "metadata": {},
   "source": [
    "# Classifying stars and galaxies using machine learning"
   ]
  },
  {
   "cell_type": "markdown",
   "id": "96299d30-496a-4e24-8667-b047ac6809b9",
   "metadata": {
    "tags": []
   },
   "source": [
    "Authored by Maksim Nikiforov"
   ]
  },
  {
   "cell_type": "markdown",
   "id": "2737dfa3-ae25-4052-9b3d-4591ae167fab",
   "metadata": {},
   "source": [
    "NCSU ST590, Project 3"
   ]
  },
  {
   "cell_type": "markdown",
   "id": "3d39169a-c308-4145-b22e-ebee082c2670",
   "metadata": {},
   "source": [
    "Spring, 2022"
   ]
  },
  {
   "cell_type": "code",
   "execution_count": 1,
   "id": "e76693f0-cbba-44eb-9a33-2a4f5c938da7",
   "metadata": {},
   "outputs": [
    {
     "name": "stderr",
     "output_type": "stream",
     "text": [
      "WARNING:root:'PYARROW_IGNORE_TIMEZONE' environment variable was not set. It is required to set this environment variable to '1' in both driver and executor sides if you use pyarrow>=2.0.0. pandas-on-Spark will set it for you but it does not work if there is a Spark context already launched.\n",
      "Using Spark's default log4j profile: org/apache/spark/log4j-defaults.properties\n",
      "Setting default log level to \"WARN\".\n",
      "To adjust logging level use sc.setLogLevel(newLevel). For SparkR, use setLogLevel(newLevel).\n",
      "22/04/29 13:48:16 WARN NativeCodeLoader: Unable to load native-hadoop library for your platform... using builtin-java classes where applicable\n"
     ]
    }
   ],
   "source": [
    "# Import required libraries and set up Spark session\n",
    "\n",
    "# import os\n",
    "# import sys\n",
    "# os.environ['PYSPARK_PYTHON'] = sys.executable\n",
    "# os.environ['PYSPARK_DRIVER_PYTHON'] = sys.executable\n",
    "\n",
    "import pyspark.pandas as ps\n",
    "import matplotlib.pyplot as plt\n",
    "from pyspark.sql import SparkSession\n",
    "spark = SparkSession.builder.getOrCreate()\n",
    "spark.sparkContext.setLogLevel(\"ERROR\")"
   ]
  },
  {
   "cell_type": "markdown",
   "id": "d6d9cecb-610f-4127-bffc-81056285d040",
   "metadata": {},
   "source": [
    "## Introduction"
   ]
  },
  {
   "cell_type": "markdown",
   "id": "181deab9-faa0-4515-8c63-d6143423a27c",
   "metadata": {
    "citation-manager": {
     "citations": {
      "2qy3z": [
       {
        "id": "6578788/Z75D4M6Y",
        "source": "zotero"
       }
      ]
     }
    },
    "tags": []
   },
   "source": [
    "Since 2000, the [Sloan Digital Sky Survey (SDSS)](https://www.sdss.org/) has cataloged hundreds of parameters for millions of stars, galaxies, and quasars and has inspired nearly 11,000 peer-reviewed publications, making it \"one of the most successful surveys in the history of astronomy\"   <cite id=\"2qy3z\"><a href=\"#zotero|6578788/Z75D4M6Y\">(<i>Sloan Digital Sky Surveys | SDSS</i>, n.d.)</a></cite>. The following sections investigate a subset of the survey data. By ingesting nearly 1 million observations alongside their photometric properties, this notebook aims to train supervised models to classify objects as either \"stars\" or \"galaxies\". "
   ]
  },
  {
   "cell_type": "markdown",
   "id": "daa0bd10-eb2a-46ec-8b01-5eec24ca2fdc",
   "metadata": {
    "citation-manager": {
     "citations": {
      "8nfae": [
       {
        "id": "6578788/WRVILYFW",
        "source": "zotero"
       }
      ],
      "tlk39": [
       {
        "id": "6578788/UXVJ3YSM",
        "source": "zotero"
       }
      ]
     }
    },
    "tags": []
   },
   "source": [
    "The dataset is drawn by querying the [CasJobs](https://skyserver.sdss.org/CasJobs/default.aspx) workbench for Data Release 7 (DR7), the seventh major data release from the Sloan Digital Sky Survey <cite id=\"8nfae\"><a href=\"#zotero|6578788/WRVILYFW\">(<i>SDSS Data Release 7</i>, n.d.)</a></cite>. Drawing inspiration from Vasconcellos et al., the CasJobs SQL query is structured to include only \"those attributes that are known or expected to strongly correlate with the object classification\" <cite id=\"tlk39\"><a href=\"#zotero|6578788/UXVJ3YSM\">(Vasconcellos et al., 2011)</a></cite>. The table below summarizes these attributes."
   ]
  },
  {
   "cell_type": "markdown",
   "id": "dc45bbd7-a5f3-4ae5-9a5b-f1ffc8eecd82",
   "metadata": {},
   "source": [
    "<style type=\"text/css\">\n",
    ".tg  {border-collapse:collapse;border-color:#ccc;border-spacing:0;margin:0px auto;}\n",
    ".tg td{background-color:#fff;border-color:#ccc;border-style:solid;border-width:1px;color:#333;\n",
    "  font-family:Arial, sans-serif;font-size:14px;overflow:hidden;padding:10px 5px;word-break:normal;}\n",
    ".tg th{background-color:#f0f0f0;border-color:#ccc;border-style:solid;border-width:1px;color:#333;\n",
    "  font-family:Arial, sans-serif;font-size:14px;font-weight:normal;overflow:hidden;padding:10px 5px;word-break:normal;}\n",
    ".tg .tg-c3ow{border-color:inherit;text-align:center;vertical-align:top}\n",
    ".tg .tg-fymr{border-color:inherit;font-weight:bold;text-align:left;vertical-align:top}\n",
    ".tg .tg-7btt{border-color:inherit;font-weight:bold;text-align:center;vertical-align:top}\n",
    ".tg .tg-btxf{background-color:#f9f9f9;border-color:inherit;text-align:left;vertical-align:top}\n",
    ".tg .tg-abip{background-color:#f9f9f9;border-color:inherit;text-align:center;vertical-align:top}\n",
    ".tg .tg-0pky{border-color:inherit;text-align:left;vertical-align:top}\n",
    ".tg .tg-dzk6{background-color:#f9f9f9;text-align:center;vertical-align:top}\n",
    "@media screen and (max-width: 767px) {.tg {width: auto !important;}.tg col {width: auto !important;}.tg-wrap {overflow-x: auto;-webkit-overflow-scrolling: touch;margin: auto 0px;}}</style>\n",
    "<div class=\"tg-wrap\"><table class=\"tg\">\n",
    "<thead>\n",
    "  <tr>\n",
    "    <th class=\"tg-fymr\">Feature</th>\n",
    "    <th class=\"tg-7btt\">CAS Variable</th>\n",
    "    <th class=\"tg-7btt\">Description<br></th>\n",
    "  </tr>\n",
    "</thead>\n",
    "<tbody>\n",
    "  <tr>\n",
    "    <td class=\"tg-btxf\">PSF magnitude</td>\n",
    "    <td class=\"tg-abip\">  psfMag</td>\n",
    "    <td class=\"tg-btxf\">For isolated stars, which are well-described by the point spread function (PSF), the optimal measure of the total flux is determined by fitting a PSF model to the object.</td>\n",
    "  </tr>\n",
    "  <tr>\n",
    "    <td class=\"tg-0pky\">Fiber magnitude</td>\n",
    "    <td class=\"tg-c3ow\">  fiberMag</td>\n",
    "    <td class=\"tg-0pky\">The flux contained within the aperture of a spectroscopic fiber</td>\n",
    "  </tr>\n",
    "  <tr>\n",
    "    <td class=\"tg-btxf\">Petrosian magnitude</td>\n",
    "    <td class=\"tg-abip\">  petroMag</td>\n",
    "    <td class=\"tg-btxf\">A measure of galaxy flux within a circular aperture whose radius is defined by the shape of the azimuthally averaged light profile</td>\n",
    "  </tr>\n",
    "  <tr>\n",
    "    <td class=\"tg-0pky\">Model magnitude</td>\n",
    "    <td class=\"tg-c3ow\">  modelMag</td>\n",
    "    <td class=\"tg-0pky\">Magnitudes that result from fitting a deVaucouleurs profile or an exponential profile to the two-dimensional image of each object in each band</td>\n",
    "  </tr>\n",
    "  <tr>\n",
    "    <td class=\"tg-btxf\">Petrosian radius</td>\n",
    "    <td class=\"tg-abip\">  petroRad</td>\n",
    "    <td class=\"tg-btxf\">The radius at which the Petrosian ratio equals 0.2. </td>\n",
    "  </tr>\n",
    "  <tr>\n",
    "    <td class=\"tg-0pky\">Radius carrying 50% of Petrosian flux</td>\n",
    "    <td class=\"tg-c3ow\">  petroR50</td>\n",
    "    <td class=\"tg-0pky\">The radii containing 50% of the Petrosian flux for each band</td>\n",
    "  </tr>\n",
    "  <tr>\n",
    "    <td class=\"tg-btxf\">Radius carrying 90% of Petrosian flux</td>\n",
    "    <td class=\"tg-abip\">  petroR90</td>\n",
    "    <td class=\"tg-btxf\">The radii containing 90% of the Petrosian flux for each band</td>\n",
    "  </tr>\n",
    "  <tr>\n",
    "    <td class=\"tg-0pky\">Likelihood PSF</td>\n",
    "    <td class=\"tg-c3ow\">  lnLStar</td>\n",
    "    <td class=\"tg-0pky\">The probabilities of achieving the measured chi-squared for the PSF fits</td>\n",
    "  </tr>\n",
    "  <tr>\n",
    "    <td class=\"tg-btxf\">Likelihood exponential</td>\n",
    "    <td class=\"tg-abip\">  lnLExp</td>\n",
    "    <td class=\"tg-btxf\">the probabilities of achieving the measured chi-squared for the exponential fits</td>\n",
    "  </tr>\n",
    "  <tr>\n",
    "    <td class=\"tg-0pky\">Likelihood deVaucouleurs</td>\n",
    "    <td class=\"tg-c3ow\">  lnLDeV</td>\n",
    "    <td class=\"tg-0pky\">The probabilities of achieving the measured chi-squared for the deVaucouleurs fits</td>\n",
    "  </tr>\n",
    "  <tr>\n",
    "    <td class=\"tg-btxf\">Adaptive moments</td>\n",
    "    <td class=\"tg-abip\">  mRrCc, mE1, mE2</td>\n",
    "    <td class=\"tg-btxf\">A method of measuring object shapes. These moments are close to optimal for measuring the shapes of faint galaxies, and have been used for weak lensing studies.</td>\n",
    "  </tr>\n",
    "  <tr>\n",
    "    <td class=\"tg-0pky\">Spectroscopic classification</td>\n",
    "    <td class=\"tg-c3ow\">  specClass</td>\n",
    "    <td class=\"tg-0pky\">Indicates the best-matching spectroscopic template. SpecClass = 1 is associated some kind of star, SpecClass = 2 means galaxy, and SpecClass = 3 or 4 means quasar.</td>\n",
    "  </tr>\n",
    "  <tr>\n",
    "    <td class=\"tg-dzk6\" colspan=\"3\"><span style=\"font-weight:bold\">Table 1</span>:  Attributes from the Sloan Digital Sky Survey Data Release 7 that will be useful in classifying objects as stars or galaxies. </td>\n",
    "  </tr>\n",
    "</tbody>\n",
    "</table></div>"
   ]
  },
  {
   "cell_type": "markdown",
   "id": "93b12b27-602c-4a28-ad21-0e0567392f9b",
   "metadata": {},
   "source": [
    "The retrieval of the data can be replicated by executing the following query on CasJobs and exporting it in the format of your choice:\n",
    "\n",
    "```\n",
    " SELECT\n",
    "\n",
    "    p.objID, p.ra, p.dec, s.specObjID,\n",
    "\n",
    "    p.psfMag_r, p.modelMag_r, p.petroMag_r,\n",
    "\n",
    "    p.fiberMag_r, p.petroRad_r, p.petroR50_r,\n",
    "\n",
    "    p.petroR90_r, p.lnLStar_r,p.lnLExp_r,\n",
    "\n",
    "    p.lnLDeV_r, p.mE1_r, p.mE2_r, p.mRrCc_r,\n",
    "\n",
    "    p.type_r,p.type, s.specClass\n",
    "\n",
    " FROM PhotoObj AS p\n",
    "\n",
    "    JOIN SpecObj AS s ON s.bestobjid = p.objid\n",
    "\n",
    " WHERE\n",
    "\n",
    "    p.modelMag_r BETWEEN 14.0 AND 21.0\n",
    "\n",
    "```"
   ]
  },
  {
   "cell_type": "code",
   "execution_count": 1,
   "id": "af4e89b8-1b57-4aca-abdd-9dae1ce63f42",
   "metadata": {},
   "outputs": [
    {
     "data": {
      "text/html": [
       "<img src=\"http://skyservice.pha.jhu.edu/DR7/ImgCutout/getjpeg.aspx?ra=197.99224324&dec=-1.17760226&scale=0.2&width=200&height=200&opt=G\"/>"
      ],
      "text/plain": [
       "<IPython.core.display.Image object>"
      ]
     },
     "execution_count": 1,
     "metadata": {},
     "output_type": "execute_result"
    }
   ],
   "source": [
    "from IPython.display import Image\n",
    "from IPython.core.display import HTML \n",
    "Image(url= \"http://skyservice.pha.jhu.edu/DR7/ImgCutout/getjpeg.aspx?ra=197.99224324&dec=-1.17760226&scale=0.2&width=200&height=200&opt=G\")"
   ]
  },
  {
   "cell_type": "markdown",
   "id": "0aa22a62-02fb-430e-8784-ab471ca531ee",
   "metadata": {},
   "source": [
    "## Supervised learning"
   ]
  },
  {
   "cell_type": "markdown",
   "id": "2285c154-364a-4b89-aade-5098a4aa7245",
   "metadata": {},
   "source": [
    "### Introduction"
   ]
  },
  {
   "cell_type": "markdown",
   "id": "b7507627-7bfa-4b11-af01-0b8fbb28c1c5",
   "metadata": {
    "citation-manager": {
     "citations": {
      "bkbzf": [
       {
        "id": "6578788/ELIRRS3L",
        "source": "zotero"
       }
      ]
     }
    },
    "tags": []
   },
   "source": [
    "Supervised learning is the technique of using regression or classification algorithms and known variables (\"predictors\" or \"features\") to train models that predict numeric outputs or categorize observations based on probability. The act of \"training\" models involves using historical data, such as the SDSS DR7, to \"find the relationship that has the best predictive power\" for new observations <cite id=\"bkbzf\"><a href=\"#zotero|6578788/ELIRRS3L\">(Tatsat et al., 2020)</a></cite>. To avoid overfitting a model to training data, it is common practice to split historical data into \"training\" and \"test\" sets during model development. The training data is used to teach a model how to predict or classify an observation, while test data helps practitioners quantify model performance with unseen observations.  "
   ]
  },
  {
   "cell_type": "markdown",
   "id": "24494827-2057-447f-8864-341fee5f58d3",
   "metadata": {},
   "source": [
    "### Data split"
   ]
  },
  {
   "cell_type": "code",
   "execution_count": 2,
   "id": "de7ce4d2-f6df-4517-ab98-62684ef17723",
   "metadata": {},
   "outputs": [
    {
     "name": "stderr",
     "output_type": "stream",
     "text": [
      "                                                                                \r"
     ]
    },
    {
     "data": {
      "text/html": [
       "<div>\n",
       "<style scoped>\n",
       "    .dataframe tbody tr th:only-of-type {\n",
       "        vertical-align: middle;\n",
       "    }\n",
       "\n",
       "    .dataframe tbody tr th {\n",
       "        vertical-align: top;\n",
       "    }\n",
       "\n",
       "    .dataframe thead th {\n",
       "        text-align: right;\n",
       "    }\n",
       "</style>\n",
       "<table border=\"1\" class=\"dataframe\">\n",
       "  <thead>\n",
       "    <tr style=\"text-align: right;\">\n",
       "      <th></th>\n",
       "      <th>objID</th>\n",
       "      <th>ra</th>\n",
       "      <th>dec</th>\n",
       "      <th>specObjID</th>\n",
       "      <th>psfMag_r</th>\n",
       "      <th>modelMag_r</th>\n",
       "      <th>petroMag_r</th>\n",
       "      <th>fiberMag_r</th>\n",
       "      <th>petroRad_r</th>\n",
       "      <th>petroR50_r</th>\n",
       "      <th>petroR90_r</th>\n",
       "      <th>lnLStar_r</th>\n",
       "      <th>lnLExp_r</th>\n",
       "      <th>lnLDeV_r</th>\n",
       "      <th>mE1_r</th>\n",
       "      <th>mE2_r</th>\n",
       "      <th>mRrCc_r</th>\n",
       "      <th>type_r</th>\n",
       "      <th>type</th>\n",
       "      <th>specClass</th>\n",
       "    </tr>\n",
       "  </thead>\n",
       "  <tbody>\n",
       "    <tr>\n",
       "      <th>0</th>\n",
       "      <td>587722981747916975</td>\n",
       "      <td>197.899388</td>\n",
       "      <td>-1.090350</td>\n",
       "      <td>83258393032130560</td>\n",
       "      <td>18.10983</td>\n",
       "      <td>17.16931</td>\n",
       "      <td>17.27446</td>\n",
       "      <td>18.13988</td>\n",
       "      <td>2.860266</td>\n",
       "      <td>1.377335</td>\n",
       "      <td>3.917571</td>\n",
       "      <td>-6061.231000</td>\n",
       "      <td>-689.368400</td>\n",
       "      <td>-79.152840</td>\n",
       "      <td>0.079823</td>\n",
       "      <td>-0.016505</td>\n",
       "      <td>9.165010</td>\n",
       "      <td>3</td>\n",
       "      <td>3</td>\n",
       "      <td>2</td>\n",
       "    </tr>\n",
       "    <tr>\n",
       "      <th>1</th>\n",
       "      <td>587722981747916983</td>\n",
       "      <td>197.908850</td>\n",
       "      <td>-1.057697</td>\n",
       "      <td>83258393027936256</td>\n",
       "      <td>18.64094</td>\n",
       "      <td>16.17998</td>\n",
       "      <td>16.17174</td>\n",
       "      <td>18.36020</td>\n",
       "      <td>7.684298</td>\n",
       "      <td>3.669323</td>\n",
       "      <td>8.771421</td>\n",
       "      <td>-29276.120000</td>\n",
       "      <td>-252.465100</td>\n",
       "      <td>-2924.863000</td>\n",
       "      <td>0.533182</td>\n",
       "      <td>-0.122099</td>\n",
       "      <td>93.985080</td>\n",
       "      <td>3</td>\n",
       "      <td>3</td>\n",
       "      <td>2</td>\n",
       "    </tr>\n",
       "    <tr>\n",
       "      <th>2</th>\n",
       "      <td>587722981747917003</td>\n",
       "      <td>197.969692</td>\n",
       "      <td>-1.202853</td>\n",
       "      <td>83258392872747008</td>\n",
       "      <td>18.02242</td>\n",
       "      <td>15.86003</td>\n",
       "      <td>16.11524</td>\n",
       "      <td>17.96382</td>\n",
       "      <td>8.127323</td>\n",
       "      <td>3.563940</td>\n",
       "      <td>8.809196</td>\n",
       "      <td>-24853.890000</td>\n",
       "      <td>-2838.109000</td>\n",
       "      <td>-1704.597000</td>\n",
       "      <td>0.043267</td>\n",
       "      <td>-0.121488</td>\n",
       "      <td>30.947170</td>\n",
       "      <td>3</td>\n",
       "      <td>3</td>\n",
       "      <td>2</td>\n",
       "    </tr>\n",
       "    <tr>\n",
       "      <th>3</th>\n",
       "      <td>587722981747982353</td>\n",
       "      <td>198.036181</td>\n",
       "      <td>-1.119481</td>\n",
       "      <td>83258392927272960</td>\n",
       "      <td>18.94549</td>\n",
       "      <td>18.94530</td>\n",
       "      <td>18.99737</td>\n",
       "      <td>19.29821</td>\n",
       "      <td>1.340810</td>\n",
       "      <td>0.672405</td>\n",
       "      <td>1.499684</td>\n",
       "      <td>-0.092539</td>\n",
       "      <td>-0.204011</td>\n",
       "      <td>-0.203626</td>\n",
       "      <td>-0.092864</td>\n",
       "      <td>-0.052628</td>\n",
       "      <td>3.409491</td>\n",
       "      <td>6</td>\n",
       "      <td>6</td>\n",
       "      <td>3</td>\n",
       "    </tr>\n",
       "    <tr>\n",
       "      <th>4</th>\n",
       "      <td>587722981747982415</td>\n",
       "      <td>197.992243</td>\n",
       "      <td>-1.177602</td>\n",
       "      <td>83258392868552704</td>\n",
       "      <td>18.48139</td>\n",
       "      <td>16.80739</td>\n",
       "      <td>16.82753</td>\n",
       "      <td>18.33384</td>\n",
       "      <td>5.019594</td>\n",
       "      <td>2.367939</td>\n",
       "      <td>5.220800</td>\n",
       "      <td>-16505.760000</td>\n",
       "      <td>-225.247600</td>\n",
       "      <td>-1963.147000</td>\n",
       "      <td>-0.582404</td>\n",
       "      <td>-0.035685</td>\n",
       "      <td>47.852440</td>\n",
       "      <td>3</td>\n",
       "      <td>3</td>\n",
       "      <td>2</td>\n",
       "    </tr>\n",
       "  </tbody>\n",
       "</table>\n",
       "</div>"
      ],
      "text/plain": [
       "                objID          ra       dec          specObjID  psfMag_r  modelMag_r  petroMag_r  fiberMag_r  petroRad_r  petroR50_r  petroR90_r     lnLStar_r     lnLExp_r     lnLDeV_r     mE1_r     mE2_r    mRrCc_r  type_r  type  specClass\n",
       "0  587722981747916975  197.899388 -1.090350  83258393032130560  18.10983    17.16931    17.27446    18.13988    2.860266    1.377335    3.917571  -6061.231000  -689.368400   -79.152840  0.079823 -0.016505   9.165010       3     3          2\n",
       "1  587722981747916983  197.908850 -1.057697  83258393027936256  18.64094    16.17998    16.17174    18.36020    7.684298    3.669323    8.771421 -29276.120000  -252.465100 -2924.863000  0.533182 -0.122099  93.985080       3     3          2\n",
       "2  587722981747917003  197.969692 -1.202853  83258392872747008  18.02242    15.86003    16.11524    17.96382    8.127323    3.563940    8.809196 -24853.890000 -2838.109000 -1704.597000  0.043267 -0.121488  30.947170       3     3          2\n",
       "3  587722981747982353  198.036181 -1.119481  83258392927272960  18.94549    18.94530    18.99737    19.29821    1.340810    0.672405    1.499684     -0.092539    -0.204011    -0.203626 -0.092864 -0.052628   3.409491       6     6          3\n",
       "4  587722981747982415  197.992243 -1.177602  83258392868552704  18.48139    16.80739    16.82753    18.33384    5.019594    2.367939    5.220800 -16505.760000  -225.247600 -1963.147000 -0.582404 -0.035685  47.852440       3     3          2"
      ]
     },
     "execution_count": 2,
     "metadata": {},
     "output_type": "execute_result"
    }
   ],
   "source": [
    "# Read entire CSV into a Spark data frame\n",
    "sdss_data = spark.read.options(header=\"True\", \n",
    "                               inferSchema='True',\n",
    "                               delimiter=',') \\\n",
    "                      .csv(\"sdss_test_mvnikifo.csv\")\n",
    "\n",
    "# Convert to pandas-on-spark (without storing) for appearance and \n",
    "# print first 5 rows\n",
    "sdss_data.to_pandas_on_spark().head(5)"
   ]
  },
  {
   "cell_type": "code",
   "execution_count": 4,
   "id": "a97d2f19-0d90-4b41-a95d-e97a94de5aa2",
   "metadata": {},
   "outputs": [
    {
     "name": "stdout",
     "output_type": "stream",
     "text": [
      "root\n",
      " |-- objID: long (nullable = true)\n",
      " |-- ra: double (nullable = true)\n",
      " |-- dec: double (nullable = true)\n",
      " |-- specObjID: long (nullable = true)\n",
      " |-- psfMag_r: double (nullable = true)\n",
      " |-- modelMag_r: double (nullable = true)\n",
      " |-- petroMag_r: double (nullable = true)\n",
      " |-- fiberMag_r: double (nullable = true)\n",
      " |-- petroRad_r: double (nullable = true)\n",
      " |-- petroR50_r: double (nullable = true)\n",
      " |-- petroR90_r: double (nullable = true)\n",
      " |-- lnLStar_r: double (nullable = true)\n",
      " |-- lnLExp_r: double (nullable = true)\n",
      " |-- lnLDeV_r: double (nullable = true)\n",
      " |-- mE1_r: double (nullable = true)\n",
      " |-- mE2_r: double (nullable = true)\n",
      " |-- mRrCc_r: double (nullable = true)\n",
      " |-- type_r: integer (nullable = true)\n",
      " |-- type: integer (nullable = true)\n",
      " |-- specClass: integer (nullable = true)\n",
      "\n"
     ]
    }
   ],
   "source": [
    "sdss_data.printSchema()"
   ]
  },
  {
   "cell_type": "code",
   "execution_count": 5,
   "id": "3fc08565-c204-4b69-91a8-76c554e825bd",
   "metadata": {},
   "outputs": [
    {
     "data": {
      "text/plain": [
       "100000"
      ]
     },
     "execution_count": 5,
     "metadata": {},
     "output_type": "execute_result"
    }
   ],
   "source": [
    "# View number of observations in the full CSV\n",
    "sdss_data.count()"
   ]
  },
  {
   "cell_type": "markdown",
   "id": "b3bfeb78-cff3-41e5-a3c1-121b99430f04",
   "metadata": {},
   "source": [
    "There are missing values in this data, denoted by $0$ and $-9999$. These can be indicated more clearly with the designation \"None\". The number of missing values can be ascertained by converting the Spark DataFrame to a pandas-on-spark DataFrame and invoking the `.isnull().sum()` sequence of functions. "
   ]
  },
  {
   "cell_type": "code",
   "execution_count": 6,
   "id": "51e90bc2-eb65-48b5-b791-d8965aed7e78",
   "metadata": {},
   "outputs": [],
   "source": [
    "sdss_data = sdss_data.replace(-9999, None)\n",
    "sdss_data = sdss_data.replace(0, None)"
   ]
  },
  {
   "cell_type": "markdown",
   "id": "5f8447ca-b11f-45be-aac8-1a1d4d5fb15a",
   "metadata": {},
   "source": [
    "There are nearly 12,000 rows with missing data. These can be removed to prepare the data for machine learning algorithms, leaving a total of 1,019,910 rows."
   ]
  },
  {
   "cell_type": "code",
   "execution_count": 7,
   "id": "a520e70f-89c2-4eff-8f49-8f1c83e55b42",
   "metadata": {},
   "outputs": [
    {
     "name": "stderr",
     "output_type": "stream",
     "text": [
      "[Stage 7:>                                                          (0 + 5) / 5]\r"
     ]
    },
    {
     "name": "stdout",
     "output_type": "stream",
     "text": [
      "+-----+---+---+---------+--------+----------+----------+----------+----------+----------+----------+---------+--------+--------+-----+-----+-------+------+----+---------+\n",
      "|objID| ra|dec|specObjID|psfMag_r|modelMag_r|petroMag_r|fiberMag_r|petroRad_r|petroR50_r|petroR90_r|lnLStar_r|lnLExp_r|lnLDeV_r|mE1_r|mE2_r|mRrCc_r|type_r|type|specClass|\n",
      "+-----+---+---+---------+--------+----------+----------+----------+----------+----------+----------+---------+--------+--------+-----+-----+-------+------+----+---------+\n",
      "|    0|  0|  0|        0|       0|         0|         0|         1|         0|         1|         1|       11|      18|      17|   29|   29|     29|     0|   0|     1180|\n",
      "+-----+---+---+---------+--------+----------+----------+----------+----------+----------+----------+---------+--------+--------+-----+-----+-------+------+----+---------+\n",
      "\n"
     ]
    },
    {
     "name": "stderr",
     "output_type": "stream",
     "text": [
      "                                                                                \r"
     ]
    }
   ],
   "source": [
    "# Count total number of missing values\n",
    "# Based on example from https://sparkbyexamples.com/pyspark/pyspark-find-count-of-null-none-nan-values/\n",
    "from pyspark.sql.functions import col, isnan, when, count\n",
    "\n",
    "sdss_data.select([count(when(isnan(c) | col(c).isNull(), c)).alias(c) for c in sdss_data.columns]).show()"
   ]
  },
  {
   "cell_type": "code",
   "execution_count": 8,
   "id": "fd7e926b-6a0b-4ab5-8d0e-585c9fe66459",
   "metadata": {},
   "outputs": [
    {
     "name": "stderr",
     "output_type": "stream",
     "text": [
      "                                                                                \r"
     ]
    },
    {
     "data": {
      "text/plain": [
       "98781"
      ]
     },
     "execution_count": 8,
     "metadata": {},
     "output_type": "execute_result"
    }
   ],
   "source": [
    "# Remove rows with missing values and calculate new row count\n",
    "sdss_data = sdss_data.dropna()\n",
    "sdss_data.count()"
   ]
  },
  {
   "cell_type": "markdown",
   "id": "4c241a4d-1461-4bd9-863f-bd99a56e38c0",
   "metadata": {},
   "source": [
    "The data also contains a `specClass` column with values that correspond to the following classifications (https://skyserver.sdss.org/dr7/en/help/browser/enum.asp?n=SpecClass): \n",
    "\n",
    "| Name      | Value | Description                                                                                      |\n",
    "|-----------|-------|--------------------------------------------------------------------------------------------------|\n",
    "| UNKNOWN   |   0   | Spectrum not classifiable (zConf < 0.25).                                                        |\n",
    "| STAR      |   1   | Spectrum of a star.                                                                              |\n",
    "| GALAXY    |   2   | Spectrum of a galaxy.                                                                            |\n",
    "| QSO       |   3   | Spectrum of a quasi-stellar object.                                                              |\n",
    "| HIZ_QSO   |   4   | Spectrum of a high-redshift quasar (z>2.3), whose redshift is confirmed by a Ly-alpha estimator. |\n",
    "| SKY       |   5   | Spectrum of blank sky.                                                                           |\n",
    "| STAR_LATE |   6   | Star dominated bt molecular bands M or later.                                                    |\n",
    "| GAL_EM    |   7   | Emission line galaxy (placeholder).                                                              |"
   ]
  },
  {
   "cell_type": "markdown",
   "id": "884a9c7f-b45a-4760-b4e9-6d45c8cc9429",
   "metadata": {},
   "source": [
    "The intent of this project is to classify only stars and galaxies, and all other observations should be removed."
   ]
  },
  {
   "cell_type": "code",
   "execution_count": 9,
   "id": "f112842d-5509-4df7-820b-7d1b18be9d01",
   "metadata": {},
   "outputs": [],
   "source": [
    "sdss_data = sdss_data.filter((sdss_data.specClass == 1) | \\\n",
    "                              (sdss_data.specClass == 2))"
   ]
  },
  {
   "cell_type": "code",
   "execution_count": 10,
   "id": "433c1be9-db74-4d5e-856f-496259923d0c",
   "metadata": {},
   "outputs": [],
   "source": [
    "from pyspark.sql.types import StringType\n",
    "sdss_data = sdss_data.withColumn(\"type\",col(\"type\").cast(StringType()))"
   ]
  },
  {
   "cell_type": "code",
   "execution_count": 11,
   "id": "a36dc80f-8e3a-4459-9174-7da4b8ca7282",
   "metadata": {},
   "outputs": [
    {
     "data": {
      "text/plain": [
       "DataFrame[objID: bigint, ra: double, dec: double, specObjID: bigint, psfMag_r: double, modelMag_r: double, petroMag_r: double, fiberMag_r: double, petroRad_r: double, petroR50_r: double, petroR90_r: double, lnLStar_r: double, lnLExp_r: double, lnLDeV_r: double, mE1_r: double, mE2_r: double, mRrCc_r: double, type_r: int, type: string, specClass: int]"
      ]
     },
     "execution_count": 11,
     "metadata": {},
     "output_type": "execute_result"
    }
   ],
   "source": [
    "sdss_data"
   ]
  },
  {
   "cell_type": "markdown",
   "id": "603e34db-3031-4d68-9965-7e3d8d29f762",
   "metadata": {},
   "source": [
    "At this point, the data contains observations for 81,633 stars and 802,474 galaxies."
   ]
  },
  {
   "cell_type": "code",
   "execution_count": 12,
   "id": "92e0d1ee-5bc1-4199-9862-d7514b16d57f",
   "metadata": {},
   "outputs": [
    {
     "name": "stderr",
     "output_type": "stream",
     "text": [
      "[Stage 13:>                                                         (0 + 5) / 5]\r"
     ]
    },
    {
     "name": "stdout",
     "output_type": "stream",
     "text": [
      "+----+-----+\n",
      "|type|count|\n",
      "+----+-----+\n",
      "|   3|77299|\n",
      "|   6| 8589|\n",
      "+----+-----+\n",
      "\n"
     ]
    },
    {
     "name": "stderr",
     "output_type": "stream",
     "text": [
      "                                                                                \r"
     ]
    }
   ],
   "source": [
    "sdss_data.groupBy(\"type\").count().show()"
   ]
  },
  {
   "cell_type": "markdown",
   "id": "bba24dd4-c9f0-4b77-99ed-68526ff94090",
   "metadata": {},
   "source": [
    "The data set should be split into a training and a testing test before further exploration."
   ]
  },
  {
   "cell_type": "code",
   "execution_count": 13,
   "id": "5f0c0455-b7d1-4c74-8e54-8104f4aaaefa",
   "metadata": {},
   "outputs": [],
   "source": [
    "train, test = sdss_data.randomSplit([0.8,0.2])"
   ]
  },
  {
   "cell_type": "markdown",
   "id": "d7d2d3dc-64ed-4376-ae46-46044cb1b471",
   "metadata": {
    "tags": []
   },
   "source": [
    "## Exploratory data analysis"
   ]
  },
  {
   "cell_type": "markdown",
   "id": "947aee7e-7f20-4fa1-9226-6f0558ebab70",
   "metadata": {},
   "source": [
    "The training data contains nearly 70,000 observations."
   ]
  },
  {
   "cell_type": "code",
   "execution_count": 14,
   "id": "37d69ed5-70a9-4f62-9eff-931e31f98539",
   "metadata": {},
   "outputs": [
    {
     "name": "stderr",
     "output_type": "stream",
     "text": [
      "[Stage 19:>                                                         (0 + 5) / 5]\r"
     ]
    },
    {
     "name": "stdout",
     "output_type": "stream",
     "text": [
      "Training observations: 68745 \n",
      "Test observations: 17143\n"
     ]
    },
    {
     "name": "stderr",
     "output_type": "stream",
     "text": [
      "                                                                                \r"
     ]
    }
   ],
   "source": [
    "print(\"Training observations: \" + str(train.count()), \"\\nTest observations: \" + str(test.count()))"
   ]
  },
  {
   "cell_type": "code",
   "execution_count": 77,
   "id": "e510e9bb-5496-44dc-8825-88c7daedca8b",
   "metadata": {},
   "outputs": [],
   "source": [
    "# Create a new column with easy-to-understand categories, whereby if\n",
    "# type==3, the object is labeled as a \"Galaxy\" and if \n",
    "# type==6, the object is labeled as a \"Star\"\n",
    "from pyspark.sql.functions import when, col\n",
    "conditions = when(col(\"type\") == \"6\", \"Star\") \\\n",
    "            .when(col(\"type\") == \"3\", \"Galaxy\")\n",
    "train = train.withColumn(\"obj_category\", conditions)"
   ]
  },
  {
   "cell_type": "code",
   "execution_count": 74,
   "id": "d7e50531-67ba-4e03-9847-32384303159b",
   "metadata": {},
   "outputs": [],
   "source": [
    "train_ps = train.to_pandas_on_spark()"
   ]
  },
  {
   "cell_type": "code",
   "execution_count": 75,
   "id": "f8349c6f-f789-4aa3-9c5d-7fbf5a51c8e8",
   "metadata": {},
   "outputs": [
    {
     "name": "stderr",
     "output_type": "stream",
     "text": [
      "                                                                                \r"
     ]
    },
    {
     "data": {
      "application/vnd.plotly.v1+json": {
       "config": {
        "plotlyServerURL": "https://plot.ly"
       },
       "data": [
        {
         "alignmentgroup": "True",
         "hovertemplate": "variable=obj_category<br>Type=%{x}<br>Amount=%{y}<extra></extra>",
         "legendgroup": "obj_category",
         "marker": {
          "color": "#636efa",
          "pattern": {
           "shape": ""
          }
         },
         "name": "obj_category",
         "offsetgroup": "obj_category",
         "orientation": "v",
         "showlegend": true,
         "textposition": "auto",
         "texttemplate": "%{y}",
         "type": "bar",
         "x": [
          "Galaxy",
          "Star"
         ],
         "xaxis": "x",
         "y": [
          61891,
          6854
         ],
         "yaxis": "y"
        }
       ],
       "layout": {
        "autosize": true,
        "barmode": "relative",
        "legend": {
         "title": {
          "text": "variable"
         },
         "tracegroupgap": 0
        },
        "template": {
         "data": {
          "bar": [
           {
            "error_x": {
             "color": "#2a3f5f"
            },
            "error_y": {
             "color": "#2a3f5f"
            },
            "marker": {
             "line": {
              "color": "#E5ECF6",
              "width": 0.5
             },
             "pattern": {
              "fillmode": "overlay",
              "size": 10,
              "solidity": 0.2
             }
            },
            "type": "bar"
           }
          ],
          "barpolar": [
           {
            "marker": {
             "line": {
              "color": "#E5ECF6",
              "width": 0.5
             },
             "pattern": {
              "fillmode": "overlay",
              "size": 10,
              "solidity": 0.2
             }
            },
            "type": "barpolar"
           }
          ],
          "carpet": [
           {
            "aaxis": {
             "endlinecolor": "#2a3f5f",
             "gridcolor": "white",
             "linecolor": "white",
             "minorgridcolor": "white",
             "startlinecolor": "#2a3f5f"
            },
            "baxis": {
             "endlinecolor": "#2a3f5f",
             "gridcolor": "white",
             "linecolor": "white",
             "minorgridcolor": "white",
             "startlinecolor": "#2a3f5f"
            },
            "type": "carpet"
           }
          ],
          "choropleth": [
           {
            "colorbar": {
             "outlinewidth": 0,
             "ticks": ""
            },
            "type": "choropleth"
           }
          ],
          "contour": [
           {
            "colorbar": {
             "outlinewidth": 0,
             "ticks": ""
            },
            "colorscale": [
             [
              0,
              "#0d0887"
             ],
             [
              0.1111111111111111,
              "#46039f"
             ],
             [
              0.2222222222222222,
              "#7201a8"
             ],
             [
              0.3333333333333333,
              "#9c179e"
             ],
             [
              0.4444444444444444,
              "#bd3786"
             ],
             [
              0.5555555555555556,
              "#d8576b"
             ],
             [
              0.6666666666666666,
              "#ed7953"
             ],
             [
              0.7777777777777778,
              "#fb9f3a"
             ],
             [
              0.8888888888888888,
              "#fdca26"
             ],
             [
              1,
              "#f0f921"
             ]
            ],
            "type": "contour"
           }
          ],
          "contourcarpet": [
           {
            "colorbar": {
             "outlinewidth": 0,
             "ticks": ""
            },
            "type": "contourcarpet"
           }
          ],
          "heatmap": [
           {
            "colorbar": {
             "outlinewidth": 0,
             "ticks": ""
            },
            "colorscale": [
             [
              0,
              "#0d0887"
             ],
             [
              0.1111111111111111,
              "#46039f"
             ],
             [
              0.2222222222222222,
              "#7201a8"
             ],
             [
              0.3333333333333333,
              "#9c179e"
             ],
             [
              0.4444444444444444,
              "#bd3786"
             ],
             [
              0.5555555555555556,
              "#d8576b"
             ],
             [
              0.6666666666666666,
              "#ed7953"
             ],
             [
              0.7777777777777778,
              "#fb9f3a"
             ],
             [
              0.8888888888888888,
              "#fdca26"
             ],
             [
              1,
              "#f0f921"
             ]
            ],
            "type": "heatmap"
           }
          ],
          "heatmapgl": [
           {
            "colorbar": {
             "outlinewidth": 0,
             "ticks": ""
            },
            "colorscale": [
             [
              0,
              "#0d0887"
             ],
             [
              0.1111111111111111,
              "#46039f"
             ],
             [
              0.2222222222222222,
              "#7201a8"
             ],
             [
              0.3333333333333333,
              "#9c179e"
             ],
             [
              0.4444444444444444,
              "#bd3786"
             ],
             [
              0.5555555555555556,
              "#d8576b"
             ],
             [
              0.6666666666666666,
              "#ed7953"
             ],
             [
              0.7777777777777778,
              "#fb9f3a"
             ],
             [
              0.8888888888888888,
              "#fdca26"
             ],
             [
              1,
              "#f0f921"
             ]
            ],
            "type": "heatmapgl"
           }
          ],
          "histogram": [
           {
            "marker": {
             "pattern": {
              "fillmode": "overlay",
              "size": 10,
              "solidity": 0.2
             }
            },
            "type": "histogram"
           }
          ],
          "histogram2d": [
           {
            "colorbar": {
             "outlinewidth": 0,
             "ticks": ""
            },
            "colorscale": [
             [
              0,
              "#0d0887"
             ],
             [
              0.1111111111111111,
              "#46039f"
             ],
             [
              0.2222222222222222,
              "#7201a8"
             ],
             [
              0.3333333333333333,
              "#9c179e"
             ],
             [
              0.4444444444444444,
              "#bd3786"
             ],
             [
              0.5555555555555556,
              "#d8576b"
             ],
             [
              0.6666666666666666,
              "#ed7953"
             ],
             [
              0.7777777777777778,
              "#fb9f3a"
             ],
             [
              0.8888888888888888,
              "#fdca26"
             ],
             [
              1,
              "#f0f921"
             ]
            ],
            "type": "histogram2d"
           }
          ],
          "histogram2dcontour": [
           {
            "colorbar": {
             "outlinewidth": 0,
             "ticks": ""
            },
            "colorscale": [
             [
              0,
              "#0d0887"
             ],
             [
              0.1111111111111111,
              "#46039f"
             ],
             [
              0.2222222222222222,
              "#7201a8"
             ],
             [
              0.3333333333333333,
              "#9c179e"
             ],
             [
              0.4444444444444444,
              "#bd3786"
             ],
             [
              0.5555555555555556,
              "#d8576b"
             ],
             [
              0.6666666666666666,
              "#ed7953"
             ],
             [
              0.7777777777777778,
              "#fb9f3a"
             ],
             [
              0.8888888888888888,
              "#fdca26"
             ],
             [
              1,
              "#f0f921"
             ]
            ],
            "type": "histogram2dcontour"
           }
          ],
          "mesh3d": [
           {
            "colorbar": {
             "outlinewidth": 0,
             "ticks": ""
            },
            "type": "mesh3d"
           }
          ],
          "parcoords": [
           {
            "line": {
             "colorbar": {
              "outlinewidth": 0,
              "ticks": ""
             }
            },
            "type": "parcoords"
           }
          ],
          "pie": [
           {
            "automargin": true,
            "type": "pie"
           }
          ],
          "scatter": [
           {
            "fillpattern": {
             "fillmode": "overlay",
             "size": 10,
             "solidity": 0.2
            },
            "type": "scatter"
           }
          ],
          "scatter3d": [
           {
            "line": {
             "colorbar": {
              "outlinewidth": 0,
              "ticks": ""
             }
            },
            "marker": {
             "colorbar": {
              "outlinewidth": 0,
              "ticks": ""
             }
            },
            "type": "scatter3d"
           }
          ],
          "scattercarpet": [
           {
            "marker": {
             "colorbar": {
              "outlinewidth": 0,
              "ticks": ""
             }
            },
            "type": "scattercarpet"
           }
          ],
          "scattergeo": [
           {
            "marker": {
             "colorbar": {
              "outlinewidth": 0,
              "ticks": ""
             }
            },
            "type": "scattergeo"
           }
          ],
          "scattergl": [
           {
            "marker": {
             "colorbar": {
              "outlinewidth": 0,
              "ticks": ""
             }
            },
            "type": "scattergl"
           }
          ],
          "scattermapbox": [
           {
            "marker": {
             "colorbar": {
              "outlinewidth": 0,
              "ticks": ""
             }
            },
            "type": "scattermapbox"
           }
          ],
          "scatterpolar": [
           {
            "marker": {
             "colorbar": {
              "outlinewidth": 0,
              "ticks": ""
             }
            },
            "type": "scatterpolar"
           }
          ],
          "scatterpolargl": [
           {
            "marker": {
             "colorbar": {
              "outlinewidth": 0,
              "ticks": ""
             }
            },
            "type": "scatterpolargl"
           }
          ],
          "scatterternary": [
           {
            "marker": {
             "colorbar": {
              "outlinewidth": 0,
              "ticks": ""
             }
            },
            "type": "scatterternary"
           }
          ],
          "surface": [
           {
            "colorbar": {
             "outlinewidth": 0,
             "ticks": ""
            },
            "colorscale": [
             [
              0,
              "#0d0887"
             ],
             [
              0.1111111111111111,
              "#46039f"
             ],
             [
              0.2222222222222222,
              "#7201a8"
             ],
             [
              0.3333333333333333,
              "#9c179e"
             ],
             [
              0.4444444444444444,
              "#bd3786"
             ],
             [
              0.5555555555555556,
              "#d8576b"
             ],
             [
              0.6666666666666666,
              "#ed7953"
             ],
             [
              0.7777777777777778,
              "#fb9f3a"
             ],
             [
              0.8888888888888888,
              "#fdca26"
             ],
             [
              1,
              "#f0f921"
             ]
            ],
            "type": "surface"
           }
          ],
          "table": [
           {
            "cells": {
             "fill": {
              "color": "#EBF0F8"
             },
             "line": {
              "color": "white"
             }
            },
            "header": {
             "fill": {
              "color": "#C8D4E3"
             },
             "line": {
              "color": "white"
             }
            },
            "type": "table"
           }
          ]
         },
         "layout": {
          "annotationdefaults": {
           "arrowcolor": "#2a3f5f",
           "arrowhead": 0,
           "arrowwidth": 1
          },
          "autotypenumbers": "strict",
          "coloraxis": {
           "colorbar": {
            "outlinewidth": 0,
            "ticks": ""
           }
          },
          "colorscale": {
           "diverging": [
            [
             0,
             "#8e0152"
            ],
            [
             0.1,
             "#c51b7d"
            ],
            [
             0.2,
             "#de77ae"
            ],
            [
             0.3,
             "#f1b6da"
            ],
            [
             0.4,
             "#fde0ef"
            ],
            [
             0.5,
             "#f7f7f7"
            ],
            [
             0.6,
             "#e6f5d0"
            ],
            [
             0.7,
             "#b8e186"
            ],
            [
             0.8,
             "#7fbc41"
            ],
            [
             0.9,
             "#4d9221"
            ],
            [
             1,
             "#276419"
            ]
           ],
           "sequential": [
            [
             0,
             "#0d0887"
            ],
            [
             0.1111111111111111,
             "#46039f"
            ],
            [
             0.2222222222222222,
             "#7201a8"
            ],
            [
             0.3333333333333333,
             "#9c179e"
            ],
            [
             0.4444444444444444,
             "#bd3786"
            ],
            [
             0.5555555555555556,
             "#d8576b"
            ],
            [
             0.6666666666666666,
             "#ed7953"
            ],
            [
             0.7777777777777778,
             "#fb9f3a"
            ],
            [
             0.8888888888888888,
             "#fdca26"
            ],
            [
             1,
             "#f0f921"
            ]
           ],
           "sequentialminus": [
            [
             0,
             "#0d0887"
            ],
            [
             0.1111111111111111,
             "#46039f"
            ],
            [
             0.2222222222222222,
             "#7201a8"
            ],
            [
             0.3333333333333333,
             "#9c179e"
            ],
            [
             0.4444444444444444,
             "#bd3786"
            ],
            [
             0.5555555555555556,
             "#d8576b"
            ],
            [
             0.6666666666666666,
             "#ed7953"
            ],
            [
             0.7777777777777778,
             "#fb9f3a"
            ],
            [
             0.8888888888888888,
             "#fdca26"
            ],
            [
             1,
             "#f0f921"
            ]
           ]
          },
          "colorway": [
           "#636efa",
           "#EF553B",
           "#00cc96",
           "#ab63fa",
           "#FFA15A",
           "#19d3f3",
           "#FF6692",
           "#B6E880",
           "#FF97FF",
           "#FECB52"
          ],
          "font": {
           "color": "#2a3f5f"
          },
          "geo": {
           "bgcolor": "white",
           "lakecolor": "white",
           "landcolor": "#E5ECF6",
           "showlakes": true,
           "showland": true,
           "subunitcolor": "white"
          },
          "hoverlabel": {
           "align": "left"
          },
          "hovermode": "closest",
          "mapbox": {
           "style": "light"
          },
          "paper_bgcolor": "white",
          "plot_bgcolor": "#E5ECF6",
          "polar": {
           "angularaxis": {
            "gridcolor": "white",
            "linecolor": "white",
            "ticks": ""
           },
           "bgcolor": "#E5ECF6",
           "radialaxis": {
            "gridcolor": "white",
            "linecolor": "white",
            "ticks": ""
           }
          },
          "scene": {
           "xaxis": {
            "backgroundcolor": "#E5ECF6",
            "gridcolor": "white",
            "gridwidth": 2,
            "linecolor": "white",
            "showbackground": true,
            "ticks": "",
            "zerolinecolor": "white"
           },
           "yaxis": {
            "backgroundcolor": "#E5ECF6",
            "gridcolor": "white",
            "gridwidth": 2,
            "linecolor": "white",
            "showbackground": true,
            "ticks": "",
            "zerolinecolor": "white"
           },
           "zaxis": {
            "backgroundcolor": "#E5ECF6",
            "gridcolor": "white",
            "gridwidth": 2,
            "linecolor": "white",
            "showbackground": true,
            "ticks": "",
            "zerolinecolor": "white"
           }
          },
          "shapedefaults": {
           "line": {
            "color": "#2a3f5f"
           }
          },
          "ternary": {
           "aaxis": {
            "gridcolor": "white",
            "linecolor": "white",
            "ticks": ""
           },
           "baxis": {
            "gridcolor": "white",
            "linecolor": "white",
            "ticks": ""
           },
           "bgcolor": "#E5ECF6",
           "caxis": {
            "gridcolor": "white",
            "linecolor": "white",
            "ticks": ""
           }
          },
          "title": {
           "x": 0.05
          },
          "xaxis": {
           "automargin": true,
           "gridcolor": "white",
           "linecolor": "white",
           "ticks": "",
           "title": {
            "standoff": 15
           },
           "zerolinecolor": "white",
           "zerolinewidth": 2
          },
          "yaxis": {
           "automargin": true,
           "gridcolor": "white",
           "linecolor": "white",
           "ticks": "",
           "title": {
            "standoff": 15
           },
           "zerolinecolor": "white",
           "zerolinewidth": 2
          }
         }
        },
        "title": {
         "text": "Distribution of galaxies and stars <br>in the training data"
        },
        "xaxis": {
         "anchor": "y",
         "autorange": true,
         "domain": [
          0,
          1
         ],
         "range": [
          -0.5,
          1.5
         ],
         "title": {
          "text": "Type"
         },
         "type": "category"
        },
        "yaxis": {
         "anchor": "x",
         "autorange": true,
         "domain": [
          0,
          1
         ],
         "range": [
          0,
          65148.42105263158
         ],
         "title": {
          "text": "Amount"
         },
         "type": "linear"
        }
       }
      },
      "image/png": "[encoded data removed]",
      "text/html": [
       "<div>                            <div id=\"011881ef-c9b9-4dd2-9289-c073ff0e40d5\" class=\"plotly-graph-div\" style=\"height:525px; width:100%;\"></div>            <script type=\"text/javascript\">                require([\"plotly\"], function(Plotly) {                    window.PLOTLYENV=window.PLOTLYENV || {};                                    if (document.getElementById(\"011881ef-c9b9-4dd2-9289-c073ff0e40d5\")) {                    Plotly.newPlot(                        \"011881ef-c9b9-4dd2-9289-c073ff0e40d5\",                        [{\"alignmentgroup\":\"True\",\"hovertemplate\":\"variable=obj_category<br>Type=%{x}<br>Amount=%{y}<extra></extra>\",\"legendgroup\":\"obj_category\",\"marker\":{\"color\":\"#636efa\",\"pattern\":{\"shape\":\"\"}},\"name\":\"obj_category\",\"offsetgroup\":\"obj_category\",\"orientation\":\"v\",\"showlegend\":true,\"textposition\":\"auto\",\"texttemplate\":\"%{y}\",\"x\":[\"Galaxy\",\"Star\"],\"xaxis\":\"x\",\"y\":[61891,6854],\"yaxis\":\"y\",\"type\":\"bar\"}],                        {\"template\":{\"data\":{\"histogram2dcontour\":[{\"type\":\"histogram2dcontour\",\"colorbar\":{\"outlinewidth\":0,\"ticks\":\"\"},\"colorscale\":[[0.0,\"#0d0887\"],[0.1111111111111111,\"#46039f\"],[0.2222222222222222,\"#7201a8\"],[0.3333333333333333,\"#9c179e\"],[0.4444444444444444,\"#bd3786\"],[0.5555555555555556,\"#d8576b\"],[0.6666666666666666,\"#ed7953\"],[0.7777777777777778,\"#fb9f3a\"],[0.8888888888888888,\"#fdca26\"],[1.0,\"#f0f921\"]]}],\"choropleth\":[{\"type\":\"choropleth\",\"colorbar\":{\"outlinewidth\":0,\"ticks\":\"\"}}],\"histogram2d\":[{\"type\":\"histogram2d\",\"colorbar\":{\"outlinewidth\":0,\"ticks\":\"\"},\"colorscale\":[[0.0,\"#0d0887\"],[0.1111111111111111,\"#46039f\"],[0.2222222222222222,\"#7201a8\"],[0.3333333333333333,\"#9c179e\"],[0.4444444444444444,\"#bd3786\"],[0.5555555555555556,\"#d8576b\"],[0.6666666666666666,\"#ed7953\"],[0.7777777777777778,\"#fb9f3a\"],[0.8888888888888888,\"#fdca26\"],[1.0,\"#f0f921\"]]}],\"heatmap\":[{\"type\":\"heatmap\",\"colorbar\":{\"outlinewidth\":0,\"ticks\":\"\"},\"colorscale\":[[0.0,\"#0d0887\"],[0.1111111111111111,\"#46039f\"],[0.2222222222222222,\"#7201a8\"],[0.3333333333333333,\"#9c179e\"],[0.4444444444444444,\"#bd3786\"],[0.5555555555555556,\"#d8576b\"],[0.6666666666666666,\"#ed7953\"],[0.7777777777777778,\"#fb9f3a\"],[0.8888888888888888,\"#fdca26\"],[1.0,\"#f0f921\"]]}],\"heatmapgl\":[{\"type\":\"heatmapgl\",\"colorbar\":{\"outlinewidth\":0,\"ticks\":\"\"},\"colorscale\":[[0.0,\"#0d0887\"],[0.1111111111111111,\"#46039f\"],[0.2222222222222222,\"#7201a8\"],[0.3333333333333333,\"#9c179e\"],[0.4444444444444444,\"#bd3786\"],[0.5555555555555556,\"#d8576b\"],[0.6666666666666666,\"#ed7953\"],[0.7777777777777778,\"#fb9f3a\"],[0.8888888888888888,\"#fdca26\"],[1.0,\"#f0f921\"]]}],\"contourcarpet\":[{\"type\":\"contourcarpet\",\"colorbar\":{\"outlinewidth\":0,\"ticks\":\"\"}}],\"contour\":[{\"type\":\"contour\",\"colorbar\":{\"outlinewidth\":0,\"ticks\":\"\"},\"colorscale\":[[0.0,\"#0d0887\"],[0.1111111111111111,\"#46039f\"],[0.2222222222222222,\"#7201a8\"],[0.3333333333333333,\"#9c179e\"],[0.4444444444444444,\"#bd3786\"],[0.5555555555555556,\"#d8576b\"],[0.6666666666666666,\"#ed7953\"],[0.7777777777777778,\"#fb9f3a\"],[0.8888888888888888,\"#fdca26\"],[1.0,\"#f0f921\"]]}],\"surface\":[{\"type\":\"surface\",\"colorbar\":{\"outlinewidth\":0,\"ticks\":\"\"},\"colorscale\":[[0.0,\"#0d0887\"],[0.1111111111111111,\"#46039f\"],[0.2222222222222222,\"#7201a8\"],[0.3333333333333333,\"#9c179e\"],[0.4444444444444444,\"#bd3786\"],[0.5555555555555556,\"#d8576b\"],[0.6666666666666666,\"#ed7953\"],[0.7777777777777778,\"#fb9f3a\"],[0.8888888888888888,\"#fdca26\"],[1.0,\"#f0f921\"]]}],\"mesh3d\":[{\"type\":\"mesh3d\",\"colorbar\":{\"outlinewidth\":0,\"ticks\":\"\"}}],\"scatter\":[{\"fillpattern\":{\"fillmode\":\"overlay\",\"size\":10,\"solidity\":0.2},\"type\":\"scatter\"}],\"parcoords\":[{\"type\":\"parcoords\",\"line\":{\"colorbar\":{\"outlinewidth\":0,\"ticks\":\"\"}}}],\"scatterpolargl\":[{\"type\":\"scatterpolargl\",\"marker\":{\"colorbar\":{\"outlinewidth\":0,\"ticks\":\"\"}}}],\"bar\":[{\"error_x\":{\"color\":\"#2a3f5f\"},\"error_y\":{\"color\":\"#2a3f5f\"},\"marker\":{\"line\":{\"color\":\"#E5ECF6\",\"width\":0.5},\"pattern\":{\"fillmode\":\"overlay\",\"size\":10,\"solidity\":0.2}},\"type\":\"bar\"}],\"scattergeo\":[{\"type\":\"scattergeo\",\"marker\":{\"colorbar\":{\"outlinewidth\":0,\"ticks\":\"\"}}}],\"scatterpolar\":[{\"type\":\"scatterpolar\",\"marker\":{\"colorbar\":{\"outlinewidth\":0,\"ticks\":\"\"}}}],\"histogram\":[{\"marker\":{\"pattern\":{\"fillmode\":\"overlay\",\"size\":10,\"solidity\":0.2}},\"type\":\"histogram\"}],\"scattergl\":[{\"type\":\"scattergl\",\"marker\":{\"colorbar\":{\"outlinewidth\":0,\"ticks\":\"\"}}}],\"scatter3d\":[{\"type\":\"scatter3d\",\"line\":{\"colorbar\":{\"outlinewidth\":0,\"ticks\":\"\"}},\"marker\":{\"colorbar\":{\"outlinewidth\":0,\"ticks\":\"\"}}}],\"scattermapbox\":[{\"type\":\"scattermapbox\",\"marker\":{\"colorbar\":{\"outlinewidth\":0,\"ticks\":\"\"}}}],\"scatterternary\":[{\"type\":\"scatterternary\",\"marker\":{\"colorbar\":{\"outlinewidth\":0,\"ticks\":\"\"}}}],\"scattercarpet\":[{\"type\":\"scattercarpet\",\"marker\":{\"colorbar\":{\"outlinewidth\":0,\"ticks\":\"\"}}}],\"carpet\":[{\"aaxis\":{\"endlinecolor\":\"#2a3f5f\",\"gridcolor\":\"white\",\"linecolor\":\"white\",\"minorgridcolor\":\"white\",\"startlinecolor\":\"#2a3f5f\"},\"baxis\":{\"endlinecolor\":\"#2a3f5f\",\"gridcolor\":\"white\",\"linecolor\":\"white\",\"minorgridcolor\":\"white\",\"startlinecolor\":\"#2a3f5f\"},\"type\":\"carpet\"}],\"table\":[{\"cells\":{\"fill\":{\"color\":\"#EBF0F8\"},\"line\":{\"color\":\"white\"}},\"header\":{\"fill\":{\"color\":\"#C8D4E3\"},\"line\":{\"color\":\"white\"}},\"type\":\"table\"}],\"barpolar\":[{\"marker\":{\"line\":{\"color\":\"#E5ECF6\",\"width\":0.5},\"pattern\":{\"fillmode\":\"overlay\",\"size\":10,\"solidity\":0.2}},\"type\":\"barpolar\"}],\"pie\":[{\"automargin\":true,\"type\":\"pie\"}]},\"layout\":{\"autotypenumbers\":\"strict\",\"colorway\":[\"#636efa\",\"#EF553B\",\"#00cc96\",\"#ab63fa\",\"#FFA15A\",\"#19d3f3\",\"#FF6692\",\"#B6E880\",\"#FF97FF\",\"#FECB52\"],\"font\":{\"color\":\"#2a3f5f\"},\"hovermode\":\"closest\",\"hoverlabel\":{\"align\":\"left\"},\"paper_bgcolor\":\"white\",\"plot_bgcolor\":\"#E5ECF6\",\"polar\":{\"bgcolor\":\"#E5ECF6\",\"angularaxis\":{\"gridcolor\":\"white\",\"linecolor\":\"white\",\"ticks\":\"\"},\"radialaxis\":{\"gridcolor\":\"white\",\"linecolor\":\"white\",\"ticks\":\"\"}},\"ternary\":{\"bgcolor\":\"#E5ECF6\",\"aaxis\":{\"gridcolor\":\"white\",\"linecolor\":\"white\",\"ticks\":\"\"},\"baxis\":{\"gridcolor\":\"white\",\"linecolor\":\"white\",\"ticks\":\"\"},\"caxis\":{\"gridcolor\":\"white\",\"linecolor\":\"white\",\"ticks\":\"\"}},\"coloraxis\":{\"colorbar\":{\"outlinewidth\":0,\"ticks\":\"\"}},\"colorscale\":{\"sequential\":[[0.0,\"#0d0887\"],[0.1111111111111111,\"#46039f\"],[0.2222222222222222,\"#7201a8\"],[0.3333333333333333,\"#9c179e\"],[0.4444444444444444,\"#bd3786\"],[0.5555555555555556,\"#d8576b\"],[0.6666666666666666,\"#ed7953\"],[0.7777777777777778,\"#fb9f3a\"],[0.8888888888888888,\"#fdca26\"],[1.0,\"#f0f921\"]],\"sequentialminus\":[[0.0,\"#0d0887\"],[0.1111111111111111,\"#46039f\"],[0.2222222222222222,\"#7201a8\"],[0.3333333333333333,\"#9c179e\"],[0.4444444444444444,\"#bd3786\"],[0.5555555555555556,\"#d8576b\"],[0.6666666666666666,\"#ed7953\"],[0.7777777777777778,\"#fb9f3a\"],[0.8888888888888888,\"#fdca26\"],[1.0,\"#f0f921\"]],\"diverging\":[[0,\"#8e0152\"],[0.1,\"#c51b7d\"],[0.2,\"#de77ae\"],[0.3,\"#f1b6da\"],[0.4,\"#fde0ef\"],[0.5,\"#f7f7f7\"],[0.6,\"#e6f5d0\"],[0.7,\"#b8e186\"],[0.8,\"#7fbc41\"],[0.9,\"#4d9221\"],[1,\"#276419\"]]},\"xaxis\":{\"gridcolor\":\"white\",\"linecolor\":\"white\",\"ticks\":\"\",\"title\":{\"standoff\":15},\"zerolinecolor\":\"white\",\"automargin\":true,\"zerolinewidth\":2},\"yaxis\":{\"gridcolor\":\"white\",\"linecolor\":\"white\",\"ticks\":\"\",\"title\":{\"standoff\":15},\"zerolinecolor\":\"white\",\"automargin\":true,\"zerolinewidth\":2},\"scene\":{\"xaxis\":{\"backgroundcolor\":\"#E5ECF6\",\"gridcolor\":\"white\",\"linecolor\":\"white\",\"showbackground\":true,\"ticks\":\"\",\"zerolinecolor\":\"white\",\"gridwidth\":2},\"yaxis\":{\"backgroundcolor\":\"#E5ECF6\",\"gridcolor\":\"white\",\"linecolor\":\"white\",\"showbackground\":true,\"ticks\":\"\",\"zerolinecolor\":\"white\",\"gridwidth\":2},\"zaxis\":{\"backgroundcolor\":\"#E5ECF6\",\"gridcolor\":\"white\",\"linecolor\":\"white\",\"showbackground\":true,\"ticks\":\"\",\"zerolinecolor\":\"white\",\"gridwidth\":2}},\"shapedefaults\":{\"line\":{\"color\":\"#2a3f5f\"}},\"annotationdefaults\":{\"arrowcolor\":\"#2a3f5f\",\"arrowhead\":0,\"arrowwidth\":1},\"geo\":{\"bgcolor\":\"white\",\"landcolor\":\"#E5ECF6\",\"subunitcolor\":\"white\",\"showland\":true,\"showlakes\":true,\"lakecolor\":\"white\"},\"title\":{\"x\":0.05},\"mapbox\":{\"style\":\"light\"}}},\"xaxis\":{\"anchor\":\"y\",\"domain\":[0.0,1.0],\"title\":{\"text\":\"Type\"}},\"yaxis\":{\"anchor\":\"x\",\"domain\":[0.0,1.0],\"title\":{\"text\":\"Amount\"}},\"legend\":{\"title\":{\"text\":\"variable\"},\"tracegroupgap\":0},\"title\":{\"text\":\"Distribution of galaxies and stars <br>in the training data\"},\"barmode\":\"relative\"},                        {\"responsive\": true}                    ).then(function(){\n",
       "                            \n",
       "var gd = document.getElementById('011881ef-c9b9-4dd2-9289-c073ff0e40d5');\n",
       "var x = new MutationObserver(function (mutations, observer) {{\n",
       "        var display = window.getComputedStyle(gd).display;\n",
       "        if (!display || display === 'none') {{\n",
       "            console.log([gd, 'removed!']);\n",
       "            Plotly.purge(gd);\n",
       "            observer.disconnect();\n",
       "        }}\n",
       "}});\n",
       "\n",
       "// Listen for the removal of the full notebook cells\n",
       "var notebookContainer = gd.closest('#notebook-container');\n",
       "if (notebookContainer) {{\n",
       "    x.observe(notebookContainer, {childList: true});\n",
       "}}\n",
       "\n",
       "// Listen for the clearing of the current output cell\n",
       "var outputEl = gd.closest('.output');\n",
       "if (outputEl) {{\n",
       "    x.observe(outputEl, {childList: true});\n",
       "}}\n",
       "\n",
       "                        })                };                });            </script>        </div>"
      ]
     },
     "metadata": {},
     "output_type": "display_data"
    }
   ],
   "source": [
    "train_ps.obj_category.value_counts().plot.bar(title=\"Distribution of galaxies and stars <br>in the training data\",\n",
    "                                  text_auto=True,\n",
    "                                 labels=dict(index=\"Type\", value=\"Amount\"))"
   ]
  },
  {
   "cell_type": "code",
   "execution_count": 17,
   "id": "da86aba3-d606-48c7-8e07-866d5b652bdd",
   "metadata": {},
   "outputs": [
    {
     "name": "stderr",
     "output_type": "stream",
     "text": [
      "                                                                                \r"
     ]
    },
    {
     "data": {
      "text/html": [
       "<div>\n",
       "<style scoped>\n",
       "    .dataframe tbody tr th:only-of-type {\n",
       "        vertical-align: middle;\n",
       "    }\n",
       "\n",
       "    .dataframe tbody tr th {\n",
       "        vertical-align: top;\n",
       "    }\n",
       "\n",
       "    .dataframe thead th {\n",
       "        text-align: right;\n",
       "    }\n",
       "</style>\n",
       "<table border=\"1\" class=\"dataframe\">\n",
       "  <thead>\n",
       "    <tr style=\"text-align: right;\">\n",
       "      <th></th>\n",
       "      <th>modelMag_r</th>\n",
       "    </tr>\n",
       "  </thead>\n",
       "  <tbody>\n",
       "    <tr>\n",
       "      <th>count</th>\n",
       "      <td>68745.000000</td>\n",
       "    </tr>\n",
       "    <tr>\n",
       "      <th>mean</th>\n",
       "      <td>17.396755</td>\n",
       "    </tr>\n",
       "    <tr>\n",
       "      <th>std</th>\n",
       "      <td>1.014964</td>\n",
       "    </tr>\n",
       "    <tr>\n",
       "      <th>min</th>\n",
       "      <td>14.000070</td>\n",
       "    </tr>\n",
       "    <tr>\n",
       "      <th>25%</th>\n",
       "      <td>16.861140</td>\n",
       "    </tr>\n",
       "    <tr>\n",
       "      <th>50%</th>\n",
       "      <td>17.401640</td>\n",
       "    </tr>\n",
       "    <tr>\n",
       "      <th>75%</th>\n",
       "      <td>17.768140</td>\n",
       "    </tr>\n",
       "    <tr>\n",
       "      <th>max</th>\n",
       "      <td>20.999570</td>\n",
       "    </tr>\n",
       "  </tbody>\n",
       "</table>\n",
       "</div>"
      ],
      "text/plain": [
       "         modelMag_r\n",
       "count  68745.000000\n",
       "mean      17.396755\n",
       "std        1.014964\n",
       "min       14.000070\n",
       "25%       16.861140\n",
       "50%       17.401640\n",
       "75%       17.768140\n",
       "max       20.999570"
      ]
     },
     "execution_count": 17,
     "metadata": {},
     "output_type": "execute_result"
    }
   ],
   "source": [
    "train_ps[[\"modelMag_r\"]].describe()"
   ]
  },
  {
   "cell_type": "code",
   "execution_count": 89,
   "id": "a883cf5b-bb68-4839-9262-074c13cd2cf3",
   "metadata": {},
   "outputs": [
    {
     "name": "stderr",
     "output_type": "stream",
     "text": [
      "                                                                                \r"
     ]
    },
    {
     "data": {
      "text/plain": [
       "Text(0.5, 1.0, 'Histogram of object magnitudes in the \\nSDSS data sample')"
      ]
     },
     "execution_count": 89,
     "metadata": {},
     "output_type": "execute_result"
    },
    {
     "data": {
      "image/png": "[encoded data removed]",
      "text/plain": [
       "<Figure size 432x288 with 1 Axes>"
      ]
     },
     "metadata": {
      "needs_background": "light"
     },
     "output_type": "display_data"
    }
   ],
   "source": [
    "# Magnitude distribution\n",
    "# Using matplotlib because of a known bug in which plotly\n",
    "# does not display title, https://issues.apache.org/jira/browse/SPARK-37188\n",
    "plt.hist(train_ps.modelMag_r, bins=20)\n",
    "plt.xlabel(\"Magnitude (r)\")\n",
    "plt.title(\"Histogram of object magnitudes in the \\nSDSS data sample\")"
   ]
  },
  {
   "cell_type": "code",
   "execution_count": 79,
   "id": "27fa991a-ae91-4a73-83fd-0b797e5a20eb",
   "metadata": {},
   "outputs": [],
   "source": [
    "# Calculate difference between psfMag and modelMag and create new column with results\n",
    "train_ps[\"psfModelDiff\"] = train_ps.psfMag_r-train_ps.modelMag_r"
   ]
  },
  {
   "cell_type": "code",
   "execution_count": 80,
   "id": "12aaa0a9-390f-4c78-a9d8-73972817de0d",
   "metadata": {},
   "outputs": [
    {
     "name": "stderr",
     "output_type": "stream",
     "text": [
      "                                                                                \r"
     ]
    },
    {
     "data": {
      "application/vnd.plotly.v1+json": {
       "config": {
        "plotlyServerURL": "https://plot.ly"
       },
       "data": [
        {
         "hovertemplate": "obj_category=Galaxy<br>Magnitude (r)=%{x}<br>psfMag-modelMag=%{y}<extra></extra>",
         "legendgroup": "Galaxy",
         "marker": {
          "color": "#636efa",
          "symbol": "circle"
         },
         "mode": "markers",
         "name": "Galaxy",
         "orientation": "v",
         "showlegend": true,
         "type": "scatter",
         "x": [
          17.73467,
          17.38941,
          16.66863,
          15.54348,
          17.41053,
          17.44888,
          17.71723,
          17.66213,
          17.86522,
          18.07631,
          16.89192,
          17.18537,
          18.75907,
          19.96132,
          17.78778,
          17.33027,
          17.34082,
          17.51078,
          17.78298,
          17.84934,
          15.93646,
          18.81189,
          17.02729,
          17.20391,
          17.74846,
          17.57033,
          18.17948,
          16.58394,
          17.31672,
          17.86761,
          18.70539,
          16.18065,
          18.30658,
          17.2988,
          17.50541,
          15.32226,
          17.71631,
          17.65518,
          18.95808,
          17.72832,
          17.21899,
          17.42527,
          17.71035,
          17.96021,
          17.62921,
          17.48449,
          16.73363,
          17.80113,
          15.70567,
          19.24355,
          19.79063,
          15.35632,
          17.13288,
          17.84087,
          16.68256,
          16.76018,
          18.37969,
          18.99631,
          17.71137,
          17.76418,
          17.46498,
          16.6494,
          16.99059,
          16.95479,
          17.7294,
          17.46996,
          18.8871,
          17.67524,
          17.24412,
          17.70764,
          17.75021,
          17.17834,
          19.63503,
          16.93399,
          16.84546,
          14.82322,
          17.57043,
          17.94019,
          19.1403,
          18.12756,
          17.13886,
          17.7822,
          17.80396,
          19.06752,
          19.48429,
          17.53725,
          17.58865,
          16.19351,
          17.38001,
          17.60702,
          18.92442,
          17.96688,
          16.06565,
          17.77719,
          16.18201,
          17.04359,
          15.41372,
          17.51708,
          16.88214,
          17.16284,
          16.34904,
          17.77965,
          16.88589,
          16.55266,
          18.71249,
          18.76807,
          17.91311,
          17.32959,
          17.76433,
          16.40462,
          17.42743,
          16.55473,
          17.37312,
          16.20991,
          18.77711,
          17.11639,
          15.81741,
          17.40045,
          17.51851,
          16.57238,
          19.17372,
          17.56939,
          17.64959,
          15.19381,
          15.79073,
          17.42453,
          17.47718,
          17.43658,
          17.58913,
          17.40683,
          17.18557,
          16.3145,
          17.43867,
          15.63914,
          17.42124,
          18.995,
          15.3071,
          19.00448,
          16.42285,
          15.42773,
          16.6849,
          17.76706,
          17.71558,
          17.35596,
          16.5671,
          14.74834,
          17.4518,
          19.12494,
          18.34956,
          18.60044,
          17.58626,
          17.26769,
          17.62452,
          16.68256,
          19.32189,
          17.38325,
          17.62533,
          16.49403,
          17.18006,
          17.69602,
          18.90145,
          18.13802,
          16.07218,
          18.62225,
          15.82313,
          17.2857,
          17.47588,
          17.17024,
          17.00458,
          17.77015,
          17.44202,
          17.20769,
          16.69386,
          17.8168,
          17.51902,
          16.74514,
          17.16499,
          17.84893,
          16.03603,
          17.61008,
          17.40116,
          17.52029,
          18.29753,
          18.24524,
          17.56582,
          18.84674,
          16.76683,
          17.63291,
          17.15399,
          16.71877,
          17.48644,
          18.86267,
          17.32356,
          18.42436,
          17.36398,
          17.21575,
          17.65821,
          16.1944,
          17.76221,
          18.17053,
          18.85289,
          19.29746,
          15.57418,
          16.71377,
          17.40974,
          17.25792,
          17.61589,
          17.28031,
          16.6724,
          17.70918,
          17.15537,
          17.58021,
          17.77106,
          17.4803,
          17.29424,
          16.18447,
          17.18263,
          17.35238,
          14.91079,
          18.20076,
          17.47546,
          17.44621,
          17.20022,
          17.61217,
          16.74358,
          17.27491,
          18.60975,
          17.37385,
          17.0597,
          17.22881,
          17.62891,
          20.15198,
          16.99028,
          15.87132,
          17.59968,
          17.16051,
          17.40812,
          18.78253,
          17.42834,
          17.55072,
          17.60154,
          16.35201,
          15.94932,
          17.76085,
          17.48502,
          16.48749,
          17.099,
          16.83401,
          17.44534,
          17.58465,
          16.53279,
          17.50485,
          17.35971,
          19.19596,
          14.16772,
          15.40878,
          16.88448,
          17.26941,
          17.3511,
          17.62854,
          17.76899,
          18.74966,
          17.03099,
          17.21904,
          17.16931,
          16.17998,
          15.86003,
          17.05901,
          16.70896,
          17.60925,
          17.41961,
          17.00381,
          15.92843,
          16.49804,
          16.63655,
          16.18962,
          15.26744,
          17.0413,
          19.62975,
          16.81416,
          16.29855,
          16.83945,
          17.44265,
          17.26713,
          17.06983,
          17.45522,
          17.59395,
          17.24377,
          17.52132,
          17.4283,
          17.74172,
          16.64923,
          17.04866,
          17.76694,
          17.20914,
          17.77385,
          17.40342,
          17.71458,
          17.79673,
          16.10127,
          17.01401,
          16.16179,
          16.78759,
          16.02431,
          16.9369,
          17.61905,
          16.1939,
          18.18052,
          17.61328,
          17.14164,
          17.52751,
          16.32493,
          16.40902,
          17.44808,
          17.13189,
          16.93894,
          16.79506,
          16.84867,
          17.18333,
          16.60975,
          17.0879,
          17.23846,
          16.72407,
          16.93118,
          17.82594,
          17.1075,
          19.23345,
          16.34933,
          17.16957,
          16.52196,
          17.67853,
          17.20596,
          17.79598,
          17.05786,
          16.45198,
          17.57156,
          16.84791,
          16.8945,
          17.58766,
          17.49274,
          17.26017,
          17.55376,
          17.443,
          17.72359,
          17.79136,
          15.6453,
          16.43795,
          15.74591,
          17.43984,
          17.29502,
          18.15982,
          14.06173,
          16.70496,
          16.47624,
          16.922,
          18.63768,
          16.71797,
          17.83545,
          19.5145,
          18.80844,
          16.16367,
          17.63705,
          19.9549,
          17.20529,
          18.91686,
          18.34019,
          18.57872,
          16.13529,
          17.30791,
          18.46717,
          14.84339,
          17.07621,
          17.33981,
          16.40196,
          16.86524,
          17.62395,
          17.30574,
          17.67936,
          17.94173,
          16.79109,
          16.43256,
          18.10944,
          17.51056,
          17.63236,
          15.72837,
          16.72965,
          15.65752,
          18.12598,
          17.86958,
          16.59323,
          18.28235,
          16.83543,
          17.52391,
          17.36966,
          17.8929,
          17.64981,
          17.8149,
          19.10299,
          17.05631,
          16.8956,
          17.40539,
          17.3498,
          18.36176,
          18.43748,
          18.77962,
          16.58215,
          16.69124,
          17.84653,
          17.43354,
          17.43954,
          17.67738,
          17.56657,
          15.27412,
          17.63025,
          17.14898,
          17.42513,
          18.21884,
          16.00018,
          17.32635,
          17.81046,
          16.29935,
          17.61959,
          17.31961,
          15.14446,
          17.01734,
          17.8488,
          18.47866,
          17.85955,
          17.20095,
          16.94412,
          18.52268,
          15.54475,
          17.33757,
          17.51472,
          17.43483,
          17.22741,
          17.57939,
          17.39624,
          17.62486,
          18.52835,
          16.25375,
          17.36343,
          16.28485,
          17.66028,
          15.91235,
          14.40154,
          16.84779,
          19.09049,
          17.11643,
          17.19377,
          17.39239,
          17.69863,
          19.49754,
          17.55564,
          17.81009,
          17.48995,
          17.22071,
          17.53867,
          15.42024,
          17.19744,
          16.8717,
          15.77003,
          17.41202,
          17.83,
          18.55832,
          20.22976,
          17.64942,
          17.0642,
          17.58537,
          17.53008,
          18.36336,
          17.23367,
          17.19325,
          16.72667,
          15.71672,
          17.51599,
          19.13087,
          17.4241,
          18.9268,
          16.82556,
          18.60603,
          17.08417,
          18.64397,
          17.03105,
          17.69403,
          17.53791,
          16.86162,
          17.35321,
          16.79046,
          17.21134,
          16.81397,
          16.70381,
          17.98811,
          16.58384,
          17.63059,
          17.54652,
          17.39262,
          17.2985,
          19.06218,
          17.18741,
          19.35997,
          16.67595,
          18.1995,
          17.22334,
          16.83075,
          16.78075,
          17.19292,
          17.15773,
          16.92182,
          16.9167,
          17.34381,
          17.39908,
          16.98086,
          17.05333,
          17.59473,
          17.81224,
          16.99767,
          17.42583,
          17.59888,
          17.74956,
          17.01009,
          16.85204,
          17.18373,
          17.22713,
          16.60357,
          17.35324,
          17.50147,
          15.43015,
          17.56441,
          17.20373,
          17.21201,
          16.36104,
          17.38828,
          19.26704,
          17.3586,
          17.26911,
          17.02614,
          17.30731,
          15.93955,
          17.06798,
          15.48537,
          17.17526,
          17.36681,
          18.89598,
          17.64875,
          17.30379,
          18.91532,
          17.46587,
          17.51067,
          17.12921,
          18.61954,
          17.38462,
          19.5895,
          17.6966,
          17.35492,
          17.50934,
          16.00183,
          15.39575,
          17.75917,
          17.27688,
          17.62872,
          17.51372,
          17.5443,
          15.10046,
          18.34948,
          17.65111,
          17.08042,
          17.19375,
          17.20116,
          17.48995,
          18.50354,
          17.63679,
          16.9942,
          17.56628,
          17.27358,
          17.47613,
          17.59141,
          17.09464,
          17.64776,
          16.23021,
          14.8168,
          17.67394,
          17.7549,
          16.29102,
          17.7042,
          16.69127,
          16.50735,
          17.23188,
          18.52968,
          15.83954,
          15.42596,
          19.5628,
          17.33088,
          14.63649,
          17.01688,
          17.73787,
          19.252,
          16.81351,
          17.02544,
          16.86415,
          17.02954,
          17.1382,
          17.51155,
          17.85692,
          17.94863,
          17.49895,
          17.01293,
          17.22781,
          17.73808,
          16.99206,
          17.29546,
          18.33021,
          19.30377,
          17.25083,
          17.05498,
          16.85048,
          17.74908,
          17.37536,
          16.68527,
          17.77172,
          16.88462,
          16.2884,
          17.60236,
          17.39206,
          17.51811,
          16.76994,
          17.11156,
          17.66159,
          16.96245,
          17.76201,
          16.79884,
          17.20473,
          17.29296,
          17.72309,
          17.58767,
          17.4861,
          17.20654,
          17.30819,
          17.3827,
          16.98958,
          17.12395,
          18.03746,
          17.63943,
          17.4599,
          17.45101,
          19.14538,
          20.02931,
          16.74924,
          17.84425,
          17.56513,
          17.7857,
          17.11448,
          17.61893,
          18.72459,
          19.46891,
          16.72585,
          16.84682,
          17.28644,
          17.37748,
          17.41538,
          16.02844,
          16.41125,
          17.35288,
          14.20209,
          18.49764,
          17.65938,
          16.91842,
          17.28481,
          17.79199,
          17.70084,
          16.49503,
          17.16511,
          15.12405,
          17.53148,
          17.3272,
          19.21788,
          16.64239,
          16.60474,
          17.59345,
          18.96372,
          16.59192,
          17.6309,
          17.80722,
          17.6243,
          16.65154,
          17.5947,
          14.47618,
          16.5567,
          19.56925,
          16.21237,
          16.86361,
          17.01571,
          17.04992,
          16.13079,
          17.83933,
          17.59806,
          17.17968,
          19.71703,
          19.01654,
          17.51587,
          17.09971,
          17.17278,
          17.36559,
          17.69629,
          17.63767,
          17.33097,
          17.69812,
          19.39711,
          17.86305,
          17.71752,
          17.66674,
          17.0494,
          17.88525,
          15.28834,
          17.35571,
          17.27927,
          17.36303,
          17.70112,
          19.11109,
          17.06876,
          17.77018,
          17.51649,
          18.38607,
          17.43702,
          16.93455,
          17.84383,
          16.80318,
          17.52109,
          17.58782,
          17.19239,
          17.41884,
          16.11166,
          18.46045,
          17.46265,
          17.78572,
          17.66149,
          18.16533,
          17.6812,
          17.55886,
          17.24648,
          16.99472,
          17.03632,
          16.63334,
          17.10897,
          17.32422,
          17.83928,
          17.60787,
          17.47911,
          17.10394,
          17.29381,
          17.88541,
          16.84403,
          16.71153,
          16.50896,
          17.44693,
          16.73742,
          17.4591,
          17.17818,
          14.77896,
          16.51427,
          17.68112,
          17.80083,
          17.53987,
          17.42809,
          18.40355,
          19.01551,
          17.15737,
          17.57098,
          16.83262,
          17.27062,
          17.66555,
          17.79528,
          15.99403,
          17.73285,
          17.66475,
          17.52258,
          17.587,
          17.37646,
          17.75438,
          18.08543,
          17.71957,
          17.31426,
          17.59818,
          16.81754,
          17.67361,
          17.25453,
          17.62605,
          17.09172,
          16.98749,
          17.16729,
          17.23916,
          16.89639,
          16.68021,
          17.00282,
          16.66754,
          17.18201,
          17.76418,
          17.7508,
          19.10727,
          17.07183,
          17.65707,
          17.19454,
          17.79299,
          16.73258,
          17.86861,
          18.65091,
          17.32553,
          16.6664,
          16.53995,
          18.66207,
          17.43572,
          17.74606,
          17.39976,
          18.25972,
          18.09161,
          16.62141,
          19.65582,
          16.48888,
          15.44546,
          17.01789,
          17.41026,
          17.26507,
          17.0992,
          17.52511,
          17.58425,
          16.9271,
          16.49027,
          17.76563,
          16.97518,
          18.59779,
          18.74324,
          18.98786,
          16.74585,
          17.53081,
          17.88884,
          17.28925,
          19.01725,
          16.75612,
          16.62671,
          17.51656,
          19.37204,
          17.14132,
          16.96331,
          17.02234,
          18.11828,
          16.8547,
          17.73228,
          16.08668,
          17.47466,
          17.22531,
          17.1937,
          18.35629,
          17.60267,
          17.60593,
          17.63399,
          17.75408,
          17.66343
         ],
         "xaxis": "x",
         "y": [
          1.4604699999999973,
          1.9176199999999994,
          2.0883199999999995,
          2.5694800000000004,
          2.104469999999999,
          2.110210000000002,
          0.2505400000000009,
          0.7258099999999992,
          1.2666599999999981,
          1.1446900000000007,
          1.0386300000000013,
          1.2878500000000024,
          0.8213899999999974,
          0.6493599999999979,
          1.40916,
          2.0060600000000015,
          1.9888999999999974,
          1.152429999999999,
          1.2874000000000017,
          1.7021799999999985,
          2.217279999999999,
          1.691830000000003,
          1.8171599999999977,
          1.6178899999999992,
          2.0137199999999993,
          1.6785400000000017,
          0.5898899999999969,
          1.8448700000000002,
          1.3150300000000001,
          1.6971100000000021,
          0.9774299999999982,
          2.899889999999999,
          1.1965000000000003,
          1.2464800000000018,
          2.2338500000000003,
          2.8369,
          1.5526100000000014,
          1.0791699999999977,
          1.0261700000000005,
          1.9768100000000004,
          1.5748399999999982,
          0.9567699999999988,
          0.8732200000000034,
          1.6165599999999998,
          1.0457099999999997,
          1.5918799999999997,
          1.6071799999999996,
          1.7686799999999998,
          1.9077600000000015,
          1.1281600000000012,
          0.7829000000000015,
          2.3557500000000005,
          0.9017899999999983,
          1.2894299999999994,
          1.8598700000000008,
          2.7723000000000013,
          1.0554999999999986,
          1.2086799999999975,
          1.0777600000000014,
          1.5602599999999995,
          1.575219999999998,
          1.678889999999999,
          1.4130699999999976,
          1.1286000000000023,
          0.818050000000003,
          1.9119400000000013,
          1.0676500000000004,
          3.4880400000000016,
          2.93806,
          1.5560299999999998,
          0.6932600000000022,
          2.092550000000003,
          0.925139999999999,
          1.1079299999999996,
          1.2038399999999996,
          2.189790000000002,
          1.7112099999999977,
          1.304549999999999,
          1.2186400000000006,
          1.2664700000000018,
          2.09919,
          0.7045600000000007,
          0.5984300000000005,
          1.0421000000000014,
          0.9556599999999982,
          1.376570000000001,
          1.1873299999999993,
          2.143740000000001,
          1.0352100000000029,
          2.2485600000000012,
          0.8536000000000001,
          1.3026000000000018,
          2.8732799999999976,
          0.7929600000000008,
          1.7916300000000014,
          0.975240000000003,
          3.45116,
          1.3530100000000012,
          1.6313600000000008,
          2.62331,
          1.7993200000000016,
          0.6719699999999982,
          1.3756100000000018,
          1.9331899999999997,
          1.52365,
          0.6750899999999973,
          1.1827299999999994,
          1.2297499999999992,
          1.2873699999999992,
          0.9471600000000002,
          1.7113799999999983,
          1.3609800000000014,
          1.1225300000000011,
          1.6713799999999992,
          1.0234500000000004,
          2.7930100000000024,
          2.737709999999998,
          2.2976100000000024,
          1.7102700000000013,
          2.170930000000002,
          1.2952000000000012,
          1.3682000000000016,
          1.6754500000000014,
          4.35943,
          2.609919999999999,
          1.2539799999999985,
          2.335449999999998,
          1.187820000000002,
          1.1040199999999984,
          1.193439999999999,
          1.0684500000000021,
          1.6401600000000016,
          1.220670000000002,
          1.6380099999999995,
          1.3600700000000003,
          1.2589799999999975,
          1.6426700000000007,
          0.9916699999999992,
          1.3704,
          2.5966099999999983,
          2.146810000000002,
          1.0935500000000005,
          0.9851100000000024,
          1.245440000000002,
          1.5173099999999984,
          1.9170800000000003,
          1.2021300000000004,
          1.1689700000000016,
          0.7267499999999991,
          1.9735700000000023,
          1.0989299999999993,
          1.649199999999997,
          1.0010900000000014,
          1.5961999999999996,
          0.7887599999999999,
          1.035350000000001,
          1.3726699999999994,
          1.48846,
          1.2410099999999993,
          1.3274299999999997,
          0.6437199999999983,
          1.0104900000000008,
          2.2221200000000003,
          0.9991299999999974,
          1.2313799999999997,
          1.3086600000000033,
          0.8017700000000012,
          1.5104000000000006,
          1.277709999999999,
          1.472929999999998,
          0.6693999999999996,
          1.132830000000002,
          1.2303399999999982,
          0.8278199999999991,
          0.6586399999999983,
          1.0339500000000008,
          0.8521500000000017,
          0.5272299999999994,
          1.3975699999999982,
          0.6677299999999988,
          1.2208599999999983,
          0.5394500000000022,
          0.6862600000000008,
          0.15136000000000038,
          0.810220000000001,
          0.4164199999999987,
          1.3499100000000013,
          0.8055599999999998,
          1.7502199999999988,
          1.395590000000002,
          0.8917799999999971,
          0.8555700000000002,
          0.7753799999999984,
          1.0728599999999986,
          0.9937699999999978,
          1.1795299999999997,
          1.0556400000000004,
          0.854809999999997,
          0.9788999999999994,
          0.7033200000000015,
          0.9045400000000008,
          0.7059299999999986,
          1.2233199999999993,
          0.6971300000000014,
          0.9021600000000021,
          1.0170400000000015,
          0.8582099999999997,
          1.6376300000000015,
          0.9889800000000015,
          1.3940100000000015,
          1.4614599999999989,
          0.8042400000000001,
          1.4180600000000005,
          1.6483500000000006,
          0.9879400000000018,
          1.3007899999999992,
          1.0734400000000015,
          0.8621599999999994,
          2.8699600000000007,
          1.6786400000000015,
          0.9325199999999967,
          1.5581600000000009,
          0.6570099999999996,
          0.7701600000000006,
          1.1079299999999996,
          1.1047000000000011,
          0.8780100000000033,
          1.8455499999999994,
          1.4953000000000003,
          0.9990300000000012,
          0.9427899999999987,
          0.4356000000000009,
          0.993540000000003,
          1.70383,
          0.41029999999999944,
          1.0331500000000027,
          1.2394099999999995,
          0.7775399999999983,
          1.3289299999999997,
          0.4961500000000001,
          0.8887800000000006,
          1.232569999999999,
          1.5755799999999986,
          1.515939999999997,
          1.093320000000002,
          1.6094599999999986,
          0.3306299999999993,
          1.3139199999999995,
          0.6148599999999966,
          1.295960000000001,
          1.0118800000000014,
          0.8063499999999983,
          1.26783,
          0.4911500000000011,
          2.3761600000000023,
          1.2119999999999997,
          0.9496299999999991,
          0.8073200000000007,
          1.0883300000000027,
          0.7647200000000005,
          0.8050800000000002,
          0.6292700000000018,
          1.9227000000000025,
          1.6806000000000019,
          0.9405199999999994,
          2.46096,
          2.1623900000000003,
          1.1052,
          2.51408,
          2.0024499999999996,
          0.7680900000000008,
          1.798099999999998,
          1.1851299999999991,
          1.74296,
          1.201740000000001,
          1.475559999999998,
          3.068059999999999,
          1.0422399999999996,
          0.9834199999999989,
          2.157519999999998,
          1.46481,
          1.1612700000000018,
          1.0518900000000002,
          0.9696899999999999,
          0.9725999999999999,
          1.314869999999999,
          2.0815100000000015,
          1.2941900000000004,
          1.3895499999999998,
          1.3594800000000014,
          1.1795699999999982,
          1.61308,
          0.4801399999999987,
          1.045819999999999,
          1.6908299999999983,
          1.6561500000000002,
          0.8867699999999985,
          1.0519699999999972,
          1.5046700000000008,
          1.9176000000000002,
          1.6011500000000005,
          1.4816800000000008,
          1.41066,
          2.0712399999999995,
          2.2091499999999975,
          0.848709999999997,
          1.5594000000000001,
          0.9595199999999977,
          1.0942000000000007,
          1.7301000000000002,
          0.6248900000000006,
          1.5133700000000019,
          1.3837599999999988,
          1.3643199999999993,
          1.57123,
          0.9482600000000012,
          1.6428399999999996,
          0.9625100000000018,
          1.5790899999999972,
          1.0041600000000024,
          0.9727800000000002,
          1.583639999999999,
          1.8719099999999997,
          2.78303,
          1.349420000000002,
          1.7448299999999968,
          1.0106199999999994,
          1.8161500000000004,
          2.009029999999999,
          1.2670700000000004,
          0.6958800000000025,
          1.6378299999999975,
          0.5350800000000007,
          1.1470699999999994,
          2.0090300000000028,
          1.1441599999999994,
          1.177030000000002,
          2.8246399999999987,
          0.9293800000000019,
          1.459579999999999,
          1.982840000000003,
          1.5423100000000005,
          2.3127599999999973,
          0.6541499999999978,
          1.3176999999999985,
          2.7499899999999986,
          1.2205300000000001,
          2.9304499999999987,
          1.0231899999999996,
          1.6155699999999982,
          1.0962800000000001,
          3.8640799999999977,
          1.3710400000000007,
          1.892599999999998,
          2.0753899999999987,
          1.2619100000000003,
          0.9262300000000003,
          1.7112499999999997,
          0.7029899999999998,
          1.2730700000000006,
          1.1423200000000016,
          0.8968600000000002,
          0.19449000000000183,
          0.7253099999999968,
          1.3945100000000004,
          0.9347799999999999,
          0.8875600000000006,
          2.2534499999999973,
          1.4153400000000005,
          1.5072900000000011,
          3.9546799999999998,
          1.1207600000000006,
          0.8840700000000012,
          1.7057500000000019,
          1.26849,
          1.1289999999999978,
          1.4331600000000009,
          1.13692,
          1.3242900000000013,
          1.5347699999999982,
          1.5243400000000022,
          0.7658500000000004,
          1.0047899999999998,
          1.1495500000000014,
          2.8672999999999984,
          1.51605,
          2.0569499999999987,
          1.1752900000000004,
          1.7005400000000002,
          1.3726400000000005,
          0.5990499999999983,
          2.071480000000001,
          1.2161100000000005,
          1.6958200000000012,
          1.71828,
          2.133090000000003,
          1.0321399999999983,
          0.9775900000000028,
          1.0103399999999993,
          3.541599999999999,
          1.2910499999999985,
          1.4024600000000014,
          0.625239999999998,
          1.4350299999999976,
          1.5956299999999999,
          1.4131300000000024,
          2.878119999999999,
          1.20026,
          1.3845799999999997,
          1.4289799999999993,
          1.28688,
          1.9267900000000004,
          2.4197999999999986,
          1.24559,
          0.6429299999999998,
          1.56541,
          0.7053799999999981,
          1.4976899999999986,
          1.2556599999999989,
          1.7090099999999993,
          1.90456,
          1.0978300000000019,
          1.2979599999999998,
          2.286669999999999,
          1.9487500000000004,
          2.2245199999999983,
          0.7904199999999975,
          1.4493800000000014,
          1.4157200000000003,
          2.51736,
          1.5520099999999992,
          2.228659999999998,
          0.9739299999999993,
          0.8016699999999979,
          1.883589999999998,
          1.4152200000000015,
          0.7865299999999991,
          1.2892900000000012,
          0.6375099999999989,
          0.9133500000000012,
          1.419270000000001,
          1.9286199999999987,
          0.8659800000000004,
          0.7957499999999982,
          1.1523199999999996,
          2.0869800000000005,
          2.079740000000001,
          1.1049400000000027,
          2.2459099999999985,
          1.5404799999999987,
          1.2324800000000025,
          1.5145400000000002,
          0.8817799999999991,
          1.3408899999999981,
          0.7598699999999994,
          1.8410699999999984,
          1.5492199999999983,
          0.4859399999999994,
          1.2774,
          1.2654999999999994,
          1.0963700000000003,
          2.7630299999999988,
          1.6407600000000002,
          2.345130000000001,
          0.6163600000000002,
          0.19613999999999976,
          1.0378000000000007,
          0.8277400000000021,
          0.7438399999999987,
          1.3624199999999966,
          1.1566299999999998,
          1.5501599999999982,
          1.2020000000000017,
          0.8304000000000009,
          3.0581699999999987,
          0.9740600000000015,
          1.0178699999999985,
          0.8652300000000004,
          1.2062199999999983,
          0.8683000000000014,
          1.0376799999999982,
          0.7954100000000004,
          0.5206699999999991,
          2.8411299999999997,
          1.642949999999999,
          1.5272900000000007,
          0.9224800000000002,
          0.6849799999999995,
          0.8643800000000006,
          2.187570000000001,
          1.4613499999999995,
          0.9869699999999995,
          1.2255800000000008,
          1.257240000000003,
          1.2743799999999972,
          0.6176199999999987,
          1.2722899999999981,
          1.9217799999999983,
          1.0632399999999969,
          0.8699100000000008,
          1.063410000000001,
          1.7189599999999992,
          1.1389299999999984,
          1.0688199999999988,
          1.9014300000000013,
          1.16554,
          0.7752799999999986,
          0.9080300000000001,
          1.0783300000000011,
          0.7705599999999997,
          1.4080099999999973,
          1.2111400000000003,
          1.4590899999999998,
          1.4477399999999996,
          0.7935100000000013,
          1.104330000000001,
          1.8313300000000012,
          1.1248699999999978,
          0.5230800000000002,
          1.1671300000000002,
          1.130309999999998,
          1.042300000000001,
          0.9828200000000002,
          1.0764200000000024,
          1.7083099999999973,
          1.585560000000001,
          1.2920099999999977,
          1.2192799999999995,
          0.554000000000002,
          1.1737199999999994,
          1.2892600000000023,
          3.0583100000000023,
          1.265819999999998,
          0.657589999999999,
          1.2708499999999994,
          0.8681099999999979,
          1.4550299999999972,
          0.6750499999999988,
          2.74127,
          1.373140000000003,
          1.7779500000000006,
          0.8239599999999996,
          1.1675199999999997,
          0.7572399999999995,
          0.9254099999999994,
          0.7656300000000016,
          0.5523999999999987,
          1.0201700000000002,
          0.9384200000000007,
          1.1480899999999998,
          0.2989999999999995,
          0.5194399999999995,
          0.649989999999999,
          0.9356699999999982,
          0.42441000000000173,
          1.1694099999999992,
          1.638819999999999,
          1.2361900000000006,
          0.7152399999999979,
          1.0181300000000029,
          0.96434,
          0.7505000000000024,
          1.08465,
          2.8762200000000018,
          1.124880000000001,
          0.7530400000000022,
          1.26952,
          1.3273200000000003,
          0.7915199999999984,
          2.1512600000000006,
          1.0692599999999999,
          2.2035599999999995,
          1.7415500000000002,
          1.3130600000000001,
          1.486530000000002,
          1.3012599999999992,
          0.8347699999999989,
          1.029910000000001,
          1.3366599999999984,
          2.15222,
          1.9009800000000006,
          1.6820299999999975,
          2.2817299999999996,
          1.7683500000000016,
          1.0320399999999985,
          0.8648600000000002,
          1.2852500000000013,
          1.6612399999999994,
          1.7082200000000007,
          1.8247999999999998,
          2.4162099999999995,
          0.9664999999999999,
          1.513349999999999,
          2.7202800000000007,
          1.0398999999999994,
          2.5233999999999988,
          1.3497000000000021,
          1.1022299999999987,
          1.9218900000000012,
          1.3174600000000005,
          0.8678299999999979,
          1.4226199999999984,
          0.9939900000000002,
          1.1533499999999997,
          0.9828399999999995,
          1.52271,
          1.3710699999999996,
          1.2369099999999982,
          2.3851799999999983,
          1.6093100000000007,
          2.41366,
          1.1705900000000007,
          1.3977600000000017,
          1.4131599999999978,
          1.33324,
          1.5304800000000007,
          1.5054900000000018,
          0.9301500000000011,
          1.3963,
          0.6575200000000017,
          1.41742,
          1.3958700000000022,
          0.6969999999999992,
          1.3169699999999978,
          0.8753600000000006,
          1.1314800000000034,
          0.92483,
          1.528929999999999,
          1.923759999999998,
          1.1280499999999982,
          1.5687800000000003,
          1.1372399999999985,
          1.450129999999998,
          0.8382600000000018,
          0.7516400000000019,
          1.0961999999999996,
          1.1696099999999987,
          1.1177400000000013,
          1.462810000000001,
          1.2732099999999988,
          1.9172599999999989,
          0.80837,
          1.4993599999999994,
          1.1289899999999982,
          1.252790000000001,
          0.9733599999999996,
          0.912860000000002,
          1.2627099999999984,
          1.7570200000000007,
          2.2993799999999993,
          2.438010000000002,
          1.83108,
          1.24221,
          1.27656,
          0.15195999999999898,
          2.603999999999999,
          1.713049999999999,
          1.6921099999999996,
          0.8915400000000027,
          0.7631200000000007,
          2.030760000000001,
          1.41357,
          2.1740600000000008,
          3.440340000000001,
          1.0112799999999993,
          1.2551800000000028,
          1.9901400000000002,
          2.0264699999999998,
          1.73292,
          1.3550299999999993,
          3.1184800000000017,
          2.173490000000001,
          1.64846,
          1.2927700000000009,
          1.8404600000000002,
          1.4169899999999984,
          3.5179399999999994,
          2.122779999999999,
          1.2669399999999982,
          1.4481099999999998,
          1.384120000000003,
          1.5459899999999998,
          2.002749999999999,
          1.3194199999999974,
          1.9359000000000002,
          2.91197,
          3.8178300000000007,
          2.142800000000001,
          0.207139999999999,
          1.9074899999999992,
          1.68478,
          1.7530400000000022,
          2.715299999999999,
          1.31006,
          1.249679999999998,
          0.9158499999999989,
          2.074469999999998,
          0.8218399999999981,
          1.2259700000000002,
          1.0378100000000003,
          0.761339999999997,
          1.269829999999999,
          2.2181099999999994,
          0.625,
          0.9203200000000002,
          1.4313199999999995,
          1.9074500000000008,
          1.063489999999998,
          1.5686399999999985,
          1.162469999999999,
          1.7246500000000005,
          0.8793500000000023,
          1.9307499999999997,
          2.1037300000000005,
          0.9129200000000033,
          2.03998,
          2.0167,
          1.663050000000002,
          0.42431999999999803,
          1.0686199999999992,
          0.8014299999999999,
          1.0876799999999989,
          1.0968300000000006,
          1.6512299999999982,
          1.6966399999999986,
          1.4607700000000001,
          0.66676,
          1.3671399999999991,
          1.5375300000000003,
          1.0847599999999993,
          1.528880000000001,
          1.7169299999999978,
          0.91019,
          1.04204,
          1.067779999999999,
          1.1407799999999995,
          0.6010500000000008,
          1.1626200000000004,
          0.8355099999999993,
          1.0493700000000032,
          2.0292199999999987,
          1.1827900000000007,
          1.3221099999999986,
          1.4399000000000015,
          0.8877600000000001,
          0.9392700000000005,
          1.392190000000003,
          1.2677600000000027,
          1.6238199999999985,
          1.665420000000001,
          0.8846999999999987,
          1.342880000000001,
          1.5538200000000018,
          1.440170000000002,
          1.100360000000002,
          1.414559999999998,
          0.920460000000002,
          1.5571400000000004,
          2.565199999999999,
          1.8630600000000008,
          1.2326499999999996,
          0.6292399999999994,
          1.182220000000001,
          1.4641999999999982,
          1.2889499999999998,
          0.9522900000000014,
          1.0081300000000013,
          3.04082,
          1.7559500000000021,
          1.5257000000000005,
          1.4767200000000003,
          0.876929999999998,
          1.7663299999999982,
          0.6442100000000011,
          0.7865899999999968,
          1.1037999999999997,
          1.2224600000000017,
          1.095749999999999,
          1.5473,
          1.2509600000000027,
          0.787309999999998,
          1.826979999999999,
          1.6549900000000015,
          1.7953100000000006,
          1.7892399999999995,
          1.2017200000000017,
          0.9210799999999999,
          1.7800900000000013,
          1.0711899999999979,
          1.6232100000000003,
          0.9791700000000034,
          1.72382,
          1.3850600000000028,
          1.3562699999999985,
          1.1599000000000004,
          1.5456900000000005,
          1.0176599999999993,
          1.3947499999999984,
          0.7574700000000014,
          1.5612100000000027,
          0.7615599999999993,
          1.9710999999999999,
          0.7951000000000015,
          0.2869300000000017,
          1.3027899999999981,
          0.9211200000000019,
          1.0665799999999983,
          1.5594400000000022,
          1.1316799999999994,
          0.9179899999999996,
          1.7758399999999988,
          1.8351199999999999,
          0.8820100000000011,
          0.6946699999999986,
          1.5111300000000014,
          1.6517599999999995,
          0.29704000000000264,
          2.355219999999999,
          1.4344199999999994,
          1.6524399999999986,
          2.1373599999999975,
          1.5229099999999995,
          1.9869699999999995,
          1.81203,
          0.7480699999999985,
          0.7685700000000004,
          1.3735099999999996,
          0.8219799999999999,
          1.5381199999999993,
          0.6519800000000018,
          0.9588999999999999,
          0.690769999999997,
          1.1503599999999992,
          1.1009000000000029,
          0.7311200000000007,
          1.598950000000002,
          0.7287199999999991,
          0.7019200000000012,
          1.3280700000000003,
          0.7152300000000018,
          1.1265900000000002,
          1.1346300000000014,
          1.6558199999999985,
          1.1506800000000013,
          1.0213300000000025,
          1.9320299999999975,
          0.3737400000000015,
          1.712069999999997,
          1.2597200000000015,
          1.7013299999999987,
          1.1909799999999997,
          0.9307999999999979,
          0.8296500000000009,
          0.8235099999999989,
          0.7348700000000008,
          0.8250400000000013,
          1.2288799999999966
         ],
         "yaxis": "y"
        },
        {
         "hovertemplate": "obj_category=Star<br>Magnitude (r)=%{x}<br>psfMag-modelMag=%{y}<extra></extra>",
         "legendgroup": "Star",
         "marker": {
          "color": "#EF553B",
          "symbol": "circle"
         },
         "mode": "markers",
         "name": "Star",
         "orientation": "v",
         "showlegend": true,
         "type": "scatter",
         "x": [
          18.66618,
          18.92323,
          18.66283,
          17.29493,
          16.85397,
          19.58394,
          18.02394,
          17.81285,
          17.44127,
          18.25799,
          16.59314,
          19.30409,
          16.15499,
          17.27032,
          17.14651,
          18.22438,
          19.76021,
          17.56888,
          15.96837,
          16.60094,
          15.65948,
          18.62887,
          15.40193,
          18.15272,
          15.93657,
          18.62439,
          17.7876,
          19.39382,
          18.57459,
          17.18028,
          18.30649,
          16.28998,
          18.23251,
          16.97522,
          18.37828,
          18.52357,
          19.76492,
          16.93184,
          16.09163,
          17.55088,
          14.88439,
          17.55664,
          17.38858,
          20.03006,
          17.30691,
          19.27519,
          18.71444,
          16.49703,
          18.57779,
          14.88423,
          17.46267,
          18.44189,
          18.6799,
          17.9831,
          18.99942,
          19.25858,
          19.08883,
          17.47166,
          18.61578,
          17.66058,
          17.23877,
          16.65367,
          18.22727,
          18.00543,
          16.94914,
          19.33862,
          17.28093,
          18.40886,
          17.02481,
          17.55438,
          18.65852,
          17.15408,
          17.20202,
          17.5937,
          19.38028,
          18.70351,
          18.96965,
          17.41087,
          17.4849,
          18.47112,
          17.47939,
          18.84881,
          18.19064,
          16.67627,
          18.95454,
          19.59583,
          16.31147,
          16.22099,
          17.29404,
          17.74527,
          16.84697,
          20.64976,
          18.10622,
          17.72265,
          16.18437,
          19.1976,
          19.67086,
          19.72169,
          18.85145,
          16.0918,
          17.08069,
          19.08497,
          18.53951,
          19.19679,
          17.24502,
          17.68583,
          18.00138,
          17.51826,
          18.36762,
          18.20376,
          15.69159,
          18.04131,
          18.67989,
          18.84576,
          16.04344,
          17.34153,
          17.12752,
          19.5746,
          19.67207,
          17.07817,
          16.3819,
          19.21594,
          17.33594,
          18.76342,
          18.06394,
          17.03613,
          17.85029,
          17.31651,
          18.36822,
          16.82047,
          16.61609,
          16.74159,
          17.57543,
          17.24495,
          15.60627,
          17.26498,
          16.98978,
          17.78732,
          17.41776,
          18.1114,
          18.84388,
          17.507,
          18.83193
         ],
         "xaxis": "x",
         "y": [
          0.008289999999998798,
          -0.007120000000000459,
          0.09281999999999968,
          0.008240000000000691,
          -0.0033600000000006958,
          0.01214000000000226,
          -0.006799999999998363,
          0.00543000000000049,
          -0.0040399999999998215,
          0.09205000000000041,
          0.013610000000003453,
          0.050550000000001205,
          -0.00730000000000075,
          0.035729999999997375,
          0.013590000000000657,
          0.0036799999999992394,
          0.017279999999999518,
          0.024840000000001083,
          0.019669999999999632,
          -0.0010399999999997078,
          0.013299999999999201,
          0.034020000000001716,
          -0.011409999999999698,
          0.0017400000000016291,
          -0.008490000000000109,
          -0.0035199999999981912,
          -0.026360000000000383,
          0.0156599999999969,
          0.003650000000000375,
          0.002400000000001512,
          -0.015390000000000015,
          -0.006380000000000052,
          0.020309999999998496,
          -0.009710000000001884,
          -0.0251000000000019,
          -0.017269999999999897,
          -0.014309999999998269,
          -0.04929000000000272,
          0.028880000000000905,
          -0.014939999999999287,
          0.05091000000000001,
          0.0437999999999974,
          0.03265000000000029,
          0.13201000000000107,
          0.016370000000001994,
          0.06377000000000166,
          0.031810000000000116,
          0.04540000000000077,
          0.021370000000001,
          0.02147999999999861,
          0.018830000000001235,
          0.004950000000000898,
          0.13810000000000144,
          0.01927999999999841,
          0.048569999999998004,
          -0.015359999999997598,
          0.06381000000000014,
          -0.013410000000000366,
          0.15487999999999857,
          0.13623000000000118,
          -0.003229999999998512,
          -0.016030000000000655,
          0.017360000000000042,
          0.14381999999999806,
          0.03193999999999875,
          0.018499999999999517,
          0.04330999999999818,
          -0.009650000000000603,
          0.011770000000002057,
          -0.00923999999999836,
          0.005660000000002441,
          0.023740000000000094,
          0.00047999999999959186,
          -0.00013999999999825263,
          0.04105000000000203,
          0.008099999999998886,
          0.018539999999998003,
          -0.0012599999999984846,
          0.010760000000001213,
          -0.00426999999999822,
          -0.005160000000000053,
          0.021460000000001145,
          0.01459000000000188,
          0.007250000000002643,
          0.0048499999999975785,
          0.023800000000001376,
          0.09378999999999849,
          0.19392999999999816,
          -0.007979999999999876,
          0.024569999999997094,
          -0.006639999999997315,
          0.0247099999999989,
          0.009540000000001214,
          0.0017399999999980764,
          -0.020870000000002165,
          0.1547799999999988,
          0.09998999999999825,
          0.0003700000000002035,
          0.01010000000000133,
          0.029109999999999303,
          0.005749999999999034,
          -0.011639999999999873,
          -0.009560000000000457,
          -0.002060000000000173,
          -0.0006799999999991257,
          0.014020000000002142,
          -0.008050000000000779,
          0.02343999999999724,
          -0.003229999999998512,
          0.015090000000000714,
          -0.013389999999999347,
          0.008459999999999468,
          0.012049999999998562,
          -0.004509999999999792,
          0.00461999999999918,
          -0.020479999999999166,
          -0.011490000000001999,
          -0.002880000000001104,
          -0.009610000000002117,
          0.017679999999998586,
          -0.004740000000001743,
          -0.029630000000000933,
          -0.014469999999999317,
          0.02126000000000161,
          0.00788000000000011,
          0.03310000000000102,
          -0.016550000000002285,
          0.002269999999999328,
          0.01296999999999926,
          0.03783999999999921,
          0.0074299999999993815,
          0.04168000000000305,
          0.03242999999999796,
          0.16122000000000014,
          0.16517999999999944,
          0.08458999999999861,
          0.004410000000000025,
          0.039220000000000255,
          0.07970999999999862,
          0.022449999999999193,
          0.03586000000000311,
          0.07968999999999937,
          0.020420000000001437
         ],
         "yaxis": "y"
        }
       ],
       "layout": {
        "autosize": true,
        "legend": {
         "title": {
          "text": "obj_category"
         },
         "tracegroupgap": 0
        },
        "template": {
         "data": {
          "bar": [
           {
            "error_x": {
             "color": "#2a3f5f"
            },
            "error_y": {
             "color": "#2a3f5f"
            },
            "marker": {
             "line": {
              "color": "#E5ECF6",
              "width": 0.5
             },
             "pattern": {
              "fillmode": "overlay",
              "size": 10,
              "solidity": 0.2
             }
            },
            "type": "bar"
           }
          ],
          "barpolar": [
           {
            "marker": {
             "line": {
              "color": "#E5ECF6",
              "width": 0.5
             },
             "pattern": {
              "fillmode": "overlay",
              "size": 10,
              "solidity": 0.2
             }
            },
            "type": "barpolar"
           }
          ],
          "carpet": [
           {
            "aaxis": {
             "endlinecolor": "#2a3f5f",
             "gridcolor": "white",
             "linecolor": "white",
             "minorgridcolor": "white",
             "startlinecolor": "#2a3f5f"
            },
            "baxis": {
             "endlinecolor": "#2a3f5f",
             "gridcolor": "white",
             "linecolor": "white",
             "minorgridcolor": "white",
             "startlinecolor": "#2a3f5f"
            },
            "type": "carpet"
           }
          ],
          "choropleth": [
           {
            "colorbar": {
             "outlinewidth": 0,
             "ticks": ""
            },
            "type": "choropleth"
           }
          ],
          "contour": [
           {
            "colorbar": {
             "outlinewidth": 0,
             "ticks": ""
            },
            "colorscale": [
             [
              0,
              "#0d0887"
             ],
             [
              0.1111111111111111,
              "#46039f"
             ],
             [
              0.2222222222222222,
              "#7201a8"
             ],
             [
              0.3333333333333333,
              "#9c179e"
             ],
             [
              0.4444444444444444,
              "#bd3786"
             ],
             [
              0.5555555555555556,
              "#d8576b"
             ],
             [
              0.6666666666666666,
              "#ed7953"
             ],
             [
              0.7777777777777778,
              "#fb9f3a"
             ],
             [
              0.8888888888888888,
              "#fdca26"
             ],
             [
              1,
              "#f0f921"
             ]
            ],
            "type": "contour"
           }
          ],
          "contourcarpet": [
           {
            "colorbar": {
             "outlinewidth": 0,
             "ticks": ""
            },
            "type": "contourcarpet"
           }
          ],
          "heatmap": [
           {
            "colorbar": {
             "outlinewidth": 0,
             "ticks": ""
            },
            "colorscale": [
             [
              0,
              "#0d0887"
             ],
             [
              0.1111111111111111,
              "#46039f"
             ],
             [
              0.2222222222222222,
              "#7201a8"
             ],
             [
              0.3333333333333333,
              "#9c179e"
             ],
             [
              0.4444444444444444,
              "#bd3786"
             ],
             [
              0.5555555555555556,
              "#d8576b"
             ],
             [
              0.6666666666666666,
              "#ed7953"
             ],
             [
              0.7777777777777778,
              "#fb9f3a"
             ],
             [
              0.8888888888888888,
              "#fdca26"
             ],
             [
              1,
              "#f0f921"
             ]
            ],
            "type": "heatmap"
           }
          ],
          "heatmapgl": [
           {
            "colorbar": {
             "outlinewidth": 0,
             "ticks": ""
            },
            "colorscale": [
             [
              0,
              "#0d0887"
             ],
             [
              0.1111111111111111,
              "#46039f"
             ],
             [
              0.2222222222222222,
              "#7201a8"
             ],
             [
              0.3333333333333333,
              "#9c179e"
             ],
             [
              0.4444444444444444,
              "#bd3786"
             ],
             [
              0.5555555555555556,
              "#d8576b"
             ],
             [
              0.6666666666666666,
              "#ed7953"
             ],
             [
              0.7777777777777778,
              "#fb9f3a"
             ],
             [
              0.8888888888888888,
              "#fdca26"
             ],
             [
              1,
              "#f0f921"
             ]
            ],
            "type": "heatmapgl"
           }
          ],
          "histogram": [
           {
            "marker": {
             "pattern": {
              "fillmode": "overlay",
              "size": 10,
              "solidity": 0.2
             }
            },
            "type": "histogram"
           }
          ],
          "histogram2d": [
           {
            "colorbar": {
             "outlinewidth": 0,
             "ticks": ""
            },
            "colorscale": [
             [
              0,
              "#0d0887"
             ],
             [
              0.1111111111111111,
              "#46039f"
             ],
             [
              0.2222222222222222,
              "#7201a8"
             ],
             [
              0.3333333333333333,
              "#9c179e"
             ],
             [
              0.4444444444444444,
              "#bd3786"
             ],
             [
              0.5555555555555556,
              "#d8576b"
             ],
             [
              0.6666666666666666,
              "#ed7953"
             ],
             [
              0.7777777777777778,
              "#fb9f3a"
             ],
             [
              0.8888888888888888,
              "#fdca26"
             ],
             [
              1,
              "#f0f921"
             ]
            ],
            "type": "histogram2d"
           }
          ],
          "histogram2dcontour": [
           {
            "colorbar": {
             "outlinewidth": 0,
             "ticks": ""
            },
            "colorscale": [
             [
              0,
              "#0d0887"
             ],
             [
              0.1111111111111111,
              "#46039f"
             ],
             [
              0.2222222222222222,
              "#7201a8"
             ],
             [
              0.3333333333333333,
              "#9c179e"
             ],
             [
              0.4444444444444444,
              "#bd3786"
             ],
             [
              0.5555555555555556,
              "#d8576b"
             ],
             [
              0.6666666666666666,
              "#ed7953"
             ],
             [
              0.7777777777777778,
              "#fb9f3a"
             ],
             [
              0.8888888888888888,
              "#fdca26"
             ],
             [
              1,
              "#f0f921"
             ]
            ],
            "type": "histogram2dcontour"
           }
          ],
          "mesh3d": [
           {
            "colorbar": {
             "outlinewidth": 0,
             "ticks": ""
            },
            "type": "mesh3d"
           }
          ],
          "parcoords": [
           {
            "line": {
             "colorbar": {
              "outlinewidth": 0,
              "ticks": ""
             }
            },
            "type": "parcoords"
           }
          ],
          "pie": [
           {
            "automargin": true,
            "type": "pie"
           }
          ],
          "scatter": [
           {
            "fillpattern": {
             "fillmode": "overlay",
             "size": 10,
             "solidity": 0.2
            },
            "type": "scatter"
           }
          ],
          "scatter3d": [
           {
            "line": {
             "colorbar": {
              "outlinewidth": 0,
              "ticks": ""
             }
            },
            "marker": {
             "colorbar": {
              "outlinewidth": 0,
              "ticks": ""
             }
            },
            "type": "scatter3d"
           }
          ],
          "scattercarpet": [
           {
            "marker": {
             "colorbar": {
              "outlinewidth": 0,
              "ticks": ""
             }
            },
            "type": "scattercarpet"
           }
          ],
          "scattergeo": [
           {
            "marker": {
             "colorbar": {
              "outlinewidth": 0,
              "ticks": ""
             }
            },
            "type": "scattergeo"
           }
          ],
          "scattergl": [
           {
            "marker": {
             "colorbar": {
              "outlinewidth": 0,
              "ticks": ""
             }
            },
            "type": "scattergl"
           }
          ],
          "scattermapbox": [
           {
            "marker": {
             "colorbar": {
              "outlinewidth": 0,
              "ticks": ""
             }
            },
            "type": "scattermapbox"
           }
          ],
          "scatterpolar": [
           {
            "marker": {
             "colorbar": {
              "outlinewidth": 0,
              "ticks": ""
             }
            },
            "type": "scatterpolar"
           }
          ],
          "scatterpolargl": [
           {
            "marker": {
             "colorbar": {
              "outlinewidth": 0,
              "ticks": ""
             }
            },
            "type": "scatterpolargl"
           }
          ],
          "scatterternary": [
           {
            "marker": {
             "colorbar": {
              "outlinewidth": 0,
              "ticks": ""
             }
            },
            "type": "scatterternary"
           }
          ],
          "surface": [
           {
            "colorbar": {
             "outlinewidth": 0,
             "ticks": ""
            },
            "colorscale": [
             [
              0,
              "#0d0887"
             ],
             [
              0.1111111111111111,
              "#46039f"
             ],
             [
              0.2222222222222222,
              "#7201a8"
             ],
             [
              0.3333333333333333,
              "#9c179e"
             ],
             [
              0.4444444444444444,
              "#bd3786"
             ],
             [
              0.5555555555555556,
              "#d8576b"
             ],
             [
              0.6666666666666666,
              "#ed7953"
             ],
             [
              0.7777777777777778,
              "#fb9f3a"
             ],
             [
              0.8888888888888888,
              "#fdca26"
             ],
             [
              1,
              "#f0f921"
             ]
            ],
            "type": "surface"
           }
          ],
          "table": [
           {
            "cells": {
             "fill": {
              "color": "#EBF0F8"
             },
             "line": {
              "color": "white"
             }
            },
            "header": {
             "fill": {
              "color": "#C8D4E3"
             },
             "line": {
              "color": "white"
             }
            },
            "type": "table"
           }
          ]
         },
         "layout": {
          "annotationdefaults": {
           "arrowcolor": "#2a3f5f",
           "arrowhead": 0,
           "arrowwidth": 1
          },
          "autotypenumbers": "strict",
          "coloraxis": {
           "colorbar": {
            "outlinewidth": 0,
            "ticks": ""
           }
          },
          "colorscale": {
           "diverging": [
            [
             0,
             "#8e0152"
            ],
            [
             0.1,
             "#c51b7d"
            ],
            [
             0.2,
             "#de77ae"
            ],
            [
             0.3,
             "#f1b6da"
            ],
            [
             0.4,
             "#fde0ef"
            ],
            [
             0.5,
             "#f7f7f7"
            ],
            [
             0.6,
             "#e6f5d0"
            ],
            [
             0.7,
             "#b8e186"
            ],
            [
             0.8,
             "#7fbc41"
            ],
            [
             0.9,
             "#4d9221"
            ],
            [
             1,
             "#276419"
            ]
           ],
           "sequential": [
            [
             0,
             "#0d0887"
            ],
            [
             0.1111111111111111,
             "#46039f"
            ],
            [
             0.2222222222222222,
             "#7201a8"
            ],
            [
             0.3333333333333333,
             "#9c179e"
            ],
            [
             0.4444444444444444,
             "#bd3786"
            ],
            [
             0.5555555555555556,
             "#d8576b"
            ],
            [
             0.6666666666666666,
             "#ed7953"
            ],
            [
             0.7777777777777778,
             "#fb9f3a"
            ],
            [
             0.8888888888888888,
             "#fdca26"
            ],
            [
             1,
             "#f0f921"
            ]
           ],
           "sequentialminus": [
            [
             0,
             "#0d0887"
            ],
            [
             0.1111111111111111,
             "#46039f"
            ],
            [
             0.2222222222222222,
             "#7201a8"
            ],
            [
             0.3333333333333333,
             "#9c179e"
            ],
            [
             0.4444444444444444,
             "#bd3786"
            ],
            [
             0.5555555555555556,
             "#d8576b"
            ],
            [
             0.6666666666666666,
             "#ed7953"
            ],
            [
             0.7777777777777778,
             "#fb9f3a"
            ],
            [
             0.8888888888888888,
             "#fdca26"
            ],
            [
             1,
             "#f0f921"
            ]
           ]
          },
          "colorway": [
           "#636efa",
           "#EF553B",
           "#00cc96",
           "#ab63fa",
           "#FFA15A",
           "#19d3f3",
           "#FF6692",
           "#B6E880",
           "#FF97FF",
           "#FECB52"
          ],
          "font": {
           "color": "#2a3f5f"
          },
          "geo": {
           "bgcolor": "white",
           "lakecolor": "white",
           "landcolor": "#E5ECF6",
           "showlakes": true,
           "showland": true,
           "subunitcolor": "white"
          },
          "hoverlabel": {
           "align": "left"
          },
          "hovermode": "closest",
          "mapbox": {
           "style": "light"
          },
          "paper_bgcolor": "white",
          "plot_bgcolor": "#E5ECF6",
          "polar": {
           "angularaxis": {
            "gridcolor": "white",
            "linecolor": "white",
            "ticks": ""
           },
           "bgcolor": "#E5ECF6",
           "radialaxis": {
            "gridcolor": "white",
            "linecolor": "white",
            "ticks": ""
           }
          },
          "scene": {
           "xaxis": {
            "backgroundcolor": "#E5ECF6",
            "gridcolor": "white",
            "gridwidth": 2,
            "linecolor": "white",
            "showbackground": true,
            "ticks": "",
            "zerolinecolor": "white"
           },
           "yaxis": {
            "backgroundcolor": "#E5ECF6",
            "gridcolor": "white",
            "gridwidth": 2,
            "linecolor": "white",
            "showbackground": true,
            "ticks": "",
            "zerolinecolor": "white"
           },
           "zaxis": {
            "backgroundcolor": "#E5ECF6",
            "gridcolor": "white",
            "gridwidth": 2,
            "linecolor": "white",
            "showbackground": true,
            "ticks": "",
            "zerolinecolor": "white"
           }
          },
          "shapedefaults": {
           "line": {
            "color": "#2a3f5f"
           }
          },
          "ternary": {
           "aaxis": {
            "gridcolor": "white",
            "linecolor": "white",
            "ticks": ""
           },
           "baxis": {
            "gridcolor": "white",
            "linecolor": "white",
            "ticks": ""
           },
           "bgcolor": "#E5ECF6",
           "caxis": {
            "gridcolor": "white",
            "linecolor": "white",
            "ticks": ""
           }
          },
          "title": {
           "x": 0.05
          },
          "xaxis": {
           "automargin": true,
           "gridcolor": "white",
           "linecolor": "white",
           "ticks": "",
           "title": {
            "standoff": 15
           },
           "zerolinecolor": "white",
           "zerolinewidth": 2
          },
          "yaxis": {
           "automargin": true,
           "gridcolor": "white",
           "linecolor": "white",
           "ticks": "",
           "title": {
            "standoff": 15
           },
           "zerolinecolor": "white",
           "zerolinewidth": 2
          }
         }
        },
        "title": {
         "text": "Difference between the point-spread function magnitude (psfMag) and <br>the model magnitude (modelMag) as a function of magnitude"
        },
        "xaxis": {
         "anchor": "y",
         "autorange": true,
         "domain": [
          0,
          1
         ],
         "range": [
          13.645035581717453,
          21.06645441828255
         ],
         "title": {
          "text": "Magnitude (r)"
         },
         "type": "linear"
        },
        "yaxis": {
         "anchor": "x",
         "autorange": true,
         "domain": [
          0,
          1
         ],
         "range": [
          -0.4131164077669932,
          4.72325640776699
         ],
         "title": {
          "text": "psfMag-modelMag"
         },
         "type": "linear"
        }
       }
      },
      "image/png": "[encoded data removed]",
      "text/html": [
       "<div>                            <div id=\"178541c7-83e9-4f2d-a8ca-c5f19b574d96\" class=\"plotly-graph-div\" style=\"height:525px; width:100%;\"></div>            <script type=\"text/javascript\">                require([\"plotly\"], function(Plotly) {                    window.PLOTLYENV=window.PLOTLYENV || {};                                    if (document.getElementById(\"178541c7-83e9-4f2d-a8ca-c5f19b574d96\")) {                    Plotly.newPlot(                        \"178541c7-83e9-4f2d-a8ca-c5f19b574d96\",                        [{\"hovertemplate\":\"obj_category=Galaxy<br>Magnitude (r)=%{x}<br>psfMag-modelMag=%{y}<extra></extra>\",\"legendgroup\":\"Galaxy\",\"marker\":{\"color\":\"#636efa\",\"symbol\":\"circle\"},\"mode\":\"markers\",\"name\":\"Galaxy\",\"orientation\":\"v\",\"showlegend\":true,\"x\":[17.73467,17.38941,16.66863,15.54348,17.41053,17.44888,17.71723,17.66213,17.86522,18.07631,16.89192,17.18537,18.75907,19.96132,17.78778,17.33027,17.34082,17.51078,17.78298,17.84934,15.93646,18.81189,17.02729,17.20391,17.74846,17.57033,18.17948,16.58394,17.31672,17.86761,18.70539,16.18065,18.30658,17.2988,17.50541,15.32226,17.71631,17.65518,18.95808,17.72832,17.21899,17.42527,17.71035,17.96021,17.62921,17.48449,16.73363,17.80113,15.70567,19.24355,19.79063,15.35632,17.13288,17.84087,16.68256,16.76018,18.37969,18.99631,17.71137,17.76418,17.46498,16.6494,16.99059,16.95479,17.7294,17.46996,18.8871,17.67524,17.24412,17.70764,17.75021,17.17834,19.63503,16.93399,16.84546,14.82322,17.57043,17.94019,19.1403,18.12756,17.13886,17.7822,17.80396,19.06752,19.48429,17.53725,17.58865,16.19351,17.38001,17.60702,18.92442,17.96688,16.06565,17.77719,16.18201,17.04359,15.41372,17.51708,16.88214,17.16284,16.34904,17.77965,16.88589,16.55266,18.71249,18.76807,17.91311,17.32959,17.76433,16.40462,17.42743,16.55473,17.37312,16.20991,18.77711,17.11639,15.81741,17.40045,17.51851,16.57238,19.17372,17.56939,17.64959,15.19381,15.79073,17.42453,17.47718,17.43658,17.58913,17.40683,17.18557,16.3145,17.43867,15.63914,17.42124,18.995,15.3071,19.00448,16.42285,15.42773,16.6849,17.76706,17.71558,17.35596,16.5671,14.74834,17.4518,19.12494,18.34956,18.60044,17.58626,17.26769,17.62452,16.68256,19.32189,17.38325,17.62533,16.49403,17.18006,17.69602,18.90145,18.13802,16.07218,18.62225,15.82313,17.2857,17.47588,17.17024,17.00458,17.77015,17.44202,17.20769,16.69386,17.8168,17.51902,16.74514,17.16499,17.84893,16.03603,17.61008,17.40116,17.52029,18.29753,18.24524,17.56582,18.84674,16.76683,17.63291,17.15399,16.71877,17.48644,18.86267,17.32356,18.42436,17.36398,17.21575,17.65821,16.1944,17.76221,18.17053,18.85289,19.29746,15.57418,16.71377,17.40974,17.25792,17.61589,17.28031,16.6724,17.70918,17.15537,17.58021,17.77106,17.4803,17.29424,16.18447,17.18263,17.35238,14.91079,18.20076,17.47546,17.44621,17.20022,17.61217,16.74358,17.27491,18.60975,17.37385,17.0597,17.22881,17.62891,20.15198,16.99028,15.87132,17.59968,17.16051,17.40812,18.78253,17.42834,17.55072,17.60154,16.35201,15.94932,17.76085,17.48502,16.48749,17.099,16.83401,17.44534,17.58465,16.53279,17.50485,17.35971,19.19596,14.16772,15.40878,16.88448,17.26941,17.3511,17.62854,17.76899,18.74966,17.03099,17.21904,17.16931,16.17998,15.86003,17.05901,16.70896,17.60925,17.41961,17.00381,15.92843,16.49804,16.63655,16.18962,15.26744,17.0413,19.62975,16.81416,16.29855,16.83945,17.44265,17.26713,17.06983,17.45522,17.59395,17.24377,17.52132,17.4283,17.74172,16.64923,17.04866,17.76694,17.20914,17.77385,17.40342,17.71458,17.79673,16.10127,17.01401,16.16179,16.78759,16.02431,16.9369,17.61905,16.1939,18.18052,17.61328,17.14164,17.52751,16.32493,16.40902,17.44808,17.13189,16.93894,16.79506,16.84867,17.18333,16.60975,17.0879,17.23846,16.72407,16.93118,17.82594,17.1075,19.23345,16.34933,17.16957,16.52196,17.67853,17.20596,17.79598,17.05786,16.45198,17.57156,16.84791,16.8945,17.58766,17.49274,17.26017,17.55376,17.443,17.72359,17.79136,15.6453,16.43795,15.74591,17.43984,17.29502,18.15982,14.06173,16.70496,16.47624,16.922,18.63768,16.71797,17.83545,19.5145,18.80844,16.16367,17.63705,19.9549,17.20529,18.91686,18.34019,18.57872,16.13529,17.30791,18.46717,14.84339,17.07621,17.33981,16.40196,16.86524,17.62395,17.30574,17.67936,17.94173,16.79109,16.43256,18.10944,17.51056,17.63236,15.72837,16.72965,15.65752,18.12598,17.86958,16.59323,18.28235,16.83543,17.52391,17.36966,17.8929,17.64981,17.8149,19.10299,17.05631,16.8956,17.40539,17.3498,18.36176,18.43748,18.77962,16.58215,16.69124,17.84653,17.43354,17.43954,17.67738,17.56657,15.27412,17.63025,17.14898,17.42513,18.21884,16.00018,17.32635,17.81046,16.29935,17.61959,17.31961,15.14446,17.01734,17.8488,18.47866,17.85955,17.20095,16.94412,18.52268,15.54475,17.33757,17.51472,17.43483,17.22741,17.57939,17.39624,17.62486,18.52835,16.25375,17.36343,16.28485,17.66028,15.91235,14.40154,16.84779,19.09049,17.11643,17.19377,17.39239,17.69863,19.49754,17.55564,17.81009,17.48995,17.22071,17.53867,15.42024,17.19744,16.8717,15.77003,17.41202,17.83,18.55832,20.22976,17.64942,17.0642,17.58537,17.53008,18.36336,17.23367,17.19325,16.72667,15.71672,17.51599,19.13087,17.4241,18.9268,16.82556,18.60603,17.08417,18.64397,17.03105,17.69403,17.53791,16.86162,17.35321,16.79046,17.21134,16.81397,16.70381,17.98811,16.58384,17.63059,17.54652,17.39262,17.2985,19.06218,17.18741,19.35997,16.67595,18.1995,17.22334,16.83075,16.78075,17.19292,17.15773,16.92182,16.9167,17.34381,17.39908,16.98086,17.05333,17.59473,17.81224,16.99767,17.42583,17.59888,17.74956,17.01009,16.85204,17.18373,17.22713,16.60357,17.35324,17.50147,15.43015,17.56441,17.20373,17.21201,16.36104,17.38828,19.26704,17.3586,17.26911,17.02614,17.30731,15.93955,17.06798,15.48537,17.17526,17.36681,18.89598,17.64875,17.30379,18.91532,17.46587,17.51067,17.12921,18.61954,17.38462,19.5895,17.6966,17.35492,17.50934,16.00183,15.39575,17.75917,17.27688,17.62872,17.51372,17.5443,15.10046,18.34948,17.65111,17.08042,17.19375,17.20116,17.48995,18.50354,17.63679,16.9942,17.56628,17.27358,17.47613,17.59141,17.09464,17.64776,16.23021,14.8168,17.67394,17.7549,16.29102,17.7042,16.69127,16.50735,17.23188,18.52968,15.83954,15.42596,19.5628,17.33088,14.63649,17.01688,17.73787,19.252,16.81351,17.02544,16.86415,17.02954,17.1382,17.51155,17.85692,17.94863,17.49895,17.01293,17.22781,17.73808,16.99206,17.29546,18.33021,19.30377,17.25083,17.05498,16.85048,17.74908,17.37536,16.68527,17.77172,16.88462,16.2884,17.60236,17.39206,17.51811,16.76994,17.11156,17.66159,16.96245,17.76201,16.79884,17.20473,17.29296,17.72309,17.58767,17.4861,17.20654,17.30819,17.3827,16.98958,17.12395,18.03746,17.63943,17.4599,17.45101,19.14538,20.02931,16.74924,17.84425,17.56513,17.7857,17.11448,17.61893,18.72459,19.46891,16.72585,16.84682,17.28644,17.37748,17.41538,16.02844,16.41125,17.35288,14.20209,18.49764,17.65938,16.91842,17.28481,17.79199,17.70084,16.49503,17.16511,15.12405,17.53148,17.3272,19.21788,16.64239,16.60474,17.59345,18.96372,16.59192,17.6309,17.80722,17.6243,16.65154,17.5947,14.47618,16.5567,19.56925,16.21237,16.86361,17.01571,17.04992,16.13079,17.83933,17.59806,17.17968,19.71703,19.01654,17.51587,17.09971,17.17278,17.36559,17.69629,17.63767,17.33097,17.69812,19.39711,17.86305,17.71752,17.66674,17.0494,17.88525,15.28834,17.35571,17.27927,17.36303,17.70112,19.11109,17.06876,17.77018,17.51649,18.38607,17.43702,16.93455,17.84383,16.80318,17.52109,17.58782,17.19239,17.41884,16.11166,18.46045,17.46265,17.78572,17.66149,18.16533,17.6812,17.55886,17.24648,16.99472,17.03632,16.63334,17.10897,17.32422,17.83928,17.60787,17.47911,17.10394,17.29381,17.88541,16.84403,16.71153,16.50896,17.44693,16.73742,17.4591,17.17818,14.77896,16.51427,17.68112,17.80083,17.53987,17.42809,18.40355,19.01551,17.15737,17.57098,16.83262,17.27062,17.66555,17.79528,15.99403,17.73285,17.66475,17.52258,17.587,17.37646,17.75438,18.08543,17.71957,17.31426,17.59818,16.81754,17.67361,17.25453,17.62605,17.09172,16.98749,17.16729,17.23916,16.89639,16.68021,17.00282,16.66754,17.18201,17.76418,17.7508,19.10727,17.07183,17.65707,17.19454,17.79299,16.73258,17.86861,18.65091,17.32553,16.6664,16.53995,18.66207,17.43572,17.74606,17.39976,18.25972,18.09161,16.62141,19.65582,16.48888,15.44546,17.01789,17.41026,17.26507,17.0992,17.52511,17.58425,16.9271,16.49027,17.76563,16.97518,18.59779,18.74324,18.98786,16.74585,17.53081,17.88884,17.28925,19.01725,16.75612,16.62671,17.51656,19.37204,17.14132,16.96331,17.02234,18.11828,16.8547,17.73228,16.08668,17.47466,17.22531,17.1937,18.35629,17.60267,17.60593,17.63399,17.75408,17.66343],\"xaxis\":\"x\",\"y\":[1.4604699999999973,1.9176199999999994,2.0883199999999995,2.5694800000000004,2.104469999999999,2.110210000000002,0.2505400000000009,0.7258099999999992,1.2666599999999981,1.1446900000000007,1.0386300000000013,1.2878500000000024,0.8213899999999974,0.6493599999999979,1.40916,2.0060600000000015,1.9888999999999974,1.152429999999999,1.2874000000000017,1.7021799999999985,2.217279999999999,1.691830000000003,1.8171599999999977,1.6178899999999992,2.0137199999999993,1.6785400000000017,0.5898899999999969,1.8448700000000002,1.3150300000000001,1.6971100000000021,0.9774299999999982,2.899889999999999,1.1965000000000003,1.2464800000000018,2.2338500000000003,2.8369,1.5526100000000014,1.0791699999999977,1.0261700000000005,1.9768100000000004,1.5748399999999982,0.9567699999999988,0.8732200000000034,1.6165599999999998,1.0457099999999997,1.5918799999999997,1.6071799999999996,1.7686799999999998,1.9077600000000015,1.1281600000000012,0.7829000000000015,2.3557500000000005,0.9017899999999983,1.2894299999999994,1.8598700000000008,2.7723000000000013,1.0554999999999986,1.2086799999999975,1.0777600000000014,1.5602599999999995,1.575219999999998,1.678889999999999,1.4130699999999976,1.1286000000000023,0.818050000000003,1.9119400000000013,1.0676500000000004,3.4880400000000016,2.93806,1.5560299999999998,0.6932600000000022,2.092550000000003,0.925139999999999,1.1079299999999996,1.2038399999999996,2.189790000000002,1.7112099999999977,1.304549999999999,1.2186400000000006,1.2664700000000018,2.09919,0.7045600000000007,0.5984300000000005,1.0421000000000014,0.9556599999999982,1.376570000000001,1.1873299999999993,2.143740000000001,1.0352100000000029,2.2485600000000012,0.8536000000000001,1.3026000000000018,2.8732799999999976,0.7929600000000008,1.7916300000000014,0.975240000000003,3.45116,1.3530100000000012,1.6313600000000008,2.62331,1.7993200000000016,0.6719699999999982,1.3756100000000018,1.9331899999999997,1.52365,0.6750899999999973,1.1827299999999994,1.2297499999999992,1.2873699999999992,0.9471600000000002,1.7113799999999983,1.3609800000000014,1.1225300000000011,1.6713799999999992,1.0234500000000004,2.7930100000000024,2.737709999999998,2.2976100000000024,1.7102700000000013,2.170930000000002,1.2952000000000012,1.3682000000000016,1.6754500000000014,4.35943,2.609919999999999,1.2539799999999985,2.335449999999998,1.187820000000002,1.1040199999999984,1.193439999999999,1.0684500000000021,1.6401600000000016,1.220670000000002,1.6380099999999995,1.3600700000000003,1.2589799999999975,1.6426700000000007,0.9916699999999992,1.3704,2.5966099999999983,2.146810000000002,1.0935500000000005,0.9851100000000024,1.245440000000002,1.5173099999999984,1.9170800000000003,1.2021300000000004,1.1689700000000016,0.7267499999999991,1.9735700000000023,1.0989299999999993,1.649199999999997,1.0010900000000014,1.5961999999999996,0.7887599999999999,1.035350000000001,1.3726699999999994,1.48846,1.2410099999999993,1.3274299999999997,0.6437199999999983,1.0104900000000008,2.2221200000000003,0.9991299999999974,1.2313799999999997,1.3086600000000033,0.8017700000000012,1.5104000000000006,1.277709999999999,1.472929999999998,0.6693999999999996,1.132830000000002,1.2303399999999982,0.8278199999999991,0.6586399999999983,1.0339500000000008,0.8521500000000017,0.5272299999999994,1.3975699999999982,0.6677299999999988,1.2208599999999983,0.5394500000000022,0.6862600000000008,0.15136000000000038,0.810220000000001,0.4164199999999987,1.3499100000000013,0.8055599999999998,1.7502199999999988,1.395590000000002,0.8917799999999971,0.8555700000000002,0.7753799999999984,1.0728599999999986,0.9937699999999978,1.1795299999999997,1.0556400000000004,0.854809999999997,0.9788999999999994,0.7033200000000015,0.9045400000000008,0.7059299999999986,1.2233199999999993,0.6971300000000014,0.9021600000000021,1.0170400000000015,0.8582099999999997,1.6376300000000015,0.9889800000000015,1.3940100000000015,1.4614599999999989,0.8042400000000001,1.4180600000000005,1.6483500000000006,0.9879400000000018,1.3007899999999992,1.0734400000000015,0.8621599999999994,2.8699600000000007,1.6786400000000015,0.9325199999999967,1.5581600000000009,0.6570099999999996,0.7701600000000006,1.1079299999999996,1.1047000000000011,0.8780100000000033,1.8455499999999994,1.4953000000000003,0.9990300000000012,0.9427899999999987,0.4356000000000009,0.993540000000003,1.70383,0.41029999999999944,1.0331500000000027,1.2394099999999995,0.7775399999999983,1.3289299999999997,0.4961500000000001,0.8887800000000006,1.232569999999999,1.5755799999999986,1.515939999999997,1.093320000000002,1.6094599999999986,0.3306299999999993,1.3139199999999995,0.6148599999999966,1.295960000000001,1.0118800000000014,0.8063499999999983,1.26783,0.4911500000000011,2.3761600000000023,1.2119999999999997,0.9496299999999991,0.8073200000000007,1.0883300000000027,0.7647200000000005,0.8050800000000002,0.6292700000000018,1.9227000000000025,1.6806000000000019,0.9405199999999994,2.46096,2.1623900000000003,1.1052,2.51408,2.0024499999999996,0.7680900000000008,1.798099999999998,1.1851299999999991,1.74296,1.201740000000001,1.475559999999998,3.068059999999999,1.0422399999999996,0.9834199999999989,2.157519999999998,1.46481,1.1612700000000018,1.0518900000000002,0.9696899999999999,0.9725999999999999,1.314869999999999,2.0815100000000015,1.2941900000000004,1.3895499999999998,1.3594800000000014,1.1795699999999982,1.61308,0.4801399999999987,1.045819999999999,1.6908299999999983,1.6561500000000002,0.8867699999999985,1.0519699999999972,1.5046700000000008,1.9176000000000002,1.6011500000000005,1.4816800000000008,1.41066,2.0712399999999995,2.2091499999999975,0.848709999999997,1.5594000000000001,0.9595199999999977,1.0942000000000007,1.7301000000000002,0.6248900000000006,1.5133700000000019,1.3837599999999988,1.3643199999999993,1.57123,0.9482600000000012,1.6428399999999996,0.9625100000000018,1.5790899999999972,1.0041600000000024,0.9727800000000002,1.583639999999999,1.8719099999999997,2.78303,1.349420000000002,1.7448299999999968,1.0106199999999994,1.8161500000000004,2.009029999999999,1.2670700000000004,0.6958800000000025,1.6378299999999975,0.5350800000000007,1.1470699999999994,2.0090300000000028,1.1441599999999994,1.177030000000002,2.8246399999999987,0.9293800000000019,1.459579999999999,1.982840000000003,1.5423100000000005,2.3127599999999973,0.6541499999999978,1.3176999999999985,2.7499899999999986,1.2205300000000001,2.9304499999999987,1.0231899999999996,1.6155699999999982,1.0962800000000001,3.8640799999999977,1.3710400000000007,1.892599999999998,2.0753899999999987,1.2619100000000003,0.9262300000000003,1.7112499999999997,0.7029899999999998,1.2730700000000006,1.1423200000000016,0.8968600000000002,0.19449000000000183,0.7253099999999968,1.3945100000000004,0.9347799999999999,0.8875600000000006,2.2534499999999973,1.4153400000000005,1.5072900000000011,3.9546799999999998,1.1207600000000006,0.8840700000000012,1.7057500000000019,1.26849,1.1289999999999978,1.4331600000000009,1.13692,1.3242900000000013,1.5347699999999982,1.5243400000000022,0.7658500000000004,1.0047899999999998,1.1495500000000014,2.8672999999999984,1.51605,2.0569499999999987,1.1752900000000004,1.7005400000000002,1.3726400000000005,0.5990499999999983,2.071480000000001,1.2161100000000005,1.6958200000000012,1.71828,2.133090000000003,1.0321399999999983,0.9775900000000028,1.0103399999999993,3.541599999999999,1.2910499999999985,1.4024600000000014,0.625239999999998,1.4350299999999976,1.5956299999999999,1.4131300000000024,2.878119999999999,1.20026,1.3845799999999997,1.4289799999999993,1.28688,1.9267900000000004,2.4197999999999986,1.24559,0.6429299999999998,1.56541,0.7053799999999981,1.4976899999999986,1.2556599999999989,1.7090099999999993,1.90456,1.0978300000000019,1.2979599999999998,2.286669999999999,1.9487500000000004,2.2245199999999983,0.7904199999999975,1.4493800000000014,1.4157200000000003,2.51736,1.5520099999999992,2.228659999999998,0.9739299999999993,0.8016699999999979,1.883589999999998,1.4152200000000015,0.7865299999999991,1.2892900000000012,0.6375099999999989,0.9133500000000012,1.419270000000001,1.9286199999999987,0.8659800000000004,0.7957499999999982,1.1523199999999996,2.0869800000000005,2.079740000000001,1.1049400000000027,2.2459099999999985,1.5404799999999987,1.2324800000000025,1.5145400000000002,0.8817799999999991,1.3408899999999981,0.7598699999999994,1.8410699999999984,1.5492199999999983,0.4859399999999994,1.2774,1.2654999999999994,1.0963700000000003,2.7630299999999988,1.6407600000000002,2.345130000000001,0.6163600000000002,0.19613999999999976,1.0378000000000007,0.8277400000000021,0.7438399999999987,1.3624199999999966,1.1566299999999998,1.5501599999999982,1.2020000000000017,0.8304000000000009,3.0581699999999987,0.9740600000000015,1.0178699999999985,0.8652300000000004,1.2062199999999983,0.8683000000000014,1.0376799999999982,0.7954100000000004,0.5206699999999991,2.8411299999999997,1.642949999999999,1.5272900000000007,0.9224800000000002,0.6849799999999995,0.8643800000000006,2.187570000000001,1.4613499999999995,0.9869699999999995,1.2255800000000008,1.257240000000003,1.2743799999999972,0.6176199999999987,1.2722899999999981,1.9217799999999983,1.0632399999999969,0.8699100000000008,1.063410000000001,1.7189599999999992,1.1389299999999984,1.0688199999999988,1.9014300000000013,1.16554,0.7752799999999986,0.9080300000000001,1.0783300000000011,0.7705599999999997,1.4080099999999973,1.2111400000000003,1.4590899999999998,1.4477399999999996,0.7935100000000013,1.104330000000001,1.8313300000000012,1.1248699999999978,0.5230800000000002,1.1671300000000002,1.130309999999998,1.042300000000001,0.9828200000000002,1.0764200000000024,1.7083099999999973,1.585560000000001,1.2920099999999977,1.2192799999999995,0.554000000000002,1.1737199999999994,1.2892600000000023,3.0583100000000023,1.265819999999998,0.657589999999999,1.2708499999999994,0.8681099999999979,1.4550299999999972,0.6750499999999988,2.74127,1.373140000000003,1.7779500000000006,0.8239599999999996,1.1675199999999997,0.7572399999999995,0.9254099999999994,0.7656300000000016,0.5523999999999987,1.0201700000000002,0.9384200000000007,1.1480899999999998,0.2989999999999995,0.5194399999999995,0.649989999999999,0.9356699999999982,0.42441000000000173,1.1694099999999992,1.638819999999999,1.2361900000000006,0.7152399999999979,1.0181300000000029,0.96434,0.7505000000000024,1.08465,2.8762200000000018,1.124880000000001,0.7530400000000022,1.26952,1.3273200000000003,0.7915199999999984,2.1512600000000006,1.0692599999999999,2.2035599999999995,1.7415500000000002,1.3130600000000001,1.486530000000002,1.3012599999999992,0.8347699999999989,1.029910000000001,1.3366599999999984,2.15222,1.9009800000000006,1.6820299999999975,2.2817299999999996,1.7683500000000016,1.0320399999999985,0.8648600000000002,1.2852500000000013,1.6612399999999994,1.7082200000000007,1.8247999999999998,2.4162099999999995,0.9664999999999999,1.513349999999999,2.7202800000000007,1.0398999999999994,2.5233999999999988,1.3497000000000021,1.1022299999999987,1.9218900000000012,1.3174600000000005,0.8678299999999979,1.4226199999999984,0.9939900000000002,1.1533499999999997,0.9828399999999995,1.52271,1.3710699999999996,1.2369099999999982,2.3851799999999983,1.6093100000000007,2.41366,1.1705900000000007,1.3977600000000017,1.4131599999999978,1.33324,1.5304800000000007,1.5054900000000018,0.9301500000000011,1.3963,0.6575200000000017,1.41742,1.3958700000000022,0.6969999999999992,1.3169699999999978,0.8753600000000006,1.1314800000000034,0.92483,1.528929999999999,1.923759999999998,1.1280499999999982,1.5687800000000003,1.1372399999999985,1.450129999999998,0.8382600000000018,0.7516400000000019,1.0961999999999996,1.1696099999999987,1.1177400000000013,1.462810000000001,1.2732099999999988,1.9172599999999989,0.80837,1.4993599999999994,1.1289899999999982,1.252790000000001,0.9733599999999996,0.912860000000002,1.2627099999999984,1.7570200000000007,2.2993799999999993,2.438010000000002,1.83108,1.24221,1.27656,0.15195999999999898,2.603999999999999,1.713049999999999,1.6921099999999996,0.8915400000000027,0.7631200000000007,2.030760000000001,1.41357,2.1740600000000008,3.440340000000001,1.0112799999999993,1.2551800000000028,1.9901400000000002,2.0264699999999998,1.73292,1.3550299999999993,3.1184800000000017,2.173490000000001,1.64846,1.2927700000000009,1.8404600000000002,1.4169899999999984,3.5179399999999994,2.122779999999999,1.2669399999999982,1.4481099999999998,1.384120000000003,1.5459899999999998,2.002749999999999,1.3194199999999974,1.9359000000000002,2.91197,3.8178300000000007,2.142800000000001,0.207139999999999,1.9074899999999992,1.68478,1.7530400000000022,2.715299999999999,1.31006,1.249679999999998,0.9158499999999989,2.074469999999998,0.8218399999999981,1.2259700000000002,1.0378100000000003,0.761339999999997,1.269829999999999,2.2181099999999994,0.625,0.9203200000000002,1.4313199999999995,1.9074500000000008,1.063489999999998,1.5686399999999985,1.162469999999999,1.7246500000000005,0.8793500000000023,1.9307499999999997,2.1037300000000005,0.9129200000000033,2.03998,2.0167,1.663050000000002,0.42431999999999803,1.0686199999999992,0.8014299999999999,1.0876799999999989,1.0968300000000006,1.6512299999999982,1.6966399999999986,1.4607700000000001,0.66676,1.3671399999999991,1.5375300000000003,1.0847599999999993,1.528880000000001,1.7169299999999978,0.91019,1.04204,1.067779999999999,1.1407799999999995,0.6010500000000008,1.1626200000000004,0.8355099999999993,1.0493700000000032,2.0292199999999987,1.1827900000000007,1.3221099999999986,1.4399000000000015,0.8877600000000001,0.9392700000000005,1.392190000000003,1.2677600000000027,1.6238199999999985,1.665420000000001,0.8846999999999987,1.342880000000001,1.5538200000000018,1.440170000000002,1.100360000000002,1.414559999999998,0.920460000000002,1.5571400000000004,2.565199999999999,1.8630600000000008,1.2326499999999996,0.6292399999999994,1.182220000000001,1.4641999999999982,1.2889499999999998,0.9522900000000014,1.0081300000000013,3.04082,1.7559500000000021,1.5257000000000005,1.4767200000000003,0.876929999999998,1.7663299999999982,0.6442100000000011,0.7865899999999968,1.1037999999999997,1.2224600000000017,1.095749999999999,1.5473,1.2509600000000027,0.787309999999998,1.826979999999999,1.6549900000000015,1.7953100000000006,1.7892399999999995,1.2017200000000017,0.9210799999999999,1.7800900000000013,1.0711899999999979,1.6232100000000003,0.9791700000000034,1.72382,1.3850600000000028,1.3562699999999985,1.1599000000000004,1.5456900000000005,1.0176599999999993,1.3947499999999984,0.7574700000000014,1.5612100000000027,0.7615599999999993,1.9710999999999999,0.7951000000000015,0.2869300000000017,1.3027899999999981,0.9211200000000019,1.0665799999999983,1.5594400000000022,1.1316799999999994,0.9179899999999996,1.7758399999999988,1.8351199999999999,0.8820100000000011,0.6946699999999986,1.5111300000000014,1.6517599999999995,0.29704000000000264,2.355219999999999,1.4344199999999994,1.6524399999999986,2.1373599999999975,1.5229099999999995,1.9869699999999995,1.81203,0.7480699999999985,0.7685700000000004,1.3735099999999996,0.8219799999999999,1.5381199999999993,0.6519800000000018,0.9588999999999999,0.690769999999997,1.1503599999999992,1.1009000000000029,0.7311200000000007,1.598950000000002,0.7287199999999991,0.7019200000000012,1.3280700000000003,0.7152300000000018,1.1265900000000002,1.1346300000000014,1.6558199999999985,1.1506800000000013,1.0213300000000025,1.9320299999999975,0.3737400000000015,1.712069999999997,1.2597200000000015,1.7013299999999987,1.1909799999999997,0.9307999999999979,0.8296500000000009,0.8235099999999989,0.7348700000000008,0.8250400000000013,1.2288799999999966],\"yaxis\":\"y\",\"type\":\"scatter\"},{\"hovertemplate\":\"obj_category=Star<br>Magnitude (r)=%{x}<br>psfMag-modelMag=%{y}<extra></extra>\",\"legendgroup\":\"Star\",\"marker\":{\"color\":\"#EF553B\",\"symbol\":\"circle\"},\"mode\":\"markers\",\"name\":\"Star\",\"orientation\":\"v\",\"showlegend\":true,\"x\":[18.66618,18.92323,18.66283,17.29493,16.85397,19.58394,18.02394,17.81285,17.44127,18.25799,16.59314,19.30409,16.15499,17.27032,17.14651,18.22438,19.76021,17.56888,15.96837,16.60094,15.65948,18.62887,15.40193,18.15272,15.93657,18.62439,17.7876,19.39382,18.57459,17.18028,18.30649,16.28998,18.23251,16.97522,18.37828,18.52357,19.76492,16.93184,16.09163,17.55088,14.88439,17.55664,17.38858,20.03006,17.30691,19.27519,18.71444,16.49703,18.57779,14.88423,17.46267,18.44189,18.6799,17.9831,18.99942,19.25858,19.08883,17.47166,18.61578,17.66058,17.23877,16.65367,18.22727,18.00543,16.94914,19.33862,17.28093,18.40886,17.02481,17.55438,18.65852,17.15408,17.20202,17.5937,19.38028,18.70351,18.96965,17.41087,17.4849,18.47112,17.47939,18.84881,18.19064,16.67627,18.95454,19.59583,16.31147,16.22099,17.29404,17.74527,16.84697,20.64976,18.10622,17.72265,16.18437,19.1976,19.67086,19.72169,18.85145,16.0918,17.08069,19.08497,18.53951,19.19679,17.24502,17.68583,18.00138,17.51826,18.36762,18.20376,15.69159,18.04131,18.67989,18.84576,16.04344,17.34153,17.12752,19.5746,19.67207,17.07817,16.3819,19.21594,17.33594,18.76342,18.06394,17.03613,17.85029,17.31651,18.36822,16.82047,16.61609,16.74159,17.57543,17.24495,15.60627,17.26498,16.98978,17.78732,17.41776,18.1114,18.84388,17.507,18.83193],\"xaxis\":\"x\",\"y\":[0.008289999999998798,-0.007120000000000459,0.09281999999999968,0.008240000000000691,-0.0033600000000006958,0.01214000000000226,-0.006799999999998363,0.00543000000000049,-0.0040399999999998215,0.09205000000000041,0.013610000000003453,0.050550000000001205,-0.00730000000000075,0.035729999999997375,0.013590000000000657,0.0036799999999992394,0.017279999999999518,0.024840000000001083,0.019669999999999632,-0.0010399999999997078,0.013299999999999201,0.034020000000001716,-0.011409999999999698,0.0017400000000016291,-0.008490000000000109,-0.0035199999999981912,-0.026360000000000383,0.0156599999999969,0.003650000000000375,0.002400000000001512,-0.015390000000000015,-0.006380000000000052,0.020309999999998496,-0.009710000000001884,-0.0251000000000019,-0.017269999999999897,-0.014309999999998269,-0.04929000000000272,0.028880000000000905,-0.014939999999999287,0.05091000000000001,0.0437999999999974,0.03265000000000029,0.13201000000000107,0.016370000000001994,0.06377000000000166,0.031810000000000116,0.04540000000000077,0.021370000000001,0.02147999999999861,0.018830000000001235,0.004950000000000898,0.13810000000000144,0.01927999999999841,0.048569999999998004,-0.015359999999997598,0.06381000000000014,-0.013410000000000366,0.15487999999999857,0.13623000000000118,-0.003229999999998512,-0.016030000000000655,0.017360000000000042,0.14381999999999806,0.03193999999999875,0.018499999999999517,0.04330999999999818,-0.009650000000000603,0.011770000000002057,-0.00923999999999836,0.005660000000002441,0.023740000000000094,0.00047999999999959186,-0.00013999999999825263,0.04105000000000203,0.008099999999998886,0.018539999999998003,-0.0012599999999984846,0.010760000000001213,-0.00426999999999822,-0.005160000000000053,0.021460000000001145,0.01459000000000188,0.007250000000002643,0.0048499999999975785,0.023800000000001376,0.09378999999999849,0.19392999999999816,-0.007979999999999876,0.024569999999997094,-0.006639999999997315,0.0247099999999989,0.009540000000001214,0.0017399999999980764,-0.020870000000002165,0.1547799999999988,0.09998999999999825,0.0003700000000002035,0.01010000000000133,0.029109999999999303,0.005749999999999034,-0.011639999999999873,-0.009560000000000457,-0.002060000000000173,-0.0006799999999991257,0.014020000000002142,-0.008050000000000779,0.02343999999999724,-0.003229999999998512,0.015090000000000714,-0.013389999999999347,0.008459999999999468,0.012049999999998562,-0.004509999999999792,0.00461999999999918,-0.020479999999999166,-0.011490000000001999,-0.002880000000001104,-0.009610000000002117,0.017679999999998586,-0.004740000000001743,-0.029630000000000933,-0.014469999999999317,0.02126000000000161,0.00788000000000011,0.03310000000000102,-0.016550000000002285,0.002269999999999328,0.01296999999999926,0.03783999999999921,0.0074299999999993815,0.04168000000000305,0.03242999999999796,0.16122000000000014,0.16517999999999944,0.08458999999999861,0.004410000000000025,0.039220000000000255,0.07970999999999862,0.022449999999999193,0.03586000000000311,0.07968999999999937,0.020420000000001437],\"yaxis\":\"y\",\"type\":\"scatter\"}],                        {\"template\":{\"data\":{\"histogram2dcontour\":[{\"type\":\"histogram2dcontour\",\"colorbar\":{\"outlinewidth\":0,\"ticks\":\"\"},\"colorscale\":[[0.0,\"#0d0887\"],[0.1111111111111111,\"#46039f\"],[0.2222222222222222,\"#7201a8\"],[0.3333333333333333,\"#9c179e\"],[0.4444444444444444,\"#bd3786\"],[0.5555555555555556,\"#d8576b\"],[0.6666666666666666,\"#ed7953\"],[0.7777777777777778,\"#fb9f3a\"],[0.8888888888888888,\"#fdca26\"],[1.0,\"#f0f921\"]]}],\"choropleth\":[{\"type\":\"choropleth\",\"colorbar\":{\"outlinewidth\":0,\"ticks\":\"\"}}],\"histogram2d\":[{\"type\":\"histogram2d\",\"colorbar\":{\"outlinewidth\":0,\"ticks\":\"\"},\"colorscale\":[[0.0,\"#0d0887\"],[0.1111111111111111,\"#46039f\"],[0.2222222222222222,\"#7201a8\"],[0.3333333333333333,\"#9c179e\"],[0.4444444444444444,\"#bd3786\"],[0.5555555555555556,\"#d8576b\"],[0.6666666666666666,\"#ed7953\"],[0.7777777777777778,\"#fb9f3a\"],[0.8888888888888888,\"#fdca26\"],[1.0,\"#f0f921\"]]}],\"heatmap\":[{\"type\":\"heatmap\",\"colorbar\":{\"outlinewidth\":0,\"ticks\":\"\"},\"colorscale\":[[0.0,\"#0d0887\"],[0.1111111111111111,\"#46039f\"],[0.2222222222222222,\"#7201a8\"],[0.3333333333333333,\"#9c179e\"],[0.4444444444444444,\"#bd3786\"],[0.5555555555555556,\"#d8576b\"],[0.6666666666666666,\"#ed7953\"],[0.7777777777777778,\"#fb9f3a\"],[0.8888888888888888,\"#fdca26\"],[1.0,\"#f0f921\"]]}],\"heatmapgl\":[{\"type\":\"heatmapgl\",\"colorbar\":{\"outlinewidth\":0,\"ticks\":\"\"},\"colorscale\":[[0.0,\"#0d0887\"],[0.1111111111111111,\"#46039f\"],[0.2222222222222222,\"#7201a8\"],[0.3333333333333333,\"#9c179e\"],[0.4444444444444444,\"#bd3786\"],[0.5555555555555556,\"#d8576b\"],[0.6666666666666666,\"#ed7953\"],[0.7777777777777778,\"#fb9f3a\"],[0.8888888888888888,\"#fdca26\"],[1.0,\"#f0f921\"]]}],\"contourcarpet\":[{\"type\":\"contourcarpet\",\"colorbar\":{\"outlinewidth\":0,\"ticks\":\"\"}}],\"contour\":[{\"type\":\"contour\",\"colorbar\":{\"outlinewidth\":0,\"ticks\":\"\"},\"colorscale\":[[0.0,\"#0d0887\"],[0.1111111111111111,\"#46039f\"],[0.2222222222222222,\"#7201a8\"],[0.3333333333333333,\"#9c179e\"],[0.4444444444444444,\"#bd3786\"],[0.5555555555555556,\"#d8576b\"],[0.6666666666666666,\"#ed7953\"],[0.7777777777777778,\"#fb9f3a\"],[0.8888888888888888,\"#fdca26\"],[1.0,\"#f0f921\"]]}],\"surface\":[{\"type\":\"surface\",\"colorbar\":{\"outlinewidth\":0,\"ticks\":\"\"},\"colorscale\":[[0.0,\"#0d0887\"],[0.1111111111111111,\"#46039f\"],[0.2222222222222222,\"#7201a8\"],[0.3333333333333333,\"#9c179e\"],[0.4444444444444444,\"#bd3786\"],[0.5555555555555556,\"#d8576b\"],[0.6666666666666666,\"#ed7953\"],[0.7777777777777778,\"#fb9f3a\"],[0.8888888888888888,\"#fdca26\"],[1.0,\"#f0f921\"]]}],\"mesh3d\":[{\"type\":\"mesh3d\",\"colorbar\":{\"outlinewidth\":0,\"ticks\":\"\"}}],\"scatter\":[{\"fillpattern\":{\"fillmode\":\"overlay\",\"size\":10,\"solidity\":0.2},\"type\":\"scatter\"}],\"parcoords\":[{\"type\":\"parcoords\",\"line\":{\"colorbar\":{\"outlinewidth\":0,\"ticks\":\"\"}}}],\"scatterpolargl\":[{\"type\":\"scatterpolargl\",\"marker\":{\"colorbar\":{\"outlinewidth\":0,\"ticks\":\"\"}}}],\"bar\":[{\"error_x\":{\"color\":\"#2a3f5f\"},\"error_y\":{\"color\":\"#2a3f5f\"},\"marker\":{\"line\":{\"color\":\"#E5ECF6\",\"width\":0.5},\"pattern\":{\"fillmode\":\"overlay\",\"size\":10,\"solidity\":0.2}},\"type\":\"bar\"}],\"scattergeo\":[{\"type\":\"scattergeo\",\"marker\":{\"colorbar\":{\"outlinewidth\":0,\"ticks\":\"\"}}}],\"scatterpolar\":[{\"type\":\"scatterpolar\",\"marker\":{\"colorbar\":{\"outlinewidth\":0,\"ticks\":\"\"}}}],\"histogram\":[{\"marker\":{\"pattern\":{\"fillmode\":\"overlay\",\"size\":10,\"solidity\":0.2}},\"type\":\"histogram\"}],\"scattergl\":[{\"type\":\"scattergl\",\"marker\":{\"colorbar\":{\"outlinewidth\":0,\"ticks\":\"\"}}}],\"scatter3d\":[{\"type\":\"scatter3d\",\"line\":{\"colorbar\":{\"outlinewidth\":0,\"ticks\":\"\"}},\"marker\":{\"colorbar\":{\"outlinewidth\":0,\"ticks\":\"\"}}}],\"scattermapbox\":[{\"type\":\"scattermapbox\",\"marker\":{\"colorbar\":{\"outlinewidth\":0,\"ticks\":\"\"}}}],\"scatterternary\":[{\"type\":\"scatterternary\",\"marker\":{\"colorbar\":{\"outlinewidth\":0,\"ticks\":\"\"}}}],\"scattercarpet\":[{\"type\":\"scattercarpet\",\"marker\":{\"colorbar\":{\"outlinewidth\":0,\"ticks\":\"\"}}}],\"carpet\":[{\"aaxis\":{\"endlinecolor\":\"#2a3f5f\",\"gridcolor\":\"white\",\"linecolor\":\"white\",\"minorgridcolor\":\"white\",\"startlinecolor\":\"#2a3f5f\"},\"baxis\":{\"endlinecolor\":\"#2a3f5f\",\"gridcolor\":\"white\",\"linecolor\":\"white\",\"minorgridcolor\":\"white\",\"startlinecolor\":\"#2a3f5f\"},\"type\":\"carpet\"}],\"table\":[{\"cells\":{\"fill\":{\"color\":\"#EBF0F8\"},\"line\":{\"color\":\"white\"}},\"header\":{\"fill\":{\"color\":\"#C8D4E3\"},\"line\":{\"color\":\"white\"}},\"type\":\"table\"}],\"barpolar\":[{\"marker\":{\"line\":{\"color\":\"#E5ECF6\",\"width\":0.5},\"pattern\":{\"fillmode\":\"overlay\",\"size\":10,\"solidity\":0.2}},\"type\":\"barpolar\"}],\"pie\":[{\"automargin\":true,\"type\":\"pie\"}]},\"layout\":{\"autotypenumbers\":\"strict\",\"colorway\":[\"#636efa\",\"#EF553B\",\"#00cc96\",\"#ab63fa\",\"#FFA15A\",\"#19d3f3\",\"#FF6692\",\"#B6E880\",\"#FF97FF\",\"#FECB52\"],\"font\":{\"color\":\"#2a3f5f\"},\"hovermode\":\"closest\",\"hoverlabel\":{\"align\":\"left\"},\"paper_bgcolor\":\"white\",\"plot_bgcolor\":\"#E5ECF6\",\"polar\":{\"bgcolor\":\"#E5ECF6\",\"angularaxis\":{\"gridcolor\":\"white\",\"linecolor\":\"white\",\"ticks\":\"\"},\"radialaxis\":{\"gridcolor\":\"white\",\"linecolor\":\"white\",\"ticks\":\"\"}},\"ternary\":{\"bgcolor\":\"#E5ECF6\",\"aaxis\":{\"gridcolor\":\"white\",\"linecolor\":\"white\",\"ticks\":\"\"},\"baxis\":{\"gridcolor\":\"white\",\"linecolor\":\"white\",\"ticks\":\"\"},\"caxis\":{\"gridcolor\":\"white\",\"linecolor\":\"white\",\"ticks\":\"\"}},\"coloraxis\":{\"colorbar\":{\"outlinewidth\":0,\"ticks\":\"\"}},\"colorscale\":{\"sequential\":[[0.0,\"#0d0887\"],[0.1111111111111111,\"#46039f\"],[0.2222222222222222,\"#7201a8\"],[0.3333333333333333,\"#9c179e\"],[0.4444444444444444,\"#bd3786\"],[0.5555555555555556,\"#d8576b\"],[0.6666666666666666,\"#ed7953\"],[0.7777777777777778,\"#fb9f3a\"],[0.8888888888888888,\"#fdca26\"],[1.0,\"#f0f921\"]],\"sequentialminus\":[[0.0,\"#0d0887\"],[0.1111111111111111,\"#46039f\"],[0.2222222222222222,\"#7201a8\"],[0.3333333333333333,\"#9c179e\"],[0.4444444444444444,\"#bd3786\"],[0.5555555555555556,\"#d8576b\"],[0.6666666666666666,\"#ed7953\"],[0.7777777777777778,\"#fb9f3a\"],[0.8888888888888888,\"#fdca26\"],[1.0,\"#f0f921\"]],\"diverging\":[[0,\"#8e0152\"],[0.1,\"#c51b7d\"],[0.2,\"#de77ae\"],[0.3,\"#f1b6da\"],[0.4,\"#fde0ef\"],[0.5,\"#f7f7f7\"],[0.6,\"#e6f5d0\"],[0.7,\"#b8e186\"],[0.8,\"#7fbc41\"],[0.9,\"#4d9221\"],[1,\"#276419\"]]},\"xaxis\":{\"gridcolor\":\"white\",\"linecolor\":\"white\",\"ticks\":\"\",\"title\":{\"standoff\":15},\"zerolinecolor\":\"white\",\"automargin\":true,\"zerolinewidth\":2},\"yaxis\":{\"gridcolor\":\"white\",\"linecolor\":\"white\",\"ticks\":\"\",\"title\":{\"standoff\":15},\"zerolinecolor\":\"white\",\"automargin\":true,\"zerolinewidth\":2},\"scene\":{\"xaxis\":{\"backgroundcolor\":\"#E5ECF6\",\"gridcolor\":\"white\",\"linecolor\":\"white\",\"showbackground\":true,\"ticks\":\"\",\"zerolinecolor\":\"white\",\"gridwidth\":2},\"yaxis\":{\"backgroundcolor\":\"#E5ECF6\",\"gridcolor\":\"white\",\"linecolor\":\"white\",\"showbackground\":true,\"ticks\":\"\",\"zerolinecolor\":\"white\",\"gridwidth\":2},\"zaxis\":{\"backgroundcolor\":\"#E5ECF6\",\"gridcolor\":\"white\",\"linecolor\":\"white\",\"showbackground\":true,\"ticks\":\"\",\"zerolinecolor\":\"white\",\"gridwidth\":2}},\"shapedefaults\":{\"line\":{\"color\":\"#2a3f5f\"}},\"annotationdefaults\":{\"arrowcolor\":\"#2a3f5f\",\"arrowhead\":0,\"arrowwidth\":1},\"geo\":{\"bgcolor\":\"white\",\"landcolor\":\"#E5ECF6\",\"subunitcolor\":\"white\",\"showland\":true,\"showlakes\":true,\"lakecolor\":\"white\"},\"title\":{\"x\":0.05},\"mapbox\":{\"style\":\"light\"}}},\"xaxis\":{\"anchor\":\"y\",\"domain\":[0.0,1.0],\"title\":{\"text\":\"Magnitude (r)\"}},\"yaxis\":{\"anchor\":\"x\",\"domain\":[0.0,1.0],\"title\":{\"text\":\"psfMag-modelMag\"}},\"legend\":{\"title\":{\"text\":\"obj_category\"},\"tracegroupgap\":0},\"title\":{\"text\":\"Difference between the point-spread function magnitude (psfMag) and <br>the model magnitude (modelMag) as a function of magnitude\"}},                        {\"responsive\": true}                    ).then(function(){\n",
       "                            \n",
       "var gd = document.getElementById('178541c7-83e9-4f2d-a8ca-c5f19b574d96');\n",
       "var x = new MutationObserver(function (mutations, observer) {{\n",
       "        var display = window.getComputedStyle(gd).display;\n",
       "        if (!display || display === 'none') {{\n",
       "            console.log([gd, 'removed!']);\n",
       "            Plotly.purge(gd);\n",
       "            observer.disconnect();\n",
       "        }}\n",
       "}});\n",
       "\n",
       "// Listen for the removal of the full notebook cells\n",
       "var notebookContainer = gd.closest('#notebook-container');\n",
       "if (notebookContainer) {{\n",
       "    x.observe(notebookContainer, {childList: true});\n",
       "}}\n",
       "\n",
       "// Listen for the clearing of the current output cell\n",
       "var outputEl = gd.closest('.output');\n",
       "if (outputEl) {{\n",
       "    x.observe(outputEl, {childList: true});\n",
       "}}\n",
       "\n",
       "                        })                };                });            </script>        </div>"
      ]
     },
     "metadata": {},
     "output_type": "display_data"
    }
   ],
   "source": [
    "train_ps.plot.scatter(x='modelMag_r', y=\"psfModelDiff\", color=\"obj_category\",\n",
    "                      title=\"Difference between the point-spread function magnitude (psfMag) and <br>the model magnitude (modelMag) as a function of magnitude\",\n",
    "                     labels=dict(modelMag_r=\"Magnitude (r)\", psfModelDiff=\"psfMag-modelMag\"))"
   ]
  },
  {
   "cell_type": "markdown",
   "id": "e2caea67-3a1b-4bb9-a37f-a186d72ef819",
   "metadata": {},
   "source": [
    "## Modeling"
   ]
  },
  {
   "cell_type": "markdown",
   "id": "aeed1ec0-9887-41d5-bc26-e3b3dce4e4f0",
   "metadata": {},
   "source": [
    "#### Set up transformations"
   ]
  },
  {
   "cell_type": "code",
   "execution_count": 38,
   "id": "63e9a8a4-fe20-4cb2-85be-b05bc29269c4",
   "metadata": {},
   "outputs": [],
   "source": [
    "from pyspark.ml.feature import SQLTransformer\n",
    "\n",
    "sqlTrans = SQLTransformer(\n",
    "    statement = \"SELECT psfMag_r, modelMag_r, petroMag_r, fiberMag_r, \\\n",
    "                        petroRad_r, petroR50_r, petroR90_r, lnLStar_r, \\\n",
    "                        lnLExp_r, lnLDeV_r, mE1_r, mE2_r, mRrCc_r, \\\n",
    "                        type as label FROM __THIS__\"\n",
    ")"
   ]
  },
  {
   "cell_type": "code",
   "execution_count": 39,
   "id": "3bfad018-6647-4a3c-adfc-24590b777542",
   "metadata": {},
   "outputs": [
    {
     "data": {
      "text/plain": [
       "['psfMag_r',\n",
       " 'modelMag_r',\n",
       " 'petroMag_r',\n",
       " 'fiberMag_r',\n",
       " 'petroRad_r',\n",
       " 'petroR50_r',\n",
       " 'petroR90_r',\n",
       " 'lnLStar_r',\n",
       " 'lnLExp_r',\n",
       " 'lnLDeV_r',\n",
       " 'mE1_r',\n",
       " 'mE2_r',\n",
       " 'mRrCc_r']"
      ]
     },
     "execution_count": 39,
     "metadata": {},
     "output_type": "execute_result"
    }
   ],
   "source": [
    "# Create our list of features by dropping unused columns\n",
    "features_list = sqlTrans.transform(train).drop(\"label\").columns\n",
    "features_list"
   ]
  },
  {
   "cell_type": "code",
   "execution_count": 40,
   "id": "03d6b347-9711-43cd-88f7-e6ef80413faa",
   "metadata": {},
   "outputs": [],
   "source": [
    "from pyspark.ml.feature import VectorAssembler, StandardScaler\n",
    "\n",
    "assembler = VectorAssembler(inputCols=features_list, outputCol=\"features\")\n",
    "\n",
    "#scaler = StandardScaler(inputCol=\"unscaledFeatures\", outputCol=\"features\")"
   ]
  },
  {
   "cell_type": "code",
   "execution_count": 42,
   "id": "5271121c-efd8-4b3c-a82f-9bdd208db6ca",
   "metadata": {},
   "outputs": [],
   "source": [
    "from pyspark.ml import Pipeline\n",
    "\n",
    "pipeline = Pipeline(stages = [sqlTrans, assembler, rfc])"
   ]
  },
  {
   "cell_type": "markdown",
   "id": "320f296d-0921-41e0-b3a3-30b0893ae90e",
   "metadata": {},
   "source": [
    "### Logistic regression"
   ]
  },
  {
   "cell_type": "code",
   "execution_count": null,
   "id": "2b34ce27-8db5-4144-b7f9-1596e3cd443d",
   "metadata": {},
   "outputs": [],
   "source": []
  },
  {
   "cell_type": "code",
   "execution_count": 3,
   "id": "6ced62c6-4bba-4c47-940e-d07f93a5ce5d",
   "metadata": {},
   "outputs": [],
   "source": [
    "from pyspark.ml.classification import LogisticRegression"
   ]
  },
  {
   "cell_type": "code",
   "execution_count": 4,
   "id": "bbba48f3-989f-4635-acbf-fdf33507859d",
   "metadata": {},
   "outputs": [],
   "source": [
    "lr = LogisticRegression()"
   ]
  },
  {
   "cell_type": "markdown",
   "id": "3881bc72-ff7f-42c1-a62f-7999c6bf8bf1",
   "metadata": {},
   "source": [
    "The list of available logistic regression attributes in PySpark is available [here](https://spark.apache.org/docs/latest/api/python/reference/api/pyspark.ml.classification.LogisticRegression.html#pyspark.ml.classification.LogisticRegression.aggregationDepth)."
   ]
  },
  {
   "cell_type": "code",
   "execution_count": null,
   "id": "f2b0d395-d3a6-44db-afef-b5db4a0c7fb3",
   "metadata": {},
   "outputs": [],
   "source": [
    "from pyspark.ml.tuning import CrossValidator, ParamGridBuilder\n",
    "from pyspark.ml.evaluation import BinaryClassificationEvaluator, MulticlassClassificationEvaluator\n",
    "\n",
    "\n",
    "lrParamGrid = (ParamGridBuilder()\n",
    "             .addGrid(lr.regParam, np.arange(0, .1, .01))\n",
    "             .addGrid(lr.elasticNetParam, [0, 1])\n",
    "             .build())\n",
    "\n",
    "lrCrossVal = CrossValidator(estimator = pipeline,\n",
    "                          estimatorParamMaps = rfcParamGrid,\n",
    "                          evaluator = MulticlassClassificationEvaluator(),\n",
    "                          numFolds = 3)"
   ]
  },
  {
   "cell_type": "code",
   "execution_count": null,
   "id": "8203083c-ea4f-46ae-b04d-24933dd492a9",
   "metadata": {},
   "outputs": [],
   "source": []
  },
  {
   "cell_type": "markdown",
   "id": "c9f900d6-9720-4003-bd78-13c014574f58",
   "metadata": {},
   "source": [
    "### Random forest classifier"
   ]
  },
  {
   "cell_type": "code",
   "execution_count": 41,
   "id": "712b4397-75fa-4d74-86c8-0ef1b075e9d2",
   "metadata": {},
   "outputs": [],
   "source": [
    "from pyspark.ml.classification import RandomForestClassifier\n",
    "\n",
    "rfc = RandomForestClassifier(labelCol=\"label\", featuresCol=\"features\")"
   ]
  },
  {
   "cell_type": "markdown",
   "id": "4607de70-0652-4446-9978-981e74c13d3d",
   "metadata": {},
   "source": [
    "Finally, we can set up a pipeline."
   ]
  },
  {
   "cell_type": "markdown",
   "id": "b2a25947-b932-45f8-a888-3aa6df95c8c2",
   "metadata": {},
   "source": [
    "We can then set up cross-validation."
   ]
  },
  {
   "cell_type": "code",
   "execution_count": 48,
   "id": "d91aeaf1-bfb6-448f-ac80-245ac698f8f7",
   "metadata": {},
   "outputs": [],
   "source": [
    "from pyspark.ml.tuning import CrossValidator, ParamGridBuilder\n",
    "from pyspark.ml.evaluation import BinaryClassificationEvaluator, MulticlassClassificationEvaluator\n",
    "\n",
    "\n",
    "rfcParamGrid = (ParamGridBuilder()\n",
    "             .addGrid(rfc.maxDepth, [0, 10, 20, 30])\n",
    "             .addGrid(rfc.numTrees, [5, 10, 20, 30, 40])\n",
    "             .build())\n",
    "\n",
    "crossVal = CrossValidator(estimator = pipeline,\n",
    "                          estimatorParamMaps = rfcParamGrid,\n",
    "                          evaluator = MulticlassClassificationEvaluator(),\n",
    "                          numFolds = 3)"
   ]
  },
  {
   "cell_type": "code",
   "execution_count": 49,
   "id": "59d25a0c-e0c0-47f7-aa2d-7197c691f94c",
   "metadata": {},
   "outputs": [
    {
     "name": "stderr",
     "output_type": "stream",
     "text": [
      "                                                                                \r"
     ]
    }
   ],
   "source": [
    "# Run cross-validation, and choose the best set of parameters\n",
    "\n",
    "cvModel = crossVal.fit(train)"
   ]
  },
  {
   "cell_type": "code",
   "execution_count": 52,
   "id": "9034ca34-5b15-4d59-819a-a6e0beec8cf8",
   "metadata": {},
   "outputs": [],
   "source": [
    "rfcPredictions = cvModel.transform(test)"
   ]
  },
  {
   "cell_type": "code",
   "execution_count": 59,
   "id": "6769ae1a-f6db-4bdd-9a0d-ebe35d1c6312",
   "metadata": {},
   "outputs": [
    {
     "name": "stdout",
     "output_type": "stream",
     "text": [
      "Accuracy: 0.9960181108638269\n"
     ]
    }
   ],
   "source": [
    "print('Accuracy:', MulticlassClassificationEvaluator().evaluate(rfcPredictions))"
   ]
  },
  {
   "cell_type": "code",
   "execution_count": 60,
   "id": "80bae3ca-8737-4bf0-b16b-e393d2e5224b",
   "metadata": {},
   "outputs": [
    {
     "name": "stderr",
     "output_type": "stream",
     "text": [
      "                                                                                \r"
     ]
    },
    {
     "name": "stdout",
     "output_type": "stream",
     "text": [
      "Confusion Matrix:\n",
      "[[15603    24]\n",
      " [   45  1703]]\n"
     ]
    }
   ],
   "source": [
    "from sklearn.metrics import confusion_matrix\n",
    "\n",
    "y_pred=rfcPredictions.select(\"prediction\").collect()\n",
    "y_orig=rfcPredictions.select(\"label\").collect()\n",
    "\n",
    "cm = confusion_matrix(y_orig, y_pred)\n",
    "print(\"Confusion Matrix:\")\n",
    "print(cm)"
   ]
  },
  {
   "cell_type": "code",
   "execution_count": null,
   "id": "4f1c288d-e5bf-4c9c-a672-37e8e32c6abe",
   "metadata": {},
   "outputs": [],
   "source": []
  },
  {
   "cell_type": "code",
   "execution_count": 24,
   "id": "ab9d1d60-a111-44bc-957f-ecc3d9ee1330",
   "metadata": {},
   "outputs": [],
   "source": [
    "from pyspark.ml.classification import LogisticRegression\n",
    "\n",
    "lr = LogisticRegression()\n",
    "grid_lr = ParamGridBuilder().addGrid(lr.maxIter, [0, 1]).build()\n",
    "evaluator_lr = MulticlassClassificationEvaluator()"
   ]
  },
  {
   "cell_type": "code",
   "execution_count": 26,
   "id": "c778ce5e-23c0-4675-a671-0464f0946e0a",
   "metadata": {},
   "outputs": [],
   "source": [
    "pipeline_lr = Pipeline(stages = [sqlTrans, assembler, lr])"
   ]
  },
  {
   "cell_type": "code",
   "execution_count": 27,
   "id": "d43b0ec4-3b50-4b00-b889-0e7083e44b97",
   "metadata": {},
   "outputs": [
    {
     "name": "stderr",
     "output_type": "stream",
     "text": [
      "22/04/25 22:02:24 WARN CacheManager: Asked to cache already cached data.\n",
      "22/04/25 22:02:24 WARN CacheManager: Asked to cache already cached data.\n",
      "                                                                                \r"
     ]
    }
   ],
   "source": [
    "cv = CrossValidator(estimator=pipeline_lr, estimatorParamMaps=grid_lr, evaluator=evaluator_lr,\n",
    "    parallelism=2)\n",
    "cvModel_lr = cv.fit(train)"
   ]
  },
  {
   "cell_type": "code",
   "execution_count": 28,
   "id": "4365ac46-7991-4aa1-896b-fe968560d4f5",
   "metadata": {},
   "outputs": [
    {
     "name": "stderr",
     "output_type": "stream",
     "text": [
      "[Stage 461:>                                                        (0 + 8) / 8]\r"
     ]
    },
    {
     "name": "stdout",
     "output_type": "stream",
     "text": [
      "0.940197424404984\n"
     ]
    },
    {
     "name": "stderr",
     "output_type": "stream",
     "text": [
      "                                                                                \r"
     ]
    }
   ],
   "source": [
    "test_error = MulticlassClassificationEvaluator().evaluate(cvModel_lr.transform(test))\n",
    "print(test_error)"
   ]
  },
  {
   "cell_type": "code",
   "execution_count": null,
   "id": "e0f5fb5a-ef4c-4917-a622-7af7a28585bc",
   "metadata": {},
   "outputs": [],
   "source": []
  },
  {
   "cell_type": "code",
   "execution_count": null,
   "id": "75065a5a-a391-47bb-8107-bf0901d37a81",
   "metadata": {},
   "outputs": [],
   "source": []
  },
  {
   "cell_type": "code",
   "execution_count": 49,
   "id": "3d8959e7-7a79-45a4-b670-284e1895a743",
   "metadata": {},
   "outputs": [
    {
     "name": "stdout",
     "output_type": "stream",
     "text": [
      "Prediction Accuracy:  0.9951260086324447\n"
     ]
    }
   ],
   "source": [
    "from pyspark.ml.evaluation import MulticlassClassificationEvaluator\n",
    "\n",
    "evaluator=MulticlassClassificationEvaluator(predictionCol=\"prediction\")\n",
    "acc = evaluator.evaluate(pred)\n",
    "print(\"Prediction Accuracy: \", acc)"
   ]
  },
  {
   "cell_type": "code",
   "execution_count": 60,
   "id": "b0ebf167-40d2-4fd7-bdd2-759d6352e2ee",
   "metadata": {},
   "outputs": [],
   "source": [
    "faint_mag = pred.filter((pred.modelMag_r >= 20.5) & (pred.modelMag_r <= 21))"
   ]
  },
  {
   "cell_type": "code",
   "execution_count": 61,
   "id": "506c752d-0a7a-4c52-8c80-6a5f29e3e432",
   "metadata": {},
   "outputs": [
    {
     "name": "stdout",
     "output_type": "stream",
     "text": [
      "Prediction Accuracy:  0.9223043524303716\n"
     ]
    }
   ],
   "source": [
    "acc_faint = evaluator.evaluate(faint_mag)\n",
    "print(\"Prediction Accuracy: \", acc_faint)"
   ]
  },
  {
   "cell_type": "code",
   "execution_count": 9,
   "id": "69eab3b0-5606-40fd-93a6-6abc18ca8dfc",
   "metadata": {},
   "outputs": [
    {
     "ename": "NameError",
     "evalue": "name 'pred' is not defined",
     "output_type": "error",
     "traceback": [
      "\u001b[1;31m---------------------------------------------------------------------------\u001b[0m",
      "\u001b[1;31mNameError\u001b[0m                                 Traceback (most recent call last)",
      "Input \u001b[1;32mIn [9]\u001b[0m, in \u001b[0;36m<cell line: 9>\u001b[1;34m()\u001b[0m\n\u001b[0;32m      1\u001b[0m \u001b[38;5;28;01mfrom\u001b[39;00m \u001b[38;5;21;01mpyspark\u001b[39;00m\u001b[38;5;21;01m.\u001b[39;00m\u001b[38;5;21;01mml\u001b[39;00m\u001b[38;5;21;01m.\u001b[39;00m\u001b[38;5;21;01mevaluation\u001b[39;00m \u001b[38;5;28;01mimport\u001b[39;00m BinaryClassificationEvaluator\n\u001b[0;32m      3\u001b[0m evaluator \u001b[38;5;241m=\u001b[39m BinaryClassificationEvaluator(\n\u001b[0;32m      4\u001b[0m     labelCol\u001b[38;5;241m=\u001b[39m\u001b[38;5;124m\"\u001b[39m\u001b[38;5;124mlabel\u001b[39m\u001b[38;5;124m\"\u001b[39m,                     \n\u001b[0;32m      5\u001b[0m     rawPredictionCol\u001b[38;5;241m=\u001b[39m\u001b[38;5;124m\"\u001b[39m\u001b[38;5;124mprediction\u001b[39m\u001b[38;5;124m\"\u001b[39m,       \n\u001b[0;32m      6\u001b[0m     metricName\u001b[38;5;241m=\u001b[39m\u001b[38;5;124m\"\u001b[39m\u001b[38;5;124mareaUnderROC\u001b[39m\u001b[38;5;124m\"\u001b[39m,\n\u001b[0;32m      7\u001b[0m )\n\u001b[1;32m----> 9\u001b[0m accuracy \u001b[38;5;241m=\u001b[39m evaluator\u001b[38;5;241m.\u001b[39mevaluate(\u001b[43mpred\u001b[49m)\n\u001b[0;32m     10\u001b[0m \u001b[38;5;28mprint\u001b[39m(\u001b[38;5;124mf\u001b[39m\u001b[38;5;124m\"\u001b[39m\u001b[38;5;124mArea under ROC = \u001b[39m\u001b[38;5;132;01m{\u001b[39;00maccuracy\u001b[38;5;132;01m}\u001b[39;00m\u001b[38;5;124m \u001b[39m\u001b[38;5;124m\"\u001b[39m)\n",
      "\u001b[1;31mNameError\u001b[0m: name 'pred' is not defined"
     ]
    }
   ],
   "source": [
    "from pyspark.ml.evaluation import BinaryClassificationEvaluator\n",
    " \n",
    "evaluator = BinaryClassificationEvaluator(\n",
    "    labelCol=\"label\",                     \n",
    "    rawPredictionCol=\"prediction\",       \n",
    "    metricName=\"areaUnderROC\",\n",
    ")\n",
    " \n",
    "accuracy = evaluator.evaluate(pred)\n",
    "print(f\"Area under ROC = {accuracy} \")"
   ]
  },
  {
   "cell_type": "markdown",
   "id": "2bb29eac-28bf-4adb-b1b6-2530e9c52484",
   "metadata": {},
   "source": [
    "## Decision tree"
   ]
  },
  {
   "cell_type": "code",
   "execution_count": 61,
   "id": "e18e1ab9-7ecb-4b75-a0c7-c7a9aee673c3",
   "metadata": {},
   "outputs": [],
   "source": [
    "from pyspark.ml.classification import DecisionTreeClassifier\n",
    "\n",
    "dtClassifier = DecisionTreeClassifier()\n",
    "\n",
    "dtPipeline = Pipeline().setStages([sqlTrans, assembler, dtClassifier])"
   ]
  },
  {
   "cell_type": "code",
   "execution_count": 62,
   "id": "e44ef681-b2a9-4dde-ac13-1ae1a68e5904",
   "metadata": {},
   "outputs": [],
   "source": [
    "dtParamGrid = (ParamGridBuilder()\n",
    "             .addGrid(dtClassifier.maxDepth, [0, 5, 10, 20]) \\\n",
    "             .build())\n",
    "\n",
    "dtCrossVal = CrossValidator(estimator = dtPipeline,\n",
    "                          estimatorParamMaps = dtParamGrid,\n",
    "                          evaluator = MulticlassClassificationEvaluator(),\n",
    "                          numFolds = 3)"
   ]
  },
  {
   "cell_type": "code",
   "execution_count": 63,
   "id": "843ac385-fc6d-4155-b414-b4adfcae503d",
   "metadata": {},
   "outputs": [
    {
     "name": "stderr",
     "output_type": "stream",
     "text": [
      "                                                                                \r"
     ]
    }
   ],
   "source": [
    "# Run cross-validation, and choose the best set of parameters\n",
    "\n",
    "dtCVModel = dtCrossVal.fit(train)"
   ]
  },
  {
   "cell_type": "code",
   "execution_count": 64,
   "id": "6c005660-12ac-4245-bf6b-4b92cef8d804",
   "metadata": {},
   "outputs": [],
   "source": [
    "dtPredictions = dtCVModel.transform(test)"
   ]
  },
  {
   "cell_type": "code",
   "execution_count": 65,
   "id": "f9294eca-450b-4b99-b818-d6b6ee921670",
   "metadata": {},
   "outputs": [
    {
     "name": "stdout",
     "output_type": "stream",
     "text": [
      "Accuracy: 0.9937226278921604\n"
     ]
    }
   ],
   "source": [
    "print('Accuracy:', MulticlassClassificationEvaluator().evaluate(dtPredictions))"
   ]
  },
  {
   "cell_type": "markdown",
   "id": "90db3cd2-04c9-4178-bfb0-5a5be9e2cf76",
   "metadata": {},
   "source": [
    "### Gradient-boosted trees"
   ]
  },
  {
   "cell_type": "code",
   "execution_count": 81,
   "id": "d0604c70-605c-47a9-aaa9-4c023c438b7d",
   "metadata": {},
   "outputs": [],
   "source": [
    "from pyspark.ml.feature import StringIndexer\n",
    "from pyspark.ml.classification import GBTClassifier\n",
    "\n",
    "stringIndexer = StringIndexer(inputCol=\"type\",\n",
    "                               outputCol=\"label\",\n",
    "                               handleInvalid=\"skip\" )\n",
    "\n",
    "gbtSQLTrans = SQLTransformer(\n",
    "    statement = \"SELECT psfMag_r, modelMag_r, petroMag_r, fiberMag_r, \\\n",
    "                        petroRad_r, petroR50_r, petroR90_r, lnLStar_r, \\\n",
    "                        lnLExp_r, lnLDeV_r, mE1_r, mE2_r, mRrCc_r, \\\n",
    "                        label FROM __THIS__\"\n",
    ")\n",
    "\n",
    "gbtClassifier = GBTClassifier()\n",
    "\n",
    "gbtPipeline = Pipeline().setStages([stringIndexer, gbtSQLTrans, assembler, gbt])"
   ]
  },
  {
   "cell_type": "code",
   "execution_count": 82,
   "id": "13adbca6-275f-47fb-bbfd-ac4586286dca",
   "metadata": {},
   "outputs": [],
   "source": [
    "gbtParamGrid = (ParamGridBuilder()\n",
    "             .addGrid(gbtClassifier.maxDepth, [0, 5, 10, 20]) \\\n",
    "             .build())\n",
    "\n",
    "gbtCrossVal = CrossValidator(estimator = gbtPipeline,\n",
    "                          estimatorParamMaps = gbtParamGrid,\n",
    "                          evaluator = MulticlassClassificationEvaluator(),\n",
    "                          numFolds = 3)"
   ]
  },
  {
   "cell_type": "code",
   "execution_count": 83,
   "id": "4d83d8e7-7554-4753-93d5-30aceeb8f201",
   "metadata": {},
   "outputs": [
    {
     "name": "stderr",
     "output_type": "stream",
     "text": [
      "                                                                                \r"
     ]
    }
   ],
   "source": [
    "gbtCVModel = gbtCrossVal.fit(train)"
   ]
  },
  {
   "cell_type": "code",
   "execution_count": 84,
   "id": "22addcac-e090-4a6c-acc1-18a27682d54a",
   "metadata": {},
   "outputs": [],
   "source": [
    "gbtPredictions = gbtCVModel.transform(test)"
   ]
  },
  {
   "cell_type": "code",
   "execution_count": 88,
   "id": "f6dd55a0-bcce-4d8d-b332-42927679bf46",
   "metadata": {},
   "outputs": [
    {
     "name": "stdout",
     "output_type": "stream",
     "text": [
      "+--------+----------+----------+----------+----------+----------+----------+---------+----------+----------+----------+-----------+--------+-----+--------------------+--------------------+--------------------+----------+\n",
      "|psfMag_r|modelMag_r|petroMag_r|fiberMag_r|petroRad_r|petroR50_r|petroR90_r|lnLStar_r|  lnLExp_r|  lnLDeV_r|     mE1_r|      mE2_r| mRrCc_r|label|            features|       rawPrediction|         probability|prediction|\n",
      "+--------+----------+----------+----------+----------+----------+----------+---------+----------+----------+----------+-----------+--------+-----+--------------------+--------------------+--------------------+----------+\n",
      "|18.70511|  16.89667|  16.91058|  18.57298|  5.902012|  2.750115|  5.684737|-11593.78| -422.4577| -1034.826| -0.305131| -0.1242297|51.97928|  0.0|[18.70511,16.8966...|[1.54261756354760...|[0.95627958330078...|       0.0|\n",
      "|17.40547|  17.36561|  17.40621|  17.73569|  1.428235| 0.7082859|  1.609841|-26.98189|-0.8260614|-0.5565038|-0.1666387|0.007921596|3.719694|  1.0|[17.40547,17.3656...|[-1.3717761072177...|[0.06045183144840...|       1.0|\n",
      "|18.38794|  17.66213|  17.76486|  18.43033|  2.370656|  1.120736|  2.701848|-94.87026|-0.4453381|-0.6460184|-0.3208079|  0.2331725|9.173407|  0.0|[18.38794,17.6621...|[-1.9218638139618...|[0.02096470000413...|       1.0|\n",
      "|19.03216|  17.31576|  17.58393|  18.95633|  5.165908|  2.307175|  5.609862|-4154.123| -266.0255| -228.8011|  0.700066|  0.1403787|39.62853|  0.0|[19.03216,17.3157...|[1.54261756354760...|[0.95627958330078...|       0.0|\n",
      "|19.32972|  17.34082|  17.37431|  19.13371|  5.957586|  2.828844|  5.576993|-5556.071| -139.1829| -598.3489|-0.1401795| -0.2532302|56.99618|  0.0|[19.32972,17.3408...|[1.54261756354760...|[0.95627958330078...|       0.0|\n",
      "+--------+----------+----------+----------+----------+----------+----------+---------+----------+----------+----------+-----------+--------+-----+--------------------+--------------------+--------------------+----------+\n",
      "only showing top 5 rows\n",
      "\n"
     ]
    },
    {
     "name": "stderr",
     "output_type": "stream",
     "text": [
      "                                                                                \r"
     ]
    }
   ],
   "source": [
    "gbtPredictions.show(5)"
   ]
  },
  {
   "cell_type": "code",
   "execution_count": 89,
   "id": "d514a39b-a5b2-480c-85f0-e39f5bc5a311",
   "metadata": {},
   "outputs": [
    {
     "name": "stderr",
     "output_type": "stream",
     "text": [
      "[Stage 6474:>                                                       (0 + 5) / 5]\r"
     ]
    },
    {
     "name": "stdout",
     "output_type": "stream",
     "text": [
      "Accuracy: 0.8769166317553414\n"
     ]
    },
    {
     "name": "stderr",
     "output_type": "stream",
     "text": [
      "                                                                                \r"
     ]
    }
   ],
   "source": [
    "print('Accuracy:', MulticlassClassificationEvaluator().evaluate(gbtPredictions.filter(gbtPredictions.modelMag_r >= 20.5)))"
   ]
  },
  {
   "cell_type": "code",
   "execution_count": 95,
   "id": "36a79d03-9942-489a-9f45-01e7e84c2908",
   "metadata": {},
   "outputs": [
    {
     "name": "stdout",
     "output_type": "stream",
     "text": [
      "+-----+----------+\n",
      "|label|prediction|\n",
      "+-----+----------+\n",
      "|  1.0|       0.0|\n",
      "|  0.0|       1.0|\n",
      "|  1.0|       1.0|\n",
      "|  1.0|       1.0|\n",
      "|  1.0|       1.0|\n",
      "|  0.0|       0.0|\n",
      "|  1.0|       1.0|\n",
      "|  0.0|       0.0|\n",
      "|  1.0|       1.0|\n",
      "|  0.0|       1.0|\n",
      "|  0.0|       0.0|\n",
      "|  1.0|       1.0|\n",
      "|  1.0|       1.0|\n",
      "|  1.0|       1.0|\n",
      "|  1.0|       1.0|\n",
      "|  1.0|       1.0|\n",
      "|  1.0|       1.0|\n",
      "|  1.0|       1.0|\n",
      "|  1.0|       1.0|\n",
      "|  1.0|       1.0|\n",
      "|  1.0|       1.0|\n",
      "|  0.0|       0.0|\n",
      "|  1.0|       1.0|\n",
      "|  0.0|       1.0|\n",
      "|  1.0|       1.0|\n",
      "|  1.0|       1.0|\n",
      "|  0.0|       0.0|\n",
      "|  1.0|       1.0|\n",
      "|  1.0|       1.0|\n",
      "|  1.0|       1.0|\n",
      "|  1.0|       1.0|\n",
      "|  0.0|       0.0|\n",
      "|  0.0|       0.0|\n",
      "|  1.0|       1.0|\n",
      "|  1.0|       1.0|\n",
      "|  1.0|       1.0|\n",
      "|  1.0|       1.0|\n",
      "|  0.0|       0.0|\n",
      "|  1.0|       1.0|\n",
      "|  1.0|       1.0|\n",
      "|  1.0|       1.0|\n",
      "|  1.0|       1.0|\n",
      "|  1.0|       1.0|\n",
      "|  1.0|       1.0|\n",
      "|  1.0|       1.0|\n",
      "|  1.0|       1.0|\n",
      "|  1.0|       1.0|\n",
      "|  0.0|       0.0|\n",
      "|  0.0|       0.0|\n",
      "|  1.0|       1.0|\n",
      "|  0.0|       1.0|\n",
      "|  0.0|       1.0|\n",
      "|  1.0|       1.0|\n",
      "|  1.0|       1.0|\n",
      "|  1.0|       1.0|\n",
      "|  0.0|       0.0|\n",
      "|  1.0|       1.0|\n",
      "|  1.0|       0.0|\n",
      "|  1.0|       1.0|\n",
      "|  1.0|       1.0|\n",
      "|  1.0|       0.0|\n",
      "|  1.0|       1.0|\n",
      "|  1.0|       1.0|\n",
      "|  1.0|       1.0|\n",
      "|  0.0|       0.0|\n",
      "|  0.0|       0.0|\n",
      "|  1.0|       1.0|\n",
      "|  0.0|       0.0|\n",
      "|  1.0|       1.0|\n",
      "|  0.0|       0.0|\n",
      "|  1.0|       1.0|\n",
      "|  1.0|       0.0|\n",
      "|  1.0|       1.0|\n",
      "|  0.0|       0.0|\n",
      "|  1.0|       1.0|\n",
      "|  0.0|       0.0|\n",
      "|  0.0|       0.0|\n",
      "|  0.0|       0.0|\n",
      "|  1.0|       1.0|\n",
      "|  1.0|       0.0|\n",
      "|  1.0|       1.0|\n",
      "|  1.0|       1.0|\n",
      "|  1.0|       1.0|\n",
      "|  1.0|       1.0|\n",
      "|  1.0|       1.0|\n",
      "|  1.0|       1.0|\n",
      "|  1.0|       1.0|\n",
      "|  0.0|       0.0|\n",
      "|  1.0|       1.0|\n",
      "|  0.0|       0.0|\n",
      "|  1.0|       1.0|\n",
      "|  1.0|       1.0|\n",
      "|  1.0|       1.0|\n",
      "|  1.0|       0.0|\n",
      "|  1.0|       1.0|\n",
      "|  1.0|       1.0|\n",
      "|  1.0|       0.0|\n",
      "|  1.0|       1.0|\n",
      "|  1.0|       1.0|\n",
      "|  1.0|       1.0|\n",
      "|  1.0|       1.0|\n",
      "|  1.0|       1.0|\n",
      "|  1.0|       1.0|\n",
      "|  1.0|       1.0|\n",
      "|  0.0|       1.0|\n",
      "+-----+----------+\n",
      "\n"
     ]
    }
   ],
   "source": [
    " gbtPredictions.filter(gbtPredictions.modelMag_r >= 20.5).select(gbtPredictions.label, gbtPredictions.prediction).show(105)                                                                                                                                               "
   ]
  },
  {
   "cell_type": "markdown",
   "id": "b9e633a6-b381-4d52-b252-543810f75bb4",
   "metadata": {},
   "source": [
    "# References"
   ]
  },
  {
   "cell_type": "markdown",
   "id": "5b3035b8-3dda-46b3-918f-19e66032d695",
   "metadata": {},
   "source": [
    "<!-- BIBLIOGRAPHY START -->\n",
    "<div class=\"csl-bib-body\">\n",
    "  <div class=\"csl-entry\"><i id=\"zotero|6578788/WRVILYFW\"></i><i>SDSS Data Release 7</i>. (n.d.). Retrieved April 29, 2022, from <a href=\"http://classic.sdss.org/dr7/\">http://classic.sdss.org/dr7/</a></div>\n",
    "  <div class=\"csl-entry\"><i id=\"zotero|6578788/Z75D4M6Y\"></i><i>Sloan Digital Sky Surveys | SDSS</i>. (n.d.). Retrieved April 28, 2022, from <a href=\"https://www.sdss.org/surveys/\">https://www.sdss.org/surveys/</a></div>\n",
    "  <div class=\"csl-entry\"><i id=\"zotero|6578788/ELIRRS3L\"></i>Tatsat, H., Puri, S., &#38; Lookabaugh, B. (2020). Machine Learning and Data Science Blueprints for Finance. In <i>Machine Learning and Data Science Blueprints for Finance</i>. O’Reilly Media. <a href=\"https://learning.oreilly.com/library/view/machine-learning-and/9781492073048/\">https://learning.oreilly.com/library/view/machine-learning-and/9781492073048/</a></div>\n",
    "  <div class=\"csl-entry\"><i id=\"zotero|6578788/UXVJ3YSM\"></i>Vasconcellos, E. C., Carvalho, R. R. de, Gal, R. R., LaBarbera, F. L., Capelato, H. V., Velho, H. F. C., Trevisan, M., &#38; Ruiz, R. S. R. (2011). DECISION TREE CLASSIFIERS FOR STAR/GALAXY SEPARATION. <i>The Astronomical Journal</i>, <i>141</i>(6), 189. <a href=\"https://doi.org/10.1088/0004-6256/141/6/189\">https://doi.org/10.1088/0004-6256/141/6/189</a></div>\n",
    "</div>\n",
    "<!-- BIBLIOGRAPHY END -->"
   ]
  },
  {
   "cell_type": "code",
   "execution_count": null,
   "id": "512bf3a4-682c-4e44-8070-dfcbc6461dbd",
   "metadata": {},
   "outputs": [],
   "source": []
  }
 ],
 "metadata": {
  "citation-manager": {
   "items": {
    "zotero": {
     "6578788/ELIRRS3L": {
      "URL": "https://learning.oreilly.com/library/view/machine-learning-and/9781492073048/",
      "accessed": {
       "date-parts": [
        [
         2022,
         4,
         29
        ]
       ]
      },
      "author": [
       {
        "family": "Tatsat",
        "given": "Hariom"
       },
       {
        "family": "Puri",
        "given": "Sahil"
       },
       {
        "family": "Lookabaugh",
        "given": "Brad"
       }
      ],
      "container-title": "Machine Learning and Data Science Blueprints for Finance",
      "id": "6578788/ELIRRS3L",
      "issued": {
       "date-parts": [
        [
         "2020",
         10
        ]
       ]
      },
      "publisher": "O'Reilly Media",
      "system_id": "zotero|6578788/ELIRRS3L",
      "title": "Machine Learning and Data Science Blueprints for Finance",
      "type": "chapter"
     },
     "6578788/UXVJ3YSM": {
      "DOI": "10.1088/0004-6256/141/6/189",
      "URL": "https://doi.org/10.1088/0004-6256/141/6/189",
      "abstract": "We study the star/galaxy classification efficiency of 13 different decision tree algorithms applied to photometric objects in the Sloan Digital Sky Survey Data Release Seven (SDSS-DR7). Each algorithm is defined by a set of parameters which, when varied, produce different final classification trees. We extensively explore the parameter space of each algorithm, using the set of 884,126 SDSS objects with spectroscopic data as the training set. The efficiency of star–galaxy separation is measured using the completeness function. We find that the Functional Tree algorithm (FT) yields the best results as measured by the mean completeness in two magnitude intervals: 14 ⩽ r ⩽ 21 (85.2%) and r ⩾ 19 (82.1%). We compare the performance of the tree generated with the optimal FT configuration to the classifications provided by the SDSS parametric classifier, 2DPHOT, and Ball et al. We find that our FT classifier is comparable to or better in completeness over the full magnitude range 15 ⩽ r ⩽ 21, with much lower contamination than all but the Ball et al. classifier. At the faintest magnitudes (r > 19), our classifier is the only one that maintains high completeness (>80%) while simultaneously achieving low contamination (∼2.5%). We also examine the SDSS parametric classifier (psfMag − modelMag) to see if the dividing line between stars and galaxies can be adjusted to improve the classifier. We find that currently stars in close pairs are often misclassified as galaxies, and suggest a new cut to improve the classifier. Finally, we apply our FT classifier to separate stars from galaxies in the full set of 69,545,326 SDSS photometric objects in the magnitude range 14 ⩽ r ⩽ 21.",
      "accessed": {
       "date-parts": [
        [
         2022,
         4,
         28
        ]
       ]
      },
      "author": [
       {
        "family": "Vasconcellos",
        "given": "E. C."
       },
       {
        "family": "Carvalho",
        "given": "R. R. de"
       },
       {
        "family": "Gal",
        "given": "R. R."
       },
       {
        "family": "LaBarbera",
        "given": "F. L."
       },
       {
        "family": "Capelato",
        "given": "H. V."
       },
       {
        "family": "Velho",
        "given": "H. Frago Campos"
       },
       {
        "family": "Trevisan",
        "given": "M."
       },
       {
        "family": "Ruiz",
        "given": "R. S. R."
       }
      ],
      "container-title": "The Astronomical Journal",
      "id": "6578788/UXVJ3YSM",
      "issue": "6",
      "issued": {
       "date-parts": [
        [
         2011,
         5
        ]
       ]
      },
      "journalAbbreviation": "AJ",
      "language": "en",
      "note": "Publisher: American Astronomical Society",
      "page": "189",
      "system_id": "zotero|6578788/UXVJ3YSM",
      "title": "DECISION TREE CLASSIFIERS FOR STAR/GALAXY SEPARATION",
      "type": "article-journal",
      "volume": "141"
     },
     "6578788/WRVILYFW": {
      "URL": "http://classic.sdss.org/dr7/",
      "accessed": {
       "date-parts": [
        [
         2022,
         4,
         29
        ]
       ]
      },
      "id": "6578788/WRVILYFW",
      "system_id": "zotero|6578788/WRVILYFW",
      "title": "SDSS Data Release 7",
      "type": "webpage"
     },
     "6578788/Z75D4M6Y": {
      "URL": "https://www.sdss.org/surveys/",
      "accessed": {
       "date-parts": [
        [
         2022,
         4,
         28
        ]
       ]
      },
      "id": "6578788/Z75D4M6Y",
      "system_id": "zotero|6578788/Z75D4M6Y",
      "title": "Sloan Digital Sky Surveys | SDSS",
      "type": "webpage"
     }
    }
   },
   "style": "apa.csl"
  },
  "kernelspec": {
   "display_name": "Python 3 (ipykernel)",
   "language": "python",
   "name": "python3"
  },
  "language_info": {
   "codemirror_mode": {
    "name": "ipython",
    "version": 3
   },
   "file_extension": ".py",
   "mimetype": "text/x-python",
   "name": "python",
   "nbconvert_exporter": "python",
   "pygments_lexer": "ipython3",
   "version": "3.10.2"
  }
 },
 "nbformat": 4,
 "nbformat_minor": 5
}
