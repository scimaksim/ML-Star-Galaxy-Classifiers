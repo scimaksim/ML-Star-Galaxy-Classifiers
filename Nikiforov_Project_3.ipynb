{
 "cells": [
  {
   "cell_type": "markdown",
   "id": "3869e550-01cf-49c5-809b-4693f69c36bc",
   "metadata": {},
   "source": [
    "# Classifying stars and galaxies using machine learning"
   ]
  },
  {
   "cell_type": "markdown",
   "id": "96299d30-496a-4e24-8667-b047ac6809b9",
   "metadata": {},
   "source": [
    "Authored by Maksim Nikiforov\n",
    "\n",
    "NCSU ST590, Project 3\n",
    "\n",
    "Spring, 2022"
   ]
  },
  {
   "cell_type": "markdown",
   "id": "d6d9cecb-610f-4127-bffc-81056285d040",
   "metadata": {},
   "source": [
    "## Introduction"
   ]
  },
  {
   "cell_type": "code",
   "execution_count": null,
   "id": "0e71ed60-5d3c-4679-8241-d7ea57b2d3ab",
   "metadata": {},
   "outputs": [],
   "source": []
  },
  {
   "cell_type": "code",
   "execution_count": null,
   "id": "cdbf0157-6f80-4b9b-a98a-8f5952b95023",
   "metadata": {},
   "outputs": [],
   "source": []
  },
  {
   "cell_type": "code",
   "execution_count": null,
   "id": "e92c4723-270c-426b-8acf-ce1dac892bbf",
   "metadata": {},
   "outputs": [],
   "source": []
  },
  {
   "cell_type": "code",
   "execution_count": 206,
   "id": "af4e89b8-1b57-4aca-abdd-9dae1ce63f42",
   "metadata": {},
   "outputs": [
    {
     "data": {
      "text/html": [
       "<img src=\"http://skyservice.pha.jhu.edu/DR7/ImgCutout/getjpeg.aspx?ra=197.99224324&dec=-1.17760226&scale=0.2&width=200&height=200&opt=G\"/>"
      ],
      "text/plain": [
       "<IPython.core.display.Image object>"
      ]
     },
     "execution_count": 206,
     "metadata": {},
     "output_type": "execute_result"
    }
   ],
   "source": [
    "from IPython.display import Image\n",
    "from IPython.core.display import HTML \n",
    "Image(url= \"http://skyservice.pha.jhu.edu/DR7/ImgCutout/getjpeg.aspx?ra=197.99224324&dec=-1.17760226&scale=0.2&width=200&height=200&opt=G\")"
   ]
  },
  {
   "cell_type": "markdown",
   "id": "0aa22a62-02fb-430e-8784-ab471ca531ee",
   "metadata": {},
   "source": [
    "## Supervised learning"
   ]
  },
  {
   "cell_type": "code",
   "execution_count": null,
   "id": "d08bc271-bcbb-492e-aec1-08dd5f895319",
   "metadata": {},
   "outputs": [],
   "source": []
  },
  {
   "cell_type": "markdown",
   "id": "24494827-2057-447f-8864-341fee5f58d3",
   "metadata": {},
   "source": [
    "## Data split"
   ]
  },
  {
   "cell_type": "code",
   "execution_count": 174,
   "id": "e76693f0-cbba-44eb-9a33-2a4f5c938da7",
   "metadata": {},
   "outputs": [],
   "source": [
    "# import os\n",
    "# import sys\n",
    "# os.environ['PYSPARK_PYTHON'] = sys.executable\n",
    "# os.environ['PYSPARK_DRIVER_PYTHON'] = sys.executable\n",
    "\n",
    "import pyspark.pandas as ps\n",
    "import matplotlib.pyplot as plt\n",
    "from pyspark.sql import SparkSession\n",
    "spark = SparkSession.builder.getOrCreate()\n",
    "spark.sparkContext.setLogLevel(\"ERROR\")"
   ]
  },
  {
   "cell_type": "code",
   "execution_count": 199,
   "id": "de7ce4d2-f6df-4517-ab98-62684ef17723",
   "metadata": {},
   "outputs": [
    {
     "name": "stderr",
     "output_type": "stream",
     "text": [
      "                                                                                \r"
     ]
    },
    {
     "data": {
      "text/html": [
       "<div>\n",
       "<style scoped>\n",
       "    .dataframe tbody tr th:only-of-type {\n",
       "        vertical-align: middle;\n",
       "    }\n",
       "\n",
       "    .dataframe tbody tr th {\n",
       "        vertical-align: top;\n",
       "    }\n",
       "\n",
       "    .dataframe thead th {\n",
       "        text-align: right;\n",
       "    }\n",
       "</style>\n",
       "<table border=\"1\" class=\"dataframe\">\n",
       "  <thead>\n",
       "    <tr style=\"text-align: right;\">\n",
       "      <th></th>\n",
       "      <th>objID</th>\n",
       "      <th>ra</th>\n",
       "      <th>dec</th>\n",
       "      <th>specObjID</th>\n",
       "      <th>psfMag_r</th>\n",
       "      <th>modelMag_r</th>\n",
       "      <th>petroMag_r</th>\n",
       "      <th>fiberMag_r</th>\n",
       "      <th>petroRad_r</th>\n",
       "      <th>petroR50_r</th>\n",
       "      <th>petroR90_r</th>\n",
       "      <th>lnLStar_r</th>\n",
       "      <th>lnLExp_r</th>\n",
       "      <th>lnLDeV_r</th>\n",
       "      <th>mE1_r</th>\n",
       "      <th>mE2_r</th>\n",
       "      <th>mRrCc_r</th>\n",
       "      <th>type_r</th>\n",
       "      <th>type</th>\n",
       "      <th>specClass</th>\n",
       "    </tr>\n",
       "  </thead>\n",
       "  <tbody>\n",
       "    <tr>\n",
       "      <th>0</th>\n",
       "      <td>587722981747916975</td>\n",
       "      <td>197.899388</td>\n",
       "      <td>-1.090350</td>\n",
       "      <td>83258393032130560</td>\n",
       "      <td>18.10983</td>\n",
       "      <td>17.16931</td>\n",
       "      <td>17.27446</td>\n",
       "      <td>18.13988</td>\n",
       "      <td>2.860266</td>\n",
       "      <td>1.377335</td>\n",
       "      <td>3.917571</td>\n",
       "      <td>-6061.231000</td>\n",
       "      <td>-689.368400</td>\n",
       "      <td>-79.152840</td>\n",
       "      <td>0.079823</td>\n",
       "      <td>-0.016505</td>\n",
       "      <td>9.165010</td>\n",
       "      <td>3</td>\n",
       "      <td>3</td>\n",
       "      <td>2</td>\n",
       "    </tr>\n",
       "    <tr>\n",
       "      <th>1</th>\n",
       "      <td>587722981747916983</td>\n",
       "      <td>197.908850</td>\n",
       "      <td>-1.057697</td>\n",
       "      <td>83258393027936256</td>\n",
       "      <td>18.64094</td>\n",
       "      <td>16.17998</td>\n",
       "      <td>16.17174</td>\n",
       "      <td>18.36020</td>\n",
       "      <td>7.684298</td>\n",
       "      <td>3.669323</td>\n",
       "      <td>8.771421</td>\n",
       "      <td>-29276.120000</td>\n",
       "      <td>-252.465100</td>\n",
       "      <td>-2924.863000</td>\n",
       "      <td>0.533182</td>\n",
       "      <td>-0.122099</td>\n",
       "      <td>93.985080</td>\n",
       "      <td>3</td>\n",
       "      <td>3</td>\n",
       "      <td>2</td>\n",
       "    </tr>\n",
       "    <tr>\n",
       "      <th>2</th>\n",
       "      <td>587722981747917003</td>\n",
       "      <td>197.969692</td>\n",
       "      <td>-1.202853</td>\n",
       "      <td>83258392872747008</td>\n",
       "      <td>18.02242</td>\n",
       "      <td>15.86003</td>\n",
       "      <td>16.11524</td>\n",
       "      <td>17.96382</td>\n",
       "      <td>8.127323</td>\n",
       "      <td>3.563940</td>\n",
       "      <td>8.809196</td>\n",
       "      <td>-24853.890000</td>\n",
       "      <td>-2838.109000</td>\n",
       "      <td>-1704.597000</td>\n",
       "      <td>0.043267</td>\n",
       "      <td>-0.121488</td>\n",
       "      <td>30.947170</td>\n",
       "      <td>3</td>\n",
       "      <td>3</td>\n",
       "      <td>2</td>\n",
       "    </tr>\n",
       "    <tr>\n",
       "      <th>3</th>\n",
       "      <td>587722981747982353</td>\n",
       "      <td>198.036181</td>\n",
       "      <td>-1.119481</td>\n",
       "      <td>83258392927272960</td>\n",
       "      <td>18.94549</td>\n",
       "      <td>18.94530</td>\n",
       "      <td>18.99737</td>\n",
       "      <td>19.29821</td>\n",
       "      <td>1.340810</td>\n",
       "      <td>0.672405</td>\n",
       "      <td>1.499684</td>\n",
       "      <td>-0.092539</td>\n",
       "      <td>-0.204011</td>\n",
       "      <td>-0.203626</td>\n",
       "      <td>-0.092864</td>\n",
       "      <td>-0.052628</td>\n",
       "      <td>3.409491</td>\n",
       "      <td>6</td>\n",
       "      <td>6</td>\n",
       "      <td>3</td>\n",
       "    </tr>\n",
       "    <tr>\n",
       "      <th>4</th>\n",
       "      <td>587722981747982415</td>\n",
       "      <td>197.992243</td>\n",
       "      <td>-1.177602</td>\n",
       "      <td>83258392868552704</td>\n",
       "      <td>18.48139</td>\n",
       "      <td>16.80739</td>\n",
       "      <td>16.82753</td>\n",
       "      <td>18.33384</td>\n",
       "      <td>5.019594</td>\n",
       "      <td>2.367939</td>\n",
       "      <td>5.220800</td>\n",
       "      <td>-16505.760000</td>\n",
       "      <td>-225.247600</td>\n",
       "      <td>-1963.147000</td>\n",
       "      <td>-0.582404</td>\n",
       "      <td>-0.035685</td>\n",
       "      <td>47.852440</td>\n",
       "      <td>3</td>\n",
       "      <td>3</td>\n",
       "      <td>2</td>\n",
       "    </tr>\n",
       "  </tbody>\n",
       "</table>\n",
       "</div>"
      ],
      "text/plain": [
       "                objID          ra       dec          specObjID  psfMag_r  modelMag_r  petroMag_r  fiberMag_r  petroRad_r  petroR50_r  petroR90_r     lnLStar_r     lnLExp_r     lnLDeV_r     mE1_r     mE2_r    mRrCc_r  type_r  type  specClass\n",
       "0  587722981747916975  197.899388 -1.090350  83258393032130560  18.10983    17.16931    17.27446    18.13988    2.860266    1.377335    3.917571  -6061.231000  -689.368400   -79.152840  0.079823 -0.016505   9.165010       3     3          2\n",
       "1  587722981747916983  197.908850 -1.057697  83258393027936256  18.64094    16.17998    16.17174    18.36020    7.684298    3.669323    8.771421 -29276.120000  -252.465100 -2924.863000  0.533182 -0.122099  93.985080       3     3          2\n",
       "2  587722981747917003  197.969692 -1.202853  83258392872747008  18.02242    15.86003    16.11524    17.96382    8.127323    3.563940    8.809196 -24853.890000 -2838.109000 -1704.597000  0.043267 -0.121488  30.947170       3     3          2\n",
       "3  587722981747982353  198.036181 -1.119481  83258392927272960  18.94549    18.94530    18.99737    19.29821    1.340810    0.672405    1.499684     -0.092539    -0.204011    -0.203626 -0.092864 -0.052628   3.409491       6     6          3\n",
       "4  587722981747982415  197.992243 -1.177602  83258392868552704  18.48139    16.80739    16.82753    18.33384    5.019594    2.367939    5.220800 -16505.760000  -225.247600 -1963.147000 -0.582404 -0.035685  47.852440       3     3          2"
      ]
     },
     "execution_count": 199,
     "metadata": {},
     "output_type": "execute_result"
    }
   ],
   "source": [
    "# Read entire CSV into a Spark data frame\n",
    "sdss_data = spark.read.options(header=\"True\", \n",
    "                               inferSchema='True',\n",
    "                               delimiter=',') \\\n",
    "                      .csv(\"sdss_test_mvnikifo.csv\")\n",
    "\n",
    "# Convert to pandas-on-spark (without storing) for appearance and \n",
    "# print first 5 rows\n",
    "sdss_data.to_pandas_on_spark().head(5)\n"
   ]
  },
  {
   "cell_type": "code",
   "execution_count": 194,
   "id": "a97d2f19-0d90-4b41-a95d-e97a94de5aa2",
   "metadata": {},
   "outputs": [
    {
     "name": "stdout",
     "output_type": "stream",
     "text": [
      "root\n",
      " |-- objID: long (nullable = true)\n",
      " |-- ra: double (nullable = true)\n",
      " |-- dec: double (nullable = true)\n",
      " |-- specObjID: long (nullable = true)\n",
      " |-- psfMag_r: double (nullable = true)\n",
      " |-- modelMag_r: double (nullable = true)\n",
      " |-- petroMag_r: double (nullable = true)\n",
      " |-- fiberMag_r: double (nullable = true)\n",
      " |-- petroRad_r: double (nullable = true)\n",
      " |-- petroR50_r: double (nullable = true)\n",
      " |-- petroR90_r: double (nullable = true)\n",
      " |-- lnLStar_r: double (nullable = true)\n",
      " |-- lnLExp_r: double (nullable = true)\n",
      " |-- lnLDeV_r: double (nullable = true)\n",
      " |-- mE1_r: double (nullable = true)\n",
      " |-- mE2_r: double (nullable = true)\n",
      " |-- mRrCc_r: double (nullable = true)\n",
      " |-- type_r: integer (nullable = true)\n",
      " |-- type: string (nullable = true)\n",
      " |-- specClass: integer (nullable = true)\n",
      "\n"
     ]
    }
   ],
   "source": [
    "sdss_data.printSchema()"
   ]
  },
  {
   "cell_type": "code",
   "execution_count": 176,
   "id": "3fc08565-c204-4b69-91a8-76c554e825bd",
   "metadata": {},
   "outputs": [
    {
     "data": {
      "text/plain": [
       "100000"
      ]
     },
     "execution_count": 176,
     "metadata": {},
     "output_type": "execute_result"
    }
   ],
   "source": [
    "# View number of observations in the full CSV\n",
    "sdss_data.count()"
   ]
  },
  {
   "cell_type": "markdown",
   "id": "b3bfeb78-cff3-41e5-a3c1-121b99430f04",
   "metadata": {},
   "source": [
    "There are missing values in this data, denoted by $0$ and $-9999$. These can be indicated more clearly with the designation \"None\". The number of missing values can be ascertained by converting the Spark DataFrame to a pandas-on-spark DataFrame and invoking the `.isnull().sum()` sequence of functions. "
   ]
  },
  {
   "cell_type": "code",
   "execution_count": 177,
   "id": "51e90bc2-eb65-48b5-b791-d8965aed7e78",
   "metadata": {},
   "outputs": [],
   "source": [
    "sdss_data = sdss_data.replace(-9999, None)\n",
    "sdss_data = sdss_data.replace(0, None)"
   ]
  },
  {
   "cell_type": "markdown",
   "id": "5f8447ca-b11f-45be-aac8-1a1d4d5fb15a",
   "metadata": {},
   "source": [
    "There are nearly 12,000 rows with missing data. These can be removed to prepare the data for machine learning algorithms, leaving a total of 1,019,910 rows."
   ]
  },
  {
   "cell_type": "code",
   "execution_count": 178,
   "id": "a520e70f-89c2-4eff-8f49-8f1c83e55b42",
   "metadata": {},
   "outputs": [
    {
     "name": "stdout",
     "output_type": "stream",
     "text": [
      "+-----+---+---+---------+--------+----------+----------+----------+----------+----------+----------+---------+--------+--------+-----+-----+-------+------+----+---------+\n",
      "|objID| ra|dec|specObjID|psfMag_r|modelMag_r|petroMag_r|fiberMag_r|petroRad_r|petroR50_r|petroR90_r|lnLStar_r|lnLExp_r|lnLDeV_r|mE1_r|mE2_r|mRrCc_r|type_r|type|specClass|\n",
      "+-----+---+---+---------+--------+----------+----------+----------+----------+----------+----------+---------+--------+--------+-----+-----+-------+------+----+---------+\n",
      "|    0|  0|  0|        0|       0|         0|         0|         1|         0|         1|         1|       11|      18|      17|   29|   29|     29|     0|   0|     1180|\n",
      "+-----+---+---+---------+--------+----------+----------+----------+----------+----------+----------+---------+--------+--------+-----+-----+-------+------+----+---------+\n",
      "\n"
     ]
    }
   ],
   "source": [
    "# Count total number of missing values\n",
    "# Based on example from https://sparkbyexamples.com/pyspark/pyspark-find-count-of-null-none-nan-values/\n",
    "from pyspark.sql.functions import col, isnan, when, count\n",
    "\n",
    "sdss_data.select([count(when(isnan(c) | col(c).isNull(), c)).alias(c) for c in sdss_data.columns]).show()"
   ]
  },
  {
   "cell_type": "code",
   "execution_count": 179,
   "id": "fd7e926b-6a0b-4ab5-8d0e-585c9fe66459",
   "metadata": {},
   "outputs": [
    {
     "data": {
      "text/plain": [
       "98781"
      ]
     },
     "execution_count": 179,
     "metadata": {},
     "output_type": "execute_result"
    }
   ],
   "source": [
    "# Remove rows with missing values and calculate new row count\n",
    "sdss_data = sdss_data.dropna()\n",
    "sdss_data.count()"
   ]
  },
  {
   "cell_type": "markdown",
   "id": "4c241a4d-1461-4bd9-863f-bd99a56e38c0",
   "metadata": {},
   "source": [
    "The data also contains a `specClass` column with values that correspond to the following classifications (https://skyserver.sdss.org/dr7/en/help/browser/enum.asp?n=SpecClass): \n",
    "\n",
    "| Name      | Value | Description                                                                                      |\n",
    "|-----------|-------|--------------------------------------------------------------------------------------------------|\n",
    "| UNKNOWN   |   0   | Spectrum not classifiable (zConf < 0.25).                                                        |\n",
    "| STAR      |   1   | Spectrum of a star.                                                                              |\n",
    "| GALAXY    |   2   | Spectrum of a galaxy.                                                                            |\n",
    "| QSO       |   3   | Spectrum of a quasi-stellar object.                                                              |\n",
    "| HIZ_QSO   |   4   | Spectrum of a high-redshift quasar (z>2.3), whose redshift is confirmed by a Ly-alpha estimator. |\n",
    "| SKY       |   5   | Spectrum of blank sky.                                                                           |\n",
    "| STAR_LATE |   6   | Star dominated bt molecular bands M or later.                                                    |\n",
    "| GAL_EM    |   7   | Emission line galaxy (placeholder).                                                              |"
   ]
  },
  {
   "cell_type": "markdown",
   "id": "884a9c7f-b45a-4760-b4e9-6d45c8cc9429",
   "metadata": {},
   "source": [
    "The intent of this project is to classify only stars and galaxies, and all other observations should be removed."
   ]
  },
  {
   "cell_type": "code",
   "execution_count": 180,
   "id": "f112842d-5509-4df7-820b-7d1b18be9d01",
   "metadata": {},
   "outputs": [],
   "source": [
    "sdss_data = sdss_data.filter((sdss_data.specClass == 1) | \\\n",
    "                              (sdss_data.specClass == 2))"
   ]
  },
  {
   "cell_type": "code",
   "execution_count": 181,
   "id": "433c1be9-db74-4d5e-856f-496259923d0c",
   "metadata": {},
   "outputs": [],
   "source": [
    "from pyspark.sql.types import StringType\n",
    "sdss_data = sdss_data.withColumn(\"type\",col(\"type\").cast(StringType()))"
   ]
  },
  {
   "cell_type": "code",
   "execution_count": null,
   "id": "a36dc80f-8e3a-4459-9174-7da4b8ca7282",
   "metadata": {},
   "outputs": [],
   "source": [
    "sdss_data"
   ]
  },
  {
   "cell_type": "markdown",
   "id": "603e34db-3031-4d68-9965-7e3d8d29f762",
   "metadata": {},
   "source": [
    "At this point, the data contains observations for 81,633 stars and 802,474 galaxies."
   ]
  },
  {
   "cell_type": "code",
   "execution_count": 182,
   "id": "92e0d1ee-5bc1-4199-9862-d7514b16d57f",
   "metadata": {},
   "outputs": [
    {
     "name": "stderr",
     "output_type": "stream",
     "text": [
      "[Stage 364:>                                                        (0 + 5) / 5]\r"
     ]
    },
    {
     "name": "stdout",
     "output_type": "stream",
     "text": [
      "+----+-----+\n",
      "|type|count|\n",
      "+----+-----+\n",
      "|   3|77299|\n",
      "|   6| 8589|\n",
      "+----+-----+\n",
      "\n"
     ]
    },
    {
     "name": "stderr",
     "output_type": "stream",
     "text": [
      "                                                                                \r"
     ]
    }
   ],
   "source": [
    "sdss_data.groupBy(\"type\").count().show()"
   ]
  },
  {
   "cell_type": "markdown",
   "id": "bba24dd4-c9f0-4b77-99ed-68526ff94090",
   "metadata": {},
   "source": [
    "The data set should be split into a training and a testing test before further exploration."
   ]
  },
  {
   "cell_type": "code",
   "execution_count": 183,
   "id": "5f0c0455-b7d1-4c74-8e54-8104f4aaaefa",
   "metadata": {},
   "outputs": [],
   "source": [
    "train, test = sdss_data.randomSplit([0.8,0.2])"
   ]
  },
  {
   "cell_type": "markdown",
   "id": "d7d2d3dc-64ed-4376-ae46-46044cb1b471",
   "metadata": {
    "tags": []
   },
   "source": [
    "## Exploratory data analysis"
   ]
  },
  {
   "cell_type": "markdown",
   "id": "947aee7e-7f20-4fa1-9226-6f0558ebab70",
   "metadata": {},
   "source": [
    "The training data contains nearly 70,000 observations."
   ]
  },
  {
   "cell_type": "code",
   "execution_count": 184,
   "id": "37d69ed5-70a9-4f62-9eff-931e31f98539",
   "metadata": {},
   "outputs": [
    {
     "name": "stderr",
     "output_type": "stream",
     "text": [
      "                                                                                \r"
     ]
    },
    {
     "name": "stdout",
     "output_type": "stream",
     "text": [
      "Training observations: 68752 \n",
      "Test observations: 17136\n"
     ]
    }
   ],
   "source": [
    "print(\"Training observations: \" + str(train.count()), \"\\nTest observations: \" + str(test.count()))"
   ]
  },
  {
   "cell_type": "code",
   "execution_count": 185,
   "id": "d7e50531-67ba-4e03-9847-32384303159b",
   "metadata": {},
   "outputs": [],
   "source": [
    "train_ps = train.to_pandas_on_spark()"
   ]
  },
  {
   "cell_type": "code",
   "execution_count": 189,
   "id": "f8349c6f-f789-4aa3-9c5d-7fbf5a51c8e8",
   "metadata": {},
   "outputs": [
    {
     "name": "stderr",
     "output_type": "stream",
     "text": [
      "                                                                                \r"
     ]
    },
    {
     "data": {
      "application/vnd.plotly.v1+json": {
       "config": {
        "plotlyServerURL": "https://plot.ly"
       },
       "data": [
        {
         "alignmentgroup": "True",
         "hovertemplate": "variable=type<br>Type=%{x}<br>Amount=%{y}<extra></extra>",
         "legendgroup": "type",
         "marker": {
          "color": "#636efa",
          "pattern": {
           "shape": ""
          }
         },
         "name": "type",
         "offsetgroup": "type",
         "orientation": "v",
         "showlegend": true,
         "textposition": "auto",
         "type": "bar",
         "x": [
          "3",
          "6"
         ],
         "xaxis": "x",
         "y": [
          61829,
          6923
         ],
         "yaxis": "y"
        }
       ],
       "layout": {
        "autosize": true,
        "barmode": "relative",
        "legend": {
         "title": {
          "text": "variable"
         },
         "tracegroupgap": 0
        },
        "template": {
         "data": {
          "bar": [
           {
            "error_x": {
             "color": "#2a3f5f"
            },
            "error_y": {
             "color": "#2a3f5f"
            },
            "marker": {
             "line": {
              "color": "#E5ECF6",
              "width": 0.5
             },
             "pattern": {
              "fillmode": "overlay",
              "size": 10,
              "solidity": 0.2
             }
            },
            "type": "bar"
           }
          ],
          "barpolar": [
           {
            "marker": {
             "line": {
              "color": "#E5ECF6",
              "width": 0.5
             },
             "pattern": {
              "fillmode": "overlay",
              "size": 10,
              "solidity": 0.2
             }
            },
            "type": "barpolar"
           }
          ],
          "carpet": [
           {
            "aaxis": {
             "endlinecolor": "#2a3f5f",
             "gridcolor": "white",
             "linecolor": "white",
             "minorgridcolor": "white",
             "startlinecolor": "#2a3f5f"
            },
            "baxis": {
             "endlinecolor": "#2a3f5f",
             "gridcolor": "white",
             "linecolor": "white",
             "minorgridcolor": "white",
             "startlinecolor": "#2a3f5f"
            },
            "type": "carpet"
           }
          ],
          "choropleth": [
           {
            "colorbar": {
             "outlinewidth": 0,
             "ticks": ""
            },
            "type": "choropleth"
           }
          ],
          "contour": [
           {
            "colorbar": {
             "outlinewidth": 0,
             "ticks": ""
            },
            "colorscale": [
             [
              0,
              "#0d0887"
             ],
             [
              0.1111111111111111,
              "#46039f"
             ],
             [
              0.2222222222222222,
              "#7201a8"
             ],
             [
              0.3333333333333333,
              "#9c179e"
             ],
             [
              0.4444444444444444,
              "#bd3786"
             ],
             [
              0.5555555555555556,
              "#d8576b"
             ],
             [
              0.6666666666666666,
              "#ed7953"
             ],
             [
              0.7777777777777778,
              "#fb9f3a"
             ],
             [
              0.8888888888888888,
              "#fdca26"
             ],
             [
              1,
              "#f0f921"
             ]
            ],
            "type": "contour"
           }
          ],
          "contourcarpet": [
           {
            "colorbar": {
             "outlinewidth": 0,
             "ticks": ""
            },
            "type": "contourcarpet"
           }
          ],
          "heatmap": [
           {
            "colorbar": {
             "outlinewidth": 0,
             "ticks": ""
            },
            "colorscale": [
             [
              0,
              "#0d0887"
             ],
             [
              0.1111111111111111,
              "#46039f"
             ],
             [
              0.2222222222222222,
              "#7201a8"
             ],
             [
              0.3333333333333333,
              "#9c179e"
             ],
             [
              0.4444444444444444,
              "#bd3786"
             ],
             [
              0.5555555555555556,
              "#d8576b"
             ],
             [
              0.6666666666666666,
              "#ed7953"
             ],
             [
              0.7777777777777778,
              "#fb9f3a"
             ],
             [
              0.8888888888888888,
              "#fdca26"
             ],
             [
              1,
              "#f0f921"
             ]
            ],
            "type": "heatmap"
           }
          ],
          "heatmapgl": [
           {
            "colorbar": {
             "outlinewidth": 0,
             "ticks": ""
            },
            "colorscale": [
             [
              0,
              "#0d0887"
             ],
             [
              0.1111111111111111,
              "#46039f"
             ],
             [
              0.2222222222222222,
              "#7201a8"
             ],
             [
              0.3333333333333333,
              "#9c179e"
             ],
             [
              0.4444444444444444,
              "#bd3786"
             ],
             [
              0.5555555555555556,
              "#d8576b"
             ],
             [
              0.6666666666666666,
              "#ed7953"
             ],
             [
              0.7777777777777778,
              "#fb9f3a"
             ],
             [
              0.8888888888888888,
              "#fdca26"
             ],
             [
              1,
              "#f0f921"
             ]
            ],
            "type": "heatmapgl"
           }
          ],
          "histogram": [
           {
            "marker": {
             "pattern": {
              "fillmode": "overlay",
              "size": 10,
              "solidity": 0.2
             }
            },
            "type": "histogram"
           }
          ],
          "histogram2d": [
           {
            "colorbar": {
             "outlinewidth": 0,
             "ticks": ""
            },
            "colorscale": [
             [
              0,
              "#0d0887"
             ],
             [
              0.1111111111111111,
              "#46039f"
             ],
             [
              0.2222222222222222,
              "#7201a8"
             ],
             [
              0.3333333333333333,
              "#9c179e"
             ],
             [
              0.4444444444444444,
              "#bd3786"
             ],
             [
              0.5555555555555556,
              "#d8576b"
             ],
             [
              0.6666666666666666,
              "#ed7953"
             ],
             [
              0.7777777777777778,
              "#fb9f3a"
             ],
             [
              0.8888888888888888,
              "#fdca26"
             ],
             [
              1,
              "#f0f921"
             ]
            ],
            "type": "histogram2d"
           }
          ],
          "histogram2dcontour": [
           {
            "colorbar": {
             "outlinewidth": 0,
             "ticks": ""
            },
            "colorscale": [
             [
              0,
              "#0d0887"
             ],
             [
              0.1111111111111111,
              "#46039f"
             ],
             [
              0.2222222222222222,
              "#7201a8"
             ],
             [
              0.3333333333333333,
              "#9c179e"
             ],
             [
              0.4444444444444444,
              "#bd3786"
             ],
             [
              0.5555555555555556,
              "#d8576b"
             ],
             [
              0.6666666666666666,
              "#ed7953"
             ],
             [
              0.7777777777777778,
              "#fb9f3a"
             ],
             [
              0.8888888888888888,
              "#fdca26"
             ],
             [
              1,
              "#f0f921"
             ]
            ],
            "type": "histogram2dcontour"
           }
          ],
          "mesh3d": [
           {
            "colorbar": {
             "outlinewidth": 0,
             "ticks": ""
            },
            "type": "mesh3d"
           }
          ],
          "parcoords": [
           {
            "line": {
             "colorbar": {
              "outlinewidth": 0,
              "ticks": ""
             }
            },
            "type": "parcoords"
           }
          ],
          "pie": [
           {
            "automargin": true,
            "type": "pie"
           }
          ],
          "scatter": [
           {
            "fillpattern": {
             "fillmode": "overlay",
             "size": 10,
             "solidity": 0.2
            },
            "type": "scatter"
           }
          ],
          "scatter3d": [
           {
            "line": {
             "colorbar": {
              "outlinewidth": 0,
              "ticks": ""
             }
            },
            "marker": {
             "colorbar": {
              "outlinewidth": 0,
              "ticks": ""
             }
            },
            "type": "scatter3d"
           }
          ],
          "scattercarpet": [
           {
            "marker": {
             "colorbar": {
              "outlinewidth": 0,
              "ticks": ""
             }
            },
            "type": "scattercarpet"
           }
          ],
          "scattergeo": [
           {
            "marker": {
             "colorbar": {
              "outlinewidth": 0,
              "ticks": ""
             }
            },
            "type": "scattergeo"
           }
          ],
          "scattergl": [
           {
            "marker": {
             "colorbar": {
              "outlinewidth": 0,
              "ticks": ""
             }
            },
            "type": "scattergl"
           }
          ],
          "scattermapbox": [
           {
            "marker": {
             "colorbar": {
              "outlinewidth": 0,
              "ticks": ""
             }
            },
            "type": "scattermapbox"
           }
          ],
          "scatterpolar": [
           {
            "marker": {
             "colorbar": {
              "outlinewidth": 0,
              "ticks": ""
             }
            },
            "type": "scatterpolar"
           }
          ],
          "scatterpolargl": [
           {
            "marker": {
             "colorbar": {
              "outlinewidth": 0,
              "ticks": ""
             }
            },
            "type": "scatterpolargl"
           }
          ],
          "scatterternary": [
           {
            "marker": {
             "colorbar": {
              "outlinewidth": 0,
              "ticks": ""
             }
            },
            "type": "scatterternary"
           }
          ],
          "surface": [
           {
            "colorbar": {
             "outlinewidth": 0,
             "ticks": ""
            },
            "colorscale": [
             [
              0,
              "#0d0887"
             ],
             [
              0.1111111111111111,
              "#46039f"
             ],
             [
              0.2222222222222222,
              "#7201a8"
             ],
             [
              0.3333333333333333,
              "#9c179e"
             ],
             [
              0.4444444444444444,
              "#bd3786"
             ],
             [
              0.5555555555555556,
              "#d8576b"
             ],
             [
              0.6666666666666666,
              "#ed7953"
             ],
             [
              0.7777777777777778,
              "#fb9f3a"
             ],
             [
              0.8888888888888888,
              "#fdca26"
             ],
             [
              1,
              "#f0f921"
             ]
            ],
            "type": "surface"
           }
          ],
          "table": [
           {
            "cells": {
             "fill": {
              "color": "#EBF0F8"
             },
             "line": {
              "color": "white"
             }
            },
            "header": {
             "fill": {
              "color": "#C8D4E3"
             },
             "line": {
              "color": "white"
             }
            },
            "type": "table"
           }
          ]
         },
         "layout": {
          "annotationdefaults": {
           "arrowcolor": "#2a3f5f",
           "arrowhead": 0,
           "arrowwidth": 1
          },
          "autotypenumbers": "strict",
          "coloraxis": {
           "colorbar": {
            "outlinewidth": 0,
            "ticks": ""
           }
          },
          "colorscale": {
           "diverging": [
            [
             0,
             "#8e0152"
            ],
            [
             0.1,
             "#c51b7d"
            ],
            [
             0.2,
             "#de77ae"
            ],
            [
             0.3,
             "#f1b6da"
            ],
            [
             0.4,
             "#fde0ef"
            ],
            [
             0.5,
             "#f7f7f7"
            ],
            [
             0.6,
             "#e6f5d0"
            ],
            [
             0.7,
             "#b8e186"
            ],
            [
             0.8,
             "#7fbc41"
            ],
            [
             0.9,
             "#4d9221"
            ],
            [
             1,
             "#276419"
            ]
           ],
           "sequential": [
            [
             0,
             "#0d0887"
            ],
            [
             0.1111111111111111,
             "#46039f"
            ],
            [
             0.2222222222222222,
             "#7201a8"
            ],
            [
             0.3333333333333333,
             "#9c179e"
            ],
            [
             0.4444444444444444,
             "#bd3786"
            ],
            [
             0.5555555555555556,
             "#d8576b"
            ],
            [
             0.6666666666666666,
             "#ed7953"
            ],
            [
             0.7777777777777778,
             "#fb9f3a"
            ],
            [
             0.8888888888888888,
             "#fdca26"
            ],
            [
             1,
             "#f0f921"
            ]
           ],
           "sequentialminus": [
            [
             0,
             "#0d0887"
            ],
            [
             0.1111111111111111,
             "#46039f"
            ],
            [
             0.2222222222222222,
             "#7201a8"
            ],
            [
             0.3333333333333333,
             "#9c179e"
            ],
            [
             0.4444444444444444,
             "#bd3786"
            ],
            [
             0.5555555555555556,
             "#d8576b"
            ],
            [
             0.6666666666666666,
             "#ed7953"
            ],
            [
             0.7777777777777778,
             "#fb9f3a"
            ],
            [
             0.8888888888888888,
             "#fdca26"
            ],
            [
             1,
             "#f0f921"
            ]
           ]
          },
          "colorway": [
           "#636efa",
           "#EF553B",
           "#00cc96",
           "#ab63fa",
           "#FFA15A",
           "#19d3f3",
           "#FF6692",
           "#B6E880",
           "#FF97FF",
           "#FECB52"
          ],
          "font": {
           "color": "#2a3f5f"
          },
          "geo": {
           "bgcolor": "white",
           "lakecolor": "white",
           "landcolor": "#E5ECF6",
           "showlakes": true,
           "showland": true,
           "subunitcolor": "white"
          },
          "hoverlabel": {
           "align": "left"
          },
          "hovermode": "closest",
          "mapbox": {
           "style": "light"
          },
          "paper_bgcolor": "white",
          "plot_bgcolor": "#E5ECF6",
          "polar": {
           "angularaxis": {
            "gridcolor": "white",
            "linecolor": "white",
            "ticks": ""
           },
           "bgcolor": "#E5ECF6",
           "radialaxis": {
            "gridcolor": "white",
            "linecolor": "white",
            "ticks": ""
           }
          },
          "scene": {
           "xaxis": {
            "backgroundcolor": "#E5ECF6",
            "gridcolor": "white",
            "gridwidth": 2,
            "linecolor": "white",
            "showbackground": true,
            "ticks": "",
            "zerolinecolor": "white"
           },
           "yaxis": {
            "backgroundcolor": "#E5ECF6",
            "gridcolor": "white",
            "gridwidth": 2,
            "linecolor": "white",
            "showbackground": true,
            "ticks": "",
            "zerolinecolor": "white"
           },
           "zaxis": {
            "backgroundcolor": "#E5ECF6",
            "gridcolor": "white",
            "gridwidth": 2,
            "linecolor": "white",
            "showbackground": true,
            "ticks": "",
            "zerolinecolor": "white"
           }
          },
          "shapedefaults": {
           "line": {
            "color": "#2a3f5f"
           }
          },
          "ternary": {
           "aaxis": {
            "gridcolor": "white",
            "linecolor": "white",
            "ticks": ""
           },
           "baxis": {
            "gridcolor": "white",
            "linecolor": "white",
            "ticks": ""
           },
           "bgcolor": "#E5ECF6",
           "caxis": {
            "gridcolor": "white",
            "linecolor": "white",
            "ticks": ""
           }
          },
          "title": {
           "x": 0.05
          },
          "xaxis": {
           "automargin": true,
           "gridcolor": "white",
           "linecolor": "white",
           "ticks": "",
           "title": {
            "standoff": 15
           },
           "zerolinecolor": "white",
           "zerolinewidth": 2
          },
          "yaxis": {
           "automargin": true,
           "gridcolor": "white",
           "linecolor": "white",
           "ticks": "",
           "title": {
            "standoff": 15
           },
           "zerolinecolor": "white",
           "zerolinewidth": 2
          }
         }
        },
        "title": {
         "text": "Distribution of galaxies and stars"
        },
        "xaxis": {
         "anchor": "y",
         "autorange": true,
         "domain": [
          0,
          1
         ],
         "range": [
          -0.5,
          1.5
         ],
         "title": {
          "text": "Type"
         },
         "type": "category"
        },
        "yaxis": {
         "anchor": "x",
         "autorange": true,
         "domain": [
          0,
          1
         ],
         "range": [
          0,
          65083.15789473684
         ],
         "title": {
          "text": "Amount"
         },
         "type": "linear"
        }
       }
      },
      "image/png": "[encoded data removed]",
      "text/html": [
       "<div>                            <div id=\"e497d1bc-a794-4768-811f-a78549d2d725\" class=\"plotly-graph-div\" style=\"height:525px; width:100%;\"></div>            <script type=\"text/javascript\">                require([\"plotly\"], function(Plotly) {                    window.PLOTLYENV=window.PLOTLYENV || {};                                    if (document.getElementById(\"e497d1bc-a794-4768-811f-a78549d2d725\")) {                    Plotly.newPlot(                        \"e497d1bc-a794-4768-811f-a78549d2d725\",                        [{\"alignmentgroup\":\"True\",\"hovertemplate\":\"variable=type<br>Type=%{x}<br>Amount=%{y}<extra></extra>\",\"legendgroup\":\"type\",\"marker\":{\"color\":\"#636efa\",\"pattern\":{\"shape\":\"\"}},\"name\":\"type\",\"offsetgroup\":\"type\",\"orientation\":\"v\",\"showlegend\":true,\"textposition\":\"auto\",\"x\":[\"3\",\"6\"],\"xaxis\":\"x\",\"y\":[61829,6923],\"yaxis\":\"y\",\"type\":\"bar\"}],                        {\"template\":{\"data\":{\"histogram2dcontour\":[{\"type\":\"histogram2dcontour\",\"colorbar\":{\"outlinewidth\":0,\"ticks\":\"\"},\"colorscale\":[[0.0,\"#0d0887\"],[0.1111111111111111,\"#46039f\"],[0.2222222222222222,\"#7201a8\"],[0.3333333333333333,\"#9c179e\"],[0.4444444444444444,\"#bd3786\"],[0.5555555555555556,\"#d8576b\"],[0.6666666666666666,\"#ed7953\"],[0.7777777777777778,\"#fb9f3a\"],[0.8888888888888888,\"#fdca26\"],[1.0,\"#f0f921\"]]}],\"choropleth\":[{\"type\":\"choropleth\",\"colorbar\":{\"outlinewidth\":0,\"ticks\":\"\"}}],\"histogram2d\":[{\"type\":\"histogram2d\",\"colorbar\":{\"outlinewidth\":0,\"ticks\":\"\"},\"colorscale\":[[0.0,\"#0d0887\"],[0.1111111111111111,\"#46039f\"],[0.2222222222222222,\"#7201a8\"],[0.3333333333333333,\"#9c179e\"],[0.4444444444444444,\"#bd3786\"],[0.5555555555555556,\"#d8576b\"],[0.6666666666666666,\"#ed7953\"],[0.7777777777777778,\"#fb9f3a\"],[0.8888888888888888,\"#fdca26\"],[1.0,\"#f0f921\"]]}],\"heatmap\":[{\"type\":\"heatmap\",\"colorbar\":{\"outlinewidth\":0,\"ticks\":\"\"},\"colorscale\":[[0.0,\"#0d0887\"],[0.1111111111111111,\"#46039f\"],[0.2222222222222222,\"#7201a8\"],[0.3333333333333333,\"#9c179e\"],[0.4444444444444444,\"#bd3786\"],[0.5555555555555556,\"#d8576b\"],[0.6666666666666666,\"#ed7953\"],[0.7777777777777778,\"#fb9f3a\"],[0.8888888888888888,\"#fdca26\"],[1.0,\"#f0f921\"]]}],\"heatmapgl\":[{\"type\":\"heatmapgl\",\"colorbar\":{\"outlinewidth\":0,\"ticks\":\"\"},\"colorscale\":[[0.0,\"#0d0887\"],[0.1111111111111111,\"#46039f\"],[0.2222222222222222,\"#7201a8\"],[0.3333333333333333,\"#9c179e\"],[0.4444444444444444,\"#bd3786\"],[0.5555555555555556,\"#d8576b\"],[0.6666666666666666,\"#ed7953\"],[0.7777777777777778,\"#fb9f3a\"],[0.8888888888888888,\"#fdca26\"],[1.0,\"#f0f921\"]]}],\"contourcarpet\":[{\"type\":\"contourcarpet\",\"colorbar\":{\"outlinewidth\":0,\"ticks\":\"\"}}],\"contour\":[{\"type\":\"contour\",\"colorbar\":{\"outlinewidth\":0,\"ticks\":\"\"},\"colorscale\":[[0.0,\"#0d0887\"],[0.1111111111111111,\"#46039f\"],[0.2222222222222222,\"#7201a8\"],[0.3333333333333333,\"#9c179e\"],[0.4444444444444444,\"#bd3786\"],[0.5555555555555556,\"#d8576b\"],[0.6666666666666666,\"#ed7953\"],[0.7777777777777778,\"#fb9f3a\"],[0.8888888888888888,\"#fdca26\"],[1.0,\"#f0f921\"]]}],\"surface\":[{\"type\":\"surface\",\"colorbar\":{\"outlinewidth\":0,\"ticks\":\"\"},\"colorscale\":[[0.0,\"#0d0887\"],[0.1111111111111111,\"#46039f\"],[0.2222222222222222,\"#7201a8\"],[0.3333333333333333,\"#9c179e\"],[0.4444444444444444,\"#bd3786\"],[0.5555555555555556,\"#d8576b\"],[0.6666666666666666,\"#ed7953\"],[0.7777777777777778,\"#fb9f3a\"],[0.8888888888888888,\"#fdca26\"],[1.0,\"#f0f921\"]]}],\"mesh3d\":[{\"type\":\"mesh3d\",\"colorbar\":{\"outlinewidth\":0,\"ticks\":\"\"}}],\"scatter\":[{\"fillpattern\":{\"fillmode\":\"overlay\",\"size\":10,\"solidity\":0.2},\"type\":\"scatter\"}],\"parcoords\":[{\"type\":\"parcoords\",\"line\":{\"colorbar\":{\"outlinewidth\":0,\"ticks\":\"\"}}}],\"scatterpolargl\":[{\"type\":\"scatterpolargl\",\"marker\":{\"colorbar\":{\"outlinewidth\":0,\"ticks\":\"\"}}}],\"bar\":[{\"error_x\":{\"color\":\"#2a3f5f\"},\"error_y\":{\"color\":\"#2a3f5f\"},\"marker\":{\"line\":{\"color\":\"#E5ECF6\",\"width\":0.5},\"pattern\":{\"fillmode\":\"overlay\",\"size\":10,\"solidity\":0.2}},\"type\":\"bar\"}],\"scattergeo\":[{\"type\":\"scattergeo\",\"marker\":{\"colorbar\":{\"outlinewidth\":0,\"ticks\":\"\"}}}],\"scatterpolar\":[{\"type\":\"scatterpolar\",\"marker\":{\"colorbar\":{\"outlinewidth\":0,\"ticks\":\"\"}}}],\"histogram\":[{\"marker\":{\"pattern\":{\"fillmode\":\"overlay\",\"size\":10,\"solidity\":0.2}},\"type\":\"histogram\"}],\"scattergl\":[{\"type\":\"scattergl\",\"marker\":{\"colorbar\":{\"outlinewidth\":0,\"ticks\":\"\"}}}],\"scatter3d\":[{\"type\":\"scatter3d\",\"line\":{\"colorbar\":{\"outlinewidth\":0,\"ticks\":\"\"}},\"marker\":{\"colorbar\":{\"outlinewidth\":0,\"ticks\":\"\"}}}],\"scattermapbox\":[{\"type\":\"scattermapbox\",\"marker\":{\"colorbar\":{\"outlinewidth\":0,\"ticks\":\"\"}}}],\"scatterternary\":[{\"type\":\"scatterternary\",\"marker\":{\"colorbar\":{\"outlinewidth\":0,\"ticks\":\"\"}}}],\"scattercarpet\":[{\"type\":\"scattercarpet\",\"marker\":{\"colorbar\":{\"outlinewidth\":0,\"ticks\":\"\"}}}],\"carpet\":[{\"aaxis\":{\"endlinecolor\":\"#2a3f5f\",\"gridcolor\":\"white\",\"linecolor\":\"white\",\"minorgridcolor\":\"white\",\"startlinecolor\":\"#2a3f5f\"},\"baxis\":{\"endlinecolor\":\"#2a3f5f\",\"gridcolor\":\"white\",\"linecolor\":\"white\",\"minorgridcolor\":\"white\",\"startlinecolor\":\"#2a3f5f\"},\"type\":\"carpet\"}],\"table\":[{\"cells\":{\"fill\":{\"color\":\"#EBF0F8\"},\"line\":{\"color\":\"white\"}},\"header\":{\"fill\":{\"color\":\"#C8D4E3\"},\"line\":{\"color\":\"white\"}},\"type\":\"table\"}],\"barpolar\":[{\"marker\":{\"line\":{\"color\":\"#E5ECF6\",\"width\":0.5},\"pattern\":{\"fillmode\":\"overlay\",\"size\":10,\"solidity\":0.2}},\"type\":\"barpolar\"}],\"pie\":[{\"automargin\":true,\"type\":\"pie\"}]},\"layout\":{\"autotypenumbers\":\"strict\",\"colorway\":[\"#636efa\",\"#EF553B\",\"#00cc96\",\"#ab63fa\",\"#FFA15A\",\"#19d3f3\",\"#FF6692\",\"#B6E880\",\"#FF97FF\",\"#FECB52\"],\"font\":{\"color\":\"#2a3f5f\"},\"hovermode\":\"closest\",\"hoverlabel\":{\"align\":\"left\"},\"paper_bgcolor\":\"white\",\"plot_bgcolor\":\"#E5ECF6\",\"polar\":{\"bgcolor\":\"#E5ECF6\",\"angularaxis\":{\"gridcolor\":\"white\",\"linecolor\":\"white\",\"ticks\":\"\"},\"radialaxis\":{\"gridcolor\":\"white\",\"linecolor\":\"white\",\"ticks\":\"\"}},\"ternary\":{\"bgcolor\":\"#E5ECF6\",\"aaxis\":{\"gridcolor\":\"white\",\"linecolor\":\"white\",\"ticks\":\"\"},\"baxis\":{\"gridcolor\":\"white\",\"linecolor\":\"white\",\"ticks\":\"\"},\"caxis\":{\"gridcolor\":\"white\",\"linecolor\":\"white\",\"ticks\":\"\"}},\"coloraxis\":{\"colorbar\":{\"outlinewidth\":0,\"ticks\":\"\"}},\"colorscale\":{\"sequential\":[[0.0,\"#0d0887\"],[0.1111111111111111,\"#46039f\"],[0.2222222222222222,\"#7201a8\"],[0.3333333333333333,\"#9c179e\"],[0.4444444444444444,\"#bd3786\"],[0.5555555555555556,\"#d8576b\"],[0.6666666666666666,\"#ed7953\"],[0.7777777777777778,\"#fb9f3a\"],[0.8888888888888888,\"#fdca26\"],[1.0,\"#f0f921\"]],\"sequentialminus\":[[0.0,\"#0d0887\"],[0.1111111111111111,\"#46039f\"],[0.2222222222222222,\"#7201a8\"],[0.3333333333333333,\"#9c179e\"],[0.4444444444444444,\"#bd3786\"],[0.5555555555555556,\"#d8576b\"],[0.6666666666666666,\"#ed7953\"],[0.7777777777777778,\"#fb9f3a\"],[0.8888888888888888,\"#fdca26\"],[1.0,\"#f0f921\"]],\"diverging\":[[0,\"#8e0152\"],[0.1,\"#c51b7d\"],[0.2,\"#de77ae\"],[0.3,\"#f1b6da\"],[0.4,\"#fde0ef\"],[0.5,\"#f7f7f7\"],[0.6,\"#e6f5d0\"],[0.7,\"#b8e186\"],[0.8,\"#7fbc41\"],[0.9,\"#4d9221\"],[1,\"#276419\"]]},\"xaxis\":{\"gridcolor\":\"white\",\"linecolor\":\"white\",\"ticks\":\"\",\"title\":{\"standoff\":15},\"zerolinecolor\":\"white\",\"automargin\":true,\"zerolinewidth\":2},\"yaxis\":{\"gridcolor\":\"white\",\"linecolor\":\"white\",\"ticks\":\"\",\"title\":{\"standoff\":15},\"zerolinecolor\":\"white\",\"automargin\":true,\"zerolinewidth\":2},\"scene\":{\"xaxis\":{\"backgroundcolor\":\"#E5ECF6\",\"gridcolor\":\"white\",\"linecolor\":\"white\",\"showbackground\":true,\"ticks\":\"\",\"zerolinecolor\":\"white\",\"gridwidth\":2},\"yaxis\":{\"backgroundcolor\":\"#E5ECF6\",\"gridcolor\":\"white\",\"linecolor\":\"white\",\"showbackground\":true,\"ticks\":\"\",\"zerolinecolor\":\"white\",\"gridwidth\":2},\"zaxis\":{\"backgroundcolor\":\"#E5ECF6\",\"gridcolor\":\"white\",\"linecolor\":\"white\",\"showbackground\":true,\"ticks\":\"\",\"zerolinecolor\":\"white\",\"gridwidth\":2}},\"shapedefaults\":{\"line\":{\"color\":\"#2a3f5f\"}},\"annotationdefaults\":{\"arrowcolor\":\"#2a3f5f\",\"arrowhead\":0,\"arrowwidth\":1},\"geo\":{\"bgcolor\":\"white\",\"landcolor\":\"#E5ECF6\",\"subunitcolor\":\"white\",\"showland\":true,\"showlakes\":true,\"lakecolor\":\"white\"},\"title\":{\"x\":0.05},\"mapbox\":{\"style\":\"light\"}}},\"xaxis\":{\"anchor\":\"y\",\"domain\":[0.0,1.0],\"title\":{\"text\":\"Type\"}},\"yaxis\":{\"anchor\":\"x\",\"domain\":[0.0,1.0],\"title\":{\"text\":\"Amount\"}},\"legend\":{\"title\":{\"text\":\"variable\"},\"tracegroupgap\":0},\"title\":{\"text\":\"Distribution of galaxies and stars\"},\"barmode\":\"relative\"},                        {\"responsive\": true}                    ).then(function(){\n",
       "                            \n",
       "var gd = document.getElementById('e497d1bc-a794-4768-811f-a78549d2d725');\n",
       "var x = new MutationObserver(function (mutations, observer) {{\n",
       "        var display = window.getComputedStyle(gd).display;\n",
       "        if (!display || display === 'none') {{\n",
       "            console.log([gd, 'removed!']);\n",
       "            Plotly.purge(gd);\n",
       "            observer.disconnect();\n",
       "        }}\n",
       "}});\n",
       "\n",
       "// Listen for the removal of the full notebook cells\n",
       "var notebookContainer = gd.closest('#notebook-container');\n",
       "if (notebookContainer) {{\n",
       "    x.observe(notebookContainer, {childList: true});\n",
       "}}\n",
       "\n",
       "// Listen for the clearing of the current output cell\n",
       "var outputEl = gd.closest('.output');\n",
       "if (outputEl) {{\n",
       "    x.observe(outputEl, {childList: true});\n",
       "}}\n",
       "\n",
       "                        })                };                });            </script>        </div>"
      ]
     },
     "metadata": {},
     "output_type": "display_data"
    }
   ],
   "source": [
    "train_ps.type.value_counts().plot(kind = 'bar', title=\"Distribution of galaxies and stars\",\n",
    "                                 labels=dict(index=\"Type\", value=\"Amount\"))"
   ]
  },
  {
   "cell_type": "code",
   "execution_count": 207,
   "id": "da86aba3-d606-48c7-8e07-866d5b652bdd",
   "metadata": {},
   "outputs": [
    {
     "name": "stderr",
     "output_type": "stream",
     "text": [
      "                                                                                \r"
     ]
    },
    {
     "data": {
      "text/html": [
       "<div>\n",
       "<style scoped>\n",
       "    .dataframe tbody tr th:only-of-type {\n",
       "        vertical-align: middle;\n",
       "    }\n",
       "\n",
       "    .dataframe tbody tr th {\n",
       "        vertical-align: top;\n",
       "    }\n",
       "\n",
       "    .dataframe thead th {\n",
       "        text-align: right;\n",
       "    }\n",
       "</style>\n",
       "<table border=\"1\" class=\"dataframe\">\n",
       "  <thead>\n",
       "    <tr style=\"text-align: right;\">\n",
       "      <th></th>\n",
       "      <th>modelMag_r</th>\n",
       "    </tr>\n",
       "  </thead>\n",
       "  <tbody>\n",
       "    <tr>\n",
       "      <th>count</th>\n",
       "      <td>68752.000000</td>\n",
       "    </tr>\n",
       "    <tr>\n",
       "      <th>mean</th>\n",
       "      <td>17.398768</td>\n",
       "    </tr>\n",
       "    <tr>\n",
       "      <th>std</th>\n",
       "      <td>1.014768</td>\n",
       "    </tr>\n",
       "    <tr>\n",
       "      <th>min</th>\n",
       "      <td>14.000070</td>\n",
       "    </tr>\n",
       "    <tr>\n",
       "      <th>25%</th>\n",
       "      <td>16.863910</td>\n",
       "    </tr>\n",
       "    <tr>\n",
       "      <th>50%</th>\n",
       "      <td>17.404190</td>\n",
       "    </tr>\n",
       "    <tr>\n",
       "      <th>75%</th>\n",
       "      <td>17.770580</td>\n",
       "    </tr>\n",
       "    <tr>\n",
       "      <th>max</th>\n",
       "      <td>20.997010</td>\n",
       "    </tr>\n",
       "  </tbody>\n",
       "</table>\n",
       "</div>"
      ],
      "text/plain": [
       "         modelMag_r\n",
       "count  68752.000000\n",
       "mean      17.398768\n",
       "std        1.014768\n",
       "min       14.000070\n",
       "25%       16.863910\n",
       "50%       17.404190\n",
       "75%       17.770580\n",
       "max       20.997010"
      ]
     },
     "execution_count": 207,
     "metadata": {},
     "output_type": "execute_result"
    }
   ],
   "source": [
    "train_ps[[\"modelMag_r\"]].describe()"
   ]
  },
  {
   "cell_type": "code",
   "execution_count": 248,
   "id": "a883cf5b-bb68-4839-9262-074c13cd2cf3",
   "metadata": {},
   "outputs": [
    {
     "data": {
      "text/plain": [
       "Text(0.5, 1.0, 'Histogram of object magnitudes in the \\nSDSS data sample')"
      ]
     },
     "execution_count": 248,
     "metadata": {},
     "output_type": "execute_result"
    },
    {
     "data": {
      "image/png": "[encoded data removed]",
      "text/plain": [
       "<Figure size 432x288 with 1 Axes>"
      ]
     },
     "metadata": {
      "needs_background": "light"
     },
     "output_type": "display_data"
    }
   ],
   "source": [
    "plt.hist(train_ps.modelMag_r, bins=20)\n",
    "plt.xlabel(\"Magnitude (r)\")\n",
    "plt.title(\"Histogram of object magnitudes in the \\nSDSS data sample\")"
   ]
  },
  {
   "cell_type": "markdown",
   "id": "e2caea67-3a1b-4bb9-a37f-a186d72ef819",
   "metadata": {},
   "source": [
    "## Modeling"
   ]
  },
  {
   "cell_type": "markdown",
   "id": "c9f900d6-9720-4003-bd78-13c014574f58",
   "metadata": {},
   "source": [
    "### Random forest classifier"
   ]
  },
  {
   "cell_type": "markdown",
   "id": "aeed1ec0-9887-41d5-bc26-e3b3dce4e4f0",
   "metadata": {},
   "source": [
    "#### Set up transformations"
   ]
  },
  {
   "cell_type": "code",
   "execution_count": 38,
   "id": "63e9a8a4-fe20-4cb2-85be-b05bc29269c4",
   "metadata": {},
   "outputs": [],
   "source": [
    "from pyspark.ml.feature import SQLTransformer\n",
    "\n",
    "sqlTrans = SQLTransformer(\n",
    "    statement = \"SELECT psfMag_r, modelMag_r, petroMag_r, fiberMag_r, \\\n",
    "                        petroRad_r, petroR50_r, petroR90_r, lnLStar_r, \\\n",
    "                        lnLExp_r, lnLDeV_r, mE1_r, mE2_r, mRrCc_r, \\\n",
    "                        type as label FROM __THIS__\"\n",
    ")"
   ]
  },
  {
   "cell_type": "code",
   "execution_count": 39,
   "id": "3bfad018-6647-4a3c-adfc-24590b777542",
   "metadata": {},
   "outputs": [
    {
     "data": {
      "text/plain": [
       "['psfMag_r',\n",
       " 'modelMag_r',\n",
       " 'petroMag_r',\n",
       " 'fiberMag_r',\n",
       " 'petroRad_r',\n",
       " 'petroR50_r',\n",
       " 'petroR90_r',\n",
       " 'lnLStar_r',\n",
       " 'lnLExp_r',\n",
       " 'lnLDeV_r',\n",
       " 'mE1_r',\n",
       " 'mE2_r',\n",
       " 'mRrCc_r']"
      ]
     },
     "execution_count": 39,
     "metadata": {},
     "output_type": "execute_result"
    }
   ],
   "source": [
    "# Create our list of features by dropping unused columns\n",
    "features_list = sqlTrans.transform(train).drop(\"label\").columns\n",
    "features_list"
   ]
  },
  {
   "cell_type": "markdown",
   "id": "a5c015a1-a382-43a0-9d13-32ae71bcb309",
   "metadata": {},
   "source": [
    "We can set up transformations for our data."
   ]
  },
  {
   "cell_type": "code",
   "execution_count": 40,
   "id": "03d6b347-9711-43cd-88f7-e6ef80413faa",
   "metadata": {},
   "outputs": [],
   "source": [
    "from pyspark.ml.feature import VectorAssembler, StandardScaler\n",
    "\n",
    "assembler = VectorAssembler(inputCols=features_list, outputCol=\"features\")\n",
    "\n",
    "#scaler = StandardScaler(inputCol=\"unscaledFeatures\", outputCol=\"features\")"
   ]
  },
  {
   "cell_type": "markdown",
   "id": "6fdf3379-f5e3-4884-9566-a49bf6b8b9cb",
   "metadata": {},
   "source": [
    "We can select an algorithm for our data and instantiate it."
   ]
  },
  {
   "cell_type": "code",
   "execution_count": 41,
   "id": "712b4397-75fa-4d74-86c8-0ef1b075e9d2",
   "metadata": {},
   "outputs": [],
   "source": [
    "from pyspark.ml.classification import RandomForestClassifier\n",
    "\n",
    "rfc = RandomForestClassifier(labelCol=\"label\", featuresCol=\"features\")"
   ]
  },
  {
   "cell_type": "markdown",
   "id": "4607de70-0652-4446-9978-981e74c13d3d",
   "metadata": {},
   "source": [
    "Finally, we can set up a pipeline."
   ]
  },
  {
   "cell_type": "code",
   "execution_count": 42,
   "id": "5271121c-efd8-4b3c-a82f-9bdd208db6ca",
   "metadata": {},
   "outputs": [],
   "source": [
    "from pyspark.ml import Pipeline\n",
    "\n",
    "pipeline = Pipeline(stages = [sqlTrans, assembler, rfc])"
   ]
  },
  {
   "cell_type": "markdown",
   "id": "b2a25947-b932-45f8-a888-3aa6df95c8c2",
   "metadata": {},
   "source": [
    "We can then set up cross-validation."
   ]
  },
  {
   "cell_type": "code",
   "execution_count": 48,
   "id": "d91aeaf1-bfb6-448f-ac80-245ac698f8f7",
   "metadata": {},
   "outputs": [],
   "source": [
    "from pyspark.ml.tuning import CrossValidator, ParamGridBuilder\n",
    "from pyspark.ml.evaluation import BinaryClassificationEvaluator, MulticlassClassificationEvaluator\n",
    "\n",
    "\n",
    "rfcParamGrid = (ParamGridBuilder()\n",
    "             .addGrid(rfc.maxDepth, [0, 10, 20, 30])\n",
    "             .addGrid(rfc.numTrees, [5, 10, 20, 30, 40])\n",
    "             .build())\n",
    "\n",
    "crossVal = CrossValidator(estimator = pipeline,\n",
    "                          estimatorParamMaps = rfcParamGrid,\n",
    "                          evaluator = MulticlassClassificationEvaluator(),\n",
    "                          numFolds = 3)"
   ]
  },
  {
   "cell_type": "code",
   "execution_count": 49,
   "id": "59d25a0c-e0c0-47f7-aa2d-7197c691f94c",
   "metadata": {},
   "outputs": [
    {
     "name": "stderr",
     "output_type": "stream",
     "text": [
      "                                                                                \r"
     ]
    }
   ],
   "source": [
    "# Run cross-validation, and choose the best set of parameters\n",
    "\n",
    "cvModel = crossVal.fit(train)"
   ]
  },
  {
   "cell_type": "code",
   "execution_count": 52,
   "id": "9034ca34-5b15-4d59-819a-a6e0beec8cf8",
   "metadata": {},
   "outputs": [],
   "source": [
    "rfcPredictions = cvModel.transform(test)"
   ]
  },
  {
   "cell_type": "code",
   "execution_count": 59,
   "id": "6769ae1a-f6db-4bdd-9a0d-ebe35d1c6312",
   "metadata": {},
   "outputs": [
    {
     "name": "stdout",
     "output_type": "stream",
     "text": [
      "Accuracy: 0.9960181108638269\n"
     ]
    }
   ],
   "source": [
    "print('Accuracy:', MulticlassClassificationEvaluator().evaluate(rfcPredictions))"
   ]
  },
  {
   "cell_type": "code",
   "execution_count": 60,
   "id": "80bae3ca-8737-4bf0-b16b-e393d2e5224b",
   "metadata": {},
   "outputs": [
    {
     "name": "stderr",
     "output_type": "stream",
     "text": [
      "                                                                                \r"
     ]
    },
    {
     "name": "stdout",
     "output_type": "stream",
     "text": [
      "Confusion Matrix:\n",
      "[[15603    24]\n",
      " [   45  1703]]\n"
     ]
    }
   ],
   "source": [
    "from sklearn.metrics import confusion_matrix\n",
    "\n",
    "y_pred=rfcPredictions.select(\"prediction\").collect()\n",
    "y_orig=rfcPredictions.select(\"label\").collect()\n",
    "\n",
    "cm = confusion_matrix(y_orig, y_pred)\n",
    "print(\"Confusion Matrix:\")\n",
    "print(cm)"
   ]
  },
  {
   "cell_type": "code",
   "execution_count": null,
   "id": "4f1c288d-e5bf-4c9c-a672-37e8e32c6abe",
   "metadata": {},
   "outputs": [],
   "source": []
  },
  {
   "cell_type": "code",
   "execution_count": 24,
   "id": "ab9d1d60-a111-44bc-957f-ecc3d9ee1330",
   "metadata": {},
   "outputs": [],
   "source": [
    "from pyspark.ml.classification import LogisticRegression\n",
    "\n",
    "lr = LogisticRegression()\n",
    "grid_lr = ParamGridBuilder().addGrid(lr.maxIter, [0, 1]).build()\n",
    "evaluator_lr = MulticlassClassificationEvaluator()"
   ]
  },
  {
   "cell_type": "code",
   "execution_count": 26,
   "id": "c778ce5e-23c0-4675-a671-0464f0946e0a",
   "metadata": {},
   "outputs": [],
   "source": [
    "pipeline_lr = Pipeline(stages = [sqlTrans, assembler, lr])"
   ]
  },
  {
   "cell_type": "code",
   "execution_count": 27,
   "id": "d43b0ec4-3b50-4b00-b889-0e7083e44b97",
   "metadata": {},
   "outputs": [
    {
     "name": "stderr",
     "output_type": "stream",
     "text": [
      "22/04/25 22:02:24 WARN CacheManager: Asked to cache already cached data.\n",
      "22/04/25 22:02:24 WARN CacheManager: Asked to cache already cached data.\n",
      "                                                                                \r"
     ]
    }
   ],
   "source": [
    "cv = CrossValidator(estimator=pipeline_lr, estimatorParamMaps=grid_lr, evaluator=evaluator_lr,\n",
    "    parallelism=2)\n",
    "cvModel_lr = cv.fit(train)"
   ]
  },
  {
   "cell_type": "code",
   "execution_count": 28,
   "id": "4365ac46-7991-4aa1-896b-fe968560d4f5",
   "metadata": {},
   "outputs": [
    {
     "name": "stderr",
     "output_type": "stream",
     "text": [
      "[Stage 461:>                                                        (0 + 8) / 8]\r"
     ]
    },
    {
     "name": "stdout",
     "output_type": "stream",
     "text": [
      "0.940197424404984\n"
     ]
    },
    {
     "name": "stderr",
     "output_type": "stream",
     "text": [
      "                                                                                \r"
     ]
    }
   ],
   "source": [
    "test_error = MulticlassClassificationEvaluator().evaluate(cvModel_lr.transform(test))\n",
    "print(test_error)"
   ]
  },
  {
   "cell_type": "code",
   "execution_count": null,
   "id": "e0f5fb5a-ef4c-4917-a622-7af7a28585bc",
   "metadata": {},
   "outputs": [],
   "source": []
  },
  {
   "cell_type": "code",
   "execution_count": null,
   "id": "75065a5a-a391-47bb-8107-bf0901d37a81",
   "metadata": {},
   "outputs": [],
   "source": []
  },
  {
   "cell_type": "code",
   "execution_count": 49,
   "id": "3d8959e7-7a79-45a4-b670-284e1895a743",
   "metadata": {},
   "outputs": [
    {
     "name": "stdout",
     "output_type": "stream",
     "text": [
      "Prediction Accuracy:  0.9951260086324447\n"
     ]
    }
   ],
   "source": [
    "from pyspark.ml.evaluation import MulticlassClassificationEvaluator\n",
    "\n",
    "evaluator=MulticlassClassificationEvaluator(predictionCol=\"prediction\")\n",
    "acc = evaluator.evaluate(pred)\n",
    "print(\"Prediction Accuracy: \", acc)"
   ]
  },
  {
   "cell_type": "code",
   "execution_count": 60,
   "id": "b0ebf167-40d2-4fd7-bdd2-759d6352e2ee",
   "metadata": {},
   "outputs": [],
   "source": [
    "faint_mag = pred.filter((pred.modelMag_r >= 20.5) & (pred.modelMag_r <= 21))"
   ]
  },
  {
   "cell_type": "code",
   "execution_count": 61,
   "id": "506c752d-0a7a-4c52-8c80-6a5f29e3e432",
   "metadata": {},
   "outputs": [
    {
     "name": "stdout",
     "output_type": "stream",
     "text": [
      "Prediction Accuracy:  0.9223043524303716\n"
     ]
    }
   ],
   "source": [
    "acc_faint = evaluator.evaluate(faint_mag)\n",
    "print(\"Prediction Accuracy: \", acc_faint)"
   ]
  },
  {
   "cell_type": "code",
   "execution_count": 9,
   "id": "69eab3b0-5606-40fd-93a6-6abc18ca8dfc",
   "metadata": {},
   "outputs": [
    {
     "ename": "NameError",
     "evalue": "name 'pred' is not defined",
     "output_type": "error",
     "traceback": [
      "\u001b[1;31m---------------------------------------------------------------------------\u001b[0m",
      "\u001b[1;31mNameError\u001b[0m                                 Traceback (most recent call last)",
      "Input \u001b[1;32mIn [9]\u001b[0m, in \u001b[0;36m<cell line: 9>\u001b[1;34m()\u001b[0m\n\u001b[0;32m      1\u001b[0m \u001b[38;5;28;01mfrom\u001b[39;00m \u001b[38;5;21;01mpyspark\u001b[39;00m\u001b[38;5;21;01m.\u001b[39;00m\u001b[38;5;21;01mml\u001b[39;00m\u001b[38;5;21;01m.\u001b[39;00m\u001b[38;5;21;01mevaluation\u001b[39;00m \u001b[38;5;28;01mimport\u001b[39;00m BinaryClassificationEvaluator\n\u001b[0;32m      3\u001b[0m evaluator \u001b[38;5;241m=\u001b[39m BinaryClassificationEvaluator(\n\u001b[0;32m      4\u001b[0m     labelCol\u001b[38;5;241m=\u001b[39m\u001b[38;5;124m\"\u001b[39m\u001b[38;5;124mlabel\u001b[39m\u001b[38;5;124m\"\u001b[39m,                     \n\u001b[0;32m      5\u001b[0m     rawPredictionCol\u001b[38;5;241m=\u001b[39m\u001b[38;5;124m\"\u001b[39m\u001b[38;5;124mprediction\u001b[39m\u001b[38;5;124m\"\u001b[39m,       \n\u001b[0;32m      6\u001b[0m     metricName\u001b[38;5;241m=\u001b[39m\u001b[38;5;124m\"\u001b[39m\u001b[38;5;124mareaUnderROC\u001b[39m\u001b[38;5;124m\"\u001b[39m,\n\u001b[0;32m      7\u001b[0m )\n\u001b[1;32m----> 9\u001b[0m accuracy \u001b[38;5;241m=\u001b[39m evaluator\u001b[38;5;241m.\u001b[39mevaluate(\u001b[43mpred\u001b[49m)\n\u001b[0;32m     10\u001b[0m \u001b[38;5;28mprint\u001b[39m(\u001b[38;5;124mf\u001b[39m\u001b[38;5;124m\"\u001b[39m\u001b[38;5;124mArea under ROC = \u001b[39m\u001b[38;5;132;01m{\u001b[39;00maccuracy\u001b[38;5;132;01m}\u001b[39;00m\u001b[38;5;124m \u001b[39m\u001b[38;5;124m\"\u001b[39m)\n",
      "\u001b[1;31mNameError\u001b[0m: name 'pred' is not defined"
     ]
    }
   ],
   "source": [
    "from pyspark.ml.evaluation import BinaryClassificationEvaluator\n",
    " \n",
    "evaluator = BinaryClassificationEvaluator(\n",
    "    labelCol=\"label\",                     \n",
    "    rawPredictionCol=\"prediction\",       \n",
    "    metricName=\"areaUnderROC\",\n",
    ")\n",
    " \n",
    "accuracy = evaluator.evaluate(pred)\n",
    "print(f\"Area under ROC = {accuracy} \")"
   ]
  },
  {
   "cell_type": "markdown",
   "id": "2bb29eac-28bf-4adb-b1b6-2530e9c52484",
   "metadata": {},
   "source": [
    "## Decision tree"
   ]
  },
  {
   "cell_type": "code",
   "execution_count": 61,
   "id": "e18e1ab9-7ecb-4b75-a0c7-c7a9aee673c3",
   "metadata": {},
   "outputs": [],
   "source": [
    "from pyspark.ml.classification import DecisionTreeClassifier\n",
    "\n",
    "dtClassifier = DecisionTreeClassifier()\n",
    "\n",
    "dtPipeline = Pipeline().setStages([sqlTrans, assembler, dtClassifier])"
   ]
  },
  {
   "cell_type": "code",
   "execution_count": 62,
   "id": "e44ef681-b2a9-4dde-ac13-1ae1a68e5904",
   "metadata": {},
   "outputs": [],
   "source": [
    "dtParamGrid = (ParamGridBuilder()\n",
    "             .addGrid(dtClassifier.maxDepth, [0, 5, 10, 20]) \\\n",
    "             .build())\n",
    "\n",
    "dtCrossVal = CrossValidator(estimator = dtPipeline,\n",
    "                          estimatorParamMaps = dtParamGrid,\n",
    "                          evaluator = MulticlassClassificationEvaluator(),\n",
    "                          numFolds = 3)"
   ]
  },
  {
   "cell_type": "code",
   "execution_count": 63,
   "id": "843ac385-fc6d-4155-b414-b4adfcae503d",
   "metadata": {},
   "outputs": [
    {
     "name": "stderr",
     "output_type": "stream",
     "text": [
      "                                                                                \r"
     ]
    }
   ],
   "source": [
    "# Run cross-validation, and choose the best set of parameters\n",
    "\n",
    "dtCVModel = dtCrossVal.fit(train)"
   ]
  },
  {
   "cell_type": "code",
   "execution_count": 64,
   "id": "6c005660-12ac-4245-bf6b-4b92cef8d804",
   "metadata": {},
   "outputs": [],
   "source": [
    "dtPredictions = dtCVModel.transform(test)"
   ]
  },
  {
   "cell_type": "code",
   "execution_count": 65,
   "id": "f9294eca-450b-4b99-b818-d6b6ee921670",
   "metadata": {},
   "outputs": [
    {
     "name": "stdout",
     "output_type": "stream",
     "text": [
      "Accuracy: 0.9937226278921604\n"
     ]
    }
   ],
   "source": [
    "print('Accuracy:', MulticlassClassificationEvaluator().evaluate(dtPredictions))"
   ]
  },
  {
   "cell_type": "markdown",
   "id": "90db3cd2-04c9-4178-bfb0-5a5be9e2cf76",
   "metadata": {},
   "source": [
    "### Gradient-boosted trees"
   ]
  },
  {
   "cell_type": "code",
   "execution_count": 81,
   "id": "d0604c70-605c-47a9-aaa9-4c023c438b7d",
   "metadata": {},
   "outputs": [],
   "source": [
    "from pyspark.ml.feature import StringIndexer\n",
    "from pyspark.ml.classification import GBTClassifier\n",
    "\n",
    "stringIndexer = StringIndexer(inputCol=\"type\",\n",
    "                               outputCol=\"label\",\n",
    "                               handleInvalid=\"skip\" )\n",
    "\n",
    "gbtSQLTrans = SQLTransformer(\n",
    "    statement = \"SELECT psfMag_r, modelMag_r, petroMag_r, fiberMag_r, \\\n",
    "                        petroRad_r, petroR50_r, petroR90_r, lnLStar_r, \\\n",
    "                        lnLExp_r, lnLDeV_r, mE1_r, mE2_r, mRrCc_r, \\\n",
    "                        label FROM __THIS__\"\n",
    ")\n",
    "\n",
    "gbtClassifier = GBTClassifier()\n",
    "\n",
    "gbtPipeline = Pipeline().setStages([stringIndexer, gbtSQLTrans, assembler, gbt])"
   ]
  },
  {
   "cell_type": "code",
   "execution_count": 82,
   "id": "13adbca6-275f-47fb-bbfd-ac4586286dca",
   "metadata": {},
   "outputs": [],
   "source": [
    "gbtParamGrid = (ParamGridBuilder()\n",
    "             .addGrid(gbtClassifier.maxDepth, [0, 5, 10, 20]) \\\n",
    "             .build())\n",
    "\n",
    "gbtCrossVal = CrossValidator(estimator = gbtPipeline,\n",
    "                          estimatorParamMaps = gbtParamGrid,\n",
    "                          evaluator = MulticlassClassificationEvaluator(),\n",
    "                          numFolds = 3)"
   ]
  },
  {
   "cell_type": "code",
   "execution_count": 83,
   "id": "4d83d8e7-7554-4753-93d5-30aceeb8f201",
   "metadata": {},
   "outputs": [
    {
     "name": "stderr",
     "output_type": "stream",
     "text": [
      "                                                                                \r"
     ]
    }
   ],
   "source": [
    "gbtCVModel = gbtCrossVal.fit(train)"
   ]
  },
  {
   "cell_type": "code",
   "execution_count": 84,
   "id": "22addcac-e090-4a6c-acc1-18a27682d54a",
   "metadata": {},
   "outputs": [],
   "source": [
    "gbtPredictions = gbtCVModel.transform(test)"
   ]
  },
  {
   "cell_type": "code",
   "execution_count": 88,
   "id": "f6dd55a0-bcce-4d8d-b332-42927679bf46",
   "metadata": {},
   "outputs": [
    {
     "name": "stdout",
     "output_type": "stream",
     "text": [
      "+--------+----------+----------+----------+----------+----------+----------+---------+----------+----------+----------+-----------+--------+-----+--------------------+--------------------+--------------------+----------+\n",
      "|psfMag_r|modelMag_r|petroMag_r|fiberMag_r|petroRad_r|petroR50_r|petroR90_r|lnLStar_r|  lnLExp_r|  lnLDeV_r|     mE1_r|      mE2_r| mRrCc_r|label|            features|       rawPrediction|         probability|prediction|\n",
      "+--------+----------+----------+----------+----------+----------+----------+---------+----------+----------+----------+-----------+--------+-----+--------------------+--------------------+--------------------+----------+\n",
      "|18.70511|  16.89667|  16.91058|  18.57298|  5.902012|  2.750115|  5.684737|-11593.78| -422.4577| -1034.826| -0.305131| -0.1242297|51.97928|  0.0|[18.70511,16.8966...|[1.54261756354760...|[0.95627958330078...|       0.0|\n",
      "|17.40547|  17.36561|  17.40621|  17.73569|  1.428235| 0.7082859|  1.609841|-26.98189|-0.8260614|-0.5565038|-0.1666387|0.007921596|3.719694|  1.0|[17.40547,17.3656...|[-1.3717761072177...|[0.06045183144840...|       1.0|\n",
      "|18.38794|  17.66213|  17.76486|  18.43033|  2.370656|  1.120736|  2.701848|-94.87026|-0.4453381|-0.6460184|-0.3208079|  0.2331725|9.173407|  0.0|[18.38794,17.6621...|[-1.9218638139618...|[0.02096470000413...|       1.0|\n",
      "|19.03216|  17.31576|  17.58393|  18.95633|  5.165908|  2.307175|  5.609862|-4154.123| -266.0255| -228.8011|  0.700066|  0.1403787|39.62853|  0.0|[19.03216,17.3157...|[1.54261756354760...|[0.95627958330078...|       0.0|\n",
      "|19.32972|  17.34082|  17.37431|  19.13371|  5.957586|  2.828844|  5.576993|-5556.071| -139.1829| -598.3489|-0.1401795| -0.2532302|56.99618|  0.0|[19.32972,17.3408...|[1.54261756354760...|[0.95627958330078...|       0.0|\n",
      "+--------+----------+----------+----------+----------+----------+----------+---------+----------+----------+----------+-----------+--------+-----+--------------------+--------------------+--------------------+----------+\n",
      "only showing top 5 rows\n",
      "\n"
     ]
    },
    {
     "name": "stderr",
     "output_type": "stream",
     "text": [
      "                                                                                \r"
     ]
    }
   ],
   "source": [
    "gbtPredictions.show(5)"
   ]
  },
  {
   "cell_type": "code",
   "execution_count": 89,
   "id": "d514a39b-a5b2-480c-85f0-e39f5bc5a311",
   "metadata": {},
   "outputs": [
    {
     "name": "stderr",
     "output_type": "stream",
     "text": [
      "[Stage 6474:>                                                       (0 + 5) / 5]\r"
     ]
    },
    {
     "name": "stdout",
     "output_type": "stream",
     "text": [
      "Accuracy: 0.8769166317553414\n"
     ]
    },
    {
     "name": "stderr",
     "output_type": "stream",
     "text": [
      "                                                                                \r"
     ]
    }
   ],
   "source": [
    "print('Accuracy:', MulticlassClassificationEvaluator().evaluate(gbtPredictions.filter(gbtPredictions.modelMag_r >= 20.5)))"
   ]
  },
  {
   "cell_type": "code",
   "execution_count": 95,
   "id": "36a79d03-9942-489a-9f45-01e7e84c2908",
   "metadata": {},
   "outputs": [
    {
     "name": "stdout",
     "output_type": "stream",
     "text": [
      "+-----+----------+\n",
      "|label|prediction|\n",
      "+-----+----------+\n",
      "|  1.0|       0.0|\n",
      "|  0.0|       1.0|\n",
      "|  1.0|       1.0|\n",
      "|  1.0|       1.0|\n",
      "|  1.0|       1.0|\n",
      "|  0.0|       0.0|\n",
      "|  1.0|       1.0|\n",
      "|  0.0|       0.0|\n",
      "|  1.0|       1.0|\n",
      "|  0.0|       1.0|\n",
      "|  0.0|       0.0|\n",
      "|  1.0|       1.0|\n",
      "|  1.0|       1.0|\n",
      "|  1.0|       1.0|\n",
      "|  1.0|       1.0|\n",
      "|  1.0|       1.0|\n",
      "|  1.0|       1.0|\n",
      "|  1.0|       1.0|\n",
      "|  1.0|       1.0|\n",
      "|  1.0|       1.0|\n",
      "|  1.0|       1.0|\n",
      "|  0.0|       0.0|\n",
      "|  1.0|       1.0|\n",
      "|  0.0|       1.0|\n",
      "|  1.0|       1.0|\n",
      "|  1.0|       1.0|\n",
      "|  0.0|       0.0|\n",
      "|  1.0|       1.0|\n",
      "|  1.0|       1.0|\n",
      "|  1.0|       1.0|\n",
      "|  1.0|       1.0|\n",
      "|  0.0|       0.0|\n",
      "|  0.0|       0.0|\n",
      "|  1.0|       1.0|\n",
      "|  1.0|       1.0|\n",
      "|  1.0|       1.0|\n",
      "|  1.0|       1.0|\n",
      "|  0.0|       0.0|\n",
      "|  1.0|       1.0|\n",
      "|  1.0|       1.0|\n",
      "|  1.0|       1.0|\n",
      "|  1.0|       1.0|\n",
      "|  1.0|       1.0|\n",
      "|  1.0|       1.0|\n",
      "|  1.0|       1.0|\n",
      "|  1.0|       1.0|\n",
      "|  1.0|       1.0|\n",
      "|  0.0|       0.0|\n",
      "|  0.0|       0.0|\n",
      "|  1.0|       1.0|\n",
      "|  0.0|       1.0|\n",
      "|  0.0|       1.0|\n",
      "|  1.0|       1.0|\n",
      "|  1.0|       1.0|\n",
      "|  1.0|       1.0|\n",
      "|  0.0|       0.0|\n",
      "|  1.0|       1.0|\n",
      "|  1.0|       0.0|\n",
      "|  1.0|       1.0|\n",
      "|  1.0|       1.0|\n",
      "|  1.0|       0.0|\n",
      "|  1.0|       1.0|\n",
      "|  1.0|       1.0|\n",
      "|  1.0|       1.0|\n",
      "|  0.0|       0.0|\n",
      "|  0.0|       0.0|\n",
      "|  1.0|       1.0|\n",
      "|  0.0|       0.0|\n",
      "|  1.0|       1.0|\n",
      "|  0.0|       0.0|\n",
      "|  1.0|       1.0|\n",
      "|  1.0|       0.0|\n",
      "|  1.0|       1.0|\n",
      "|  0.0|       0.0|\n",
      "|  1.0|       1.0|\n",
      "|  0.0|       0.0|\n",
      "|  0.0|       0.0|\n",
      "|  0.0|       0.0|\n",
      "|  1.0|       1.0|\n",
      "|  1.0|       0.0|\n",
      "|  1.0|       1.0|\n",
      "|  1.0|       1.0|\n",
      "|  1.0|       1.0|\n",
      "|  1.0|       1.0|\n",
      "|  1.0|       1.0|\n",
      "|  1.0|       1.0|\n",
      "|  1.0|       1.0|\n",
      "|  0.0|       0.0|\n",
      "|  1.0|       1.0|\n",
      "|  0.0|       0.0|\n",
      "|  1.0|       1.0|\n",
      "|  1.0|       1.0|\n",
      "|  1.0|       1.0|\n",
      "|  1.0|       0.0|\n",
      "|  1.0|       1.0|\n",
      "|  1.0|       1.0|\n",
      "|  1.0|       0.0|\n",
      "|  1.0|       1.0|\n",
      "|  1.0|       1.0|\n",
      "|  1.0|       1.0|\n",
      "|  1.0|       1.0|\n",
      "|  1.0|       1.0|\n",
      "|  1.0|       1.0|\n",
      "|  1.0|       1.0|\n",
      "|  0.0|       1.0|\n",
      "+-----+----------+\n",
      "\n"
     ]
    }
   ],
   "source": [
    " gbtPredictions.filter(gbtPredictions.modelMag_r >= 20.5).select(gbtPredictions.label, gbtPredictions.prediction).show(105)                                                                                                                                               "
   ]
  },
  {
   "cell_type": "code",
   "execution_count": null,
   "id": "5c2a3b2d-8efe-4313-b508-57aa5b3c6f12",
   "metadata": {},
   "outputs": [],
   "source": []
  }
 ],
 "metadata": {
  "citation-manager": {
   "items": {}
  },
  "kernelspec": {
   "display_name": "Python 3 (ipykernel)",
   "language": "python",
   "name": "python3"
  },
  "language_info": {
   "codemirror_mode": {
    "name": "ipython",
    "version": 3
   },
   "file_extension": ".py",
   "mimetype": "text/x-python",
   "name": "python",
   "nbconvert_exporter": "python",
   "pygments_lexer": "ipython3",
   "version": "3.10.2"
  }
 },
 "nbformat": 4,
 "nbformat_minor": 5
}
