{
 "cells": [
  {
   "cell_type": "markdown",
   "id": "3869e550-01cf-49c5-809b-4693f69c36bc",
   "metadata": {},
   "source": [
    "# Classifying stars and galaxies using machine learning"
   ]
  },
  {
   "cell_type": "markdown",
   "id": "96299d30-496a-4e24-8667-b047ac6809b9",
   "metadata": {
    "tags": []
   },
   "source": [
    "Authored by Maksim Nikiforov"
   ]
  },
  {
   "cell_type": "markdown",
   "id": "2737dfa3-ae25-4052-9b3d-4591ae167fab",
   "metadata": {},
   "source": [
    "NCSU ST590, Project 3"
   ]
  },
  {
   "cell_type": "markdown",
   "id": "3d39169a-c308-4145-b22e-ebee082c2670",
   "metadata": {},
   "source": [
    "Spring, 2022"
   ]
  },
  {
   "cell_type": "code",
   "execution_count": 1,
   "id": "e76693f0-cbba-44eb-9a33-2a4f5c938da7",
   "metadata": {},
   "outputs": [
    {
     "name": "stderr",
     "output_type": "stream",
     "text": [
      "WARNING:root:'PYARROW_IGNORE_TIMEZONE' environment variable was not set. It is required to set this environment variable to '1' in both driver and executor sides if you use pyarrow>=2.0.0. pandas-on-Spark will set it for you but it does not work if there is a Spark context already launched.\n",
      "Using Spark's default log4j profile: org/apache/spark/log4j-defaults.properties\n",
      "Setting default log level to \"WARN\".\n",
      "To adjust logging level use sc.setLogLevel(newLevel). For SparkR, use setLogLevel(newLevel).\n",
      "22/04/30 19:53:51 WARN NativeCodeLoader: Unable to load native-hadoop library for your platform... using builtin-java classes where applicable\n",
      "22/04/30 19:53:54 WARN Utils: Service 'SparkUI' could not bind on port 4040. Attempting port 4041.\n"
     ]
    }
   ],
   "source": [
    "# Import required libraries and set up Spark session\n",
    "\n",
    "# import os\n",
    "# import sys\n",
    "# os.environ['PYSPARK_PYTHON'] = sys.executable\n",
    "# os.environ['PYSPARK_DRIVER_PYTHON'] = sys.executable\n",
    "\n",
    "import matplotlib.pyplot as plt\n",
    "import pyspark.pandas as ps\n",
    "from pyspark.sql import SparkSession\n",
    "\n",
    "spark = SparkSession.builder.getOrCreate()\n",
    "spark.sparkContext.setLogLevel(\"ERROR\")"
   ]
  },
  {
   "cell_type": "markdown",
   "id": "d6d9cecb-610f-4127-bffc-81056285d040",
   "metadata": {},
   "source": [
    "## Introduction"
   ]
  },
  {
   "cell_type": "markdown",
   "id": "181deab9-faa0-4515-8c63-d6143423a27c",
   "metadata": {
    "citation-manager": {
     "citations": {
      "2qy3z": [
       {
        "id": "6578788/Z75D4M6Y",
        "source": "zotero"
       }
      ]
     }
    },
    "tags": []
   },
   "source": [
    "Since 2000, the [Sloan Digital Sky Survey (SDSS)](https://www.sdss.org/) has cataloged hundreds of parameters for millions of celestial objects and has inspired nearly 11,000 peer-reviewed publications, making it \"one of the most successful surveys in the history of astronomy\"   <cite id=\"2qy3z\"><a href=\"#zotero|6578788/Z75D4M6Y\">(<i>Sloan Digital Sky Surveys | SDSS</i>, n.d.)</a></cite>. This notebook investigates a subset of the survey data. The intent of this exercise is to perform binary classification of photometric data using supervised learning, classifying observations from the Sloan Digital Sky Survey as either \"stars\" or \"galaxies\".   "
   ]
  },
  {
   "cell_type": "markdown",
   "id": "9ef56b5e-e7a0-4724-afee-443abcca802a",
   "metadata": {},
   "source": [
    "The sections that follow introduce the Sloan Digital Sky Survey Data Release 7 and outline steps to retrieve its photometric data. [Section 2](#supervised_learning) provides a brief overview of supervised learning and its applicability in astronomy. This section also splits the photometric data into training and test sets in preparation for supervised model development. [Section 3](#eda) explores the training data in-depth. [Section 4](#modeling) introduces a variety of supervised learning algorithms and trains models using historic observations. These models are then applied to test data to evaluate how well they generalize with unseen objects. [Section 5](#conclusion) concludes the notebook with remarks about the findings of this exercise.         "
   ]
  },
  {
   "cell_type": "markdown",
   "id": "ba348b7e-3862-4b20-944c-d4f9b6c44be7",
   "metadata": {},
   "source": [
    "## Data source and description"
   ]
  },
  {
   "cell_type": "markdown",
   "id": "daa0bd10-eb2a-46ec-8b01-5eec24ca2fdc",
   "metadata": {
    "citation-manager": {
     "citations": {
      "41heo": [
       {
        "id": "6578788/UXVJ3YSM",
        "source": "zotero"
       }
      ]
     }
    },
    "tags": []
   },
   "source": [
    "The data in this notebook is retrieved by querying the [CasJobs](https://skyserver.sdss.org/CasJobs/default.aspx) workbench for Data Release 7 (DR7), the seventh major data release from the Sloan Digital Sky Survey, with the SQL query below. Access to CasJobs is available to registered users of the [SciServer](https://www.sciserver.org/) online science platform. The query is credited to Vasconcellos et al., whose paper provides domain expertise for selecting features that \"are known or expected to strongly correlate with the object classification\" <cite id=\"41heo\"><a href=\"#zotero|6578788/UXVJ3YSM\">(Vasconcellos et al., 2011)</a></cite>."
   ]
  },
  {
   "cell_type": "markdown",
   "id": "93b12b27-602c-4a28-ad21-0e0567392f9b",
   "metadata": {},
   "source": [
    "```\n",
    " SELECT\n",
    "\n",
    "    p.objID, p.ra, p.dec, s.specObjID,\n",
    "    p.psfMag_r, p.modelMag_r, p.petroMag_r,\n",
    "    p.fiberMag_r, p.petroRad_r, p.petroR50_r,\n",
    "    p.petroR90_r, p.lnLStar_r,p.lnLExp_r,\n",
    "    p.lnLDeV_r, p.mE1_r, p.mE2_r, p.mRrCc_r,\n",
    "    p.type_r,p.type, s.specClass\n",
    "\n",
    " FROM PhotoObj AS p\n",
    "\n",
    "    JOIN SpecObj AS s ON s.bestobjid = p.objid\n",
    "\n",
    " WHERE\n",
    "\n",
    "    p.modelMag_r BETWEEN 14.0 AND 21.0\n",
    "\n",
    "```"
   ]
  },
  {
   "cell_type": "markdown",
   "id": "dd69bfa4-d1b9-4436-b211-f7c8482c52ba",
   "metadata": {},
   "source": [
    "This SQL request retrieves 1,030,220 rows of observations with the following schema:"
   ]
  },
  {
   "cell_type": "code",
   "execution_count": 2,
   "id": "de7ce4d2-f6df-4517-ab98-62684ef17723",
   "metadata": {},
   "outputs": [
    {
     "name": "stderr",
     "output_type": "stream",
     "text": [
      "[Stage 4:>                                                          (0 + 1) / 1]\r"
     ]
    },
    {
     "name": "stdout",
     "output_type": "stream",
     "text": [
      "Number of observatons: 1030220\n"
     ]
    },
    {
     "name": "stderr",
     "output_type": "stream",
     "text": [
      "                                                                                \r"
     ]
    }
   ],
   "source": [
    "# Read CSV into a Spark DataFrame\n",
    "sdss_data = spark.read.options(header=\"True\", inferSchema=\"True\", delimiter=\",\").csv(\n",
    "    \"sdss_cas_photometric_data.csv\"\n",
    ")\n",
    "\n",
    "# View number of observations in the full CSV\n",
    "print(\"Number of observatons:\", sdss_data.count())"
   ]
  },
  {
   "cell_type": "code",
   "execution_count": 3,
   "id": "499e44bd-aaa8-4333-810d-1a8eefc6e6fb",
   "metadata": {},
   "outputs": [
    {
     "name": "stdout",
     "output_type": "stream",
     "text": [
      "SDSS DR7 schema:\n",
      "root\n",
      " |-- objID: long (nullable = true)\n",
      " |-- ra: double (nullable = true)\n",
      " |-- dec: double (nullable = true)\n",
      " |-- specObjID: long (nullable = true)\n",
      " |-- psfMag_r: double (nullable = true)\n",
      " |-- modelMag_r: double (nullable = true)\n",
      " |-- petroMag_r: double (nullable = true)\n",
      " |-- fiberMag_r: double (nullable = true)\n",
      " |-- petroRad_r: double (nullable = true)\n",
      " |-- petroR50_r: double (nullable = true)\n",
      " |-- petroR90_r: double (nullable = true)\n",
      " |-- lnLStar_r: double (nullable = true)\n",
      " |-- lnLExp_r: double (nullable = true)\n",
      " |-- lnLDeV_r: double (nullable = true)\n",
      " |-- mE1_r: double (nullable = true)\n",
      " |-- mE2_r: double (nullable = true)\n",
      " |-- mRrCc_r: double (nullable = true)\n",
      " |-- type_r: integer (nullable = true)\n",
      " |-- type: integer (nullable = true)\n",
      " |-- specClass: integer (nullable = true)\n",
      "\n"
     ]
    }
   ],
   "source": [
    "# Print the columns and column types in the DataFrame\n",
    "print(\"SDSS DR7 schema:\")\n",
    "sdss_data.printSchema()"
   ]
  },
  {
   "cell_type": "markdown",
   "id": "639c575d-8447-48cd-8171-d442936cbdd4",
   "metadata": {},
   "source": [
    "The table below describes these attributes."
   ]
  },
  {
   "cell_type": "markdown",
   "id": "dc45bbd7-a5f3-4ae5-9a5b-f1ffc8eecd82",
   "metadata": {},
   "source": [
    "<style type=\"text/css\">\n",
    ".tg  {border-collapse:collapse;border-color:#ccc;border-spacing:0;margin:0px auto;}\n",
    ".tg td{background-color:#fff;border-color:#ccc;border-style:solid;border-width:1px;color:#333;\n",
    "  font-family:Arial, sans-serif;font-size:14px;overflow:hidden;padding:10px 5px;word-break:normal;}\n",
    ".tg th{background-color:#f0f0f0;border-color:#ccc;border-style:solid;border-width:1px;color:#333;\n",
    "  font-family:Arial, sans-serif;font-size:14px;font-weight:normal;overflow:hidden;padding:10px 5px;word-break:normal;}\n",
    ".tg .tg-c3ow{border-color:inherit;text-align:center;vertical-align:top}\n",
    ".tg .tg-fymr{border-color:inherit;font-weight:bold;text-align:left;vertical-align:top}\n",
    ".tg .tg-7btt{border-color:inherit;font-weight:bold;text-align:center;vertical-align:top}\n",
    ".tg .tg-btxf{background-color:#f9f9f9;border-color:inherit;text-align:left;vertical-align:top}\n",
    ".tg .tg-abip{background-color:#f9f9f9;border-color:inherit;text-align:center;vertical-align:top}\n",
    ".tg .tg-0pky{border-color:inherit;text-align:left;vertical-align:top}\n",
    ".tg .tg-dzk6{background-color:#f9f9f9;text-align:center;vertical-align:top}\n",
    "@media screen and (max-width: 767px) {.tg {width: auto !important;}.tg col {width: auto !important;}.tg-wrap {overflow-x: auto;-webkit-overflow-scrolling: touch;margin: auto 0px;}}</style>\n",
    "<div class=\"tg-wrap\"><table class=\"tg\">\n",
    "<thead>\n",
    "  <tr>\n",
    "    <th class=\"tg-fymr\">Feature</th>\n",
    "    <th class=\"tg-7btt\">CAS Variable</th>\n",
    "    <th class=\"tg-7btt\">Description<br></th>\n",
    "  </tr>\n",
    "</thead>\n",
    "<tbody>\n",
    "  <tr>\n",
    "    <td class=\"tg-btxf\">PSF magnitude</td>\n",
    "    <td class=\"tg-abip\">  psfMag</td>\n",
    "    <td class=\"tg-btxf\">For isolated stars, which are well-described by the point spread function (PSF), the optimal measure of the total flux is determined by fitting a PSF model to the object.</td>\n",
    "  </tr>\n",
    "  <tr>\n",
    "    <td class=\"tg-0pky\">Fiber magnitude</td>\n",
    "    <td class=\"tg-c3ow\">  fiberMag</td>\n",
    "    <td class=\"tg-0pky\">The flux contained within the aperture of a spectroscopic fiber</td>\n",
    "  </tr>\n",
    "  <tr>\n",
    "    <td class=\"tg-btxf\">Petrosian magnitude</td>\n",
    "    <td class=\"tg-abip\">  petroMag</td>\n",
    "    <td class=\"tg-btxf\">A measure of galaxy flux within a circular aperture whose radius is defined by the shape of the azimuthally averaged light profile</td>\n",
    "  </tr>\n",
    "  <tr>\n",
    "    <td class=\"tg-0pky\">Model magnitude</td>\n",
    "    <td class=\"tg-c3ow\">  modelMag</td>\n",
    "    <td class=\"tg-0pky\">Magnitudes that result from fitting a deVaucouleurs profile or an exponential profile to the two-dimensional image of each object in each band</td>\n",
    "  </tr>\n",
    "  <tr>\n",
    "    <td class=\"tg-btxf\">Petrosian radius</td>\n",
    "    <td class=\"tg-abip\">  petroRad</td>\n",
    "    <td class=\"tg-btxf\">The radius at which the Petrosian ratio equals 0.2. </td>\n",
    "  </tr>\n",
    "  <tr>\n",
    "    <td class=\"tg-0pky\">Radius carrying 50% of Petrosian flux</td>\n",
    "    <td class=\"tg-c3ow\">  petroR50</td>\n",
    "    <td class=\"tg-0pky\">The radii containing 50% of the Petrosian flux for each band</td>\n",
    "  </tr>\n",
    "  <tr>\n",
    "    <td class=\"tg-btxf\">Radius carrying 90% of Petrosian flux</td>\n",
    "    <td class=\"tg-abip\">  petroR90</td>\n",
    "    <td class=\"tg-btxf\">The radii containing 90% of the Petrosian flux for each band</td>\n",
    "  </tr>\n",
    "  <tr>\n",
    "    <td class=\"tg-0pky\">Likelihood PSF</td>\n",
    "    <td class=\"tg-c3ow\">  lnLStar</td>\n",
    "    <td class=\"tg-0pky\">The probabilities of achieving the measured chi-squared for the PSF fits</td>\n",
    "  </tr>\n",
    "  <tr>\n",
    "    <td class=\"tg-btxf\">Likelihood exponential</td>\n",
    "    <td class=\"tg-abip\">  lnLExp</td>\n",
    "    <td class=\"tg-btxf\">the probabilities of achieving the measured chi-squared for the exponential fits</td>\n",
    "  </tr>\n",
    "  <tr>\n",
    "    <td class=\"tg-0pky\">Likelihood deVaucouleurs</td>\n",
    "    <td class=\"tg-c3ow\">  lnLDeV</td>\n",
    "    <td class=\"tg-0pky\">The probabilities of achieving the measured chi-squared for the deVaucouleurs fits</td>\n",
    "  </tr>\n",
    "  <tr>\n",
    "    <td class=\"tg-btxf\">Adaptive moments</td>\n",
    "    <td class=\"tg-abip\">  mRrCc, mE1, mE2</td>\n",
    "    <td class=\"tg-btxf\">A method of measuring object shapes. These moments are close to optimal for measuring the shapes of faint galaxies, and have been used for weak lensing studies.</td>\n",
    "  </tr>\n",
    "  <tr>\n",
    "    <td class=\"tg-0pky\">Spectroscopic classification</td>\n",
    "    <td class=\"tg-c3ow\">  specClass</td>\n",
    "    <td class=\"tg-0pky\">Indicates the best-matching spectroscopic template. SpecClass = 1 is associated some kind of star, SpecClass = 2 means galaxy, and SpecClass = 3 or 4 means quasar.</td>\n",
    "  </tr>\n",
    "  <tr>\n",
    "    <td class=\"tg-dzk6\" colspan=\"3\"><span style=\"font-weight:bold\">Table 1</span>:  Attributes from the Sloan Digital Sky Survey Data Release 7 that have been deemed useful in classifying objects as stars or galaxies. </td>\n",
    "  </tr>\n",
    "</tbody>\n",
    "</table></div>"
   ]
  },
  {
   "cell_type": "markdown",
   "id": "53c8ac26-60ec-446a-895a-f9b0fcfcb7bf",
   "metadata": {},
   "source": [
    "The columns `objID`, `ra`, and `dec` are included solely to identify objects and their relative positions, as shown below. These columns will not be used as features in the supervised learning models, but `objID` will be invoked to visually inspect misclassified objects.  "
   ]
  },
  {
   "cell_type": "code",
   "execution_count": 5,
   "id": "6cb519b0-48ce-4fc5-8996-814e15e2952b",
   "metadata": {},
   "outputs": [
    {
     "name": "stderr",
     "output_type": "stream",
     "text": [
      "                                                                                \r"
     ]
    },
    {
     "data": {
      "text/plain": [
       "Text(0.5, 1.0, 'Positional distribution of a sample of galaxies and stars in the \\nSloan Digital Sky Survey Data Release 7')"
      ]
     },
     "execution_count": 5,
     "metadata": {},
     "output_type": "execute_result"
    },
    {
     "data": {
      "image/png": "[encoded data removed]",
      "text/plain": [
       "<Figure size 792x648 with 1 Axes>"
      ]
     },
     "metadata": {
      "needs_background": "light"
     },
     "output_type": "display_data"
    }
   ],
   "source": [
    "# Convert \"ra\", \"dec\" Spark DataFrame columns to\n",
    "# pandas-on-spark and, subsequently, to pandas.\n",
    "# Then, plot the positions of a sample of stars and galaxies.\n",
    "\n",
    "# Converting to pandas allows us to bypass the 1,000-point limit that\n",
    "# we enconter when plotting points from a pandas-on-spark DataFrame.\n",
    "\n",
    "sdss_data[[\"ra\", \"dec\"]].to_pandas_on_spark().to_pandas().sample(n=55000).plot.scatter(\n",
    "    x=\"ra\",\n",
    "    y=\"dec\",\n",
    "    marker=\".\",\n",
    "    color=\"black\",\n",
    "    s=1,\n",
    "    figsize=(11, 9),\n",
    ")\n",
    "\n",
    "# Plot attributes - size, title, axes labels\n",
    "plt.xlim(115, 250)\n",
    "plt.ylim(-5, 70)\n",
    "plt.xlabel(\"Right ascension\")\n",
    "plt.ylabel(\"Declination\")\n",
    "plt.title(\n",
    "    \"Positional distribution of a sample of galaxies and stars in the \\nSloan Digital Sky Survey Data Release 7\",\n",
    "    fontsize=15,\n",
    ")"
   ]
  },
  {
   "cell_type": "markdown",
   "id": "cd122fd1-dd3f-403f-b059-bbe436dbfe96",
   "metadata": {},
   "source": [
    "A [schema browser](http://cas.sdss.org/dr7/en/help/browser/browser.asp) as well as a [Glossary of SDSS Terminology](http://classic.sdss.org/dr7/glossary/index.html) provide supplementary explanations for the remaining column in the data. These references show that, in the data sample below, rows in the integer-based `type` column equate to $3$ for \"galaxies\" and $6$ for \"stars\". The `SpecClass` column further subdivides observations into quasi-stellar objects (`specClass` = 3), blank-sky spectrums (`specClass` = 5), high-redshift quasars (`specClass` = 4), and unclassifiable spectrums (`specClass` = 0). These make up only a small number of observations, and the sections that follow will filter data to include only stars (`specClass` = 1) and galaxies (`specClass` = 2).   "
   ]
  },
  {
   "cell_type": "code",
   "execution_count": 4,
   "id": "a97d2f19-0d90-4b41-a95d-e97a94de5aa2",
   "metadata": {},
   "outputs": [
    {
     "name": "stderr",
     "output_type": "stream",
     "text": [
      "                                                                                \r"
     ]
    },
    {
     "data": {
      "text/html": [
       "<div>\n",
       "<style scoped>\n",
       "    .dataframe tbody tr th:only-of-type {\n",
       "        vertical-align: middle;\n",
       "    }\n",
       "\n",
       "    .dataframe tbody tr th {\n",
       "        vertical-align: top;\n",
       "    }\n",
       "\n",
       "    .dataframe thead th {\n",
       "        text-align: right;\n",
       "    }\n",
       "</style>\n",
       "<table border=\"1\" class=\"dataframe\">\n",
       "  <thead>\n",
       "    <tr style=\"text-align: right;\">\n",
       "      <th></th>\n",
       "      <th>objID</th>\n",
       "      <th>ra</th>\n",
       "      <th>dec</th>\n",
       "      <th>specObjID</th>\n",
       "      <th>psfMag_r</th>\n",
       "      <th>modelMag_r</th>\n",
       "      <th>petroMag_r</th>\n",
       "      <th>fiberMag_r</th>\n",
       "      <th>petroRad_r</th>\n",
       "      <th>petroR50_r</th>\n",
       "      <th>petroR90_r</th>\n",
       "      <th>lnLStar_r</th>\n",
       "      <th>lnLExp_r</th>\n",
       "      <th>lnLDeV_r</th>\n",
       "      <th>mE1_r</th>\n",
       "      <th>mE2_r</th>\n",
       "      <th>mRrCc_r</th>\n",
       "      <th>type_r</th>\n",
       "      <th>type</th>\n",
       "      <th>specClass</th>\n",
       "    </tr>\n",
       "  </thead>\n",
       "  <tbody>\n",
       "    <tr>\n",
       "      <th>95055</th>\n",
       "      <td>588017626162856090</td>\n",
       "      <td>208.329531</td>\n",
       "      <td>42.143617</td>\n",
       "      <td>378810678128934912</td>\n",
       "      <td>19.66955</td>\n",
       "      <td>19.39850</td>\n",
       "      <td>19.33916</td>\n",
       "      <td>19.85486</td>\n",
       "      <td>1.808435</td>\n",
       "      <td>0.919265</td>\n",
       "      <td>2.647284</td>\n",
       "      <td>-87.031640</td>\n",
       "      <td>-34.843400</td>\n",
       "      <td>-17.418740</td>\n",
       "      <td>0.031619</td>\n",
       "      <td>0.001292</td>\n",
       "      <td>4.291618</td>\n",
       "      <td>3</td>\n",
       "      <td>3</td>\n",
       "      <td>3</td>\n",
       "    </tr>\n",
       "    <tr>\n",
       "      <th>299828</th>\n",
       "      <td>587725550657077467</td>\n",
       "      <td>118.643316</td>\n",
       "      <td>42.553861</td>\n",
       "      <td>123227341781467136</td>\n",
       "      <td>18.91117</td>\n",
       "      <td>17.63357</td>\n",
       "      <td>17.58065</td>\n",
       "      <td>18.87976</td>\n",
       "      <td>4.791534</td>\n",
       "      <td>2.167174</td>\n",
       "      <td>5.073331</td>\n",
       "      <td>-3391.407000</td>\n",
       "      <td>-152.015000</td>\n",
       "      <td>-155.313200</td>\n",
       "      <td>-0.488285</td>\n",
       "      <td>0.008607</td>\n",
       "      <td>25.881080</td>\n",
       "      <td>3</td>\n",
       "      <td>3</td>\n",
       "      <td>2</td>\n",
       "    </tr>\n",
       "    <tr>\n",
       "      <th>480801</th>\n",
       "      <td>587731680647381465</td>\n",
       "      <td>117.153197</td>\n",
       "      <td>28.628939</td>\n",
       "      <td>298307994662207488</td>\n",
       "      <td>20.89775</td>\n",
       "      <td>20.80967</td>\n",
       "      <td>20.81231</td>\n",
       "      <td>21.52881</td>\n",
       "      <td>3.297366</td>\n",
       "      <td>1.460478</td>\n",
       "      <td>2.915952</td>\n",
       "      <td>-0.032217</td>\n",
       "      <td>-0.068778</td>\n",
       "      <td>-0.059011</td>\n",
       "      <td>0.159274</td>\n",
       "      <td>-0.096245</td>\n",
       "      <td>13.104170</td>\n",
       "      <td>6</td>\n",
       "      <td>6</td>\n",
       "      <td>0</td>\n",
       "    </tr>\n",
       "    <tr>\n",
       "      <th>505840</th>\n",
       "      <td>587732577759723731</td>\n",
       "      <td>129.832462</td>\n",
       "      <td>4.016725</td>\n",
       "      <td>334618403597713408</td>\n",
       "      <td>20.17369</td>\n",
       "      <td>20.15578</td>\n",
       "      <td>20.19364</td>\n",
       "      <td>20.50568</td>\n",
       "      <td>1.199450</td>\n",
       "      <td>0.571036</td>\n",
       "      <td>1.372531</td>\n",
       "      <td>-0.577588</td>\n",
       "      <td>-0.481993</td>\n",
       "      <td>-0.482157</td>\n",
       "      <td>-0.048921</td>\n",
       "      <td>-0.127345</td>\n",
       "      <td>2.194953</td>\n",
       "      <td>6</td>\n",
       "      <td>6</td>\n",
       "      <td>1</td>\n",
       "    </tr>\n",
       "    <tr>\n",
       "      <th>552260</th>\n",
       "      <td>587734863758491768</td>\n",
       "      <td>157.341250</td>\n",
       "      <td>9.633242</td>\n",
       "      <td>348974100854603776</td>\n",
       "      <td>18.02336</td>\n",
       "      <td>17.71312</td>\n",
       "      <td>17.73007</td>\n",
       "      <td>18.24061</td>\n",
       "      <td>2.039186</td>\n",
       "      <td>0.968845</td>\n",
       "      <td>2.510408</td>\n",
       "      <td>-956.218300</td>\n",
       "      <td>-133.920000</td>\n",
       "      <td>-17.382880</td>\n",
       "      <td>-0.121592</td>\n",
       "      <td>0.108454</td>\n",
       "      <td>5.793008</td>\n",
       "      <td>3</td>\n",
       "      <td>3</td>\n",
       "      <td>2</td>\n",
       "    </tr>\n",
       "    <tr>\n",
       "      <th>619100</th>\n",
       "      <td>587734862148993203</td>\n",
       "      <td>160.098145</td>\n",
       "      <td>8.480134</td>\n",
       "      <td>349255462354419712</td>\n",
       "      <td>18.20551</td>\n",
       "      <td>17.10070</td>\n",
       "      <td>17.26290</td>\n",
       "      <td>18.28355</td>\n",
       "      <td>3.552720</td>\n",
       "      <td>1.665086</td>\n",
       "      <td>4.186486</td>\n",
       "      <td>-5690.805000</td>\n",
       "      <td>-194.754800</td>\n",
       "      <td>-79.564800</td>\n",
       "      <td>-0.181569</td>\n",
       "      <td>0.109649</td>\n",
       "      <td>15.890420</td>\n",
       "      <td>3</td>\n",
       "      <td>3</td>\n",
       "      <td>2</td>\n",
       "    </tr>\n",
       "    <tr>\n",
       "      <th>695576</th>\n",
       "      <td>587735349086126570</td>\n",
       "      <td>124.802560</td>\n",
       "      <td>8.053040</td>\n",
       "      <td>494779525561843712</td>\n",
       "      <td>18.03868</td>\n",
       "      <td>17.79789</td>\n",
       "      <td>17.83817</td>\n",
       "      <td>18.16190</td>\n",
       "      <td>1.200259</td>\n",
       "      <td>0.630797</td>\n",
       "      <td>1.321615</td>\n",
       "      <td>-1166.997000</td>\n",
       "      <td>-132.846600</td>\n",
       "      <td>-277.726200</td>\n",
       "      <td>0.151820</td>\n",
       "      <td>-0.035338</td>\n",
       "      <td>3.263561</td>\n",
       "      <td>3</td>\n",
       "      <td>6</td>\n",
       "      <td>1</td>\n",
       "    </tr>\n",
       "    <tr>\n",
       "      <th>890244</th>\n",
       "      <td>587739719214891153</td>\n",
       "      <td>189.003448</td>\n",
       "      <td>28.865667</td>\n",
       "      <td>629890713609306112</td>\n",
       "      <td>18.33371</td>\n",
       "      <td>17.68168</td>\n",
       "      <td>17.75912</td>\n",
       "      <td>18.47559</td>\n",
       "      <td>2.629342</td>\n",
       "      <td>1.246415</td>\n",
       "      <td>3.066203</td>\n",
       "      <td>-2139.585000</td>\n",
       "      <td>-100.493100</td>\n",
       "      <td>-6.951849</td>\n",
       "      <td>-0.060494</td>\n",
       "      <td>-0.032721</td>\n",
       "      <td>9.636144</td>\n",
       "      <td>3</td>\n",
       "      <td>3</td>\n",
       "      <td>2</td>\n",
       "    </tr>\n",
       "  </tbody>\n",
       "</table>\n",
       "</div>"
      ],
      "text/plain": [
       "                     objID          ra        dec           specObjID  psfMag_r  modelMag_r  petroMag_r  fiberMag_r  petroRad_r  petroR50_r  petroR90_r    lnLStar_r    lnLExp_r    lnLDeV_r     mE1_r     mE2_r    mRrCc_r  type_r  type  specClass\n",
       "95055   588017626162856090  208.329531  42.143617  378810678128934912  19.66955    19.39850    19.33916    19.85486    1.808435    0.919265    2.647284   -87.031640  -34.843400  -17.418740  0.031619  0.001292   4.291618       3     3          3\n",
       "299828  587725550657077467  118.643316  42.553861  123227341781467136  18.91117    17.63357    17.58065    18.87976    4.791534    2.167174    5.073331 -3391.407000 -152.015000 -155.313200 -0.488285  0.008607  25.881080       3     3          2\n",
       "480801  587731680647381465  117.153197  28.628939  298307994662207488  20.89775    20.80967    20.81231    21.52881    3.297366    1.460478    2.915952    -0.032217   -0.068778   -0.059011  0.159274 -0.096245  13.104170       6     6          0\n",
       "505840  587732577759723731  129.832462   4.016725  334618403597713408  20.17369    20.15578    20.19364    20.50568    1.199450    0.571036    1.372531    -0.577588   -0.481993   -0.482157 -0.048921 -0.127345   2.194953       6     6          1\n",
       "552260  587734863758491768  157.341250   9.633242  348974100854603776  18.02336    17.71312    17.73007    18.24061    2.039186    0.968845    2.510408  -956.218300 -133.920000  -17.382880 -0.121592  0.108454   5.793008       3     3          2\n",
       "619100  587734862148993203  160.098145   8.480134  349255462354419712  18.20551    17.10070    17.26290    18.28355    3.552720    1.665086    4.186486 -5690.805000 -194.754800  -79.564800 -0.181569  0.109649  15.890420       3     3          2\n",
       "695576  587735349086126570  124.802560   8.053040  494779525561843712  18.03868    17.79789    17.83817    18.16190    1.200259    0.630797    1.321615 -1166.997000 -132.846600 -277.726200  0.151820 -0.035338   3.263561       3     6          1\n",
       "890244  587739719214891153  189.003448  28.865667  629890713609306112  18.33371    17.68168    17.75912    18.47559    2.629342    1.246415    3.066203 -2139.585000 -100.493100   -6.951849 -0.060494 -0.032721   9.636144       3     3          2"
      ]
     },
     "execution_count": 4,
     "metadata": {},
     "output_type": "execute_result"
    }
   ],
   "source": [
    "# Temporarily convert to pandas-on-spark DataFrame for\n",
    "# better appearance and print a sample of rows\n",
    "sdss_data.to_pandas_on_spark().sample(frac=0.000009, random_state=375)"
   ]
  },
  {
   "cell_type": "markdown",
   "id": "0aa22a62-02fb-430e-8784-ab471ca531ee",
   "metadata": {},
   "source": [
    "<a id=\"supervised_learning\"></a>\n",
    "# Supervised learning"
   ]
  },
  {
   "cell_type": "markdown",
   "id": "2285c154-364a-4b89-aade-5098a4aa7245",
   "metadata": {},
   "source": [
    "## Overview"
   ]
  },
  {
   "cell_type": "markdown",
   "id": "883b37ac-6810-403c-9d92-163ce918e662",
   "metadata": {
    "citation-manager": {
     "citations": {
      "3wnhz": [
       {
        "id": "6578788/LXV9B3I3",
        "source": "zotero"
       }
      ],
      "b20i6": [
       {
        "id": "6578788/3B8U6ZL5",
        "source": "zotero"
       }
      ],
      "drr5l": [
       {
        "id": "6578788/M4AXTGNR",
        "source": "zotero"
       }
      ],
      "fb21r": [
       {
        "id": "6578788/WRVILYFW",
        "source": "zotero"
       }
      ]
     }
    },
    "tags": []
   },
   "source": [
    "When SDSS Data Release 7 became publicly available in 2008, it consisted of 15.7 TB of FITS image data, 18 TB of catalogs, and 26.8 TB of \"other\" data products <cite id=\"fb21r\"><a href=\"#zotero|6578788/WRVILYFW\">(<i>SDSS Data Release 7</i>, 2013)</a></cite>. Subsequent releases - DR8 through DR16 - swelled to 407 TB in volume, and the newest DR17 alone contains 245 TB of data <cite id=\"drr5l\"><a href=\"#zotero|6578788/M4AXTGNR\">(<i>Data Volume | SDSS</i>, 2021)</a></cite>. These size pale in comparison to the planned productivity of the Vera C. Rubin Observatory, which is expected to produce upwards of 500 petabytes of images and other data products <cite id=\"b20i6\"><a href=\"#zotero|6578788/3B8U6ZL5\">(<i>About Rubin Observatory | Rubin Observatory</i>, 2022)</a></cite>. Such vast pools of information are expected to require unsupervised and supervised learning to help automatically \"locate, classify, and characterize objects\" and to discover \"new fundamental relationships between derived properties\" <cite id=\"3wnhz\"><a href=\"#zotero|6578788/LXV9B3I3\">(Fluke &#38; Jacobs, 2020)</a></cite>.      "
   ]
  },
  {
   "cell_type": "markdown",
   "id": "b7507627-7bfa-4b11-af01-0b8fbb28c1c5",
   "metadata": {
    "citation-manager": {
     "citations": {
      "bkbzf": [
       {
        "id": "6578788/ELIRRS3L",
        "source": "zotero"
       }
      ]
     }
    },
    "tags": []
   },
   "source": [
    "Supervised learning is the technique of using regression or classification algorithms and known variables (\"predictors\" or \"features\") to train models that predict numeric outputs or categorize observations based on probability. The act of \"training\" models involves using historical data, such as the SDSS DR7, to \"find the relationship that has the best predictive power\" for new observations <cite id=\"bkbzf\"><a href=\"#zotero|6578788/ELIRRS3L\">(Tatsat et al., 2020)</a></cite>. To avoid overfitting a model to training data, it is common practice to split historical data into \"training\" and \"test\" sets during model development. The training data is used to teach a model how to predict or classify an observation, while test data helps practitioners quantify model performance with unseen observations.  "
   ]
  },
  {
   "cell_type": "markdown",
   "id": "24494827-2057-447f-8864-341fee5f58d3",
   "metadata": {},
   "source": [
    "## Data clean-up"
   ]
  },
  {
   "cell_type": "markdown",
   "id": "1d566ab9-5890-4676-b836-b12920e983ba",
   "metadata": {},
   "source": [
    "Before splitting the sample DR7 data into train and test sets, it is prudent to investigate and resolve any missing values. Column- and subsequently row-wise summation indicates that there are nearly $12,000$ missing values in the data.  "
   ]
  },
  {
   "cell_type": "code",
   "execution_count": 11,
   "id": "5c2442f6-21ff-4a26-8703-246a82df899c",
   "metadata": {},
   "outputs": [
    {
     "name": "stderr",
     "output_type": "stream",
     "text": [
      "[Stage 14:>                                                         (0 + 8) / 8]\r"
     ]
    },
    {
     "name": "stdout",
     "output_type": "stream",
     "text": [
      "+-----------+\n",
      "|sum_missing|\n",
      "+-----------+\n",
      "|      11832|\n",
      "+-----------+\n",
      "\n"
     ]
    },
    {
     "name": "stderr",
     "output_type": "stream",
     "text": [
      "                                                                                \r"
     ]
    }
   ],
   "source": [
    "# Count total number of missing values.\n",
    "# \"Missing\" values include 0, -9999, NaN, and Null\n",
    "\n",
    "# Solution is based on examples from\n",
    "# https://sparkbyexamples.com/pyspark/pyspark-find-count-of-null-none-nan-values/\n",
    "# and\n",
    "# https://stackoverflow.com/questions/53297872/how-can-i-sum-multiple-columns-in-a-spark-dataframe-in-pyspark\n",
    "\n",
    "import pyspark.sql.functions as F\n",
    "\n",
    "# Create a DataFrame with one row in which each column\n",
    "# includes count of total missing values in that column\n",
    "df_zero = sdss_data.select(\n",
    "    [\n",
    "        F.count(\n",
    "            F.when(\n",
    "                (sdss_data[c] == 0)\n",
    "                | (sdss_data[c] == -9999)\n",
    "                | (F.isnan(sdss_data[c]))\n",
    "                | (sdss_data[c].isNull()),\n",
    "                c,\n",
    "            )\n",
    "        ).alias(c)\n",
    "        for c in sdss_data.columns\n",
    "    ]\n",
    ")\n",
    "\n",
    "# Retrieve names of all columns\n",
    "cols_list = df_zero.columns\n",
    "\n",
    "# Parse an expression to sum the number of\n",
    "# missing values across all rows\n",
    "expression = \"+\".join(cols_list)\n",
    "\n",
    "# Create a new column with the sum of missing values\n",
    "# across all rows\n",
    "df_sum = df_zero.withColumn(\"sum_missing\", F.expr(expression))\n",
    "\n",
    "# Display total number of missing values\n",
    "df_sum.select(\"sum_missing\").show()"
   ]
  },
  {
   "cell_type": "markdown",
   "id": "5f8447ca-b11f-45be-aac8-1a1d4d5fb15a",
   "metadata": {},
   "source": [
    "Compared to the total number of rows in the data - $1,030,220$ - $11,832$ missing values is negligible. To avoid conflicts with functions in the Spark Machine Learning Library (MLlib), the values $-9999$ and $0$ can be converted to `None` and their associated rows may be removed. "
   ]
  },
  {
   "cell_type": "code",
   "execution_count": 12,
   "id": "51e90bc2-eb65-48b5-b791-d8965aed7e78",
   "metadata": {},
   "outputs": [],
   "source": [
    "# Replace -9999 and 0 with \"None\"\n",
    "sdss_data = sdss_data.replace(-9999, None)\n",
    "sdss_data = sdss_data.replace(0, None)"
   ]
  },
  {
   "cell_type": "code",
   "execution_count": 6,
   "id": "fd7e926b-6a0b-4ab5-8d0e-585c9fe66459",
   "metadata": {},
   "outputs": [
    {
     "name": "stderr",
     "output_type": "stream",
     "text": [
      "[Stage 8:=======>                                                   (1 + 7) / 8]\r"
     ]
    },
    {
     "name": "stdout",
     "output_type": "stream",
     "text": [
      "New row count, no missing values:\n",
      " 1030220\n"
     ]
    },
    {
     "name": "stderr",
     "output_type": "stream",
     "text": [
      "                                                                                \r"
     ]
    }
   ],
   "source": [
    "# Remove rows with missing values and calculate new row count\n",
    "sdss_data = sdss_data.dropna()\n",
    "print(\"New row count, no missing values:\\n\", sdss_data.count())"
   ]
  },
  {
   "cell_type": "markdown",
   "id": "b31df358-cb60-47fe-9d6a-8ae5687be486",
   "metadata": {},
   "source": [
    "Removing rows with missing data leaves $1,030,220$ observations intact. These include objects where the spectrum is not classifiable (`specClass` = 0) or the spectrum is that of a quasi-stellar object (`specClass` = 3), a high-redshift quasar (`specClass` = 4), a blank sky (`specClass` = 5), or of another class of object. Since the goal of this activity is binary classification, the data will be filtered to include only stars (`specClass` = 1) and galaxies (`specClass` = 2), further reducing the dataset to $884,378$ objects."
   ]
  },
  {
   "cell_type": "code",
   "execution_count": 10,
   "id": "f112842d-5509-4df7-820b-7d1b18be9d01",
   "metadata": {},
   "outputs": [
    {
     "name": "stderr",
     "output_type": "stream",
     "text": [
      "[Stage 14:==================================================>       (7 + 1) / 8]\r"
     ]
    },
    {
     "name": "stdout",
     "output_type": "stream",
     "text": [
      "Count of stars and galaxies only:\n",
      " 884378\n"
     ]
    },
    {
     "name": "stderr",
     "output_type": "stream",
     "text": [
      "                                                                                \r"
     ]
    }
   ],
   "source": [
    "# Filter DataFrame to include only the objects which are\n",
    "# classified as either a \"star\" or a \"galaxy\".\n",
    "# Print the new observation count.\n",
    "sdss_data = sdss_data.filter((sdss_data.specClass == 1) | (sdss_data.specClass == 2))\n",
    "print(\"Count of stars and galaxies only:\\n\", sdss_data.count())"
   ]
  },
  {
   "cell_type": "markdown",
   "id": "09c0503d-0564-465b-bec7-b19de5633b79",
   "metadata": {},
   "source": [
    "Lastly, a new column called `obj_category` can be created to translate the integer-based `type` column to a human-readable classification. "
   ]
  },
  {
   "cell_type": "code",
   "execution_count": 23,
   "id": "7d1740f2-1894-4cf1-8c87-15050654cba8",
   "metadata": {},
   "outputs": [
    {
     "name": "stderr",
     "output_type": "stream",
     "text": [
      "                                                                                \r"
     ]
    },
    {
     "name": "stdout",
     "output_type": "stream",
     "text": [
      "+------------------+----+------------+\n",
      "|             objID|type|obj_category|\n",
      "+------------------+----+------------+\n",
      "|587724232101658730|   3|      Galaxy|\n",
      "|587727178985767024|   3|      Galaxy|\n",
      "|587739827133546633|   3|      Galaxy|\n",
      "|588016879360016724|   6|        Star|\n",
      "|588011217526325453|   3|      Galaxy|\n",
      "+------------------+----+------------+\n",
      "\n"
     ]
    }
   ],
   "source": [
    "from pyspark.sql.functions import col, when\n",
    "\n",
    "# Create a rule to equate type=3 with \"galaxy\" and type=6 with \"star\"\n",
    "conditions = when(col(\"type\") == \"6\", \"Star\").when(col(\"type\") == \"3\", \"Galaxy\")\n",
    "\n",
    "# Apply the new rule to create a new column with\n",
    "# human-readable classification labels\n",
    "sdss_data = sdss_data.withColumn(\"obj_category\", conditions)\n",
    "\n",
    "# Retrieve a data subset with new column\n",
    "sdss_data[[\"objID\", \"type\", \"obj_category\"]].sample(fraction=0.000005, seed=4321).show()"
   ]
  },
  {
   "cell_type": "markdown",
   "id": "1bdb099b-1ecf-47a0-ac28-f8ad90124fd5",
   "metadata": {},
   "source": [
    "## Data split - training and test sets"
   ]
  },
  {
   "cell_type": "markdown",
   "id": "bba24dd4-c9f0-4b77-99ed-68526ff94090",
   "metadata": {},
   "source": [
    "After purging missing values and filtering observations to only include stars and galaxies, 70% of the data may be set aside for training supervised models and 30% may be reserved for evaluating model performance. "
   ]
  },
  {
   "cell_type": "code",
   "execution_count": 26,
   "id": "5f0c0455-b7d1-4c74-8e54-8104f4aaaefa",
   "metadata": {},
   "outputs": [],
   "source": [
    "# 70/30 dataset split\n",
    "train, test = sdss_data.randomSplit([0.7, 0.3])"
   ]
  },
  {
   "cell_type": "markdown",
   "id": "d7d2d3dc-64ed-4376-ae46-46044cb1b471",
   "metadata": {
    "tags": []
   },
   "source": [
    "<a id=\"eda\"></a>\n",
    "# Exploratory data analysis"
   ]
  },
  {
   "cell_type": "markdown",
   "id": "947aee7e-7f20-4fa1-9226-6f0558ebab70",
   "metadata": {},
   "source": [
    "After a 70/30 split, the training data contains $618,816$ observations. Nearly 562,000 are classified as galaxies, while the remaining 57,448 are classified as stars. "
   ]
  },
  {
   "cell_type": "code",
   "execution_count": 36,
   "id": "eda95b33-3925-4297-bdfd-61cd4af8f53b",
   "metadata": {},
   "outputs": [
    {
     "name": "stderr",
     "output_type": "stream",
     "text": [
      "[Stage 78:=======>                                                  (1 + 7) / 8]\r"
     ]
    },
    {
     "name": "stdout",
     "output_type": "stream",
     "text": [
      "+------------+------+\n",
      "|obj_category| count|\n",
      "+------------+------+\n",
      "|      Galaxy|561368|\n",
      "|        Star| 57448|\n",
      "+------------+------+\n",
      "\n"
     ]
    },
    {
     "name": "stderr",
     "output_type": "stream",
     "text": [
      "                                                                                \r"
     ]
    }
   ],
   "source": [
    "# Categorize objects in the training data by their classification\n",
    "# and obtain counts\n",
    "train.groupBy(\"obj_category\").count().show()"
   ]
  },
  {
   "cell_type": "markdown",
   "id": "67876f2b-15f8-46f8-9194-a856f22b5950",
   "metadata": {},
   "source": [
    "The distribution of magnitudes, `modelMag_r`, is unimodal and skewed left, with a peak in the range between $17.5-18$. "
   ]
  },
  {
   "cell_type": "code",
   "execution_count": 70,
   "id": "a883cf5b-bb68-4839-9262-074c13cd2cf3",
   "metadata": {},
   "outputs": [
    {
     "name": "stderr",
     "output_type": "stream",
     "text": [
      "                                                                                \r"
     ]
    },
    {
     "data": {
      "text/plain": [
       "Text(0.5, 1.0, 'Histogram of object magnitudes in the \\nSDSS data sample')"
      ]
     },
     "execution_count": 70,
     "metadata": {},
     "output_type": "execute_result"
    },
    {
     "data": {
      "image/png": "[encoded data removed]",
      "text/plain": [
       "<Figure size 432x288 with 1 Axes>"
      ]
     },
     "metadata": {
      "needs_background": "light"
     },
     "output_type": "display_data"
    }
   ],
   "source": [
    "# Magnitude distribution\n",
    "# Using matplotlib because of a known bug in which plotly\n",
    "# does not display title, https://issues.apache.org/jira/browse/SPARK-37188\n",
    "plt.hist(train.to_pandas_on_spark().modelMag_r, bins=20)\n",
    "plt.xlabel(\"Magnitude (r)\")\n",
    "plt.title(\"Histogram of object magnitudes in the \\nSDSS data sample\")"
   ]
  },
  {
   "cell_type": "markdown",
   "id": "1415568f-9c86-4ff2-bb43-1452a10c16ba",
   "metadata": {},
   "source": [
    "Galaxies and stars have an average magnitude of 17.27 and 18.31, respectively. Since the magnitude scale is logarithmic, galaxies are approximately 2.6 times brighter than stars. "
   ]
  },
  {
   "cell_type": "code",
   "execution_count": 48,
   "id": "9c0361ce-b04f-4acd-bfd2-a7e253d01a05",
   "metadata": {},
   "outputs": [
    {
     "name": "stderr",
     "output_type": "stream",
     "text": [
      "[Stage 93:>                                                         (0 + 8) / 8]\r"
     ]
    },
    {
     "name": "stdout",
     "output_type": "stream",
     "text": [
      "+------------+------------------+---------------+---------------+-----------------------+\n",
      "|obj_category|   avg(modelMag_r)|min(modelMag_r)|max(modelMag_r)|stddev_samp(modelMag_r)|\n",
      "+------------+------------------+---------------+---------------+-----------------------+\n",
      "|      Galaxy| 17.27392723737376|       14.00007|       20.99957|     0.9133355573157584|\n",
      "|        Star|18.306324001009614|       14.14085|        20.9992|     1.3840177436896288|\n",
      "+------------+------------------+---------------+---------------+-----------------------+\n",
      "\n"
     ]
    },
    {
     "name": "stderr",
     "output_type": "stream",
     "text": [
      "                                                                                \r"
     ]
    }
   ],
   "source": [
    "# Obtain basic statistical summaries for object magnitudes\n",
    "from pyspark.sql.functions import max, mean, min, stddev\n",
    "\n",
    "train.groupby(\"obj_category\").agg(\n",
    "    mean(\"modelMag_r\"), min(\"modelMag_r\"), max(\"modelMag_r\"), stddev(\"modelMag_r\")\n",
    ").show()"
   ]
  },
  {
   "cell_type": "code",
   "execution_count": 72,
   "id": "27fa991a-ae91-4a73-83fd-0b797e5a20eb",
   "metadata": {},
   "outputs": [],
   "source": [
    "# Calculate difference between psfMag and modelMag and create new column with results\n",
    "train = train.withColumn(\"psfModelDiff\", train.psfMag_r - train.modelMag_r)"
   ]
  },
  {
   "cell_type": "code",
   "execution_count": 74,
   "id": "12aaa0a9-390f-4c78-a9d8-73972817de0d",
   "metadata": {},
   "outputs": [
    {
     "name": "stderr",
     "output_type": "stream",
     "text": [
      "                                                                                \r"
     ]
    },
    {
     "ename": "ValueError",
     "evalue": "'c' argument must be a color, a sequence of colors, or a sequence of numbers, not ['obj_category']",
     "output_type": "error",
     "traceback": [
      "\u001b[0;31m---------------------------------------------------------------------------\u001b[0m",
      "\u001b[0;31mValueError\u001b[0m                                Traceback (most recent call last)",
      "File \u001b[0;32m/Library/Frameworks/Python.framework/Versions/3.10/lib/python3.10/site-packages/matplotlib/axes/_axes.py:4221\u001b[0m, in \u001b[0;36mAxes._parse_scatter_color_args\u001b[0;34m(c, edgecolors, kwargs, xsize, get_next_color_func)\u001b[0m\n\u001b[1;32m   4220\u001b[0m \u001b[38;5;28;01mtry\u001b[39;00m:  \u001b[38;5;66;03m# Is 'c' acceptable as PathCollection facecolors?\u001b[39;00m\n\u001b[0;32m-> 4221\u001b[0m     colors \u001b[38;5;241m=\u001b[39m \u001b[43mmcolors\u001b[49m\u001b[38;5;241;43m.\u001b[39;49m\u001b[43mto_rgba_array\u001b[49m\u001b[43m(\u001b[49m\u001b[43mc\u001b[49m\u001b[43m)\u001b[49m\n\u001b[1;32m   4222\u001b[0m \u001b[38;5;28;01mexcept\u001b[39;00m (\u001b[38;5;167;01mTypeError\u001b[39;00m, \u001b[38;5;167;01mValueError\u001b[39;00m) \u001b[38;5;28;01mas\u001b[39;00m err:\n",
      "File \u001b[0;32m/Library/Frameworks/Python.framework/Versions/3.10/lib/python3.10/site-packages/matplotlib/colors.py:375\u001b[0m, in \u001b[0;36mto_rgba_array\u001b[0;34m(c, alpha)\u001b[0m\n\u001b[1;32m    374\u001b[0m     \u001b[38;5;28;01melse\u001b[39;00m:\n\u001b[0;32m--> 375\u001b[0m         rgba \u001b[38;5;241m=\u001b[39m np\u001b[38;5;241m.\u001b[39marray([to_rgba(cc) \u001b[38;5;28;01mfor\u001b[39;00m cc \u001b[38;5;129;01min\u001b[39;00m c])\n\u001b[1;32m    376\u001b[0m \u001b[38;5;28;01melse\u001b[39;00m:\n",
      "File \u001b[0;32m/Library/Frameworks/Python.framework/Versions/3.10/lib/python3.10/site-packages/matplotlib/colors.py:375\u001b[0m, in \u001b[0;36m<listcomp>\u001b[0;34m(.0)\u001b[0m\n\u001b[1;32m    374\u001b[0m     \u001b[38;5;28;01melse\u001b[39;00m:\n\u001b[0;32m--> 375\u001b[0m         rgba \u001b[38;5;241m=\u001b[39m np\u001b[38;5;241m.\u001b[39marray([\u001b[43mto_rgba\u001b[49m\u001b[43m(\u001b[49m\u001b[43mcc\u001b[49m\u001b[43m)\u001b[49m \u001b[38;5;28;01mfor\u001b[39;00m cc \u001b[38;5;129;01min\u001b[39;00m c])\n\u001b[1;32m    376\u001b[0m \u001b[38;5;28;01melse\u001b[39;00m:\n",
      "File \u001b[0;32m/Library/Frameworks/Python.framework/Versions/3.10/lib/python3.10/site-packages/matplotlib/colors.py:187\u001b[0m, in \u001b[0;36mto_rgba\u001b[0;34m(c, alpha)\u001b[0m\n\u001b[1;32m    186\u001b[0m \u001b[38;5;28;01mif\u001b[39;00m rgba \u001b[38;5;129;01mis\u001b[39;00m \u001b[38;5;28;01mNone\u001b[39;00m:  \u001b[38;5;66;03m# Suppress exception chaining of cache lookup failure.\u001b[39;00m\n\u001b[0;32m--> 187\u001b[0m     rgba \u001b[38;5;241m=\u001b[39m \u001b[43m_to_rgba_no_colorcycle\u001b[49m\u001b[43m(\u001b[49m\u001b[43mc\u001b[49m\u001b[43m,\u001b[49m\u001b[43m \u001b[49m\u001b[43malpha\u001b[49m\u001b[43m)\u001b[49m\n\u001b[1;32m    188\u001b[0m     \u001b[38;5;28;01mtry\u001b[39;00m:\n",
      "File \u001b[0;32m/Library/Frameworks/Python.framework/Versions/3.10/lib/python3.10/site-packages/matplotlib/colors.py:262\u001b[0m, in \u001b[0;36m_to_rgba_no_colorcycle\u001b[0;34m(c, alpha)\u001b[0m\n\u001b[1;32m    261\u001b[0m         \u001b[38;5;28;01mreturn\u001b[39;00m c, c, c, alpha \u001b[38;5;28;01mif\u001b[39;00m alpha \u001b[38;5;129;01mis\u001b[39;00m \u001b[38;5;129;01mnot\u001b[39;00m \u001b[38;5;28;01mNone\u001b[39;00m \u001b[38;5;28;01melse\u001b[39;00m \u001b[38;5;241m1.\u001b[39m\n\u001b[0;32m--> 262\u001b[0m     \u001b[38;5;28;01mraise\u001b[39;00m \u001b[38;5;167;01mValueError\u001b[39;00m(\u001b[38;5;124mf\u001b[39m\u001b[38;5;124m\"\u001b[39m\u001b[38;5;124mInvalid RGBA argument: \u001b[39m\u001b[38;5;132;01m{\u001b[39;00morig_c\u001b[38;5;132;01m!r}\u001b[39;00m\u001b[38;5;124m\"\u001b[39m)\n\u001b[1;32m    263\u001b[0m \u001b[38;5;66;03m# turn 2-D array into 1-D array\u001b[39;00m\n",
      "\u001b[0;31mValueError\u001b[0m: Invalid RGBA argument: 'obj_category'",
      "\nThe above exception was the direct cause of the following exception:\n",
      "\u001b[0;31mValueError\u001b[0m                                Traceback (most recent call last)",
      "Input \u001b[0;32mIn [74]\u001b[0m, in \u001b[0;36m<cell line: 1>\u001b[0;34m()\u001b[0m\n\u001b[0;32m----> 1\u001b[0m train\u001b[38;5;241m.\u001b[39mto_pandas_on_spark()\u001b[38;5;241m.\u001b[39mplot\u001b[38;5;241m.\u001b[39mscatter(\n\u001b[1;32m      2\u001b[0m     x\u001b[38;5;241m=\u001b[39m\u001b[38;5;124m\"\u001b[39m\u001b[38;5;124mmodelMag_r\u001b[39m\u001b[38;5;124m\"\u001b[39m,\n\u001b[1;32m      3\u001b[0m     y\u001b[38;5;241m=\u001b[39m\u001b[38;5;124m\"\u001b[39m\u001b[38;5;124mpsfModelDiff\u001b[39m\u001b[38;5;124m\"\u001b[39m,\n\u001b[1;32m      4\u001b[0m     color\u001b[38;5;241m=\u001b[39m\u001b[38;5;124m\"\u001b[39m\u001b[38;5;124mobj_category\u001b[39m\u001b[38;5;124m\"\u001b[39m,\n\u001b[1;32m      5\u001b[0m     title\u001b[38;5;241m=\u001b[39m\u001b[38;5;124m\"\u001b[39m\u001b[38;5;124mDifference between the point-spread function magnitude (psfMag) and <br>the model magnitude (modelMag) as a function of magnitude\u001b[39m\u001b[38;5;124m\"\u001b[39m,\n\u001b[1;32m      6\u001b[0m     labels\u001b[38;5;241m=\u001b[39m\u001b[38;5;28mdict\u001b[39m(modelMag_r\u001b[38;5;241m=\u001b[39m\u001b[38;5;124m\"\u001b[39m\u001b[38;5;124mMagnitude (r)\u001b[39m\u001b[38;5;124m\"\u001b[39m, psfModelDiff\u001b[38;5;241m=\u001b[39m\u001b[38;5;124m\"\u001b[39m\u001b[38;5;124mpsfMag-modelMag\u001b[39m\u001b[38;5;124m\"\u001b[39m),\n\u001b[1;32m      7\u001b[0m )\n",
      "File \u001b[0;32m/Library/Frameworks/Python.framework/Versions/3.10/lib/python3.10/site-packages/pyspark/pandas/plot/core.py:1141\u001b[0m, in \u001b[0;36mPandasOnSparkPlotAccessor.scatter\u001b[0;34m(self, x, y, **kwds)\u001b[0m\n\u001b[1;32m   1079\u001b[0m \u001b[38;5;28;01mdef\u001b[39;00m \u001b[38;5;21mscatter\u001b[39m(\u001b[38;5;28mself\u001b[39m, x, y, \u001b[38;5;241m*\u001b[39m\u001b[38;5;241m*\u001b[39mkwds):\n\u001b[1;32m   1080\u001b[0m     \u001b[38;5;124;03m\"\"\"\u001b[39;00m\n\u001b[1;32m   1081\u001b[0m \u001b[38;5;124;03m    Create a scatter plot with varying marker point size and color.\u001b[39;00m\n\u001b[1;32m   1082\u001b[0m \n\u001b[0;32m   (...)\u001b[0m\n\u001b[1;32m   1139\u001b[0m \u001b[38;5;124;03m        >>> fig.update_layout(template=\"plotly_dark\")  # doctest: +SKIP\u001b[39;00m\n\u001b[1;32m   1140\u001b[0m \u001b[38;5;124;03m    \"\"\"\u001b[39;00m\n\u001b[0;32m-> 1141\u001b[0m     \u001b[38;5;28;01mreturn\u001b[39;00m \u001b[38;5;28;43mself\u001b[39;49m\u001b[43m(\u001b[49m\u001b[43mkind\u001b[49m\u001b[38;5;241;43m=\u001b[39;49m\u001b[38;5;124;43m\"\u001b[39;49m\u001b[38;5;124;43mscatter\u001b[39;49m\u001b[38;5;124;43m\"\u001b[39;49m\u001b[43m,\u001b[49m\u001b[43m \u001b[49m\u001b[43mx\u001b[49m\u001b[38;5;241;43m=\u001b[39;49m\u001b[43mx\u001b[49m\u001b[43m,\u001b[49m\u001b[43m \u001b[49m\u001b[43my\u001b[49m\u001b[38;5;241;43m=\u001b[39;49m\u001b[43my\u001b[49m\u001b[43m,\u001b[49m\u001b[43m \u001b[49m\u001b[38;5;241;43m*\u001b[39;49m\u001b[38;5;241;43m*\u001b[39;49m\u001b[43mkwds\u001b[49m\u001b[43m)\u001b[49m\n",
      "File \u001b[0;32m/Library/Frameworks/Python.framework/Versions/3.10/lib/python3.10/site-packages/pyspark/pandas/plot/core.py:507\u001b[0m, in \u001b[0;36mPandasOnSparkPlotAccessor.__call__\u001b[0;34m(self, kind, backend, **kwargs)\u001b[0m\n\u001b[1;32m    504\u001b[0m kind \u001b[38;5;241m=\u001b[39m {\u001b[38;5;124m\"\u001b[39m\u001b[38;5;124mdensity\u001b[39m\u001b[38;5;124m\"\u001b[39m: \u001b[38;5;124m\"\u001b[39m\u001b[38;5;124mkde\u001b[39m\u001b[38;5;124m\"\u001b[39m}\u001b[38;5;241m.\u001b[39mget(kind, kind)\n\u001b[1;32m    505\u001b[0m \u001b[38;5;28;01mif\u001b[39;00m \u001b[38;5;28mhasattr\u001b[39m(plot_backend, \u001b[38;5;124m\"\u001b[39m\u001b[38;5;124mplot_pandas_on_spark\u001b[39m\u001b[38;5;124m\"\u001b[39m):\n\u001b[1;32m    506\u001b[0m     \u001b[38;5;66;03m# use if there's pandas-on-Spark specific method.\u001b[39;00m\n\u001b[0;32m--> 507\u001b[0m     \u001b[38;5;28;01mreturn\u001b[39;00m \u001b[43mplot_backend\u001b[49m\u001b[38;5;241;43m.\u001b[39;49m\u001b[43mplot_pandas_on_spark\u001b[49m\u001b[43m(\u001b[49m\u001b[43mplot_data\u001b[49m\u001b[43m,\u001b[49m\u001b[43m \u001b[49m\u001b[43mkind\u001b[49m\u001b[38;5;241;43m=\u001b[39;49m\u001b[43mkind\u001b[49m\u001b[43m,\u001b[49m\u001b[43m \u001b[49m\u001b[38;5;241;43m*\u001b[39;49m\u001b[38;5;241;43m*\u001b[39;49m\u001b[43mkwargs\u001b[49m\u001b[43m)\u001b[49m\n\u001b[1;32m    508\u001b[0m \u001b[38;5;28;01melse\u001b[39;00m:\n\u001b[1;32m    509\u001b[0m     \u001b[38;5;66;03m# fallback to use pandas'\u001b[39;00m\n\u001b[1;32m    510\u001b[0m     \u001b[38;5;28;01mif\u001b[39;00m \u001b[38;5;129;01mnot\u001b[39;00m PandasOnSparkPlotAccessor\u001b[38;5;241m.\u001b[39mpandas_plot_data_map[kind]:\n",
      "File \u001b[0;32m/Library/Frameworks/Python.framework/Versions/3.10/lib/python3.10/site-packages/pyspark/pandas/plot/matplotlib.py:539\u001b[0m, in \u001b[0;36mplot_pandas_on_spark\u001b[0;34m(data, kind, **kwargs)\u001b[0m\n\u001b[1;32m    537\u001b[0m \u001b[38;5;28;01mif\u001b[39;00m kind \u001b[38;5;129;01mnot\u001b[39;00m \u001b[38;5;129;01min\u001b[39;00m _dataframe_kinds:\n\u001b[1;32m    538\u001b[0m     \u001b[38;5;28;01mreturn\u001b[39;00m unsupported_function(class_name\u001b[38;5;241m=\u001b[39m\u001b[38;5;124m\"\u001b[39m\u001b[38;5;124mpd.DataFrame\u001b[39m\u001b[38;5;124m\"\u001b[39m, method_name\u001b[38;5;241m=\u001b[39mkind)()\n\u001b[0;32m--> 539\u001b[0m \u001b[38;5;28;01mreturn\u001b[39;00m \u001b[43mplot_frame\u001b[49m\u001b[43m(\u001b[49m\u001b[43mdata\u001b[49m\u001b[38;5;241;43m=\u001b[39;49m\u001b[43mdata\u001b[49m\u001b[43m,\u001b[49m\u001b[43m \u001b[49m\u001b[43mkind\u001b[49m\u001b[38;5;241;43m=\u001b[39;49m\u001b[43mkind\u001b[49m\u001b[43m,\u001b[49m\u001b[43m \u001b[49m\u001b[38;5;241;43m*\u001b[39;49m\u001b[38;5;241;43m*\u001b[39;49m\u001b[43mkwargs\u001b[49m\u001b[43m)\u001b[49m\n",
      "File \u001b[0;32m/Library/Frameworks/Python.framework/Versions/3.10/lib/python3.10/site-packages/pyspark/pandas/plot/matplotlib.py:833\u001b[0m, in \u001b[0;36mplot_frame\u001b[0;34m(data, x, y, kind, ax, subplots, sharex, sharey, layout, figsize, use_index, title, grid, legend, style, logx, logy, loglog, xticks, yticks, xlim, ylim, rot, fontsize, colormap, table, yerr, xerr, secondary_y, sort_columns, **kwds)\u001b[0m\n\u001b[1;32m    699\u001b[0m \u001b[38;5;28;01mdef\u001b[39;00m \u001b[38;5;21mplot_frame\u001b[39m(\n\u001b[1;32m    700\u001b[0m     data,\n\u001b[1;32m    701\u001b[0m     x\u001b[38;5;241m=\u001b[39m\u001b[38;5;28;01mNone\u001b[39;00m,\n\u001b[0;32m   (...)\u001b[0m\n\u001b[1;32m    730\u001b[0m     \u001b[38;5;241m*\u001b[39m\u001b[38;5;241m*\u001b[39mkwds\n\u001b[1;32m    731\u001b[0m ):\n\u001b[1;32m    732\u001b[0m     \u001b[38;5;124;03m\"\"\"\u001b[39;00m\n\u001b[1;32m    733\u001b[0m \u001b[38;5;124;03m    Make plots of DataFrames using matplotlib / pylab.\u001b[39;00m\n\u001b[1;32m    734\u001b[0m \n\u001b[0;32m   (...)\u001b[0m\n\u001b[1;32m    830\u001b[0m \u001b[38;5;124;03m      From 0 (left/bottom-end) to 1 (right/top-end). Default is 0.5 (center)\u001b[39;00m\n\u001b[1;32m    831\u001b[0m \u001b[38;5;124;03m    \"\"\"\u001b[39;00m\n\u001b[0;32m--> 833\u001b[0m     \u001b[38;5;28;01mreturn\u001b[39;00m \u001b[43m_plot\u001b[49m\u001b[43m(\u001b[49m\n\u001b[1;32m    834\u001b[0m \u001b[43m        \u001b[49m\u001b[43mdata\u001b[49m\u001b[43m,\u001b[49m\n\u001b[1;32m    835\u001b[0m \u001b[43m        \u001b[49m\u001b[43mkind\u001b[49m\u001b[38;5;241;43m=\u001b[39;49m\u001b[43mkind\u001b[49m\u001b[43m,\u001b[49m\n\u001b[1;32m    836\u001b[0m \u001b[43m        \u001b[49m\u001b[43mx\u001b[49m\u001b[38;5;241;43m=\u001b[39;49m\u001b[43mx\u001b[49m\u001b[43m,\u001b[49m\n\u001b[1;32m    837\u001b[0m \u001b[43m        \u001b[49m\u001b[43my\u001b[49m\u001b[38;5;241;43m=\u001b[39;49m\u001b[43my\u001b[49m\u001b[43m,\u001b[49m\n\u001b[1;32m    838\u001b[0m \u001b[43m        \u001b[49m\u001b[43max\u001b[49m\u001b[38;5;241;43m=\u001b[39;49m\u001b[43max\u001b[49m\u001b[43m,\u001b[49m\n\u001b[1;32m    839\u001b[0m \u001b[43m        \u001b[49m\u001b[43mfigsize\u001b[49m\u001b[38;5;241;43m=\u001b[39;49m\u001b[43mfigsize\u001b[49m\u001b[43m,\u001b[49m\n\u001b[1;32m    840\u001b[0m \u001b[43m        \u001b[49m\u001b[43muse_index\u001b[49m\u001b[38;5;241;43m=\u001b[39;49m\u001b[43muse_index\u001b[49m\u001b[43m,\u001b[49m\n\u001b[1;32m    841\u001b[0m \u001b[43m        \u001b[49m\u001b[43mtitle\u001b[49m\u001b[38;5;241;43m=\u001b[39;49m\u001b[43mtitle\u001b[49m\u001b[43m,\u001b[49m\n\u001b[1;32m    842\u001b[0m \u001b[43m        \u001b[49m\u001b[43mgrid\u001b[49m\u001b[38;5;241;43m=\u001b[39;49m\u001b[43mgrid\u001b[49m\u001b[43m,\u001b[49m\n\u001b[1;32m    843\u001b[0m \u001b[43m        \u001b[49m\u001b[43mlegend\u001b[49m\u001b[38;5;241;43m=\u001b[39;49m\u001b[43mlegend\u001b[49m\u001b[43m,\u001b[49m\n\u001b[1;32m    844\u001b[0m \u001b[43m        \u001b[49m\u001b[43msubplots\u001b[49m\u001b[38;5;241;43m=\u001b[39;49m\u001b[43msubplots\u001b[49m\u001b[43m,\u001b[49m\n\u001b[1;32m    845\u001b[0m \u001b[43m        \u001b[49m\u001b[43mstyle\u001b[49m\u001b[38;5;241;43m=\u001b[39;49m\u001b[43mstyle\u001b[49m\u001b[43m,\u001b[49m\n\u001b[1;32m    846\u001b[0m \u001b[43m        \u001b[49m\u001b[43mlogx\u001b[49m\u001b[38;5;241;43m=\u001b[39;49m\u001b[43mlogx\u001b[49m\u001b[43m,\u001b[49m\n\u001b[1;32m    847\u001b[0m \u001b[43m        \u001b[49m\u001b[43mlogy\u001b[49m\u001b[38;5;241;43m=\u001b[39;49m\u001b[43mlogy\u001b[49m\u001b[43m,\u001b[49m\n\u001b[1;32m    848\u001b[0m \u001b[43m        \u001b[49m\u001b[43mloglog\u001b[49m\u001b[38;5;241;43m=\u001b[39;49m\u001b[43mloglog\u001b[49m\u001b[43m,\u001b[49m\n\u001b[1;32m    849\u001b[0m \u001b[43m        \u001b[49m\u001b[43mxticks\u001b[49m\u001b[38;5;241;43m=\u001b[39;49m\u001b[43mxticks\u001b[49m\u001b[43m,\u001b[49m\n\u001b[1;32m    850\u001b[0m \u001b[43m        \u001b[49m\u001b[43myticks\u001b[49m\u001b[38;5;241;43m=\u001b[39;49m\u001b[43myticks\u001b[49m\u001b[43m,\u001b[49m\n\u001b[1;32m    851\u001b[0m \u001b[43m        \u001b[49m\u001b[43mxlim\u001b[49m\u001b[38;5;241;43m=\u001b[39;49m\u001b[43mxlim\u001b[49m\u001b[43m,\u001b[49m\n\u001b[1;32m    852\u001b[0m \u001b[43m        \u001b[49m\u001b[43mylim\u001b[49m\u001b[38;5;241;43m=\u001b[39;49m\u001b[43mylim\u001b[49m\u001b[43m,\u001b[49m\n\u001b[1;32m    853\u001b[0m \u001b[43m        \u001b[49m\u001b[43mrot\u001b[49m\u001b[38;5;241;43m=\u001b[39;49m\u001b[43mrot\u001b[49m\u001b[43m,\u001b[49m\n\u001b[1;32m    854\u001b[0m \u001b[43m        \u001b[49m\u001b[43mfontsize\u001b[49m\u001b[38;5;241;43m=\u001b[39;49m\u001b[43mfontsize\u001b[49m\u001b[43m,\u001b[49m\n\u001b[1;32m    855\u001b[0m \u001b[43m        \u001b[49m\u001b[43mcolormap\u001b[49m\u001b[38;5;241;43m=\u001b[39;49m\u001b[43mcolormap\u001b[49m\u001b[43m,\u001b[49m\n\u001b[1;32m    856\u001b[0m \u001b[43m        \u001b[49m\u001b[43mtable\u001b[49m\u001b[38;5;241;43m=\u001b[39;49m\u001b[43mtable\u001b[49m\u001b[43m,\u001b[49m\n\u001b[1;32m    857\u001b[0m \u001b[43m        \u001b[49m\u001b[43myerr\u001b[49m\u001b[38;5;241;43m=\u001b[39;49m\u001b[43myerr\u001b[49m\u001b[43m,\u001b[49m\n\u001b[1;32m    858\u001b[0m \u001b[43m        \u001b[49m\u001b[43mxerr\u001b[49m\u001b[38;5;241;43m=\u001b[39;49m\u001b[43mxerr\u001b[49m\u001b[43m,\u001b[49m\n\u001b[1;32m    859\u001b[0m \u001b[43m        \u001b[49m\u001b[43msharex\u001b[49m\u001b[38;5;241;43m=\u001b[39;49m\u001b[43msharex\u001b[49m\u001b[43m,\u001b[49m\n\u001b[1;32m    860\u001b[0m \u001b[43m        \u001b[49m\u001b[43msharey\u001b[49m\u001b[38;5;241;43m=\u001b[39;49m\u001b[43msharey\u001b[49m\u001b[43m,\u001b[49m\n\u001b[1;32m    861\u001b[0m \u001b[43m        \u001b[49m\u001b[43msecondary_y\u001b[49m\u001b[38;5;241;43m=\u001b[39;49m\u001b[43msecondary_y\u001b[49m\u001b[43m,\u001b[49m\n\u001b[1;32m    862\u001b[0m \u001b[43m        \u001b[49m\u001b[43mlayout\u001b[49m\u001b[38;5;241;43m=\u001b[39;49m\u001b[43mlayout\u001b[49m\u001b[43m,\u001b[49m\n\u001b[1;32m    863\u001b[0m \u001b[43m        \u001b[49m\u001b[43msort_columns\u001b[49m\u001b[38;5;241;43m=\u001b[39;49m\u001b[43msort_columns\u001b[49m\u001b[43m,\u001b[49m\n\u001b[1;32m    864\u001b[0m \u001b[43m        \u001b[49m\u001b[38;5;241;43m*\u001b[39;49m\u001b[38;5;241;43m*\u001b[39;49m\u001b[43mkwds\u001b[49m\u001b[43m,\u001b[49m\n\u001b[1;32m    865\u001b[0m \u001b[43m    \u001b[49m\u001b[43m)\u001b[49m\n",
      "File \u001b[0;32m/Library/Frameworks/Python.framework/Versions/3.10/lib/python3.10/site-packages/pyspark/pandas/plot/matplotlib.py:895\u001b[0m, in \u001b[0;36m_plot\u001b[0;34m(data, x, y, subplots, ax, kind, **kwds)\u001b[0m\n\u001b[1;32m    892\u001b[0m             data \u001b[38;5;241m=\u001b[39m data[y]\n\u001b[1;32m    894\u001b[0m     plot_obj \u001b[38;5;241m=\u001b[39m klass(data, subplots\u001b[38;5;241m=\u001b[39msubplots, ax\u001b[38;5;241m=\u001b[39max, kind\u001b[38;5;241m=\u001b[39mkind, \u001b[38;5;241m*\u001b[39m\u001b[38;5;241m*\u001b[39mkwds)\n\u001b[0;32m--> 895\u001b[0m \u001b[43mplot_obj\u001b[49m\u001b[38;5;241;43m.\u001b[39;49m\u001b[43mgenerate\u001b[49m\u001b[43m(\u001b[49m\u001b[43m)\u001b[49m\n\u001b[1;32m    896\u001b[0m plot_obj\u001b[38;5;241m.\u001b[39mdraw()\n\u001b[1;32m    897\u001b[0m \u001b[38;5;28;01mreturn\u001b[39;00m plot_obj\u001b[38;5;241m.\u001b[39mresult\n",
      "File \u001b[0;32m/Library/Frameworks/Python.framework/Versions/3.10/lib/python3.10/site-packages/pandas/plotting/_matplotlib/core.py:329\u001b[0m, in \u001b[0;36mMPLPlot.generate\u001b[0;34m(self)\u001b[0m\n\u001b[1;32m    327\u001b[0m \u001b[38;5;28mself\u001b[39m\u001b[38;5;241m.\u001b[39m_compute_plot_data()\n\u001b[1;32m    328\u001b[0m \u001b[38;5;28mself\u001b[39m\u001b[38;5;241m.\u001b[39m_setup_subplots()\n\u001b[0;32m--> 329\u001b[0m \u001b[38;5;28;43mself\u001b[39;49m\u001b[38;5;241;43m.\u001b[39;49m\u001b[43m_make_plot\u001b[49m\u001b[43m(\u001b[49m\u001b[43m)\u001b[49m\n\u001b[1;32m    330\u001b[0m \u001b[38;5;28mself\u001b[39m\u001b[38;5;241m.\u001b[39m_add_table()\n\u001b[1;32m    331\u001b[0m \u001b[38;5;28mself\u001b[39m\u001b[38;5;241m.\u001b[39m_make_legend()\n",
      "File \u001b[0;32m/Library/Frameworks/Python.framework/Versions/3.10/lib/python3.10/site-packages/pyspark/pandas/plot/matplotlib.py:463\u001b[0m, in \u001b[0;36mPandasOnSparkScatterPlot._make_plot\u001b[0;34m(self)\u001b[0m\n\u001b[1;32m    461\u001b[0m \u001b[38;5;28;01mdef\u001b[39;00m \u001b[38;5;21m_make_plot\u001b[39m(\u001b[38;5;28mself\u001b[39m):\n\u001b[1;32m    462\u001b[0m     \u001b[38;5;28mself\u001b[39m\u001b[38;5;241m.\u001b[39mset_result_text(\u001b[38;5;28mself\u001b[39m\u001b[38;5;241m.\u001b[39m_get_ax(\u001b[38;5;241m0\u001b[39m))\n\u001b[0;32m--> 463\u001b[0m     \u001b[38;5;28;43msuper\u001b[39;49m\u001b[43m(\u001b[49m\u001b[43m)\u001b[49m\u001b[38;5;241;43m.\u001b[39;49m\u001b[43m_make_plot\u001b[49m\u001b[43m(\u001b[49m\u001b[43m)\u001b[49m\n",
      "File \u001b[0;32m/Library/Frameworks/Python.framework/Versions/3.10/lib/python3.10/site-packages/pandas/plotting/_matplotlib/core.py:1114\u001b[0m, in \u001b[0;36mScatterPlot._make_plot\u001b[0;34m(self)\u001b[0m\n\u001b[1;32m   1112\u001b[0m \u001b[38;5;28;01melse\u001b[39;00m:\n\u001b[1;32m   1113\u001b[0m     label \u001b[38;5;241m=\u001b[39m \u001b[38;5;28;01mNone\u001b[39;00m\n\u001b[0;32m-> 1114\u001b[0m scatter \u001b[38;5;241m=\u001b[39m \u001b[43max\u001b[49m\u001b[38;5;241;43m.\u001b[39;49m\u001b[43mscatter\u001b[49m\u001b[43m(\u001b[49m\n\u001b[1;32m   1115\u001b[0m \u001b[43m    \u001b[49m\u001b[43mdata\u001b[49m\u001b[43m[\u001b[49m\u001b[43mx\u001b[49m\u001b[43m]\u001b[49m\u001b[38;5;241;43m.\u001b[39;49m\u001b[43mvalues\u001b[49m\u001b[43m,\u001b[49m\n\u001b[1;32m   1116\u001b[0m \u001b[43m    \u001b[49m\u001b[43mdata\u001b[49m\u001b[43m[\u001b[49m\u001b[43my\u001b[49m\u001b[43m]\u001b[49m\u001b[38;5;241;43m.\u001b[39;49m\u001b[43mvalues\u001b[49m\u001b[43m,\u001b[49m\n\u001b[1;32m   1117\u001b[0m \u001b[43m    \u001b[49m\u001b[43mc\u001b[49m\u001b[38;5;241;43m=\u001b[39;49m\u001b[43mc_values\u001b[49m\u001b[43m,\u001b[49m\n\u001b[1;32m   1118\u001b[0m \u001b[43m    \u001b[49m\u001b[43mlabel\u001b[49m\u001b[38;5;241;43m=\u001b[39;49m\u001b[43mlabel\u001b[49m\u001b[43m,\u001b[49m\n\u001b[1;32m   1119\u001b[0m \u001b[43m    \u001b[49m\u001b[43mcmap\u001b[49m\u001b[38;5;241;43m=\u001b[39;49m\u001b[43mcmap\u001b[49m\u001b[43m,\u001b[49m\n\u001b[1;32m   1120\u001b[0m \u001b[43m    \u001b[49m\u001b[43mnorm\u001b[49m\u001b[38;5;241;43m=\u001b[39;49m\u001b[43mnorm\u001b[49m\u001b[43m,\u001b[49m\n\u001b[1;32m   1121\u001b[0m \u001b[43m    \u001b[49m\u001b[38;5;241;43m*\u001b[39;49m\u001b[38;5;241;43m*\u001b[39;49m\u001b[38;5;28;43mself\u001b[39;49m\u001b[38;5;241;43m.\u001b[39;49m\u001b[43mkwds\u001b[49m\u001b[43m,\u001b[49m\n\u001b[1;32m   1122\u001b[0m \u001b[43m\u001b[49m\u001b[43m)\u001b[49m\n\u001b[1;32m   1123\u001b[0m \u001b[38;5;28;01mif\u001b[39;00m cb:\n\u001b[1;32m   1124\u001b[0m     cbar_label \u001b[38;5;241m=\u001b[39m c \u001b[38;5;28;01mif\u001b[39;00m c_is_column \u001b[38;5;28;01melse\u001b[39;00m \u001b[38;5;124m\"\u001b[39m\u001b[38;5;124m\"\u001b[39m\n",
      "File \u001b[0;32m/Library/Frameworks/Python.framework/Versions/3.10/lib/python3.10/site-packages/matplotlib/__init__.py:1412\u001b[0m, in \u001b[0;36m_preprocess_data.<locals>.inner\u001b[0;34m(ax, data, *args, **kwargs)\u001b[0m\n\u001b[1;32m   1409\u001b[0m \u001b[38;5;129m@functools\u001b[39m\u001b[38;5;241m.\u001b[39mwraps(func)\n\u001b[1;32m   1410\u001b[0m \u001b[38;5;28;01mdef\u001b[39;00m \u001b[38;5;21minner\u001b[39m(ax, \u001b[38;5;241m*\u001b[39margs, data\u001b[38;5;241m=\u001b[39m\u001b[38;5;28;01mNone\u001b[39;00m, \u001b[38;5;241m*\u001b[39m\u001b[38;5;241m*\u001b[39mkwargs):\n\u001b[1;32m   1411\u001b[0m     \u001b[38;5;28;01mif\u001b[39;00m data \u001b[38;5;129;01mis\u001b[39;00m \u001b[38;5;28;01mNone\u001b[39;00m:\n\u001b[0;32m-> 1412\u001b[0m         \u001b[38;5;28;01mreturn\u001b[39;00m \u001b[43mfunc\u001b[49m\u001b[43m(\u001b[49m\u001b[43max\u001b[49m\u001b[43m,\u001b[49m\u001b[43m \u001b[49m\u001b[38;5;241;43m*\u001b[39;49m\u001b[38;5;28;43mmap\u001b[39;49m\u001b[43m(\u001b[49m\u001b[43msanitize_sequence\u001b[49m\u001b[43m,\u001b[49m\u001b[43m \u001b[49m\u001b[43margs\u001b[49m\u001b[43m)\u001b[49m\u001b[43m,\u001b[49m\u001b[43m \u001b[49m\u001b[38;5;241;43m*\u001b[39;49m\u001b[38;5;241;43m*\u001b[39;49m\u001b[43mkwargs\u001b[49m\u001b[43m)\u001b[49m\n\u001b[1;32m   1414\u001b[0m     bound \u001b[38;5;241m=\u001b[39m new_sig\u001b[38;5;241m.\u001b[39mbind(ax, \u001b[38;5;241m*\u001b[39margs, \u001b[38;5;241m*\u001b[39m\u001b[38;5;241m*\u001b[39mkwargs)\n\u001b[1;32m   1415\u001b[0m     auto_label \u001b[38;5;241m=\u001b[39m (bound\u001b[38;5;241m.\u001b[39marguments\u001b[38;5;241m.\u001b[39mget(label_namer)\n\u001b[1;32m   1416\u001b[0m                   \u001b[38;5;129;01mor\u001b[39;00m bound\u001b[38;5;241m.\u001b[39mkwargs\u001b[38;5;241m.\u001b[39mget(label_namer))\n",
      "File \u001b[0;32m/Library/Frameworks/Python.framework/Versions/3.10/lib/python3.10/site-packages/matplotlib/axes/_axes.py:4387\u001b[0m, in \u001b[0;36mAxes.scatter\u001b[0;34m(self, x, y, s, c, marker, cmap, norm, vmin, vmax, alpha, linewidths, edgecolors, plotnonfinite, **kwargs)\u001b[0m\n\u001b[1;32m   4384\u001b[0m \u001b[38;5;28;01mif\u001b[39;00m edgecolors \u001b[38;5;129;01mis\u001b[39;00m \u001b[38;5;28;01mNone\u001b[39;00m:\n\u001b[1;32m   4385\u001b[0m     orig_edgecolor \u001b[38;5;241m=\u001b[39m kwargs\u001b[38;5;241m.\u001b[39mget(\u001b[38;5;124m'\u001b[39m\u001b[38;5;124medgecolor\u001b[39m\u001b[38;5;124m'\u001b[39m, \u001b[38;5;28;01mNone\u001b[39;00m)\n\u001b[1;32m   4386\u001b[0m c, colors, edgecolors \u001b[38;5;241m=\u001b[39m \\\n\u001b[0;32m-> 4387\u001b[0m     \u001b[38;5;28;43mself\u001b[39;49m\u001b[38;5;241;43m.\u001b[39;49m\u001b[43m_parse_scatter_color_args\u001b[49m\u001b[43m(\u001b[49m\n\u001b[1;32m   4388\u001b[0m \u001b[43m        \u001b[49m\u001b[43mc\u001b[49m\u001b[43m,\u001b[49m\u001b[43m \u001b[49m\u001b[43medgecolors\u001b[49m\u001b[43m,\u001b[49m\u001b[43m \u001b[49m\u001b[43mkwargs\u001b[49m\u001b[43m,\u001b[49m\u001b[43m \u001b[49m\u001b[43mx\u001b[49m\u001b[38;5;241;43m.\u001b[39;49m\u001b[43msize\u001b[49m\u001b[43m,\u001b[49m\n\u001b[1;32m   4389\u001b[0m \u001b[43m        \u001b[49m\u001b[43mget_next_color_func\u001b[49m\u001b[38;5;241;43m=\u001b[39;49m\u001b[38;5;28;43mself\u001b[39;49m\u001b[38;5;241;43m.\u001b[39;49m\u001b[43m_get_patches_for_fill\u001b[49m\u001b[38;5;241;43m.\u001b[39;49m\u001b[43mget_next_color\u001b[49m\u001b[43m)\u001b[49m\n\u001b[1;32m   4391\u001b[0m \u001b[38;5;28;01mif\u001b[39;00m plotnonfinite \u001b[38;5;129;01mand\u001b[39;00m colors \u001b[38;5;129;01mis\u001b[39;00m \u001b[38;5;28;01mNone\u001b[39;00m:\n\u001b[1;32m   4392\u001b[0m     c \u001b[38;5;241m=\u001b[39m np\u001b[38;5;241m.\u001b[39mma\u001b[38;5;241m.\u001b[39mmasked_invalid(c)\n",
      "File \u001b[0;32m/Library/Frameworks/Python.framework/Versions/3.10/lib/python3.10/site-packages/matplotlib/axes/_axes.py:4230\u001b[0m, in \u001b[0;36mAxes._parse_scatter_color_args\u001b[0;34m(c, edgecolors, kwargs, xsize, get_next_color_func)\u001b[0m\n\u001b[1;32m   4227\u001b[0m             \u001b[38;5;28;01mraise\u001b[39;00m invalid_shape_exception(c\u001b[38;5;241m.\u001b[39msize, xsize) \u001b[38;5;28;01mfrom\u001b[39;00m \u001b[38;5;21;01merr\u001b[39;00m\n\u001b[1;32m   4228\u001b[0m         \u001b[38;5;66;03m# Both the mapping *and* the RGBA conversion failed: pretty\u001b[39;00m\n\u001b[1;32m   4229\u001b[0m         \u001b[38;5;66;03m# severe failure => one may appreciate a verbose feedback.\u001b[39;00m\n\u001b[0;32m-> 4230\u001b[0m         \u001b[38;5;28;01mraise\u001b[39;00m \u001b[38;5;167;01mValueError\u001b[39;00m(\n\u001b[1;32m   4231\u001b[0m             \u001b[38;5;124mf\u001b[39m\u001b[38;5;124m\"\u001b[39m\u001b[38;5;124m'\u001b[39m\u001b[38;5;124mc\u001b[39m\u001b[38;5;124m'\u001b[39m\u001b[38;5;124m argument must be a color, a sequence of colors, \u001b[39m\u001b[38;5;124m\"\u001b[39m\n\u001b[1;32m   4232\u001b[0m             \u001b[38;5;124mf\u001b[39m\u001b[38;5;124m\"\u001b[39m\u001b[38;5;124mor a sequence of numbers, not \u001b[39m\u001b[38;5;132;01m{\u001b[39;00mc\u001b[38;5;132;01m}\u001b[39;00m\u001b[38;5;124m\"\u001b[39m) \u001b[38;5;28;01mfrom\u001b[39;00m \u001b[38;5;21;01merr\u001b[39;00m\n\u001b[1;32m   4233\u001b[0m \u001b[38;5;28;01melse\u001b[39;00m:\n\u001b[1;32m   4234\u001b[0m     \u001b[38;5;28;01mif\u001b[39;00m \u001b[38;5;28mlen\u001b[39m(colors) \u001b[38;5;129;01mnot\u001b[39;00m \u001b[38;5;129;01min\u001b[39;00m (\u001b[38;5;241m0\u001b[39m, \u001b[38;5;241m1\u001b[39m, xsize):\n\u001b[1;32m   4235\u001b[0m         \u001b[38;5;66;03m# NB: remember that a single color is also acceptable.\u001b[39;00m\n\u001b[1;32m   4236\u001b[0m         \u001b[38;5;66;03m# Besides *colors* will be an empty array if c == 'none'.\u001b[39;00m\n",
      "\u001b[0;31mValueError\u001b[0m: 'c' argument must be a color, a sequence of colors, or a sequence of numbers, not ['obj_category']"
     ]
    },
    {
     "data": {
      "image/png": "[encoded data removed]",
      "text/plain": [
       "<Figure size 432x288 with 1 Axes>"
      ]
     },
     "metadata": {
      "needs_background": "light"
     },
     "output_type": "display_data"
    }
   ],
   "source": [
    "train.to_pandas_on_spark().plot.scatter(\n",
    "    x=\"modelMag_r\",\n",
    "    y=\"psfModelDiff\",\n",
    "    color=\"obj_category\",\n",
    "    title=\"Difference between the point-spread function magnitude (psfMag) and <br>the model magnitude (modelMag) as a function of magnitude\",\n",
    "    labels=dict(modelMag_r=\"Magnitude (r)\", psfModelDiff=\"psfMag-modelMag\"),\n",
    ")"
   ]
  },
  {
   "cell_type": "markdown",
   "id": "e2caea67-3a1b-4bb9-a37f-a186d72ef819",
   "metadata": {},
   "source": [
    "<a id=\"modeling\"></a>\n",
    "# Modeling"
   ]
  },
  {
   "cell_type": "markdown",
   "id": "aeed1ec0-9887-41d5-bc26-e3b3dce4e4f0",
   "metadata": {},
   "source": [
    "## Set up transformations"
   ]
  },
  {
   "cell_type": "code",
   "execution_count": 195,
   "id": "63e9a8a4-fe20-4cb2-85be-b05bc29269c4",
   "metadata": {},
   "outputs": [],
   "source": [
    "from pyspark.ml.feature import SQLTransformer\n",
    "\n",
    "sqlTrans = SQLTransformer(\n",
    "    statement=\"SELECT psfMag_r, modelMag_r, petroMag_r, fiberMag_r, \\\n",
    "                        petroRad_r, petroR50_r, petroR90_r, lnLStar_r, \\\n",
    "                        lnLExp_r, lnLDeV_r, mE1_r, mE2_r, mRrCc_r, \\\n",
    "                        type FROM __THIS__\"\n",
    ")"
   ]
  },
  {
   "cell_type": "code",
   "execution_count": 196,
   "id": "45c06f19-aba1-4241-b553-c9b5ee3b06af",
   "metadata": {},
   "outputs": [],
   "source": [
    "lrSQLTrans = SQLTransformer(\n",
    "    statement=\"SELECT psfMag_r, modelMag_r, petroMag_r, fiberMag_r, \\\n",
    "                        petroRad_r, petroR50_r, petroR90_r, lnLStar_r, \\\n",
    "                        lnLExp_r, lnLDeV_r, mE1_r, mE2_r, mRrCc_r, \\\n",
    "                        type FROM __THIS__\"\n",
    ")"
   ]
  },
  {
   "cell_type": "code",
   "execution_count": 197,
   "id": "3bfad018-6647-4a3c-adfc-24590b777542",
   "metadata": {},
   "outputs": [],
   "source": [
    "# Create our list of features by dropping unused columns\n",
    "# features_List = lrSQLTrans.transform(train).drop(\"type\").columns\n",
    "# features_List"
   ]
  },
  {
   "cell_type": "code",
   "execution_count": 198,
   "id": "4e422ddb-134e-4618-b547-3a7cb10d6dc3",
   "metadata": {},
   "outputs": [
    {
     "data": {
      "text/plain": [
       "['psfMag_r',\n",
       " 'modelMag_r',\n",
       " 'petroMag_r',\n",
       " 'fiberMag_r',\n",
       " 'petroRad_r',\n",
       " 'petroR50_r',\n",
       " 'petroR90_r',\n",
       " 'lnLStar_r',\n",
       " 'lnLExp_r',\n",
       " 'lnLDeV_r',\n",
       " 'mE1_r',\n",
       " 'mE2_r',\n",
       " 'mRrCc_r']"
      ]
     },
     "execution_count": 198,
     "metadata": {},
     "output_type": "execute_result"
    }
   ],
   "source": [
    "features_List = train.select(\n",
    "    [\n",
    "        \"psfMag_r\",\n",
    "        \"modelMag_r\",\n",
    "        \"petroMag_r\",\n",
    "        \"fiberMag_r\",\n",
    "        \"petroRad_r\",\n",
    "        \"petroR50_r\",\n",
    "        \"petroR90_r\",\n",
    "        \"lnLStar_r\",\n",
    "        \"lnLExp_r\",\n",
    "        \"lnLDeV_r\",\n",
    "        \"mE1_r\",\n",
    "        \"mE2_r\",\n",
    "        \"mRrCc_r\",\n",
    "    ]\n",
    ").columns\n",
    "features_List"
   ]
  },
  {
   "cell_type": "code",
   "execution_count": 199,
   "id": "bdd92c81-966c-4110-a051-ce8bdda52979",
   "metadata": {},
   "outputs": [],
   "source": [
    "from pyspark.ml import Pipeline\n",
    "from pyspark.ml.feature import StandardScaler, VectorAssembler\n",
    "\n",
    "assembler = VectorAssembler(inputCols=features_list, outputCol=\"features\")\n",
    "\n",
    "# scaler = StandardScaler(inputCol=\"unscaledFeatures\", outputCol=\"features\")"
   ]
  },
  {
   "cell_type": "markdown",
   "id": "320f296d-0921-41e0-b3a3-30b0893ae90e",
   "metadata": {},
   "source": [
    "## Logistic regression"
   ]
  },
  {
   "cell_type": "code",
   "execution_count": 201,
   "id": "28139721-83d0-4291-8e91-295fe020e6b9",
   "metadata": {},
   "outputs": [],
   "source": [
    "from pyspark.ml.feature import StringIndexer\n",
    "\n",
    "stringIndexer = StringIndexer(inputCol=\"type\", outputCol=\"label\", handleInvalid=\"skip\")"
   ]
  },
  {
   "cell_type": "code",
   "execution_count": 202,
   "id": "6ced62c6-4bba-4c47-940e-d07f93a5ce5d",
   "metadata": {},
   "outputs": [],
   "source": [
    "from pyspark.ml.classification import LogisticRegression"
   ]
  },
  {
   "cell_type": "code",
   "execution_count": 203,
   "id": "bbba48f3-989f-4635-acbf-fdf33507859d",
   "metadata": {},
   "outputs": [],
   "source": [
    "lr = LogisticRegression()"
   ]
  },
  {
   "cell_type": "markdown",
   "id": "3881bc72-ff7f-42c1-a62f-7999c6bf8bf1",
   "metadata": {},
   "source": [
    "The list of available logistic regression attributes in PySpark is available [here](https://spark.apache.org/docs/latest/api/python/reference/api/pyspark.ml.classification.LogisticRegression.html#pyspark.ml.classification.LogisticRegression.aggregationDepth)."
   ]
  },
  {
   "cell_type": "code",
   "execution_count": 216,
   "id": "5271121c-efd8-4b3c-a82f-9bdd208db6ca",
   "metadata": {},
   "outputs": [],
   "source": [
    "pipeline = Pipeline(stages=[stringIndexer, assembler, lr])"
   ]
  },
  {
   "cell_type": "code",
   "execution_count": 217,
   "id": "f2b0d395-d3a6-44db-afef-b5db4a0c7fb3",
   "metadata": {},
   "outputs": [],
   "source": [
    "import numpy as np\n",
    "from pyspark.ml.evaluation import (\n",
    "    BinaryClassificationEvaluator,\n",
    "    MulticlassClassificationEvaluator,\n",
    ")\n",
    "from pyspark.ml.tuning import CrossValidator, ParamGridBuilder\n",
    "\n",
    "lrParamGrid = (\n",
    "    ParamGridBuilder()\n",
    "    .addGrid(lr.regParam, np.arange(0, 0.1, 0.01))\n",
    "    .addGrid(lr.elasticNetParam, [0, 1])\n",
    "    .build()\n",
    ")\n",
    "\n",
    "lrCrossVal = CrossValidator(\n",
    "    estimator=pipeline,\n",
    "    estimatorParamMaps=lrParamGrid,\n",
    "    evaluator=MulticlassClassificationEvaluator(),\n",
    "    numFolds=3,\n",
    ")"
   ]
  },
  {
   "cell_type": "code",
   "execution_count": 218,
   "id": "8203083c-ea4f-46ae-b04d-24933dd492a9",
   "metadata": {},
   "outputs": [
    {
     "name": "stderr",
     "output_type": "stream",
     "text": [
      "                                                                                \r"
     ]
    }
   ],
   "source": [
    "lrCVModel = lrCrossVal.fit(train)"
   ]
  },
  {
   "cell_type": "code",
   "execution_count": 219,
   "id": "9a7a6d24-e914-4de8-ae2e-f4d761eff3dc",
   "metadata": {},
   "outputs": [],
   "source": [
    "lrPredictions = lrCVModel.transform(test)"
   ]
  },
  {
   "cell_type": "code",
   "execution_count": 220,
   "id": "edb3ff50-1016-4460-a0b6-3f142126e25d",
   "metadata": {},
   "outputs": [
    {
     "name": "stderr",
     "output_type": "stream",
     "text": [
      "[Stage 28667:>                                                      (0 + 5) / 5]\r"
     ]
    },
    {
     "name": "stdout",
     "output_type": "stream",
     "text": [
      "Accuracy: 0.9944070358397437\n"
     ]
    },
    {
     "name": "stderr",
     "output_type": "stream",
     "text": [
      "                                                                                \r"
     ]
    }
   ],
   "source": [
    "print(\"Accuracy:\", MulticlassClassificationEvaluator().evaluate(lrPredictions))"
   ]
  },
  {
   "cell_type": "code",
   "execution_count": 221,
   "id": "5b512b24-7106-49cf-bfb3-db3c01ba257c",
   "metadata": {},
   "outputs": [
    {
     "name": "stderr",
     "output_type": "stream",
     "text": [
      "                                                                                \r"
     ]
    },
    {
     "name": "stdout",
     "output_type": "stream",
     "text": [
      "Confusion Matrix:\n",
      "[[15336    64]\n",
      " [   32  1661]]\n"
     ]
    }
   ],
   "source": [
    "from sklearn.metrics import confusion_matrix\n",
    "\n",
    "y_pred = lrPredictions.select(\"prediction\").collect()\n",
    "y_orig = lrPredictions.select(\"label\").collect()\n",
    "\n",
    "lrCM = confusion_matrix(y_orig, y_pred)\n",
    "print(\"Confusion Matrix:\")\n",
    "print(lrCM)"
   ]
  },
  {
   "cell_type": "code",
   "execution_count": 222,
   "id": "16100f0b-cfbd-44ee-8f20-4786f764c721",
   "metadata": {},
   "outputs": [
    {
     "name": "stderr",
     "output_type": "stream",
     "text": [
      "                                                                                \r"
     ]
    },
    {
     "name": "stdout",
     "output_type": "stream",
     "text": [
      "+-------+------------------+\n",
      "|summary|        modelMag_r|\n",
      "+-------+------------------+\n",
      "|  count|             17093|\n",
      "|   mean|17.383792974316965|\n",
      "| stddev|1.0114611344421824|\n",
      "|    min|          14.00007|\n",
      "|    max|          20.99957|\n",
      "+-------+------------------+\n",
      "\n"
     ]
    }
   ],
   "source": [
    "lrPredictions[[\"modelMag_r\"]].describe().show()"
   ]
  },
  {
   "cell_type": "code",
   "execution_count": 224,
   "id": "d947cd8f-2ddf-4f7f-b01c-3131dde48fea",
   "metadata": {},
   "outputs": [
    {
     "name": "stderr",
     "output_type": "stream",
     "text": [
      "                                                                                \r"
     ]
    },
    {
     "data": {
      "text/plain": [
       "83"
      ]
     },
     "execution_count": 224,
     "metadata": {},
     "output_type": "execute_result"
    }
   ],
   "source": [
    "lrPredictions.filter(lrPredictions.modelMag_r >= 20.5).count()"
   ]
  },
  {
   "cell_type": "code",
   "execution_count": 225,
   "id": "03f7785b-0218-4f41-8319-8988974541f8",
   "metadata": {},
   "outputs": [
    {
     "name": "stderr",
     "output_type": "stream",
     "text": [
      "[Stage 28680:============================================>          (4 + 1) / 5]\r"
     ]
    },
    {
     "name": "stdout",
     "output_type": "stream",
     "text": [
      "Accuracy: 0.8894724257300972\n"
     ]
    },
    {
     "name": "stderr",
     "output_type": "stream",
     "text": [
      "                                                                                \r"
     ]
    }
   ],
   "source": [
    "print(\n",
    "    \"Accuracy:\",\n",
    "    MulticlassClassificationEvaluator().evaluate(\n",
    "        lrPredictions.filter(lrPredictions.modelMag_r >= 20.5)\n",
    "    ),\n",
    ")"
   ]
  },
  {
   "cell_type": "code",
   "execution_count": 213,
   "id": "f9a7e0e1-dacf-4d21-8328-722255783043",
   "metadata": {},
   "outputs": [
    {
     "name": "stderr",
     "output_type": "stream",
     "text": [
      "[Stage 24555:>                                                      (0 + 5) / 5]\r"
     ]
    },
    {
     "name": "stdout",
     "output_type": "stream",
     "text": [
      "Confusion Matrix:\n",
      "[[692  33]\n",
      " [ 11 532]]\n"
     ]
    },
    {
     "name": "stderr",
     "output_type": "stream",
     "text": [
      "                                                                                \r"
     ]
    }
   ],
   "source": [
    "y_pred_faint = (\n",
    "    lrPredictions.select(\"prediction\").filter(lrPredictions.modelMag_r >= 19).collect()\n",
    ")\n",
    "y_orig_faint = (\n",
    "    lrPredictions.select(\"label\").filter(lrPredictions.modelMag_r >= 19).collect()\n",
    ")\n",
    "\n",
    "lrCM = confusion_matrix(y_orig_faint, y_pred_faint)\n",
    "print(\"Confusion Matrix:\")\n",
    "print(lrCM)"
   ]
  },
  {
   "cell_type": "code",
   "execution_count": 226,
   "id": "45069020-3f49-4ddc-8d57-1ad122935e4f",
   "metadata": {},
   "outputs": [
    {
     "name": "stdout",
     "output_type": "stream",
     "text": [
      "+------------------+------------+-----------+-----------------+--------+----------+----------+----------+----------+----------+----------+---------+---------+---------+--------+---------+--------+------+----+---------+-----+--------------------+--------------------+--------------------+----------+\n",
      "|             objID|          ra|        dec|        specObjID|psfMag_r|modelMag_r|petroMag_r|fiberMag_r|petroRad_r|petroR50_r|petroR90_r|lnLStar_r| lnLExp_r| lnLDeV_r|   mE1_r|    mE2_r| mRrCc_r|type_r|type|specClass|label|            features|       rawPrediction|         probability|prediction|\n",
      "+------------------+------------+-----------+-----------------+--------+----------+----------+----------+----------+----------+----------+---------+---------+---------+--------+---------+--------+------+----+---------+-----+--------------------+--------------------+--------------------+----------+\n",
      "|587722952230175035|236.28687056|-0.51800318|96486454292643840|19.30703|  17.38941|  17.47781|  19.05987|   5.61757|  2.474839|  4.959165|-6841.534|-91.72739|-734.6773|0.411655|0.5241069|64.10612|     3|   3|        2|  0.0|[19.30703,17.3894...|[34.7294586024051...|[0.99999999999999...|       0.0|\n",
      "+------------------+------------+-----------+-----------------+--------+----------+----------+----------+----------+----------+----------+---------+---------+---------+--------+---------+--------+------+----+---------+-----+--------------------+--------------------+--------------------+----------+\n",
      "only showing top 1 row\n",
      "\n"
     ]
    }
   ],
   "source": [
    "lrPredictions.show(1)"
   ]
  },
  {
   "cell_type": "code",
   "execution_count": 229,
   "id": "162933a5-9b05-4a0a-8e8f-11e34e042976",
   "metadata": {},
   "outputs": [
    {
     "name": "stderr",
     "output_type": "stream",
     "text": [
      "                                                                                \r"
     ]
    },
    {
     "name": "stdout",
     "output_type": "stream",
     "text": [
      "+------------------+-----+----------+\n",
      "|             objID|label|prediction|\n",
      "+------------------+-----+----------+\n",
      "|587724231569440810|  0.0|       1.0|\n",
      "|587727179531747499|  0.0|       1.0|\n",
      "|587725551727542930|  0.0|       1.0|\n",
      "|587727214421934766|  1.0|       0.0|\n",
      "|587727214952120523|  0.0|       1.0|\n",
      "|587726014535893120|  0.0|       1.0|\n",
      "|587726879411798207|  1.0|       0.0|\n",
      "|587727226230931607|  1.0|       0.0|\n",
      "|587729160574271708|  0.0|       1.0|\n",
      "+------------------+-----+----------+\n",
      "\n"
     ]
    },
    {
     "name": "stderr",
     "output_type": "stream",
     "text": [
      "                                                                                \r"
     ]
    }
   ],
   "source": [
    "lrPredictions.filter(\n",
    "    (lrPredictions.modelMag_r >= 20.5)\n",
    "    & (lrPredictions.label != lrPredictions.prediction)\n",
    ").select([\"objID\", \"label\", \"prediction\"]).show(83)"
   ]
  },
  {
   "cell_type": "code",
   "execution_count": 175,
   "id": "af4e89b8-1b57-4aca-abdd-9dae1ce63f42",
   "metadata": {},
   "outputs": [
    {
     "data": {
      "text/html": [
       "<img src=\"http://skyservice.pha.jhu.edu/DR7/ImgCutout/getjpeg.aspx?ra=197.99224324&dec=-1.17760226&scale=0.2&width=200&height=200&opt=G\"/>"
      ],
      "text/plain": [
       "<IPython.core.display.Image object>"
      ]
     },
     "execution_count": 175,
     "metadata": {},
     "output_type": "execute_result"
    }
   ],
   "source": [
    "from IPython.core.display import HTML\n",
    "from IPython.display import Image\n",
    "\n",
    "Image(\n",
    "    url=\"http://skyservice.pha.jhu.edu/DR7/ImgCutout/getjpeg.aspx?ra=197.99224324&dec=-1.17760226&scale=0.2&width=200&height=200&opt=G\"\n",
    ")"
   ]
  },
  {
   "cell_type": "markdown",
   "id": "c9f900d6-9720-4003-bd78-13c014574f58",
   "metadata": {},
   "source": [
    "## Random forest classifier"
   ]
  },
  {
   "cell_type": "code",
   "execution_count": 144,
   "id": "712b4397-75fa-4d74-86c8-0ef1b075e9d2",
   "metadata": {},
   "outputs": [],
   "source": [
    "from pyspark.ml.classification import RandomForestClassifier\n",
    "\n",
    "rfc = RandomForestClassifier(labelCol=\"label\", featuresCol=\"features\")"
   ]
  },
  {
   "cell_type": "markdown",
   "id": "4607de70-0652-4446-9978-981e74c13d3d",
   "metadata": {},
   "source": [
    "Finally, we can set up a pipeline."
   ]
  },
  {
   "cell_type": "code",
   "execution_count": 157,
   "id": "2195408d-c8c9-4ea6-bb2b-38dc42450583",
   "metadata": {},
   "outputs": [],
   "source": [
    "pipeline = Pipeline(stages=[sqlTrans, stringIndexer, assembler, rfc])"
   ]
  },
  {
   "cell_type": "markdown",
   "id": "b2a25947-b932-45f8-a888-3aa6df95c8c2",
   "metadata": {},
   "source": [
    "We can then set up cross-validation."
   ]
  },
  {
   "cell_type": "code",
   "execution_count": 158,
   "id": "d91aeaf1-bfb6-448f-ac80-245ac698f8f7",
   "metadata": {},
   "outputs": [],
   "source": [
    "from pyspark.ml.evaluation import (\n",
    "    BinaryClassificationEvaluator,\n",
    "    MulticlassClassificationEvaluator,\n",
    ")\n",
    "from pyspark.ml.tuning import CrossValidator, ParamGridBuilder\n",
    "\n",
    "rfcParamGrid = (\n",
    "    ParamGridBuilder()\n",
    "    .addGrid(rfc.maxDepth, [0, 10, 20, 30])\n",
    "    .addGrid(rfc.numTrees, [5, 10, 20, 30, 40])\n",
    "    .build()\n",
    ")\n",
    "\n",
    "crossVal = CrossValidator(\n",
    "    estimator=pipeline,\n",
    "    estimatorParamMaps=rfcParamGrid,\n",
    "    evaluator=MulticlassClassificationEvaluator(),\n",
    "    numFolds=3,\n",
    ")"
   ]
  },
  {
   "cell_type": "code",
   "execution_count": 159,
   "id": "59d25a0c-e0c0-47f7-aa2d-7197c691f94c",
   "metadata": {},
   "outputs": [
    {
     "name": "stderr",
     "output_type": "stream",
     "text": [
      "                                                                                \r"
     ]
    }
   ],
   "source": [
    "# Run cross-validation, and choose the best set of parameters\n",
    "\n",
    "cvModel = crossVal.fit(train)"
   ]
  },
  {
   "cell_type": "code",
   "execution_count": 160,
   "id": "9034ca34-5b15-4d59-819a-a6e0beec8cf8",
   "metadata": {},
   "outputs": [],
   "source": [
    "rfcPredictions = cvModel.transform(test)"
   ]
  },
  {
   "cell_type": "code",
   "execution_count": 161,
   "id": "6769ae1a-f6db-4bdd-9a0d-ebe35d1c6312",
   "metadata": {},
   "outputs": [
    {
     "name": "stderr",
     "output_type": "stream",
     "text": [
      "[Stage 17286:>                                                      (0 + 5) / 5]\r"
     ]
    },
    {
     "name": "stdout",
     "output_type": "stream",
     "text": [
      "Accuracy: 0.9955029754735225\n"
     ]
    },
    {
     "name": "stderr",
     "output_type": "stream",
     "text": [
      "                                                                                \r"
     ]
    }
   ],
   "source": [
    "print(\"Accuracy:\", MulticlassClassificationEvaluator().evaluate(rfcPredictions))"
   ]
  },
  {
   "cell_type": "code",
   "execution_count": 162,
   "id": "80bae3ca-8737-4bf0-b16b-e393d2e5224b",
   "metadata": {},
   "outputs": [
    {
     "name": "stderr",
     "output_type": "stream",
     "text": [
      "                                                                                \r"
     ]
    },
    {
     "name": "stdout",
     "output_type": "stream",
     "text": [
      "Confusion Matrix:\n",
      "[[15383    32]\n",
      " [   45  1691]]\n"
     ]
    }
   ],
   "source": [
    "from sklearn.metrics import confusion_matrix\n",
    "\n",
    "y_pred = rfcPredictions.select(\"prediction\").collect()\n",
    "y_orig = rfcPredictions.select(\"label\").collect()\n",
    "\n",
    "cm = confusion_matrix(y_orig, y_pred)\n",
    "print(\"Confusion Matrix:\")\n",
    "print(cm)"
   ]
  },
  {
   "cell_type": "code",
   "execution_count": 164,
   "id": "4f1c288d-e5bf-4c9c-a672-37e8e32c6abe",
   "metadata": {},
   "outputs": [
    {
     "name": "stderr",
     "output_type": "stream",
     "text": [
      "[Stage 17292:>                                                      (0 + 5) / 5]\r"
     ]
    },
    {
     "name": "stdout",
     "output_type": "stream",
     "text": [
      "Accuracy: 0.878144843662085\n"
     ]
    },
    {
     "name": "stderr",
     "output_type": "stream",
     "text": [
      "                                                                                \r"
     ]
    }
   ],
   "source": [
    "print(\n",
    "    \"Accuracy:\",\n",
    "    MulticlassClassificationEvaluator().evaluate(\n",
    "        rfcPredictions.filter(rfcPredictions.modelMag_r >= 20.5)\n",
    "    ),\n",
    ")"
   ]
  },
  {
   "cell_type": "code",
   "execution_count": 168,
   "id": "75065a5a-a391-47bb-8107-bf0901d37a81",
   "metadata": {},
   "outputs": [
    {
     "name": "stderr",
     "output_type": "stream",
     "text": [
      "[Stage 17297:>                                                      (0 + 1) / 1]\r"
     ]
    },
    {
     "name": "stdout",
     "output_type": "stream",
     "text": [
      "+-----+----------+\n",
      "|label|prediction|\n",
      "+-----+----------+\n",
      "|  1.0|       1.0|\n",
      "|  1.0|       1.0|\n",
      "|  0.0|       1.0|\n",
      "|  1.0|       1.0|\n",
      "|  0.0|       0.0|\n",
      "|  0.0|       0.0|\n",
      "|  1.0|       1.0|\n",
      "|  0.0|       1.0|\n",
      "|  1.0|       1.0|\n",
      "|  0.0|       0.0|\n",
      "|  1.0|       1.0|\n",
      "|  0.0|       0.0|\n",
      "|  1.0|       1.0|\n",
      "|  1.0|       1.0|\n",
      "|  1.0|       1.0|\n",
      "|  0.0|       0.0|\n",
      "|  0.0|       0.0|\n",
      "|  1.0|       1.0|\n",
      "|  1.0|       1.0|\n",
      "|  1.0|       1.0|\n",
      "+-----+----------+\n",
      "only showing top 20 rows\n",
      "\n"
     ]
    },
    {
     "name": "stderr",
     "output_type": "stream",
     "text": [
      "                                                                                \r"
     ]
    }
   ],
   "source": [
    "rfcPredictions.filter(rfcPredictions.modelMag_r >= 20.5).select(\n",
    "    [\"label\", \"prediction\"]\n",
    ").show()"
   ]
  },
  {
   "cell_type": "code",
   "execution_count": 169,
   "id": "69eb1579-eda4-4f60-8bf1-b632cff17afb",
   "metadata": {},
   "outputs": [
    {
     "name": "stderr",
     "output_type": "stream",
     "text": [
      "[Stage 17298:>                                                      (0 + 1) / 1]\r"
     ]
    },
    {
     "name": "stdout",
     "output_type": "stream",
     "text": [
      "+--------+----------+----------+----------+----------+----------+----------+---------+---------+--------+----------+---------+--------+----+-----+--------------------+-------------+-----------+----------+\n",
      "|psfMag_r|modelMag_r|petroMag_r|fiberMag_r|petroRad_r|petroR50_r|petroR90_r|lnLStar_r| lnLExp_r|lnLDeV_r|     mE1_r|    mE2_r| mRrCc_r|type|label|            features|rawPrediction|probability|prediction|\n",
      "+--------+----------+----------+----------+----------+----------+----------+---------+---------+--------+----------+---------+--------+----+-----+--------------------+-------------+-----------+----------+\n",
      "|19.13188|  17.86522|  18.05608|  19.05296|  3.351786|  1.572832|  4.143844|-2289.963|-52.85973|-33.3999|0.09548919|0.2916833|13.83563|   3|  0.0|[19.13188,17.8652...|   [30.0,0.0]|  [1.0,0.0]|       0.0|\n",
      "+--------+----------+----------+----------+----------+----------+----------+---------+---------+--------+----------+---------+--------+----+-----+--------------------+-------------+-----------+----------+\n",
      "only showing top 1 row\n",
      "\n"
     ]
    },
    {
     "name": "stderr",
     "output_type": "stream",
     "text": [
      "                                                                                \r"
     ]
    }
   ],
   "source": [
    "rfcPredictions.show(1)"
   ]
  },
  {
   "cell_type": "code",
   "execution_count": null,
   "id": "ab246498-c2c3-440d-a3e8-2d45fd67d42a",
   "metadata": {},
   "outputs": [],
   "source": []
  },
  {
   "cell_type": "code",
   "execution_count": null,
   "id": "62eb56d1-dc84-4a2c-89f8-58d8368f0694",
   "metadata": {},
   "outputs": [],
   "source": []
  },
  {
   "cell_type": "code",
   "execution_count": null,
   "id": "e69eafa9-e747-4c83-9374-a1decf227c9c",
   "metadata": {},
   "outputs": [],
   "source": []
  },
  {
   "cell_type": "code",
   "execution_count": 49,
   "id": "3d8959e7-7a79-45a4-b670-284e1895a743",
   "metadata": {},
   "outputs": [
    {
     "name": "stdout",
     "output_type": "stream",
     "text": [
      "Prediction Accuracy:  0.9951260086324447\n"
     ]
    }
   ],
   "source": [
    "from pyspark.ml.evaluation import MulticlassClassificationEvaluator\n",
    "\n",
    "evaluator = MulticlassClassificationEvaluator(predictionCol=\"prediction\")\n",
    "acc = evaluator.evaluate(pred)\n",
    "print(\"Prediction Accuracy: \", acc)"
   ]
  },
  {
   "cell_type": "code",
   "execution_count": 60,
   "id": "b0ebf167-40d2-4fd7-bdd2-759d6352e2ee",
   "metadata": {},
   "outputs": [],
   "source": [
    "faint_mag = pred.filter((pred.modelMag_r >= 20.5) & (pred.modelMag_r <= 21))"
   ]
  },
  {
   "cell_type": "code",
   "execution_count": 61,
   "id": "506c752d-0a7a-4c52-8c80-6a5f29e3e432",
   "metadata": {},
   "outputs": [
    {
     "name": "stdout",
     "output_type": "stream",
     "text": [
      "Prediction Accuracy:  0.9223043524303716\n"
     ]
    }
   ],
   "source": [
    "acc_faint = evaluator.evaluate(faint_mag)\n",
    "print(\"Prediction Accuracy: \", acc_faint)"
   ]
  },
  {
   "cell_type": "code",
   "execution_count": 9,
   "id": "69eab3b0-5606-40fd-93a6-6abc18ca8dfc",
   "metadata": {},
   "outputs": [
    {
     "ename": "NameError",
     "evalue": "name 'pred' is not defined",
     "output_type": "error",
     "traceback": [
      "\u001b[1;31m---------------------------------------------------------------------------\u001b[0m",
      "\u001b[1;31mNameError\u001b[0m                                 Traceback (most recent call last)",
      "Input \u001b[1;32mIn [9]\u001b[0m, in \u001b[0;36m<cell line: 9>\u001b[1;34m()\u001b[0m\n\u001b[0;32m      1\u001b[0m \u001b[38;5;28;01mfrom\u001b[39;00m \u001b[38;5;21;01mpyspark\u001b[39;00m\u001b[38;5;21;01m.\u001b[39;00m\u001b[38;5;21;01mml\u001b[39;00m\u001b[38;5;21;01m.\u001b[39;00m\u001b[38;5;21;01mevaluation\u001b[39;00m \u001b[38;5;28;01mimport\u001b[39;00m BinaryClassificationEvaluator\n\u001b[0;32m      3\u001b[0m evaluator \u001b[38;5;241m=\u001b[39m BinaryClassificationEvaluator(\n\u001b[0;32m      4\u001b[0m     labelCol\u001b[38;5;241m=\u001b[39m\u001b[38;5;124m\"\u001b[39m\u001b[38;5;124mlabel\u001b[39m\u001b[38;5;124m\"\u001b[39m,                     \n\u001b[0;32m      5\u001b[0m     rawPredictionCol\u001b[38;5;241m=\u001b[39m\u001b[38;5;124m\"\u001b[39m\u001b[38;5;124mprediction\u001b[39m\u001b[38;5;124m\"\u001b[39m,       \n\u001b[0;32m      6\u001b[0m     metricName\u001b[38;5;241m=\u001b[39m\u001b[38;5;124m\"\u001b[39m\u001b[38;5;124mareaUnderROC\u001b[39m\u001b[38;5;124m\"\u001b[39m,\n\u001b[0;32m      7\u001b[0m )\n\u001b[1;32m----> 9\u001b[0m accuracy \u001b[38;5;241m=\u001b[39m evaluator\u001b[38;5;241m.\u001b[39mevaluate(\u001b[43mpred\u001b[49m)\n\u001b[0;32m     10\u001b[0m \u001b[38;5;28mprint\u001b[39m(\u001b[38;5;124mf\u001b[39m\u001b[38;5;124m\"\u001b[39m\u001b[38;5;124mArea under ROC = \u001b[39m\u001b[38;5;132;01m{\u001b[39;00maccuracy\u001b[38;5;132;01m}\u001b[39;00m\u001b[38;5;124m \u001b[39m\u001b[38;5;124m\"\u001b[39m)\n",
      "\u001b[1;31mNameError\u001b[0m: name 'pred' is not defined"
     ]
    }
   ],
   "source": [
    "from pyspark.ml.evaluation import BinaryClassificationEvaluator\n",
    "\n",
    "evaluator = BinaryClassificationEvaluator(\n",
    "    labelCol=\"label\",\n",
    "    rawPredictionCol=\"prediction\",\n",
    "    metricName=\"areaUnderROC\",\n",
    ")\n",
    "\n",
    "accuracy = evaluator.evaluate(pred)\n",
    "print(f\"Area under ROC = {accuracy} \")"
   ]
  },
  {
   "cell_type": "markdown",
   "id": "2bb29eac-28bf-4adb-b1b6-2530e9c52484",
   "metadata": {},
   "source": [
    "## Decision tree"
   ]
  },
  {
   "cell_type": "code",
   "execution_count": 61,
   "id": "e18e1ab9-7ecb-4b75-a0c7-c7a9aee673c3",
   "metadata": {},
   "outputs": [],
   "source": [
    "from pyspark.ml.classification import DecisionTreeClassifier\n",
    "\n",
    "dtClassifier = DecisionTreeClassifier()\n",
    "\n",
    "dtPipeline = Pipeline().setStages([sqlTrans, assembler, dtClassifier])"
   ]
  },
  {
   "cell_type": "code",
   "execution_count": 62,
   "id": "e44ef681-b2a9-4dde-ac13-1ae1a68e5904",
   "metadata": {},
   "outputs": [],
   "source": [
    "dtParamGrid = ParamGridBuilder().addGrid(dtClassifier.maxDepth, [0, 5, 10, 20]).build()\n",
    "\n",
    "dtCrossVal = CrossValidator(\n",
    "    estimator=dtPipeline,\n",
    "    estimatorParamMaps=dtParamGrid,\n",
    "    evaluator=MulticlassClassificationEvaluator(),\n",
    "    numFolds=3,\n",
    ")"
   ]
  },
  {
   "cell_type": "code",
   "execution_count": 63,
   "id": "843ac385-fc6d-4155-b414-b4adfcae503d",
   "metadata": {},
   "outputs": [
    {
     "name": "stderr",
     "output_type": "stream",
     "text": [
      "                                                                                \r"
     ]
    }
   ],
   "source": [
    "# Run cross-validation, and choose the best set of parameters\n",
    "\n",
    "dtCVModel = dtCrossVal.fit(train)"
   ]
  },
  {
   "cell_type": "code",
   "execution_count": 64,
   "id": "6c005660-12ac-4245-bf6b-4b92cef8d804",
   "metadata": {},
   "outputs": [],
   "source": [
    "dtPredictions = dtCVModel.transform(test)"
   ]
  },
  {
   "cell_type": "code",
   "execution_count": 65,
   "id": "f9294eca-450b-4b99-b818-d6b6ee921670",
   "metadata": {},
   "outputs": [
    {
     "name": "stdout",
     "output_type": "stream",
     "text": [
      "Accuracy: 0.9937226278921604\n"
     ]
    }
   ],
   "source": [
    "print(\"Accuracy:\", MulticlassClassificationEvaluator().evaluate(dtPredictions))"
   ]
  },
  {
   "cell_type": "markdown",
   "id": "90db3cd2-04c9-4178-bfb0-5a5be9e2cf76",
   "metadata": {},
   "source": [
    "## Gradient-boosted trees"
   ]
  },
  {
   "cell_type": "code",
   "execution_count": 81,
   "id": "d0604c70-605c-47a9-aaa9-4c023c438b7d",
   "metadata": {},
   "outputs": [],
   "source": [
    "from pyspark.ml.classification import GBTClassifier\n",
    "from pyspark.ml.feature import StringIndexer\n",
    "\n",
    "stringIndexer = StringIndexer(inputCol=\"type\", outputCol=\"label\", handleInvalid=\"skip\")\n",
    "\n",
    "gbtSQLTrans = SQLTransformer(\n",
    "    statement=\"SELECT psfMag_r, modelMag_r, petroMag_r, fiberMag_r, \\\n",
    "                        petroRad_r, petroR50_r, petroR90_r, lnLStar_r, \\\n",
    "                        lnLExp_r, lnLDeV_r, mE1_r, mE2_r, mRrCc_r, \\\n",
    "                        label FROM __THIS__\"\n",
    ")\n",
    "\n",
    "gbtClassifier = GBTClassifier()\n",
    "\n",
    "gbtPipeline = Pipeline().setStages([stringIndexer, gbtSQLTrans, assembler, gbt])"
   ]
  },
  {
   "cell_type": "code",
   "execution_count": 82,
   "id": "13adbca6-275f-47fb-bbfd-ac4586286dca",
   "metadata": {},
   "outputs": [],
   "source": [
    "gbtParamGrid = (\n",
    "    ParamGridBuilder().addGrid(gbtClassifier.maxDepth, [0, 5, 10, 20]).build()\n",
    ")\n",
    "\n",
    "gbtCrossVal = CrossValidator(\n",
    "    estimator=gbtPipeline,\n",
    "    estimatorParamMaps=gbtParamGrid,\n",
    "    evaluator=MulticlassClassificationEvaluator(),\n",
    "    numFolds=3,\n",
    ")"
   ]
  },
  {
   "cell_type": "code",
   "execution_count": 83,
   "id": "4d83d8e7-7554-4753-93d5-30aceeb8f201",
   "metadata": {},
   "outputs": [
    {
     "name": "stderr",
     "output_type": "stream",
     "text": [
      "                                                                                \r"
     ]
    }
   ],
   "source": [
    "gbtCVModel = gbtCrossVal.fit(train)"
   ]
  },
  {
   "cell_type": "code",
   "execution_count": 84,
   "id": "22addcac-e090-4a6c-acc1-18a27682d54a",
   "metadata": {},
   "outputs": [],
   "source": [
    "gbtPredictions = gbtCVModel.transform(test)"
   ]
  },
  {
   "cell_type": "code",
   "execution_count": 88,
   "id": "f6dd55a0-bcce-4d8d-b332-42927679bf46",
   "metadata": {},
   "outputs": [
    {
     "name": "stdout",
     "output_type": "stream",
     "text": [
      "+--------+----------+----------+----------+----------+----------+----------+---------+----------+----------+----------+-----------+--------+-----+--------------------+--------------------+--------------------+----------+\n",
      "|psfMag_r|modelMag_r|petroMag_r|fiberMag_r|petroRad_r|petroR50_r|petroR90_r|lnLStar_r|  lnLExp_r|  lnLDeV_r|     mE1_r|      mE2_r| mRrCc_r|label|            features|       rawPrediction|         probability|prediction|\n",
      "+--------+----------+----------+----------+----------+----------+----------+---------+----------+----------+----------+-----------+--------+-----+--------------------+--------------------+--------------------+----------+\n",
      "|18.70511|  16.89667|  16.91058|  18.57298|  5.902012|  2.750115|  5.684737|-11593.78| -422.4577| -1034.826| -0.305131| -0.1242297|51.97928|  0.0|[18.70511,16.8966...|[1.54261756354760...|[0.95627958330078...|       0.0|\n",
      "|17.40547|  17.36561|  17.40621|  17.73569|  1.428235| 0.7082859|  1.609841|-26.98189|-0.8260614|-0.5565038|-0.1666387|0.007921596|3.719694|  1.0|[17.40547,17.3656...|[-1.3717761072177...|[0.06045183144840...|       1.0|\n",
      "|18.38794|  17.66213|  17.76486|  18.43033|  2.370656|  1.120736|  2.701848|-94.87026|-0.4453381|-0.6460184|-0.3208079|  0.2331725|9.173407|  0.0|[18.38794,17.6621...|[-1.9218638139618...|[0.02096470000413...|       1.0|\n",
      "|19.03216|  17.31576|  17.58393|  18.95633|  5.165908|  2.307175|  5.609862|-4154.123| -266.0255| -228.8011|  0.700066|  0.1403787|39.62853|  0.0|[19.03216,17.3157...|[1.54261756354760...|[0.95627958330078...|       0.0|\n",
      "|19.32972|  17.34082|  17.37431|  19.13371|  5.957586|  2.828844|  5.576993|-5556.071| -139.1829| -598.3489|-0.1401795| -0.2532302|56.99618|  0.0|[19.32972,17.3408...|[1.54261756354760...|[0.95627958330078...|       0.0|\n",
      "+--------+----------+----------+----------+----------+----------+----------+---------+----------+----------+----------+-----------+--------+-----+--------------------+--------------------+--------------------+----------+\n",
      "only showing top 5 rows\n",
      "\n"
     ]
    },
    {
     "name": "stderr",
     "output_type": "stream",
     "text": [
      "                                                                                \r"
     ]
    }
   ],
   "source": [
    "gbtPredictions.show(5)"
   ]
  },
  {
   "cell_type": "code",
   "execution_count": 89,
   "id": "d514a39b-a5b2-480c-85f0-e39f5bc5a311",
   "metadata": {},
   "outputs": [
    {
     "name": "stderr",
     "output_type": "stream",
     "text": [
      "[Stage 6474:>                                                       (0 + 5) / 5]\r"
     ]
    },
    {
     "name": "stdout",
     "output_type": "stream",
     "text": [
      "Accuracy: 0.8769166317553414\n"
     ]
    },
    {
     "name": "stderr",
     "output_type": "stream",
     "text": [
      "                                                                                \r"
     ]
    }
   ],
   "source": [
    "print(\n",
    "    \"Accuracy:\",\n",
    "    MulticlassClassificationEvaluator().evaluate(\n",
    "        gbtPredictions.filter(gbtPredictions.modelMag_r >= 20.5)\n",
    "    ),\n",
    ")"
   ]
  },
  {
   "cell_type": "code",
   "execution_count": 95,
   "id": "36a79d03-9942-489a-9f45-01e7e84c2908",
   "metadata": {},
   "outputs": [
    {
     "name": "stdout",
     "output_type": "stream",
     "text": [
      "+-----+----------+\n",
      "|label|prediction|\n",
      "+-----+----------+\n",
      "|  1.0|       0.0|\n",
      "|  0.0|       1.0|\n",
      "|  1.0|       1.0|\n",
      "|  1.0|       1.0|\n",
      "|  1.0|       1.0|\n",
      "|  0.0|       0.0|\n",
      "|  1.0|       1.0|\n",
      "|  0.0|       0.0|\n",
      "|  1.0|       1.0|\n",
      "|  0.0|       1.0|\n",
      "|  0.0|       0.0|\n",
      "|  1.0|       1.0|\n",
      "|  1.0|       1.0|\n",
      "|  1.0|       1.0|\n",
      "|  1.0|       1.0|\n",
      "|  1.0|       1.0|\n",
      "|  1.0|       1.0|\n",
      "|  1.0|       1.0|\n",
      "|  1.0|       1.0|\n",
      "|  1.0|       1.0|\n",
      "|  1.0|       1.0|\n",
      "|  0.0|       0.0|\n",
      "|  1.0|       1.0|\n",
      "|  0.0|       1.0|\n",
      "|  1.0|       1.0|\n",
      "|  1.0|       1.0|\n",
      "|  0.0|       0.0|\n",
      "|  1.0|       1.0|\n",
      "|  1.0|       1.0|\n",
      "|  1.0|       1.0|\n",
      "|  1.0|       1.0|\n",
      "|  0.0|       0.0|\n",
      "|  0.0|       0.0|\n",
      "|  1.0|       1.0|\n",
      "|  1.0|       1.0|\n",
      "|  1.0|       1.0|\n",
      "|  1.0|       1.0|\n",
      "|  0.0|       0.0|\n",
      "|  1.0|       1.0|\n",
      "|  1.0|       1.0|\n",
      "|  1.0|       1.0|\n",
      "|  1.0|       1.0|\n",
      "|  1.0|       1.0|\n",
      "|  1.0|       1.0|\n",
      "|  1.0|       1.0|\n",
      "|  1.0|       1.0|\n",
      "|  1.0|       1.0|\n",
      "|  0.0|       0.0|\n",
      "|  0.0|       0.0|\n",
      "|  1.0|       1.0|\n",
      "|  0.0|       1.0|\n",
      "|  0.0|       1.0|\n",
      "|  1.0|       1.0|\n",
      "|  1.0|       1.0|\n",
      "|  1.0|       1.0|\n",
      "|  0.0|       0.0|\n",
      "|  1.0|       1.0|\n",
      "|  1.0|       0.0|\n",
      "|  1.0|       1.0|\n",
      "|  1.0|       1.0|\n",
      "|  1.0|       0.0|\n",
      "|  1.0|       1.0|\n",
      "|  1.0|       1.0|\n",
      "|  1.0|       1.0|\n",
      "|  0.0|       0.0|\n",
      "|  0.0|       0.0|\n",
      "|  1.0|       1.0|\n",
      "|  0.0|       0.0|\n",
      "|  1.0|       1.0|\n",
      "|  0.0|       0.0|\n",
      "|  1.0|       1.0|\n",
      "|  1.0|       0.0|\n",
      "|  1.0|       1.0|\n",
      "|  0.0|       0.0|\n",
      "|  1.0|       1.0|\n",
      "|  0.0|       0.0|\n",
      "|  0.0|       0.0|\n",
      "|  0.0|       0.0|\n",
      "|  1.0|       1.0|\n",
      "|  1.0|       0.0|\n",
      "|  1.0|       1.0|\n",
      "|  1.0|       1.0|\n",
      "|  1.0|       1.0|\n",
      "|  1.0|       1.0|\n",
      "|  1.0|       1.0|\n",
      "|  1.0|       1.0|\n",
      "|  1.0|       1.0|\n",
      "|  0.0|       0.0|\n",
      "|  1.0|       1.0|\n",
      "|  0.0|       0.0|\n",
      "|  1.0|       1.0|\n",
      "|  1.0|       1.0|\n",
      "|  1.0|       1.0|\n",
      "|  1.0|       0.0|\n",
      "|  1.0|       1.0|\n",
      "|  1.0|       1.0|\n",
      "|  1.0|       0.0|\n",
      "|  1.0|       1.0|\n",
      "|  1.0|       1.0|\n",
      "|  1.0|       1.0|\n",
      "|  1.0|       1.0|\n",
      "|  1.0|       1.0|\n",
      "|  1.0|       1.0|\n",
      "|  1.0|       1.0|\n",
      "|  0.0|       1.0|\n",
      "+-----+----------+\n",
      "\n"
     ]
    }
   ],
   "source": [
    "gbtPredictions.filter(gbtPredictions.modelMag_r >= 20.5).select(\n",
    "    gbtPredictions.label, gbtPredictions.prediction\n",
    ").show(105)"
   ]
  },
  {
   "cell_type": "markdown",
   "id": "915c423e-ceaa-44ae-bfba-e6e35c2adf8b",
   "metadata": {},
   "source": [
    "<a id=\"conclusion\"></a>\n",
    "# Conclusion"
   ]
  },
  {
   "cell_type": "markdown",
   "id": "b9e633a6-b381-4d52-b252-543810f75bb4",
   "metadata": {},
   "source": [
    "# References"
   ]
  },
  {
   "cell_type": "markdown",
   "id": "5b3035b8-3dda-46b3-918f-19e66032d695",
   "metadata": {},
   "source": [
    "<!-- BIBLIOGRAPHY START -->\n",
    "<div class=\"csl-bib-body\">\n",
    "  <div class=\"csl-entry\"><i id=\"zotero|6578788/3B8U6ZL5\"></i><i>About Rubin Observatory | Rubin Observatory</i>. (2022). Vera C. Rubin Observatory. <a href=\"https://www.lsst.org/about\">https://www.lsst.org/about</a></div>\n",
    "  <div class=\"csl-entry\"><i id=\"zotero|6578788/M4AXTGNR\"></i><i>Data Volume | SDSS</i>. (2021). Sloan Digital Sky Survey. <a href=\"https://www.sdss.org/dr17/data_access/volume\">https://www.sdss.org/dr17/data_access/volume</a></div>\n",
    "  <div class=\"csl-entry\"><i id=\"zotero|6578788/LXV9B3I3\"></i>Fluke, C. J., &#38; Jacobs, C. (2020). Surveying the reach and maturity of machine learning and artificial intelligence in astronomy. <i>WIREs Data Mining and Knowledge Discovery</i>, <i>10</i>(2), e1349. <a href=\"https://doi.org/10.1002/widm.1349\">https://doi.org/10.1002/widm.1349</a></div>\n",
    "  <div class=\"csl-entry\"><i id=\"zotero|6578788/WRVILYFW\"></i><i>SDSS Data Release 7</i>. (2013). Sloan Digital Sky Survey. <a href=\"http://classic.sdss.org/dr7/\">http://classic.sdss.org/dr7/</a></div>\n",
    "  <div class=\"csl-entry\"><i id=\"zotero|6578788/Z75D4M6Y\"></i><i>Sloan Digital Sky Surveys | SDSS</i>. (n.d.). Retrieved April 28, 2022, from <a href=\"https://www.sdss.org/surveys/\">https://www.sdss.org/surveys/</a></div>\n",
    "  <div class=\"csl-entry\"><i id=\"zotero|6578788/ELIRRS3L\"></i>Tatsat, H., Puri, S., &#38; Lookabaugh, B. (2020). Machine Learning and Data Science Blueprints for Finance. In <i>Machine Learning and Data Science Blueprints for Finance</i>. O’Reilly Media. <a href=\"https://learning.oreilly.com/library/view/machine-learning-and/9781492073048/\">https://learning.oreilly.com/library/view/machine-learning-and/9781492073048/</a></div>\n",
    "  <div class=\"csl-entry\"><i id=\"zotero|6578788/UXVJ3YSM\"></i>Vasconcellos, E. C., Carvalho, R. R. de, Gal, R. R., LaBarbera, F. L., Capelato, H. V., Velho, H. F. C., Trevisan, M., &#38; Ruiz, R. S. R. (2011). DECISION TREE CLASSIFIERS FOR STAR/GALAXY SEPARATION. <i>The Astronomical Journal</i>, <i>141</i>(6), 189. <a href=\"https://doi.org/10.1088/0004-6256/141/6/189\">https://doi.org/10.1088/0004-6256/141/6/189</a></div>\n",
    "</div>\n",
    "<!-- BIBLIOGRAPHY END -->"
   ]
  },
  {
   "cell_type": "code",
   "execution_count": null,
   "id": "512bf3a4-682c-4e44-8070-dfcbc6461dbd",
   "metadata": {},
   "outputs": [],
   "source": []
  }
 ],
 "metadata": {
  "citation-manager": {
   "items": {
    "zotero": {
     "6578788/3B8U6ZL5": {
      "URL": "https://www.lsst.org/about",
      "accessed": {
       "date-parts": [
        [
         2022,
         4,
         30
        ]
       ]
      },
      "container-title": "Vera C. Rubin Observatory",
      "id": "6578788/3B8U6ZL5",
      "issued": {
       "date-parts": [
        [
         2022
        ]
       ]
      },
      "system_id": "zotero|6578788/3B8U6ZL5",
      "title": "About Rubin Observatory | Rubin Observatory",
      "type": "webpage"
     },
     "6578788/ELIRRS3L": {
      "URL": "https://learning.oreilly.com/library/view/machine-learning-and/9781492073048/",
      "accessed": {
       "date-parts": [
        [
         2022,
         4,
         29
        ]
       ]
      },
      "author": [
       {
        "family": "Tatsat",
        "given": "Hariom"
       },
       {
        "family": "Puri",
        "given": "Sahil"
       },
       {
        "family": "Lookabaugh",
        "given": "Brad"
       }
      ],
      "container-title": "Machine Learning and Data Science Blueprints for Finance",
      "id": "6578788/ELIRRS3L",
      "issued": {
       "date-parts": [
        [
         "2020",
         10
        ]
       ]
      },
      "publisher": "O'Reilly Media",
      "system_id": "zotero|6578788/ELIRRS3L",
      "title": "Machine Learning and Data Science Blueprints for Finance",
      "type": "chapter"
     },
     "6578788/LXV9B3I3": {
      "DOI": "10.1002/widm.1349",
      "URL": "http://onlinelibrary.wiley.com/doi/abs/10.1002/widm.1349",
      "abstract": "Machine learning (automated processes that learn by example in order to classify, predict, discover, or generate new data) and artificial intelligence (methods by which a computer makes decisions or discoveries that would usually require human intelligence) are now firmly established in astronomy. Every week, new applications of machine learning and artificial intelligence are added to a growing corpus of work. Random forests, support vector machines, and neural networks are now having a genuine impact for applications as diverse as discovering extrasolar planets, transient objects, quasars, and gravitationally lensed systems, forecasting solar activity, and distinguishing between signals and instrumental effects in gravitational wave astronomy. This review surveys contemporary, published literature on machine learning and artificial intelligence in astronomy and astrophysics. Applications span seven main categories of activity: classification, regression, clustering, forecasting, generation, discovery, and the development of new scientific insights. These categories form the basis of a hierarchy of maturity, as the use of machine learning and artificial intelligence emerges, progresses, or becomes established. This article is categorized under: Application Areas > Science and Technology Fundamental Concepts of Data and Knowledge > Motivation and Emergence of Data Mining Technologies > Machine Learning",
      "accessed": {
       "date-parts": [
        [
         2022,
         4,
         30
        ]
       ]
      },
      "author": [
       {
        "family": "Fluke",
        "given": "Christopher J."
       },
       {
        "family": "Jacobs",
        "given": "Colin"
       }
      ],
      "container-title": "WIREs Data Mining and Knowledge Discovery",
      "id": "6578788/LXV9B3I3",
      "issue": "2",
      "issued": {
       "date-parts": [
        [
         2020
        ]
       ]
      },
      "language": "en",
      "note": "_eprint: https://wires.onlinelibrary.wiley.com/doi/pdf/10.1002/widm.1349",
      "page": "e1349",
      "system_id": "zotero|6578788/LXV9B3I3",
      "title": "Surveying the reach and maturity of machine learning and artificial intelligence in astronomy",
      "type": "article-journal",
      "volume": "10"
     },
     "6578788/M4AXTGNR": {
      "URL": "https://www.sdss.org/dr17/data_access/volume",
      "accessed": {
       "date-parts": [
        [
         2022,
         4,
         30
        ]
       ]
      },
      "container-title": "Sloan Digital Sky Survey",
      "id": "6578788/M4AXTGNR",
      "issued": {
       "date-parts": [
        [
         2021
        ]
       ]
      },
      "system_id": "zotero|6578788/M4AXTGNR",
      "title": "Data Volume | SDSS",
      "type": "webpage"
     },
     "6578788/UXVJ3YSM": {
      "DOI": "10.1088/0004-6256/141/6/189",
      "URL": "https://doi.org/10.1088/0004-6256/141/6/189",
      "abstract": "We study the star/galaxy classification efficiency of 13 different decision tree algorithms applied to photometric objects in the Sloan Digital Sky Survey Data Release Seven (SDSS-DR7). Each algorithm is defined by a set of parameters which, when varied, produce different final classification trees. We extensively explore the parameter space of each algorithm, using the set of 884,126 SDSS objects with spectroscopic data as the training set. The efficiency of star–galaxy separation is measured using the completeness function. We find that the Functional Tree algorithm (FT) yields the best results as measured by the mean completeness in two magnitude intervals: 14 ⩽ r ⩽ 21 (85.2%) and r ⩾ 19 (82.1%). We compare the performance of the tree generated with the optimal FT configuration to the classifications provided by the SDSS parametric classifier, 2DPHOT, and Ball et al. We find that our FT classifier is comparable to or better in completeness over the full magnitude range 15 ⩽ r ⩽ 21, with much lower contamination than all but the Ball et al. classifier. At the faintest magnitudes (r > 19), our classifier is the only one that maintains high completeness (>80%) while simultaneously achieving low contamination (∼2.5%). We also examine the SDSS parametric classifier (psfMag − modelMag) to see if the dividing line between stars and galaxies can be adjusted to improve the classifier. We find that currently stars in close pairs are often misclassified as galaxies, and suggest a new cut to improve the classifier. Finally, we apply our FT classifier to separate stars from galaxies in the full set of 69,545,326 SDSS photometric objects in the magnitude range 14 ⩽ r ⩽ 21.",
      "accessed": {
       "date-parts": [
        [
         2022,
         4,
         28
        ]
       ]
      },
      "author": [
       {
        "family": "Vasconcellos",
        "given": "E. C."
       },
       {
        "family": "Carvalho",
        "given": "R. R. de"
       },
       {
        "family": "Gal",
        "given": "R. R."
       },
       {
        "family": "LaBarbera",
        "given": "F. L."
       },
       {
        "family": "Capelato",
        "given": "H. V."
       },
       {
        "family": "Velho",
        "given": "H. Frago Campos"
       },
       {
        "family": "Trevisan",
        "given": "M."
       },
       {
        "family": "Ruiz",
        "given": "R. S. R."
       }
      ],
      "container-title": "The Astronomical Journal",
      "id": "6578788/UXVJ3YSM",
      "issue": "6",
      "issued": {
       "date-parts": [
        [
         2011,
         5
        ]
       ]
      },
      "journalAbbreviation": "AJ",
      "language": "en",
      "note": "Publisher: American Astronomical Society",
      "page": "189",
      "system_id": "zotero|6578788/UXVJ3YSM",
      "title": "DECISION TREE CLASSIFIERS FOR STAR/GALAXY SEPARATION",
      "type": "article-journal",
      "volume": "141"
     },
     "6578788/WRVILYFW": {
      "URL": "http://classic.sdss.org/dr7/",
      "accessed": {
       "date-parts": [
        [
         2022,
         4,
         29
        ]
       ]
      },
      "container-title": "Sloan Digital Sky Survey",
      "id": "6578788/WRVILYFW",
      "issued": {
       "date-parts": [
        [
         2013
        ]
       ]
      },
      "system_id": "zotero|6578788/WRVILYFW",
      "title": "SDSS Data Release 7",
      "type": "webpage"
     },
     "6578788/Z75D4M6Y": {
      "URL": "https://www.sdss.org/surveys/",
      "accessed": {
       "date-parts": [
        [
         2022,
         4,
         28
        ]
       ]
      },
      "id": "6578788/Z75D4M6Y",
      "system_id": "zotero|6578788/Z75D4M6Y",
      "title": "Sloan Digital Sky Surveys | SDSS",
      "type": "webpage"
     }
    }
   },
   "style": "apa.csl"
  },
  "kernelspec": {
   "display_name": "Python 3 (ipykernel)",
   "language": "python",
   "name": "python3"
  },
  "language_info": {
   "codemirror_mode": {
    "name": "ipython",
    "version": 3
   },
   "file_extension": ".py",
   "mimetype": "text/x-python",
   "name": "python",
   "nbconvert_exporter": "python",
   "pygments_lexer": "ipython3",
   "version": "3.10.2"
  },
  "toc-autonumbering": true
 },
 "nbformat": 4,
 "nbformat_minor": 5
}
