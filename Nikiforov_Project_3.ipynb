{
 "cells": [
  {
   "cell_type": "markdown",
   "id": "3869e550-01cf-49c5-809b-4693f69c36bc",
   "metadata": {},
   "source": [
    "# Classifying stars and galaxies using machine learning"
   ]
  },
  {
   "cell_type": "markdown",
   "id": "96299d30-496a-4e24-8667-b047ac6809b9",
   "metadata": {
    "tags": []
   },
   "source": [
    "Authored by Maksim Nikiforov"
   ]
  },
  {
   "cell_type": "markdown",
   "id": "2737dfa3-ae25-4052-9b3d-4591ae167fab",
   "metadata": {},
   "source": [
    "NCSU ST590, Project 3"
   ]
  },
  {
   "cell_type": "markdown",
   "id": "3d39169a-c308-4145-b22e-ebee082c2670",
   "metadata": {},
   "source": [
    "Spring, 2022"
   ]
  },
  {
   "cell_type": "code",
   "execution_count": 69,
   "id": "e76693f0-cbba-44eb-9a33-2a4f5c938da7",
   "metadata": {},
   "outputs": [],
   "source": [
    "# Import required libraries and set up Spark session\n",
    "\n",
    "# import os\n",
    "# import sys\n",
    "# os.environ['PYSPARK_PYTHON'] = sys.executable\n",
    "# os.environ['PYSPARK_DRIVER_PYTHON'] = sys.executable\n",
    "\n",
    "import matplotlib.pyplot as plt\n",
    "import pyspark.pandas as ps\n",
    "from pyspark.sql import SparkSession\n",
    "\n",
    "spark = SparkSession.builder.getOrCreate()\n",
    "spark.sparkContext.setLogLevel(\"ERROR\")"
   ]
  },
  {
   "cell_type": "markdown",
   "id": "d6d9cecb-610f-4127-bffc-81056285d040",
   "metadata": {},
   "source": [
    "## Introduction"
   ]
  },
  {
   "cell_type": "markdown",
   "id": "181deab9-faa0-4515-8c63-d6143423a27c",
   "metadata": {
    "citation-manager": {
     "citations": {
      "2qy3z": [
       {
        "id": "6578788/Z75D4M6Y",
        "source": "zotero"
       }
      ]
     }
    },
    "tags": []
   },
   "source": [
    "Since 2000, the [Sloan Digital Sky Survey (SDSS)](https://www.sdss.org/) has cataloged hundreds of parameters for millions of celestial objects and has inspired nearly 11,000 peer-reviewed publications, making it \"one of the most successful surveys in the history of astronomy\"   <cite id=\"2qy3z\"><a href=\"#zotero|6578788/Z75D4M6Y\">(<i>Sloan Digital Sky Surveys | SDSS</i>, n.d.)</a></cite>. This notebook investigates a subset of the survey data. The intent of this exercise is to perform binary classification of photometric data using supervised learning, classifying observations from the Sloan Digital Sky Survey as either \"stars\" or \"galaxies\".   "
   ]
  },
  {
   "cell_type": "markdown",
   "id": "9ef56b5e-e7a0-4724-afee-443abcca802a",
   "metadata": {},
   "source": [
    "The sections that follow introduce the Sloan Digital Sky Survey Data Release 7 and outline steps to retrieve its photometric data. [Section 2](#supervised_learning) provides a brief overview of supervised learning and its applicability in astronomy. This section also splits the photometric data into training and test sets in preparation for supervised model development. [Section 3](#eda) explores the training data in-depth. [Section 4](#modeling) introduces a variety of supervised learning algorithms and trains models using historic observations. These models are then applied to test data to evaluate how well they generalize with unseen objects. [Section 5](#conclusion) concludes the notebook with remarks about the findings of this exercise.         "
   ]
  },
  {
   "cell_type": "markdown",
   "id": "ba348b7e-3862-4b20-944c-d4f9b6c44be7",
   "metadata": {},
   "source": [
    "## Data source and description"
   ]
  },
  {
   "cell_type": "markdown",
   "id": "daa0bd10-eb2a-46ec-8b01-5eec24ca2fdc",
   "metadata": {
    "citation-manager": {
     "citations": {
      "41heo": [
       {
        "id": "6578788/UXVJ3YSM",
        "source": "zotero"
       }
      ]
     }
    },
    "tags": []
   },
   "source": [
    "The data in this notebook is retrieved by querying the [CasJobs](https://skyserver.sdss.org/CasJobs/default.aspx) workbench for Data Release 7 (DR7), the seventh major data release from the Sloan Digital Sky Survey, with the SQL query below. Access to CasJobs is available to registered users of the [SciServer](https://www.sciserver.org/) online science platform. The query is credited to Vasconcellos et al., whose paper provides domain expertise for selecting features that \"are known or expected to strongly correlate with the object classification\" <cite id=\"41heo\"><a href=\"#zotero|6578788/UXVJ3YSM\">(Vasconcellos et al., 2011)</a></cite>."
   ]
  },
  {
   "cell_type": "markdown",
   "id": "93b12b27-602c-4a28-ad21-0e0567392f9b",
   "metadata": {},
   "source": [
    "```\n",
    " SELECT\n",
    "\n",
    "    p.objID, p.ra, p.dec, s.specObjID,\n",
    "    p.psfMag_r, p.modelMag_r, p.petroMag_r,\n",
    "    p.fiberMag_r, p.petroRad_r, p.petroR50_r,\n",
    "    p.petroR90_r, p.lnLStar_r,p.lnLExp_r,\n",
    "    p.lnLDeV_r, p.mE1_r, p.mE2_r, p.mRrCc_r,\n",
    "    p.type_r,p.type, s.specClass\n",
    "\n",
    " FROM PhotoObj AS p\n",
    "\n",
    "    JOIN SpecObj AS s ON s.bestobjid = p.objid\n",
    "\n",
    " WHERE\n",
    "\n",
    "    p.modelMag_r BETWEEN 14.0 AND 21.0\n",
    "\n",
    "```"
   ]
  },
  {
   "cell_type": "markdown",
   "id": "dd69bfa4-d1b9-4436-b211-f7c8482c52ba",
   "metadata": {},
   "source": [
    "This SQL request retrieves 1,030,220 rows of observations with the following schema:"
   ]
  },
  {
   "cell_type": "code",
   "execution_count": 70,
   "id": "de7ce4d2-f6df-4517-ab98-62684ef17723",
   "metadata": {},
   "outputs": [
    {
     "name": "stdout",
     "output_type": "stream",
     "text": [
      "Number of observations: 299629\n"
     ]
    }
   ],
   "source": [
    "# Read CSV into a Spark DataFrame\n",
    "sdss_data = spark.read.options(header=\"True\", inferSchema=\"True\", delimiter=\",\").csv(\n",
    "    \"sdss_dr7_observations.csv\"\n",
    ")\n",
    "\n",
    "# View number of observations in the full CSV\n",
    "print(\"Number of observations:\", sdss_data.count())"
   ]
  },
  {
   "cell_type": "code",
   "execution_count": 71,
   "id": "499e44bd-aaa8-4333-810d-1a8eefc6e6fb",
   "metadata": {},
   "outputs": [
    {
     "name": "stdout",
     "output_type": "stream",
     "text": [
      "SDSS DR7 schema:\n",
      "root\n",
      " |-- objID: long (nullable = true)\n",
      " |-- ra: double (nullable = true)\n",
      " |-- dec: double (nullable = true)\n",
      " |-- specObjID: long (nullable = true)\n",
      " |-- psfMag_r: double (nullable = true)\n",
      " |-- modelMag_r: double (nullable = true)\n",
      " |-- petroMag_r: double (nullable = true)\n",
      " |-- fiberMag_r: double (nullable = true)\n",
      " |-- petroRad_r: double (nullable = true)\n",
      " |-- petroR50_r: double (nullable = true)\n",
      " |-- petroR90_r: double (nullable = true)\n",
      " |-- lnLStar_r: double (nullable = true)\n",
      " |-- lnLExp_r: double (nullable = true)\n",
      " |-- lnLDeV_r: double (nullable = true)\n",
      " |-- mE1_r: double (nullable = true)\n",
      " |-- mE2_r: double (nullable = true)\n",
      " |-- mRrCc_r: double (nullable = true)\n",
      " |-- type_r: integer (nullable = true)\n",
      " |-- type: integer (nullable = true)\n",
      " |-- specClass: integer (nullable = true)\n",
      "\n"
     ]
    }
   ],
   "source": [
    "# Print the columns and column types in the DataFrame\n",
    "print(\"SDSS DR7 schema:\")\n",
    "sdss_data.printSchema()"
   ]
  },
  {
   "cell_type": "markdown",
   "id": "639c575d-8447-48cd-8171-d442936cbdd4",
   "metadata": {},
   "source": [
    "The table below describes these attributes."
   ]
  },
  {
   "cell_type": "markdown",
   "id": "dc45bbd7-a5f3-4ae5-9a5b-f1ffc8eecd82",
   "metadata": {},
   "source": [
    "<style type=\"text/css\">\n",
    ".tg  {border-collapse:collapse;border-color:#ccc;border-spacing:0;margin:0px auto;}\n",
    ".tg td{background-color:#fff;border-color:#ccc;border-style:solid;border-width:1px;color:#333;\n",
    "  font-family:Arial, sans-serif;font-size:14px;overflow:hidden;padding:10px 5px;word-break:normal;}\n",
    ".tg th{background-color:#f0f0f0;border-color:#ccc;border-style:solid;border-width:1px;color:#333;\n",
    "  font-family:Arial, sans-serif;font-size:14px;font-weight:normal;overflow:hidden;padding:10px 5px;word-break:normal;}\n",
    ".tg .tg-c3ow{border-color:inherit;text-align:center;vertical-align:top}\n",
    ".tg .tg-fymr{border-color:inherit;font-weight:bold;text-align:left;vertical-align:top}\n",
    ".tg .tg-7btt{border-color:inherit;font-weight:bold;text-align:center;vertical-align:top}\n",
    ".tg .tg-btxf{background-color:#f9f9f9;border-color:inherit;text-align:left;vertical-align:top}\n",
    ".tg .tg-abip{background-color:#f9f9f9;border-color:inherit;text-align:center;vertical-align:top}\n",
    ".tg .tg-0pky{border-color:inherit;text-align:left;vertical-align:top}\n",
    ".tg .tg-dzk6{background-color:#f9f9f9;text-align:center;vertical-align:top}\n",
    "@media screen and (max-width: 767px) {.tg {width: auto !important;}.tg col {width: auto !important;}.tg-wrap {overflow-x: auto;-webkit-overflow-scrolling: touch;margin: auto 0px;}}</style>\n",
    "<div class=\"tg-wrap\"><table class=\"tg\">\n",
    "<thead>\n",
    "  <tr>\n",
    "    <th class=\"tg-fymr\">Feature</th>\n",
    "    <th class=\"tg-7btt\">CAS Variable</th>\n",
    "    <th class=\"tg-7btt\">Description<br></th>\n",
    "  </tr>\n",
    "</thead>\n",
    "<tbody>\n",
    "  <tr>\n",
    "    <td class=\"tg-btxf\">PSF magnitude</td>\n",
    "    <td class=\"tg-abip\">  psfMag</td>\n",
    "    <td class=\"tg-btxf\">For isolated stars, which are well-described by the point spread function (PSF), the optimal measure of the total flux is determined by fitting a PSF model to the object.</td>\n",
    "  </tr>\n",
    "  <tr>\n",
    "    <td class=\"tg-0pky\">Fiber magnitude</td>\n",
    "    <td class=\"tg-c3ow\">  fiberMag</td>\n",
    "    <td class=\"tg-0pky\">The flux contained within the aperture of a spectroscopic fiber</td>\n",
    "  </tr>\n",
    "  <tr>\n",
    "    <td class=\"tg-btxf\">Petrosian magnitude</td>\n",
    "    <td class=\"tg-abip\">  petroMag</td>\n",
    "    <td class=\"tg-btxf\">A measure of galaxy flux within a circular aperture whose radius is defined by the shape of the azimuthally averaged light profile</td>\n",
    "  </tr>\n",
    "  <tr>\n",
    "    <td class=\"tg-0pky\">Model magnitude</td>\n",
    "    <td class=\"tg-c3ow\">  modelMag</td>\n",
    "    <td class=\"tg-0pky\">Magnitudes that result from fitting a deVaucouleurs profile or an exponential profile to the two-dimensional image of each object in each band</td>\n",
    "  </tr>\n",
    "  <tr>\n",
    "    <td class=\"tg-btxf\">Petrosian radius</td>\n",
    "    <td class=\"tg-abip\">  petroRad</td>\n",
    "    <td class=\"tg-btxf\">The radius at which the Petrosian ratio equals 0.2. </td>\n",
    "  </tr>\n",
    "  <tr>\n",
    "    <td class=\"tg-0pky\">Radius carrying 50% of Petrosian flux</td>\n",
    "    <td class=\"tg-c3ow\">  petroR50</td>\n",
    "    <td class=\"tg-0pky\">The radii containing 50% of the Petrosian flux for each band</td>\n",
    "  </tr>\n",
    "  <tr>\n",
    "    <td class=\"tg-btxf\">Radius carrying 90% of Petrosian flux</td>\n",
    "    <td class=\"tg-abip\">  petroR90</td>\n",
    "    <td class=\"tg-btxf\">The radii containing 90% of the Petrosian flux for each band</td>\n",
    "  </tr>\n",
    "  <tr>\n",
    "    <td class=\"tg-0pky\">Likelihood PSF</td>\n",
    "    <td class=\"tg-c3ow\">  lnLStar</td>\n",
    "    <td class=\"tg-0pky\">The probabilities of achieving the measured chi-squared for the PSF fits</td>\n",
    "  </tr>\n",
    "  <tr>\n",
    "    <td class=\"tg-btxf\">Likelihood exponential</td>\n",
    "    <td class=\"tg-abip\">  lnLExp</td>\n",
    "    <td class=\"tg-btxf\">the probabilities of achieving the measured chi-squared for the exponential fits</td>\n",
    "  </tr>\n",
    "  <tr>\n",
    "    <td class=\"tg-0pky\">Likelihood deVaucouleurs</td>\n",
    "    <td class=\"tg-c3ow\">  lnLDeV</td>\n",
    "    <td class=\"tg-0pky\">The probabilities of achieving the measured chi-squared for the deVaucouleurs fits</td>\n",
    "  </tr>\n",
    "  <tr>\n",
    "    <td class=\"tg-btxf\">Adaptive moments</td>\n",
    "    <td class=\"tg-abip\">  mRrCc, mE1, mE2</td>\n",
    "    <td class=\"tg-btxf\">A method of measuring object shapes. These moments are close to optimal for measuring the shapes of faint galaxies, and have been used for weak lensing studies.</td>\n",
    "  </tr>\n",
    "  <tr>\n",
    "    <td class=\"tg-0pky\">Spectroscopic classification</td>\n",
    "    <td class=\"tg-c3ow\">  specClass</td>\n",
    "    <td class=\"tg-0pky\">Indicates the best-matching spectroscopic template. SpecClass = 1 is associated some kind of star, SpecClass = 2 means galaxy, and SpecClass = 3 or 4 means quasar.</td>\n",
    "  </tr>\n",
    "  <tr>\n",
    "    <td class=\"tg-dzk6\" colspan=\"3\"><span style=\"font-weight:bold\">Table 1</span>:  Attributes from the Sloan Digital Sky Survey Data Release 7 that have been deemed useful in classifying objects as stars or galaxies. </td>\n",
    "  </tr>\n",
    "</tbody>\n",
    "</table></div>"
   ]
  },
  {
   "cell_type": "markdown",
   "id": "cd122fd1-dd3f-403f-b059-bbe436dbfe96",
   "metadata": {},
   "source": [
    "A [schema browser](http://cas.sdss.org/dr7/en/help/browser/browser.asp) as well as a [Glossary of SDSS Terminology](http://classic.sdss.org/dr7/glossary/index.html) provide supplementary explanations for the remaining column in the data. These references show that, in the data sample below, rows in the integer-based `type` column equate to $3$ for \"galaxies\" and $6$ for \"stars\". The `SpecClass` column further subdivides observations into quasi-stellar objects (`specClass` = 3), blank-sky spectrums (`specClass` = 5), high-redshift quasars (`specClass` = 4), and unclassifiable spectrums (`specClass` = 0). These make up only a small number of observations, and the sections that follow will filter data to include only stars (`specClass` = 1) and galaxies (`specClass` = 2).   "
   ]
  },
  {
   "cell_type": "code",
   "execution_count": 5,
   "id": "a97d2f19-0d90-4b41-a95d-e97a94de5aa2",
   "metadata": {},
   "outputs": [
    {
     "data": {
      "text/html": [
       "<div>\n",
       "<style scoped>\n",
       "    .dataframe tbody tr th:only-of-type {\n",
       "        vertical-align: middle;\n",
       "    }\n",
       "\n",
       "    .dataframe tbody tr th {\n",
       "        vertical-align: top;\n",
       "    }\n",
       "\n",
       "    .dataframe thead th {\n",
       "        text-align: right;\n",
       "    }\n",
       "</style>\n",
       "<table border=\"1\" class=\"dataframe\">\n",
       "  <thead>\n",
       "    <tr style=\"text-align: right;\">\n",
       "      <th></th>\n",
       "      <th>objID</th>\n",
       "      <th>ra</th>\n",
       "      <th>dec</th>\n",
       "      <th>specObjID</th>\n",
       "      <th>psfMag_r</th>\n",
       "      <th>modelMag_r</th>\n",
       "      <th>petroMag_r</th>\n",
       "      <th>fiberMag_r</th>\n",
       "      <th>petroRad_r</th>\n",
       "      <th>petroR50_r</th>\n",
       "      <th>petroR90_r</th>\n",
       "      <th>lnLStar_r</th>\n",
       "      <th>lnLExp_r</th>\n",
       "      <th>lnLDeV_r</th>\n",
       "      <th>mE1_r</th>\n",
       "      <th>mE2_r</th>\n",
       "      <th>mRrCc_r</th>\n",
       "      <th>type_r</th>\n",
       "      <th>type</th>\n",
       "      <th>specClass</th>\n",
       "    </tr>\n",
       "  </thead>\n",
       "  <tbody>\n",
       "    <tr>\n",
       "      <th>47967</th>\n",
       "      <td>587737809564008590</td>\n",
       "      <td>111.840404</td>\n",
       "      <td>38.935551</td>\n",
       "      <td>488023971736846336</td>\n",
       "      <td>17.72737</td>\n",
       "      <td>17.70484</td>\n",
       "      <td>17.75885</td>\n",
       "      <td>18.05289</td>\n",
       "      <td>1.142078</td>\n",
       "      <td>0.588535</td>\n",
       "      <td>1.350012</td>\n",
       "      <td>-1.499092</td>\n",
       "      <td>-0.403603</td>\n",
       "      <td>-0.407868</td>\n",
       "      <td>0.001695</td>\n",
       "      <td>-0.047742</td>\n",
       "      <td>2.520975</td>\n",
       "      <td>6</td>\n",
       "      <td>6</td>\n",
       "      <td>3</td>\n",
       "    </tr>\n",
       "    <tr>\n",
       "      <th>73869</th>\n",
       "      <td>587722983357415495</td>\n",
       "      <td>195.400539</td>\n",
       "      <td>0.032763</td>\n",
       "      <td>82695481016188928</td>\n",
       "      <td>17.60798</td>\n",
       "      <td>17.60427</td>\n",
       "      <td>17.65812</td>\n",
       "      <td>17.94762</td>\n",
       "      <td>1.206996</td>\n",
       "      <td>0.615739</td>\n",
       "      <td>1.368821</td>\n",
       "      <td>-0.083936</td>\n",
       "      <td>-0.120774</td>\n",
       "      <td>-0.120695</td>\n",
       "      <td>-0.059635</td>\n",
       "      <td>0.001535</td>\n",
       "      <td>2.816326</td>\n",
       "      <td>6</td>\n",
       "      <td>6</td>\n",
       "      <td>3</td>\n",
       "    </tr>\n",
       "    <tr>\n",
       "      <th>95055</th>\n",
       "      <td>587727226765312242</td>\n",
       "      <td>3.397407</td>\n",
       "      <td>-9.640221</td>\n",
       "      <td>183745617489559552</td>\n",
       "      <td>19.94043</td>\n",
       "      <td>18.76039</td>\n",
       "      <td>18.71560</td>\n",
       "      <td>19.87487</td>\n",
       "      <td>4.819426</td>\n",
       "      <td>1.937682</td>\n",
       "      <td>6.295853</td>\n",
       "      <td>-329.264700</td>\n",
       "      <td>-45.277520</td>\n",
       "      <td>-0.358122</td>\n",
       "      <td>0.038327</td>\n",
       "      <td>-0.061077</td>\n",
       "      <td>7.518435</td>\n",
       "      <td>3</td>\n",
       "      <td>3</td>\n",
       "      <td>2</td>\n",
       "    </tr>\n",
       "    <tr>\n",
       "      <th>107804</th>\n",
       "      <td>587727178448175257</td>\n",
       "      <td>357.022896</td>\n",
       "      <td>-10.711600</td>\n",
       "      <td>182621524333690880</td>\n",
       "      <td>19.51554</td>\n",
       "      <td>17.84025</td>\n",
       "      <td>17.85469</td>\n",
       "      <td>19.48932</td>\n",
       "      <td>6.483387</td>\n",
       "      <td>2.973348</td>\n",
       "      <td>7.683743</td>\n",
       "      <td>-2643.199000</td>\n",
       "      <td>-23.321170</td>\n",
       "      <td>-154.238800</td>\n",
       "      <td>0.162918</td>\n",
       "      <td>0.882215</td>\n",
       "      <td>97.278930</td>\n",
       "      <td>3</td>\n",
       "      <td>3</td>\n",
       "      <td>2</td>\n",
       "    </tr>\n",
       "    <tr>\n",
       "      <th>141360</th>\n",
       "      <td>587742903400267794</td>\n",
       "      <td>189.977076</td>\n",
       "      <td>17.805380</td>\n",
       "      <td>732067913300705280</td>\n",
       "      <td>18.86029</td>\n",
       "      <td>18.77594</td>\n",
       "      <td>18.79062</td>\n",
       "      <td>19.09767</td>\n",
       "      <td>1.081241</td>\n",
       "      <td>0.538625</td>\n",
       "      <td>1.330721</td>\n",
       "      <td>-33.510780</td>\n",
       "      <td>-11.106710</td>\n",
       "      <td>-9.696114</td>\n",
       "      <td>-0.055893</td>\n",
       "      <td>-0.017244</td>\n",
       "      <td>1.951671</td>\n",
       "      <td>6</td>\n",
       "      <td>6</td>\n",
       "      <td>3</td>\n",
       "    </tr>\n",
       "  </tbody>\n",
       "</table>\n",
       "</div>"
      ],
      "text/plain": [
       "                     objID          ra        dec           specObjID  psfMag_r  modelMag_r  petroMag_r  fiberMag_r  petroRad_r  petroR50_r  petroR90_r    lnLStar_r   lnLExp_r    lnLDeV_r     mE1_r     mE2_r    mRrCc_r  type_r  type  specClass\n",
       "47967   587737809564008590  111.840404  38.935551  488023971736846336  17.72737    17.70484    17.75885    18.05289    1.142078    0.588535    1.350012    -1.499092  -0.403603   -0.407868  0.001695 -0.047742   2.520975       6     6          3\n",
       "73869   587722983357415495  195.400539   0.032763   82695481016188928  17.60798    17.60427    17.65812    17.94762    1.206996    0.615739    1.368821    -0.083936  -0.120774   -0.120695 -0.059635  0.001535   2.816326       6     6          3\n",
       "95055   587727226765312242    3.397407  -9.640221  183745617489559552  19.94043    18.76039    18.71560    19.87487    4.819426    1.937682    6.295853  -329.264700 -45.277520   -0.358122  0.038327 -0.061077   7.518435       3     3          2\n",
       "107804  587727178448175257  357.022896 -10.711600  182621524333690880  19.51554    17.84025    17.85469    19.48932    6.483387    2.973348    7.683743 -2643.199000 -23.321170 -154.238800  0.162918  0.882215  97.278930       3     3          2\n",
       "141360  587742903400267794  189.977076  17.805380  732067913300705280  18.86029    18.77594    18.79062    19.09767    1.081241    0.538625    1.330721   -33.510780 -11.106710   -9.696114 -0.055893 -0.017244   1.951671       6     6          3"
      ]
     },
     "execution_count": 5,
     "metadata": {},
     "output_type": "execute_result"
    }
   ],
   "source": [
    "# Temporarily convert to pandas-on-spark DataFrame for\n",
    "# better appearance and print a sample of rows\n",
    "sdss_data.to_pandas_on_spark().sample(frac=0.00002, random_state=375)"
   ]
  },
  {
   "cell_type": "markdown",
   "id": "0aa22a62-02fb-430e-8784-ab471ca531ee",
   "metadata": {},
   "source": [
    "<a id=\"supervised_learning\"></a>\n",
    "# Supervised learning"
   ]
  },
  {
   "cell_type": "markdown",
   "id": "2285c154-364a-4b89-aade-5098a4aa7245",
   "metadata": {},
   "source": [
    "## Overview"
   ]
  },
  {
   "cell_type": "markdown",
   "id": "883b37ac-6810-403c-9d92-163ce918e662",
   "metadata": {
    "citation-manager": {
     "citations": {
      "3wnhz": [
       {
        "id": "6578788/LXV9B3I3",
        "source": "zotero"
       }
      ],
      "b20i6": [
       {
        "id": "6578788/3B8U6ZL5",
        "source": "zotero"
       }
      ],
      "drr5l": [
       {
        "id": "6578788/M4AXTGNR",
        "source": "zotero"
       }
      ],
      "fb21r": [
       {
        "id": "6578788/WRVILYFW",
        "source": "zotero"
       }
      ]
     }
    },
    "tags": []
   },
   "source": [
    "When SDSS Data Release 7 became publicly available in 2008, it consisted of 15.7 TB of FITS image data, 18 TB of catalogs, and 26.8 TB of \"other\" data products <cite id=\"fb21r\"><a href=\"#zotero|6578788/WRVILYFW\">(<i>SDSS Data Release 7</i>, 2013)</a></cite>. Subsequent releases - DR8 through DR16 - swelled to 407 TB in volume, and the newest DR17 alone contains 245 TB of data <cite id=\"drr5l\"><a href=\"#zotero|6578788/M4AXTGNR\">(<i>Data Volume | SDSS</i>, 2021)</a></cite>. These size pale in comparison to the planned productivity of the Vera C. Rubin Observatory, which is expected to produce upwards of 500 petabytes of images and other data products <cite id=\"b20i6\"><a href=\"#zotero|6578788/3B8U6ZL5\">(<i>About Rubin Observatory | Rubin Observatory</i>, 2022)</a></cite>. Such vast pools of information are expected to require unsupervised and supervised learning to help automatically \"locate, classify, and characterize objects\" and to discover \"new fundamental relationships between derived properties\" <cite id=\"3wnhz\"><a href=\"#zotero|6578788/LXV9B3I3\">(Fluke &#38; Jacobs, 2020)</a></cite>.      "
   ]
  },
  {
   "cell_type": "markdown",
   "id": "b7507627-7bfa-4b11-af01-0b8fbb28c1c5",
   "metadata": {
    "citation-manager": {
     "citations": {
      "bkbzf": [
       {
        "id": "6578788/ELIRRS3L",
        "source": "zotero"
       }
      ]
     }
    },
    "tags": []
   },
   "source": [
    "Supervised learning is the technique of using regression or classification algorithms and known variables (\"predictors\" or \"features\") to train models that predict numeric outputs or categorize observations based on probability. The act of \"training\" models involves using historical data, such as the SDSS DR7, to \"find the relationship that has the best predictive power\" for new observations <cite id=\"bkbzf\"><a href=\"#zotero|6578788/ELIRRS3L\">(Tatsat et al., 2020)</a></cite>. To avoid overfitting a model to training data, it is common practice to split historical data into \"training\" and \"test\" sets during model development. The training data is used to teach a model how to predict or classify an observation, while test data helps practitioners quantify model performance with unseen observations.  "
   ]
  },
  {
   "cell_type": "markdown",
   "id": "24494827-2057-447f-8864-341fee5f58d3",
   "metadata": {},
   "source": [
    "## Data clean-up"
   ]
  },
  {
   "cell_type": "markdown",
   "id": "1d566ab9-5890-4676-b836-b12920e983ba",
   "metadata": {},
   "source": [
    "Before splitting the sample DR7 data into train and test sets, it is prudent to investigate and resolve any missing values. Column- and subsequently row-wise summation indicates that there are a little over 7,000 missing values in the data.  "
   ]
  },
  {
   "cell_type": "code",
   "execution_count": 6,
   "id": "5c2442f6-21ff-4a26-8703-246a82df899c",
   "metadata": {},
   "outputs": [
    {
     "name": "stdout",
     "output_type": "stream",
     "text": [
      "+-----------+\n",
      "|sum_missing|\n",
      "+-----------+\n",
      "|       7154|\n",
      "+-----------+\n",
      "\n"
     ]
    }
   ],
   "source": [
    "# Count total number of missing values.\n",
    "# \"Missing\" values include 0, -9999, NaN, and Null\n",
    "\n",
    "# Solution is based on examples from\n",
    "# https://sparkbyexamples.com/pyspark/pyspark-find-count-of-null-none-nan-values/\n",
    "# and\n",
    "# https://stackoverflow.com/questions/53297872/how-can-i-sum-multiple-columns-in-a-spark-dataframe-in-pyspark\n",
    "\n",
    "import pyspark.sql.functions as F\n",
    "\n",
    "# Create a DataFrame with one row in which each column\n",
    "# includes count of total missing values in that column\n",
    "df_zero = sdss_data.select(\n",
    "    [\n",
    "        F.count(\n",
    "            F.when(\n",
    "                (sdss_data[c] == 0)\n",
    "                | (sdss_data[c] == -9999)\n",
    "                | (F.isnan(sdss_data[c]))\n",
    "                | (sdss_data[c].isNull()),\n",
    "                c,\n",
    "            )\n",
    "        ).alias(c)\n",
    "        for c in sdss_data.columns\n",
    "    ]\n",
    ")\n",
    "\n",
    "# Retrieve names of all columns\n",
    "cols_list = df_zero.columns\n",
    "\n",
    "# Parse an expression to sum the number of\n",
    "# missing values across all rows\n",
    "expression = \"+\".join(cols_list)\n",
    "\n",
    "# Create a new column with the sum of missing values\n",
    "# across all rows\n",
    "df_sum = df_zero.withColumn(\"sum_missing\", F.expr(expression))\n",
    "\n",
    "# Display total number of missing values\n",
    "df_sum.select(\"sum_missing\").show()"
   ]
  },
  {
   "cell_type": "markdown",
   "id": "5f8447ca-b11f-45be-aac8-1a1d4d5fb15a",
   "metadata": {},
   "source": [
    "Rows with missing data may be deleted entirely. However, to avoid losing information (and to gain additional practice), we can use Spark's [`Imputer`](https://spark.apache.org/docs/latest/api/python/reference/api/pyspark.ml.feature.Imputer.html) to fill in missing values with the mean or the median of their associated columns. "
   ]
  },
  {
   "cell_type": "code",
   "execution_count": 7,
   "id": "51e90bc2-eb65-48b5-b791-d8965aed7e78",
   "metadata": {},
   "outputs": [],
   "source": [
    "# Replace -9999 and 0 with \"None\"\n",
    "# sdss_data = sdss_data.replace(-9999, None)\n",
    "# sdss_data = sdss_data.replace(0, None)"
   ]
  },
  {
   "cell_type": "code",
   "execution_count": 8,
   "id": "fd7e926b-6a0b-4ab5-8d0e-585c9fe66459",
   "metadata": {},
   "outputs": [],
   "source": [
    "# Remove rows with missing values and calculate new row count\n",
    "# sdss_data = sdss_data.dropna()\n",
    "# print(\"New row count, no missing values:\\n\", sdss_data.count())"
   ]
  },
  {
   "cell_type": "markdown",
   "id": "b31df358-cb60-47fe-9d6a-8ae5687be486",
   "metadata": {},
   "source": [
    "The data also includes objects for which the spectrum is not classifiable (`specClass` = 0) or where the spectrum is that of a quasi-stellar object (`specClass` = 3), a high-redshift quasar (`specClass` = 4), a blank sky (`specClass` = 5), or of another class of object. Since the goal of this activity is binary classification, the data should be filtered to include only stars (`specClass` = 1) and galaxies (`specClass` = 2)."
   ]
  },
  {
   "cell_type": "code",
   "execution_count": 9,
   "id": "f112842d-5509-4df7-820b-7d1b18be9d01",
   "metadata": {},
   "outputs": [
    {
     "name": "stdout",
     "output_type": "stream",
     "text": [
      "Count of stars and galaxies only:\n",
      " 169608\n"
     ]
    }
   ],
   "source": [
    "# Filter DataFrame to include only the objects which are\n",
    "# classified as either a \"star\" or a \"galaxy\".\n",
    "# Print the new observation count.\n",
    "sdss_data = sdss_data.filter((sdss_data.specClass == 1) | (sdss_data.specClass == 2))\n",
    "print(\"Count of stars and galaxies only:\\n\", sdss_data.count())"
   ]
  },
  {
   "cell_type": "markdown",
   "id": "09c0503d-0564-465b-bec7-b19de5633b79",
   "metadata": {},
   "source": [
    "Lastly, a new column called `obj_category` can be created to translate the integer-based `type` column to a human-readable classification. This column will be useful for constructing plots, but it will not be a feature for supervised learning models."
   ]
  },
  {
   "cell_type": "code",
   "execution_count": 10,
   "id": "7d1740f2-1894-4cf1-8c87-15050654cba8",
   "metadata": {},
   "outputs": [
    {
     "name": "stdout",
     "output_type": "stream",
     "text": [
      "+------------------+----+------------+\n",
      "|             objID|type|obj_category|\n",
      "+------------------+----+------------+\n",
      "|587724233174745260|   3|      Galaxy|\n",
      "|587725551205613742|   3|      Galaxy|\n",
      "|587725469590225198|   3|      Galaxy|\n",
      "|587736585515565247|   6|        Star|\n",
      "|587729387149787196|   6|        Star|\n",
      "+------------------+----+------------+\n",
      "\n"
     ]
    }
   ],
   "source": [
    "from pyspark.sql.functions import col, when\n",
    "\n",
    "# Create a rule to equate type=3 with \"galaxy\" and type=6 with \"star\"\n",
    "conditions = when(col(\"type\") == \"6\", \"Star\").when(col(\"type\") == \"3\", \"Galaxy\")\n",
    "\n",
    "# Apply the new rule to create a new column with\n",
    "# human-readable classification labels\n",
    "sdss_data = sdss_data.withColumn(\"obj_category\", conditions)\n",
    "\n",
    "# Retrieve a data subset with new column\n",
    "sdss_data[[\"objID\", \"type\", \"obj_category\"]].sample(fraction=0.00003, seed=1).show()"
   ]
  },
  {
   "cell_type": "markdown",
   "id": "1bdb099b-1ecf-47a0-ac28-f8ad90124fd5",
   "metadata": {},
   "source": [
    "## Data split - training and test sets"
   ]
  },
  {
   "cell_type": "markdown",
   "id": "bba24dd4-c9f0-4b77-99ed-68526ff94090",
   "metadata": {},
   "source": [
    "After filtering observations to only include stars and galaxies, 70% of the data may be set aside for training supervised models and 30% may be reserved for evaluating model performance. "
   ]
  },
  {
   "cell_type": "code",
   "execution_count": 11,
   "id": "5f0c0455-b7d1-4c74-8e54-8104f4aaaefa",
   "metadata": {},
   "outputs": [],
   "source": [
    "# 70/30 dataset split\n",
    "train, test = sdss_data.randomSplit([0.7, 0.3])"
   ]
  },
  {
   "cell_type": "markdown",
   "id": "d7d2d3dc-64ed-4376-ae46-46044cb1b471",
   "metadata": {
    "tags": []
   },
   "source": [
    "<a id=\"eda\"></a>\n",
    "# Exploratory data analysis"
   ]
  },
  {
   "cell_type": "markdown",
   "id": "947aee7e-7f20-4fa1-9226-6f0558ebab70",
   "metadata": {},
   "source": [
    "After a 70/30 split, the training data contains a little less than 120,000 observations. "
   ]
  },
  {
   "cell_type": "code",
   "execution_count": 12,
   "id": "3da1b74b-6003-40d8-a085-56ba7963f7fc",
   "metadata": {},
   "outputs": [
    {
     "name": "stdout",
     "output_type": "stream",
     "text": [
      "Training data row count: 118817\n"
     ]
    }
   ],
   "source": [
    "# Row count in training data\n",
    "print(\"Training data row count:\", train.count())"
   ]
  },
  {
   "cell_type": "markdown",
   "id": "a2cfdbee-9794-483f-b877-c5569b503619",
   "metadata": {},
   "source": [
    "Approximately half are classified as galaxies and half are classified as stars. This nearly-even split is indicative of a well-balanced training set. "
   ]
  },
  {
   "cell_type": "code",
   "execution_count": 13,
   "id": "134a63d5-5292-49b0-9136-9a3ba0c977bb",
   "metadata": {},
   "outputs": [
    {
     "data": {
      "text/plain": [
       "(array([0, 1]), [Text(0, 0, 'Galaxy'), Text(1, 0, 'Star')])"
      ]
     },
     "execution_count": 13,
     "metadata": {},
     "output_type": "execute_result"
    },
    {
     "data": {
      "image/png": "[encoded data removed]",
      "text/plain": [
       "<Figure size 432x288 with 1 Axes>"
      ]
     },
     "metadata": {
      "needs_background": "light"
     },
     "output_type": "display_data"
    }
   ],
   "source": [
    "# Use matplotlib in lieu of plotly\n",
    "ps.options.plotting.backend = 'matplotlib'\n",
    "\n",
    "# Categorize objects in the training data by their classification\n",
    "# and obtain counts. Convert result to a pandas-on-spark DataFrame\n",
    "object_count = train.groupBy(\"obj_category\").count().to_pandas_on_spark()\n",
    "\n",
    "# Color palette from\n",
    "# https://predictablynoisy.com/matplotlib/gallery/color/colormap_reference.html#sphx-glr-gallery-color-colormap-reference-py\n",
    "col_map = plt.get_cmap('Set1')\n",
    "\n",
    "# Create a bar graph of total object counts in the\n",
    "# training data\n",
    "object_count.plot.bar(x=\"obj_category\", \n",
    "                      y=\"count\", \n",
    "                      figsize =(6, 4),\n",
    "                      color=col_map.colors,\n",
    "                      legend=None\n",
    "                     )\n",
    "plt.title(\"Total count of stars and galaxies in the \\nSDSS DR7 training data\")\n",
    "plt.xlabel(\"Object category\")\n",
    "plt.ylabel(\"Count\")\n",
    "plt.xticks(rotation=0)"
   ]
  },
  {
   "cell_type": "markdown",
   "id": "53c8ac26-60ec-446a-895a-f9b0fcfcb7bf",
   "metadata": {},
   "source": [
    "The Aitoff projection below shows the distribution of the galaxies and stars captured by Data Release 7. Most of the observations reside in the North Galactic Cap, although the three stripes extend as far as the South Galactic Cap at a declination of nearly $-15^{\\circ}$"
   ]
  },
  {
   "cell_type": "code",
   "execution_count": 14,
   "id": "5d3e0467-5594-443f-8aa0-f96dd1784947",
   "metadata": {
    "tags": []
   },
   "outputs": [
    {
     "data": {
      "text/plain": [
       "[<matplotlib.lines.Line2D at 0x7f1b017d39d0>]"
      ]
     },
     "execution_count": 14,
     "metadata": {},
     "output_type": "execute_result"
    },
    {
     "data": {
      "image/png": "[encoded data removed]",
      "text/plain": [
       "<Figure size 576x302.4 with 1 Axes>"
      ]
     },
     "metadata": {
      "needs_background": "light"
     },
     "output_type": "display_data"
    }
   ],
   "source": [
    "import ligo.skymap.plot\n",
    "from astropy import units as u\n",
    "from astropy.coordinates import SkyCoord\n",
    "\n",
    "# Astropy has not been modified to work with PySpark DataFrames.\n",
    "# Therefore, convert \"ra\" and \"dec\" to a pandas DataFrame.\n",
    "equatorial_coord = (\n",
    "    train[[\"ra\", \"dec\"]].sample(fraction=0.2).to_pandas_on_spark().to_pandas()\n",
    ")\n",
    "\n",
    "# Assign \"degree\" units to \"ra\" and \"dec\" column\n",
    "c = SkyCoord(\n",
    "    ra=equatorial_coord[\"ra\"] * u.degree,\n",
    "    dec=equatorial_coord[\"dec\"] * u.degree,\n",
    "    frame=\"icrs\",\n",
    ")\n",
    "\n",
    "# The azimuthal angle is expected to be between (-180º,180º),\n",
    "# so wrap \"ra\" to to the interval this interval\n",
    "ra_angle = c.ra.wrap_at(180 * u.degree)\n",
    "\n",
    "# Plot the projection using matplotlib\n",
    "plt.figure(figsize=(8, 4.2))\n",
    "plt.subplot(111, projection=\"aitoff\")\n",
    "plt.title(\"Aitoff projection of our random data\\n\")\n",
    "plt.grid(True)\n",
    "plt.plot(ra_angle.radian, c.dec.radian, \"o\", markersize=1, alpha=0.3)"
   ]
  },
  {
   "cell_type": "markdown",
   "id": "96158d4f-7448-4507-8747-235712344643",
   "metadata": {},
   "source": [
    "Photometry pipelines are in place to help classify the 1.5 million objects in the SDSS Data Release 7 set. These pipelines monitor the difference between the PSF magnitude (`psfMag`) and the model magnitude (`cmodel`) for observed objects and use $0.145$ as the threshold for classification; objects which exceed this difference in value are branded as \"galaxies\", and all others are set to \"stars\". This separation is clear in the scatter plot below, with all but a few stars residing beneath the $0.145$ threshold. "
   ]
  },
  {
   "cell_type": "code",
   "execution_count": 15,
   "id": "27fa991a-ae91-4a73-83fd-0b797e5a20eb",
   "metadata": {},
   "outputs": [],
   "source": [
    "# Calculate difference between psfMag and modelMag and create new column with results\n",
    "train = train.withColumn(\"psfModelDiff\", train.psfMag_r - train.modelMag_r)"
   ]
  },
  {
   "cell_type": "code",
   "execution_count": 19,
   "id": "12aaa0a9-390f-4c78-a9d8-73972817de0d",
   "metadata": {},
   "outputs": [
    {
     "data": {
      "application/vnd.plotly.v1+json": {
       "config": {
        "plotlyServerURL": "https://plot.ly"
       },
       "data": [
        {
         "hovertemplate": "Category=Galaxy<br>Magnitude (r)=%{x}<br>psfMag-modelMag=%{y}<extra></extra>",
         "legendgroup": "Galaxy",
         "marker": {
          "color": "#636efa",
          "size": 4,
          "symbol": "circle"
         },
         "mode": "markers",
         "name": "Galaxy",
         "orientation": "v",
         "showlegend": true,
         "type": "scatter",
         "x": [
          17.10843,
          17.18537,
          18.17948,
          16.34904,
          17.76433,
          17.32248,
          17.48644,
          17.099,
          18.48194,
          17.5526,
          16.29855,
          14.84339,
          17.35176,
          16.68037,
          17.32569,
          16.31064,
          16.06443,
          16.79819,
          17.26201,
          16.89323,
          17.26755,
          15.94516,
          17.12875,
          15.95122,
          18.65736,
          16.89675,
          17.07836,
          17.26775,
          17.17278,
          17.52258,
          18.35629,
          17.65255,
          16.59794,
          18.63303,
          14.8071,
          16.70505,
          17.7295,
          17.03231,
          17.45293,
          16.0966,
          17.86436,
          17.44153,
          18.3254,
          16.5141,
          16.84574,
          17.2146,
          17.74978,
          16.83116,
          16.96584,
          17.01575,
          16.49424,
          17.53258,
          17.80675,
          17.71918,
          16.99188,
          17.28416,
          17.35306,
          16.54319,
          19.44086,
          17.43598,
          17.10601,
          17.60714,
          17.47797,
          18.40866,
          18.61947,
          17.541,
          18.76754,
          17.00601,
          16.25405,
          17.8148,
          17.57325,
          16.22914,
          15.0498,
          16.89755,
          17.58144,
          18.57307,
          18.74324,
          17.57518,
          16.3406,
          17.14253,
          17.3693,
          19.00306,
          16.7741,
          19.06574,
          17.7014,
          17.41103,
          18.40206,
          16.58397,
          16.38822,
          16.71874,
          18.39476,
          17.37636,
          17.78745,
          17.41531,
          18.24199,
          19.53987,
          15.39687,
          17.29104,
          16.34067,
          16.92922,
          18.5022,
          17.18759,
          17.16499,
          17.58995,
          17.48005,
          17.94994,
          17.4181,
          17.63656,
          16.85447,
          17.06229,
          17.68508,
          17.35401,
          17.6688,
          16.76908,
          19.19642,
          16.94808,
          19.1037,
          17.43482,
          17.38924,
          17.59016,
          17.04289,
          17.20566,
          16.67908,
          17.54901,
          17.51635,
          18.77266,
          17.60687,
          16.48243,
          18.29474,
          18.73847,
          16.94776,
          17.64356,
          17.00091,
          17.6819,
          16.97877,
          17.26495,
          17.3685,
          16.20154,
          15.81502,
          15.56166,
          16.49036,
          16.76453,
          17.57533,
          17.46997,
          17.27748,
          14.31007,
          17.87694,
          16.57592,
          16.57571,
          17.06829,
          18.35413,
          16.22836,
          17.54212,
          18.40357,
          19.04896,
          17.15797,
          17.08334,
          17.92617,
          18.37021,
          17.36784,
          17.49484,
          16.87117,
          17.44134,
          16.47394,
          17.32827,
          17.42776,
          18.66257,
          16.88528,
          14.7859,
          16.30593,
          18.00595,
          17.38228,
          16.21191,
          19.3622,
          17.63004,
          16.5218,
          19.06986,
          19.06677,
          16.6614,
          17.25489,
          15.67487,
          17.43932,
          16.94927,
          17.16195,
          17.29951,
          17.36504,
          15.68907,
          17.57812,
          17.24698,
          17.01722,
          17.19693,
          17.73274,
          17.60736,
          16.90572,
          17.4518,
          17.32275,
          16.66452,
          17.16482,
          17.35519,
          17.63398,
          17.04145,
          15.38313,
          17.64747,
          18.92,
          16.73412,
          17.39679,
          17.59779,
          16.82572,
          17.4552,
          16.48055,
          16.60841,
          17.64122,
          17.14047,
          17.16739,
          17.32535,
          19.04848,
          17.6853,
          16.49979,
          16.49822,
          15.97679,
          14.81349,
          17.21881,
          16.69501,
          16.48276,
          15.26153,
          17.5742,
          17.50074,
          16.8477,
          17.38647,
          18.30028,
          15.20487,
          16.03401,
          17.21478,
          17.79979,
          17.2057,
          16.12024,
          17.57893,
          16.94857,
          17.62763,
          17.44694,
          16.8441,
          15.20688,
          17.71999,
          17.48271,
          17.1269,
          17.4897,
          17.6987,
          17.52325,
          17.3914,
          16.05276,
          17.17703,
          16.46352,
          18.67877,
          17.16194,
          17.50354,
          20.34814,
          15.90991,
          19.17047,
          17.3795,
          18.68659,
          19.47492,
          16.16912,
          19.24784,
          17.41839,
          15.55011,
          18.49387,
          17.68885,
          17.24308,
          16.77829,
          17.33488,
          17.69104,
          17.19104,
          16.31985,
          17.99166,
          17.09681,
          16.53882,
          14.91903,
          17.48747,
          17.12837,
          17.73855,
          17.39559,
          16.49772,
          16.19535,
          15.96229,
          15.76443,
          17.2441,
          17.31225,
          18.91833,
          17.5191,
          17.32311,
          17.0104,
          17.02987,
          16.73025,
          17.4085,
          17.405,
          17.66312,
          17.40638,
          17.41104,
          17.06723,
          17.48537,
          17.73109,
          16.73141,
          17.20214,
          17.01031,
          16.32802,
          18.4707,
          17.71778,
          15.8192,
          17.52929,
          17.47865,
          17.62371,
          17.58902,
          17.23012,
          17.44835,
          17.65637,
          17.03832,
          17.16067,
          17.41273,
          17.70284,
          17.36995,
          14.98023,
          17.51548,
          18.17785,
          17.09721,
          18.81012,
          19.40314,
          17.77641,
          17.38555,
          16.48384,
          17.32998,
          19.42713,
          17.66376,
          17.18457,
          17.80136,
          17.3934,
          16.72336,
          17.30235,
          17.65228,
          17.04952,
          17.53645,
          16.47011,
          17.78967,
          17.51517,
          16.98642,
          16.42415,
          17.59228,
          16.35505,
          15.44046,
          16.61687,
          17.47913,
          17.5745,
          16.582,
          17.69959,
          17.4644,
          16.9236,
          18.61859,
          17.58077,
          18.14212,
          16.5758,
          17.68511,
          16.74023,
          16.93004,
          15.22111,
          15.60278,
          16.7599,
          17.05527,
          17.67187,
          17.13444,
          17.09958,
          17.62613,
          17.73362,
          17.68862,
          14.71143,
          16.93026,
          16.37306,
          17.7576,
          17.58936,
          16.49806,
          17.04557,
          14.63265,
          17.07174,
          17.11447,
          17.15104,
          16.96913,
          17.51987,
          18.5795,
          16.62579,
          18.07247,
          16.73875,
          17.01215,
          17.3332,
          17.05955,
          18.50612,
          16.48288,
          17.33856,
          17.7514,
          17.37274,
          16.93749,
          16.09249,
          17.71671,
          17.69947,
          16.82049,
          16.7966,
          16.99383,
          17.45315,
          16.8636,
          17.37382,
          17.29694,
          17.74739,
          17.30769,
          17.25798,
          17.46757,
          18.5704,
          16.87612,
          17.53514,
          17.47689,
          18.61726,
          16.02339,
          17.77314,
          17.51303,
          17.37682,
          16.42383,
          17.47496,
          17.37418,
          16.55075,
          18.25099,
          16.89694,
          17.20612,
          18.26381,
          15.12613,
          16.39657,
          17.45567,
          17.44523,
          16.72075,
          17.09186,
          18.64162,
          17.76972,
          17.65666,
          17.76395,
          16.45849,
          17.72017,
          17.52776,
          16.73919,
          17.64379,
          17.27371,
          17.01749,
          17.82249,
          17.62986,
          17.50323,
          18.07905,
          19.90748,
          17.34164,
          16.37629,
          17.61124,
          16.00307,
          17.20904,
          16.38126,
          16.94315,
          15.51219,
          17.17868,
          15.9164,
          16.35932,
          15.94243,
          17.37556,
          17.54032,
          18.57256,
          17.03629,
          15.65547,
          18.51539,
          18.66773,
          17.26653,
          16.6162,
          19.63564,
          19.33091,
          18.8002,
          17.67484,
          17.57273,
          17.05229,
          16.52182,
          16.90744,
          17.31725,
          17.19488,
          17.70269,
          17.6234,
          17.54979,
          15.2442,
          17.74942,
          16.64637,
          20.53422,
          18.84851,
          17.85465,
          17.62493,
          17.24401,
          14.98545,
          16.76704,
          19.2393,
          17.68668,
          16.96789,
          17.75108,
          17.63077,
          17.55602,
          19.99446,
          17.72715,
          16.80391,
          17.24443,
          15.31205,
          15.25701,
          17.28665,
          19.23261,
          16.52011,
          17.65499,
          17.25718,
          15.02235,
          18.07671,
          17.32092,
          17.61019,
          16.07882,
          17.27632,
          17.50439,
          16.5361,
          17.74458,
          17.56268,
          16.36347,
          18.57287,
          17.67614,
          17.53199,
          17.807,
          15.56427,
          16.06092,
          17.55381,
          17.49525,
          16.57046,
          17.14053,
          19.11818,
          15.23393,
          16.82771,
          20.24124,
          16.68974,
          18.92951,
          18.17825,
          16.36767,
          17.96952,
          17.94141,
          17.75718,
          16.94892,
          18.14844,
          18.36983,
          17.66021,
          15.8542,
          17.50732,
          16.68914,
          17.67567,
          16.92323,
          17.58655,
          17.54002,
          17.50712,
          17.73196,
          16.33247,
          16.74475,
          17.85168,
          17.31356,
          17.31994,
          17.81903,
          15.12521,
          17.63708,
          18.98513,
          17.60722,
          17.23065
         ],
         "xaxis": "x",
         "y": [
          2.3990800000000014,
          1.2878500000000024,
          0.5898899999999969,
          1.7993200000000016,
          1.2873699999999992,
          1.63288,
          0.8917799999999971,
          0.3306299999999993,
          1.1456899999999983,
          0.81663,
          1.46481,
          3.9546799999999998,
          0.8041800000000023,
          2.205580000000001,
          1.5721599999999967,
          2.2107400000000013,
          1.5872799999999998,
          2.2128499999999995,
          1.0123099999999994,
          2.889310000000002,
          2.2253000000000007,
          2.9294600000000006,
          0.7692699999999988,
          1.713519999999999,
          0.962609999999998,
          1.0472900000000003,
          1.1544999999999987,
          1.481110000000001,
          1.269829999999999,
          1.1037999999999997,
          0.9307999999999979,
          1.4505199999999974,
          1.872869999999999,
          1.718519999999998,
          1.870890000000001,
          1.4573999999999998,
          1.3440399999999997,
          1.0138400000000019,
          1.0860900000000022,
          1.4226799999999997,
          2.6661399999999986,
          0.9370200000000004,
          0.7186400000000006,
          1.4332600000000006,
          0.7312200000000004,
          1.1013999999999982,
          2.4885199999999976,
          2.0799199999999978,
          2.44454,
          1.2515099999999997,
          1.2134,
          1.0396999999999998,
          0.9024999999999999,
          1.704229999999999,
          1.3435700000000033,
          2.3230700000000013,
          1.8337700000000012,
          1.3260199999999998,
          1.2104,
          1.10088,
          1.9724499999999985,
          1.5176099999999977,
          1.445920000000001,
          1.4730199999999982,
          1.1543600000000005,
          1.3010699999999993,
          0.48414,
          2.5318299999999994,
          1.6219500000000018,
          0.8392199999999974,
          1.1663499999999978,
          1.8574699999999993,
          1.9847100000000015,
          1.9890100000000004,
          0.7495699999999985,
          1.7174999999999976,
          1.231069999999999,
          1.7634700000000016,
          1.9195400000000014,
          1.0677999999999983,
          1.2895400000000024,
          1.4905799999999978,
          2.0533499999999982,
          0.6800899999999999,
          1.2494300000000003,
          1.4608899999999991,
          1.4338499999999996,
          1.5848799999999983,
          1.8394899999999978,
          2.9314,
          0.8323399999999985,
          1.6608400000000003,
          0.9552000000000014,
          0.8729399999999998,
          1.1600499999999982,
          1.1393099999999983,
          1.8055899999999987,
          1.6069400000000016,
          1.6188199999999995,
          1.1793099999999974,
          1.2245300000000015,
          1.6577899999999985,
          1.311600000000002,
          1.43037,
          1.3234700000000004,
          1.6332699999999996,
          1.4514099999999992,
          1.4968700000000013,
          1.5904699999999998,
          1.9513800000000003,
          1.6922300000000021,
          1.7855000000000025,
          0.8927099999999975,
          1.3992199999999997,
          1.1548499999999997,
          1.7554899999999982,
          0.9131900000000002,
          1.2380500000000012,
          1.3049,
          0.8336199999999998,
          1.9824200000000012,
          1.6971399999999974,
          1.5617800000000024,
          2.162390000000002,
          1.2134199999999993,
          0.9780700000000024,
          2.143729999999998,
          2.527709999999999,
          0.5459099999999992,
          1.5024699999999989,
          1.00629,
          1.3117400000000004,
          1.5083299999999973,
          1.9329800000000006,
          1.7638599999999975,
          1.8614700000000006,
          1.031179999999999,
          1.3271599999999992,
          1.7538899999999984,
          2.2392199999999995,
          2.3208699999999993,
          1.7170300000000012,
          0.7474600000000002,
          0.7360000000000007,
          1.0527599999999993,
          2.7280200000000008,
          1.1078899999999976,
          1.8208400000000005,
          1.5227299999999993,
          1.3032900000000005,
          1.0968099999999978,
          2.2921600000000026,
          0.6752299999999991,
          0.44841000000000264,
          0.9378899999999994,
          2.4258699999999997,
          0.7062899999999992,
          1.3207200000000014,
          1.0211700000000015,
          2.60182,
          1.56447,
          0.807459999999999,
          2.273900000000001,
          0.6286699999999996,
          1.2490500000000004,
          1.5345000000000013,
          1.2045600000000007,
          1.2978699999999996,
          1.9524099999999986,
          1.4173200000000001,
          0.97438,
          2.142859999999999,
          2.1815999999999995,
          1.4098100000000002,
          1.7456899999999997,
          1.3971800000000023,
          1.2218000000000018,
          0.8309599999999975,
          2.448920000000001,
          1.1586099999999995,
          2.671249999999999,
          1.6014100000000013,
          1.2978500000000004,
          0.7589799999999975,
          1.6263299999999994,
          1.2267499999999991,
          2.6992600000000007,
          0.7633200000000002,
          1.7044399999999982,
          2.2171800000000026,
          0.9690300000000001,
          1.6025400000000012,
          2.2388800000000018,
          2.070140000000002,
          1.1570200000000028,
          1.0151199999999996,
          1.5432799999999993,
          0.7617200000000004,
          1.6872599999999984,
          0.8077900000000007,
          1.7985599999999984,
          1.5095800000000015,
          0.4442800000000027,
          1.1407199999999982,
          1.8040500000000002,
          0.9563699999999997,
          1.2931099999999986,
          2.3997899999999994,
          1.0919899999999991,
          1.7748199999999983,
          0.9748699999999992,
          0.6548799999999986,
          1.5649300000000004,
          1.1357800000000005,
          2.262699999999999,
          0.6450699999999969,
          0.6720999999999968,
          2.1843699999999977,
          1.7386599999999994,
          1.7941500000000001,
          1.9146300000000007,
          1.312269999999998,
          1.7168799999999997,
          1.498350000000002,
          2.107039999999998,
          1.5806499999999986,
          0.7642099999999985,
          0.8460600000000014,
          0.9829900000000009,
          1.39058,
          3.5356699999999996,
          1.1279900000000005,
          0.7881399999999985,
          1.5297899999999984,
          1.4721699999999984,
          2.2315199999999997,
          1.810839999999999,
          0.8932299999999991,
          1.1878600000000006,
          0.9508599999999987,
          0.8452400000000004,
          1.9465999999999983,
          1.6340299999999992,
          1.2502199999999988,
          1.6216000000000008,
          0.8372300000000017,
          2.21969,
          1.3845099999999988,
          1.1004799999999975,
          2.1825200000000002,
          1.6125900000000009,
          1.4841100000000012,
          0.8202999999999996,
          1.5219799999999992,
          2.7187300000000008,
          0.5732999999999997,
          2.40728,
          1.371769999999998,
          0.7439099999999996,
          1.4340900000000012,
          0.8718299999999992,
          1.3630400000000016,
          1.0597999999999992,
          1.4897100000000023,
          4.6408999999999985,
          1.0149899999999974,
          0.7828300000000006,
          1.0119000000000007,
          2.467320000000001,
          1.0279900000000026,
          2.04674,
          2.0758599999999987,
          1.5498900000000013,
          1.4737299999999998,
          1.3458100000000002,
          1.6464299999999987,
          2.3311600000000006,
          0.799190000000003,
          1.232800000000001,
          1.1913300000000007,
          0.8768200000000022,
          2.22532,
          1.388099999999998,
          1.4783100000000005,
          1.639710000000001,
          2.539480000000001,
          1.3272600000000025,
          1.07273,
          1.0144299999999973,
          1.1787099999999988,
          1.191279999999999,
          1.3245500000000021,
          3.0418999999999983,
          1.2991400000000013,
          1.6557599999999972,
          2.177669999999999,
          1.5714199999999998,
          1.0548900000000003,
          1.5399200000000022,
          0.9297399999999989,
          1.8946700000000014,
          1.8541699999999999,
          1.270859999999999,
          2.0408399999999993,
          1.713630000000002,
          1.392479999999999,
          1.2430899999999987,
          2.461039999999999,
          0.7796500000000002,
          1.0689600000000006,
          1.0583400000000012,
          1.2613999999999983,
          1.72119,
          1.6994899999999973,
          1.9674600000000027,
          1.699810000000003,
          1.3860300000000016,
          1.667460000000002,
          1.6717700000000022,
          1.8973499999999994,
          2.5054399999999983,
          1.95843,
          1.3489700000000013,
          2.2310100000000013,
          1.0984999999999978,
          1.0622499999999988,
          1.1712200000000017,
          1.6288000000000018,
          2.737449999999999,
          0.934070000000002,
          1.053410000000003,
          1.4537699999999987,
          1.6222700000000003,
          1.8877400000000009,
          1.4823400000000007,
          2.780630000000002,
          1.4500600000000006,
          1.1611399999999996,
          2.21396,
          2.5652700000000017,
          2.2075100000000027,
          1.334579999999999,
          0.8464799999999997,
          1.5224500000000027,
          1.2292299999999976,
          1.1309199999999997,
          1.2559600000000017,
          1.4765500000000014,
          2.9415200000000006,
          1.5997500000000002,
          0.4998900000000006,
          1.296129999999998,
          1.3320000000000007,
          1.59178,
          1.7525399999999998,
          1.13157,
          1.935459999999999,
          1.5351600000000012,
          1.4470799999999997,
          2.0757499999999993,
          0.990079999999999,
          1.9362699999999968,
          3.2512100000000004,
          2.99503,
          2.443360000000002,
          1.8973399999999998,
          2.21706,
          1.8404799999999994,
          2.14612,
          1.6587700000000005,
          1.1552100000000003,
          1.296289999999999,
          2.1238799999999998,
          2.099779999999999,
          1.5957000000000008,
          1.1447600000000016,
          2.0726900000000015,
          1.18121,
          3.656519999999997,
          2.7743899999999986,
          2.1624300000000005,
          1.796599999999998,
          1.4483800000000002,
          1.9786099999999998,
          1.62031,
          0.9152799999999992,
          1.167340000000003,
          0.6963800000000013,
          2.11946,
          1.16967,
          1.6045899999999982,
          1.5270399999999995,
          1.1529300000000013,
          2.521799999999999,
          1.1579999999999977,
          1.8687299999999993,
          1.013770000000001,
          1.7420000000000009,
          1.3706499999999977,
          1.7436900000000009,
          1.4544799999999967,
          1.6252099999999992,
          1.7935999999999979,
          1.4395900000000026,
          0.9132099999999994,
          1.5034699999999965,
          1.8079800000000006,
          1.8348499999999994,
          1.9367800000000024,
          1.6023599999999973,
          1.06616,
          1.271130000000003,
          0.8734700000000011,
          2.6275799999999983,
          0.65381,
          1.6299199999999985,
          1.5285899999999977,
          2.4983400000000024,
          0.8372799999999998,
          2.0878799999999984,
          1.0468600000000023,
          1.3728000000000016,
          1.0362399999999994,
          1.3579800000000013,
          2.35989,
          1.0570599999999999,
          0.7560299999999991,
          1.637120000000003,
          1.115169999999999,
          1.791170000000001,
          1.090609999999998,
          1.5183099999999996,
          0.652940000000001,
          1.6359300000000019,
          1.1480299999999986,
          0.27623000000000175,
          2.1779100000000007,
          3.2631600000000027,
          1.9433299999999996,
          2.3756999999999984,
          0.8965500000000013,
          1.0833699999999986,
          1.7636800000000008,
          1.5423800000000014,
          1.7318599999999975,
          2.1288800000000023,
          1.9946300000000008,
          1.3176699999999997,
          2.308970000000002,
          1.4700699999999998,
          1.3682100000000013,
          2.275359999999999,
          1.4774299999999982,
          0.8692400000000013,
          2.0807900000000004,
          1.7543799999999976,
          2.2462799999999987,
          2.859930000000002,
          2.1050900000000006,
          1.7457799999999999,
          2.466850000000001,
          2.7789199999999994,
          1.5796200000000002,
          2.542719999999999,
          1.60839,
          1.9654799999999994,
          1.5391200000000005,
          1.5081900000000008,
          1.405339999999999,
          0.2831299999999999,
          1.5706799999999994,
          1.244130000000002,
          1.2742000000000004,
          1.555489999999999,
          1.4857499999999995,
          1.2748999999999988,
          1.1714200000000012,
          1.1992900000000013,
          1.2569499999999998,
          1.9646299999999997,
          1.2563199999999988,
          1.5078299999999984,
          1.3530200000000008,
          1.021650000000001,
          1.7325099999999978,
          2.19323,
          2.1921999999999997,
          1.9351199999999977,
          1.0975000000000001,
          1.6160999999999994,
          1.4326000000000008,
          2.434720000000002,
          1.3291700000000013,
          2.2011900000000004,
          1.4733399999999968,
          0.41392000000000095,
          1.7847299999999997,
          1.5174899999999987,
          1.5756599999999992,
          2.348290000000002,
          1.041830000000001,
          1.0269000000000013,
          1.188769999999998,
          1.5617800000000024,
          1.6732099999999974,
          2.02083,
          3.36773,
          1.0381699999999974,
          1.1323499999999989,
          1.0269399999999997,
          2.349309999999999,
          1.1937499999999979,
          3.7972199999999994,
          1.019120000000001,
          2.2439099999999996,
          1.3369600000000013,
          2.030149999999999,
          0.8374400000000009,
          1.934660000000001,
          1.9708499999999987,
          1.3436000000000021,
          2.0934500000000007,
          1.385110000000001,
          1.3340399999999981,
          1.2353400000000008,
          1.1477499999999985,
          1.0378900000000009,
          2.067899999999998,
          2.093250000000001,
          1.26849,
          1.1222100000000026,
          1.9295799999999979,
          1.7180200000000028,
          1.0474400000000017,
          1.9872200000000007,
          1.7840200000000017,
          1.04786,
          1.8919099999999993,
          1.0123299999999986,
          1.1382400000000032,
          0.8608399999999996,
          0.8024400000000007,
          2.048259999999999,
          0.2218599999999995,
          1.1742899999999992,
          1.0466300000000004,
          1.2511200000000002,
          0.910890000000002,
          1.7797,
          0.9266499999999986,
          1.4673900000000017,
          1.5701099999999997,
          1.64818,
          1.9572400000000023,
          1.813480000000002,
          1.9591399999999979,
          1.1453099999999985,
          1.5375200000000007,
          1.1588700000000003,
          0.7391099999999966,
          1.0396099999999997,
          1.0411500000000018,
          1.1602999999999994,
          1.9516899999999993,
          1.7456800000000001,
          1.51361,
          1.7168099999999988,
          1.5492299999999979
         ],
         "yaxis": "y"
        },
        {
         "hovertemplate": "Category=Star<br>Magnitude (r)=%{x}<br>psfMag-modelMag=%{y}<extra></extra>",
         "legendgroup": "Star",
         "marker": {
          "color": "#EF553B",
          "size": 4,
          "symbol": "diamond"
         },
         "mode": "markers",
         "name": "Star",
         "orientation": "v",
         "showlegend": true,
         "type": "scatter",
         "x": [
          18.91024,
          17.41087,
          18.25972,
          19.03688,
          18.2161,
          17.63342,
          17.1965,
          16.78753,
          17.65035,
          16.95576,
          17.21675,
          17.95611,
          19.57245,
          17.63933,
          15.8263,
          18.06654,
          19.32869,
          17.92718,
          19.13528,
          18.59558,
          17.62424,
          16.94509,
          19.36049,
          19.81885,
          16.23324,
          15.74055,
          18.69658,
          20.65701,
          19.83199,
          19.90992,
          19.17928,
          17.41557,
          20.09403,
          18.44631,
          19.71119,
          18.85324,
          15.22678,
          18.78693,
          20.4282,
          16.29301,
          17.7929,
          17.10448,
          19.04765,
          15.82113,
          17.05992,
          20.1261,
          19.83149,
          18.87251,
          15.26631,
          17.75325,
          16.27093,
          19.40263,
          19.23538,
          19.45119,
          18.58751,
          17.28604,
          18.4479,
          15.51335,
          19.32617,
          17.07307,
          20.17124,
          18.82497,
          15.90713,
          18.73803,
          18.65659,
          18.18965,
          20.1902,
          19.41028,
          19.10339,
          19.52895,
          19.35394,
          17.95434,
          17.51997,
          17.83836,
          20.18345,
          17.56592,
          18.60116,
          19.44209,
          16.31894,
          18.78837,
          15.40078,
          18.13281,
          18.50702,
          16.99448,
          19.01052,
          15.44519,
          20.26193,
          16.69511,
          15.91882,
          17.65939,
          20.50345,
          16.84312,
          18.80783,
          17.68767,
          19.0464,
          18.84994,
          20.02118,
          14.96503,
          20.0131,
          16.86655,
          15.08468,
          20.57936,
          19.86976,
          17.53139,
          20.08442,
          16.00353,
          17.66544,
          17.67524,
          18.92986,
          17.38368,
          20.349,
          16.39063,
          19.26371,
          19.95872,
          19.80888,
          20.59702,
          17.60102,
          18.30876,
          20.09334,
          18.55327,
          18.99532,
          18.56675,
          17.02478,
          19.742,
          18.12155,
          19.06148,
          16.81072,
          20.04303,
          18.29914,
          16.78635,
          19.25914,
          19.97697,
          17.81317,
          16.42907,
          19.38646,
          16.70097,
          20.00305,
          17.08751,
          17.35493,
          20.39348,
          15.8997,
          16.26392,
          16.55914,
          15.9853,
          19.02557,
          20.24555,
          18.13098,
          15.85586,
          15.82507,
          16.46263,
          17.76063,
          17.90835,
          17.7717,
          18.07553,
          17.68857,
          17.14221,
          18.86178,
          15.82917,
          18.3606,
          18.06853,
          18.12589,
          20.83311,
          20.30689,
          18.45445,
          19.04782,
          17.77604,
          19.46805,
          18.58992,
          17.27567,
          18.1502,
          17.81578,
          20.33833,
          17.71179,
          19.68389,
          20.53545,
          18.15258,
          16.27965,
          19.43785,
          18.69801,
          17.66888,
          20.25124,
          19.33811,
          19.8937,
          18.07986,
          19.41657,
          16.61585,
          18.18511,
          17.99322,
          18.64155,
          19.84919,
          18.39212,
          20.08633,
          16.81989,
          18.0259,
          19.94485,
          20.09976,
          18.78247,
          16.98539,
          18.65887,
          19.62951,
          16.77036,
          18.95217,
          16.96502,
          20.05707,
          16.74828,
          17.41431,
          17.61815,
          19.47491,
          17.84023,
          18.81907,
          19.75681,
          20.26079,
          16.5558,
          18.22721,
          15.49182,
          18.29908,
          17.35028,
          20.60558,
          17.95588,
          15.32209,
          20.09449,
          18.04223,
          16.78793,
          17.94602,
          18.30398,
          19.26833,
          18.12807,
          18.79163,
          19.09156,
          16.74549,
          16.5426,
          17.72017,
          16.98291,
          18.1913,
          16.28031,
          17.82646,
          16.05505,
          18.9549,
          17.71707,
          19.94845,
          18.06201,
          19.29965,
          18.98495,
          16.86424,
          19.73126,
          19.69501,
          18.07825,
          20.94894,
          15.30887,
          17.84929,
          17.2896,
          19.54331,
          18.25298,
          18.82627,
          17.09222,
          20.04907,
          19.71211,
          18.51051,
          18.62693,
          20.39442,
          19.3439,
          20.33337,
          17.60505,
          19.63529,
          20.06394,
          17.3503,
          18.59369,
          19.63253,
          20.44104,
          19.53606,
          19.75248,
          20.30054,
          17.29694,
          18.22733,
          18.09952,
          20.45063,
          15.81236,
          19.1239,
          17.35638,
          15.14193,
          20.7652,
          20.17731,
          17.69979,
          20.35375,
          16.82673,
          17.88141,
          20.96626,
          20.06947,
          18.29868,
          19.20683,
          18.12349,
          20.31853,
          17.81542,
          17.26847,
          18.96065,
          16.6006,
          19.06163,
          17.44193,
          18.16402,
          18.17122,
          20.44944,
          17.83965,
          16.61982,
          18.58999,
          19.1246,
          19.85369,
          18.9493,
          19.0245,
          19.42481,
          19.41781,
          16.99613,
          17.53582,
          16.09369,
          19.15616,
          17.64826,
          17.34531,
          18.93355,
          20.27313,
          19.10264,
          18.25774,
          17.40353,
          19.4826,
          17.45105,
          19.13227,
          16.41023,
          18.42105,
          18.65603,
          17.69707,
          17.69929,
          19.81038,
          20.54245,
          18.77801,
          15.32972,
          20.23911,
          17.55506,
          16.84538,
          16.26763,
          19.06642,
          18.88224,
          19.85784,
          20.00862,
          20.1112,
          17.63641,
          17.41552,
          16.98464,
          15.04401,
          19.41075,
          20.53554,
          18.48003,
          20.09819,
          16.51175,
          17.15686,
          17.58255,
          15.12686,
          18.85015,
          17.7083,
          18.10288,
          17.75817,
          19.8397,
          18.87818,
          19.87738,
          18.66039,
          17.23203,
          18.0134,
          17.7187,
          18.11883,
          15.75071,
          20.12681,
          19.98131,
          18.68647,
          19.87248,
          16.22578,
          16.70967,
          16.36483,
          17.7331,
          17.90085,
          18.22667,
          19.35588,
          16.38655,
          19.0527,
          15.10096,
          19.33574,
          19.04595,
          17.9861,
          19.95922,
          19.5824,
          19.94118,
          17.37426,
          17.73451,
          18.30038,
          17.51017,
          16.93817,
          16.5302,
          17.41644,
          19.31244,
          19.7951,
          20.56974,
          19.43582,
          20.07915,
          20.07014,
          18.14626,
          16.50939,
          17.74119,
          19.74,
          20.19536,
          17.83517,
          18.1659,
          20.30984,
          16.38114,
          19.48195,
          16.92569,
          18.57961,
          18.59318,
          19.78327,
          18.00727,
          16.92628,
          17.81852,
          20.41713,
          16.94688,
          18.00098,
          16.36293,
          15.0734,
          17.83372,
          19.54368,
          20.77082,
          17.95555,
          20.44408,
          17.97583,
          19.75397,
          15.25489,
          19.988,
          15.6636
         ],
         "xaxis": "x",
         "y": [
          0.03556999999999988,
          -0.0012599999999984846,
          0.012269999999997339,
          -0.0021500000000003183,
          0.022410000000000707,
          0.008879999999997779,
          0.02804000000000073,
          -0.043189999999999173,
          0.0025100000000009004,
          0.006709999999998217,
          -0.0016500000000014836,
          0.00478999999999985,
          0.013030000000000541,
          -0.01688000000000045,
          0.04949000000000048,
          0.0002500000000011937,
          -0.00840000000000174,
          0.014649999999999608,
          0.01011999999999702,
          0.0013999999999967372,
          0.003750000000000142,
          0.01355999999999824,
          0.01184000000000296,
          0.018069999999998032,
          -0.00019999999999953388,
          -0.007979999999999876,
          0.013980000000000103,
          0.04607000000000028,
          0.021699999999999164,
          0.010069999999998913,
          0.01477000000000217,
          0.0015200000000028524,
          0.019189999999998264,
          -0.009450000000001069,
          0.04180000000000206,
          -0.0007200000000011642,
          -0.002509999999999124,
          0.010619999999999408,
          0.054710000000000036,
          -5.999999999772854e-05,
          0.012019999999999698,
          0.019280000000001962,
          -0.01256000000000057,
          -0.016130000000000422,
          0.010859999999997427,
          0.11162999999999812,
          0.002660000000002327,
          0.020870000000002165,
          -0.004010000000000957,
          0.5367800000000003,
          -0.010079999999998535,
          0.008639999999999759,
          -0.0029199999999995896,
          -0.0033600000000006958,
          -0.0009700000000023579,
          0.015080000000001093,
          -0.0071499999999993236,
          0.010289999999999466,
          0.0194599999999987,
          0.024619999999998754,
          0.03316999999999837,
          0.0009799999999984266,
          0.003429999999999822,
          -0.0024999999999977263,
          0.019059999999999633,
          -0.011189999999999145,
          0.008849999999998914,
          0.014900000000000801,
          0.007749999999997925,
          -0.004079999999998307,
          -0.00846000000000302,
          0.0022500000000000853,
          0.005819999999999936,
          0.0071499999999993236,
          0.004239999999999355,
          -0.0021599999999999397,
          0.015699999999998937,
          0.00017000000000066962,
          -0.0019700000000000273,
          -0.005160000000000053,
          0.010960000000000747,
          0.0041700000000020054,
          -0.00864999999999938,
          -0.0065099999999986835,
          0.02160999999999902,
          0.0003799999999998249,
          0.00014000000000180535,
          0.005919999999999703,
          0.000740000000000407,
          -0.005469999999998976,
          0.18771999999999878,
          0.006030000000002644,
          -0.004159999999998831,
          0.0024999999999977263,
          0.012770000000003279,
          0.0031399999999983663,
          0.0005500000000004945,
          0.00016999999999889326,
          0.02224999999999966,
          -0.012049999999998562,
          0.0072499999999990905,
          0.11143999999999821,
          0.0005799999999993588,
          -0.021669999999996747,
          -0.011580000000002144,
          -0.010200000000001097,
          -0.006859999999999644,
          0.9466400000000021,
          -0.00018999999999991246,
          0.013550000000002171,
          0.012630000000001473,
          -0.0015900000000002024,
          0.0010100000000008436,
          -0.021570000000000533,
          0.03222000000000236,
          -0.0041700000000020054,
          -0.018709999999998672,
          -0.01442000000000121,
          0.04217999999999833,
          0.01927999999999841,
          0.01261000000000223,
          -0.0055200000000006355,
          -0.005579999999998364,
          -0.006430000000001712,
          -0.008639999999999759,
          0.02563999999999922,
          -0.00846999999999909,
          0.05438999999999794,
          -0.026230000000001752,
          0.0027400000000028513,
          -0.003989999999998162,
          -0.00917000000000101,
          0.020220000000001903,
          0.057449999999999335,
          -0.005399999999998073,
          -0.01705000000000112,
          -0.007340000000002789,
          0.00817999999999941,
          0.0120900000000006,
          0.044010000000000105,
          -0.005719999999998393,
          -0.018299999999999983,
          0.008680000000001797,
          -0.02278000000000091,
          0.09354000000000084,
          0.023270000000000124,
          0.016459999999998587,
          0.05483000000000082,
          0.037670000000000314,
          -0.06470000000000198,
          -0.005720000000000169,
          -0.034720000000000084,
          0.01332000000000022,
          0.021809999999998553,
          -0.04131999999999891,
          0.03887000000000285,
          0.020690000000001874,
          0.02224999999999966,
          -0.01594000000000051,
          -0.0060499999999983345,
          -0.005189999999998918,
          -0.006040000000002266,
          -0.0066099999999984504,
          0.0035799999999994725,
          -0.007870000000000488,
          0.006960000000002964,
          0.005069999999999908,
          -0.002420000000000755,
          -0.007910000000002526,
          0.00070999999999799,
          0.002269999999999328,
          0.03112000000000137,
          0.004380000000001161,
          0.0003299999999981651,
          -0.0008400000000001739,
          0.020699999999997942,
          -0.03464999999999918,
          -0.0032800000000001717,
          0.02494000000000085,
          0.011179999999999524,
          0.01255000000000095,
          0.013149999999999551,
          0.16444000000000258,
          0.00916000000000139,
          0.02120000000000033,
          0.03263000000000105,
          0.002619999999996736,
          0.005039999999997491,
          0.016440000000002897,
          0.017250000000000654,
          0.014840000000003073,
          -0.007190000000001362,
          0.007960000000000633,
          0.00043000000000148475,
          0.07750000000000057,
          0.03300000000000125,
          0.06539000000000073,
          0.0037900000000021805,
          -0.005179999999999296,
          -0.0003600000000005821,
          -0.010950000000001125,
          0.005449999999999733,
          0.0161200000000008,
          0.0146000000000015,
          0.006180000000000518,
          0.005639999999999645,
          0.0001600000000010482,
          0.001120000000000232,
          0.018000000000000682,
          -0.005120000000001568,
          0.010849999999997806,
          0.014620000000000744,
          -0.043420000000001124,
          -0.020609999999997797,
          0.005559999999999121,
          0.010989999999999611,
          0.005319999999997549,
          0.05403000000000091,
          0.007519999999999527,
          0.0012900000000009015,
          0.030300000000000438,
          0.005330000000000723,
          -0.0040399999999998215,
          0.0016800000000003479,
          0.011179999999999524,
          0.004240000000002908,
          0.0066099999999984504,
          0.0021199999999979013,
          0.013539999999998997,
          -0.0008499999999997954,
          0.014679999999998472,
          0.005050000000000665,
          0.008779999999998012,
          -0.019659999999998234,
          -0.014980000000001326,
          -0.0010300000000000864,
          -0.002100000000002211,
          0.0012800000000012801,
          0.019069999999999254,
          -0.0011399999999994748,
          0.011019999999998475,
          0.014060000000000628,
          -0.01969000000000065,
          -0.004479999999997375,
          -0.009439999999997895,
          0.01600000000000179,
          -0.013180000000001968,
          0.3807399999999994,
          0.00522999999999918,
          -0.004829999999998336,
          -0.0035300000000013654,
          0.006529999999997926,
          0.0016199999999990666,
          0.00905999999999807,
          -0.005670000000002062,
          0.01571999999999818,
          -0.014929999999999666,
          0.026489999999999014,
          -0.006370000000000431,
          0.02237999999999829,
          -0.007110000000000838,
          -0.015359999999997598,
          0.0714100000000002,
          0.04312999999999789,
          -0.02050999999999803,
          -9.999999999621423e-06,
          -0.002340000000000231,
          -0.0004999999999988347,
          -0.014570000000002636,
          0.008259999999999934,
          0.002450000000003172,
          0.013669999999997628,
          0.001660000000001105,
          -0.010619999999999408,
          0.008160000000000167,
          0.07634999999999792,
          0.07986999999999966,
          0.0025600000000025602,
          -0.0020800000000029684,
          -0.01191999999999993,
          0.026979999999998228,
          0.0013199999999997658,
          0.006740000000000634,
          0.04818999999999818,
          -0.020300000000002427,
          -0.013629999999999143,
          0.011340000000000572,
          -0.0024999999999977263,
          0.0065099999999986835,
          0.02465000000000117,
          0.014140000000001152,
          0.03100000000000236,
          -0.0019799999999996487,
          -0.004529999999999035,
          -0.0014700000000011926,
          0.016020000000001033,
          0.13334000000000046,
          -0.02255999999999858,
          -0.00887000000000171,
          0.05875999999999948,
          -0.0113999999999983,
          0.030680000000000263,
          -0.005269999999999442,
          -0.003920000000000812,
          0.0946499999999979,
          -0.004310000000000258,
          -0.0062400000000018,
          0.010870000000000601,
          0.031340000000000146,
          0.002880000000001104,
          0.00899000000000072,
          0.005699999999997374,
          0.1819000000000024,
          0.0017999999999993577,
          0.027409999999999712,
          0.00070999999999799,
          -0.002480000000002036,
          0.005580000000001917,
          0.059499999999999886,
          0.024610000000002685,
          0.02103999999999928,
          -0.004509999999999792,
          -0.0017699999999969407,
          -0.06764999999999688,
          0.0032300000000020646,
          -0.0024399999999999977,
          0.1096199999999996,
          0.019719999999999516,
          -0.003520000000001744,
          0.018130000000002866,
          0.06676000000000215,
          -0.015219999999999345,
          0.004099999999999326,
          0.0025399999999997647,
          0.010400000000000631,
          0.01162000000000063,
          0.021889999999999077,
          0.00630999999999915,
          -0.004110000000000724,
          0.19189000000000078,
          -0.005649999999999267,
          0.030770000000000408,
          0.007209999999997052,
          0.08418999999999954,
          0.0007200000000011642,
          -0.021539999999999893,
          -0.013169999999998794,
          0.03715000000000046,
          -0.0021500000000003183,
          0.05799000000000021,
          -0.0022999999999981924,
          0.0031399999999983663,
          -0.0161200000000008,
          0.010119999999998797,
          0.019729999999999137,
          -0.0015900000000002024,
          0.014739999999999753,
          -0.018249999999998323,
          -0.020520000000001204,
          0.0007899999999985141,
          0.016610000000000014,
          0.010919999999998709,
          0.021649999999997505,
          0.00922999999999874,
          0.01162000000000063,
          0.005230000000000956,
          -0.014020000000000366,
          0.026900000000001256,
          0.011119999999998242,
          0.1260399999999997,
          -0.007059999999999178,
          -0.023270000000000124,
          -0.018629999999998148,
          0.026849999999999596,
          -0.010290000000001243,
          -0.013789999999996638,
          -0.0033799999999999386,
          -0.020640000000000214,
          0.017569999999999197,
          0.013219999999996901,
          0.0009599999999991837,
          0.01600999999999786,
          0.021379999999997068,
          0.006160000000001276,
          0.025350000000003092,
          0.002289999999998571,
          -0.002729999999999677,
          -0.03265999999999991,
          -0.005330000000000723,
          0.01886999999999972,
          0.012930000000000774,
          0.005500000000001393,
          0.07621999999999929,
          0.0012899999999973488,
          0.009360000000000923,
          0.012639999999997542,
          -0.012609999999998678,
          -0.0022500000000000853,
          0.020640000000000214,
          -0.0076799999999970225,
          0.0010999999999974364,
          -0.019310000000000827,
          0.0031199999999991235,
          0.01541000000000281,
          0.0024599999999992406,
          -0.00017000000000066962,
          0.014739999999999753,
          -0.01051000000000002,
          -0.0004899999999992133,
          -0.008330000000000837,
          -0.01933000000000007,
          0.010640000000002203,
          0.014089999999999492,
          0.17007999999999868,
          0.0005700000000032901,
          -0.042619999999999436,
          0.006109999999999616,
          0.03066000000000102,
          0.013159999999999172,
          0.03935000000000244,
          -0.011659999999999116,
          0.010400000000000631,
          0.02541000000000082,
          0.03433000000000064,
          -0.0164200000000001,
          -0.002569999999998629,
          -0.020749999999999602,
          -0.0027599999999985414,
          0.02604000000000184,
          0.012120000000001241,
          0.037990000000000634,
          -0.02321000000000062
         ],
         "yaxis": "y"
        }
       ],
       "layout": {
        "autosize": true,
        "legend": {
         "title": {
          "text": "Category"
         },
         "tracegroupgap": 0
        },
        "template": {
         "data": {
          "bar": [
           {
            "error_x": {
             "color": "#2a3f5f"
            },
            "error_y": {
             "color": "#2a3f5f"
            },
            "marker": {
             "line": {
              "color": "#E5ECF6",
              "width": 0.5
             },
             "pattern": {
              "fillmode": "overlay",
              "size": 10,
              "solidity": 0.2
             }
            },
            "type": "bar"
           }
          ],
          "barpolar": [
           {
            "marker": {
             "line": {
              "color": "#E5ECF6",
              "width": 0.5
             },
             "pattern": {
              "fillmode": "overlay",
              "size": 10,
              "solidity": 0.2
             }
            },
            "type": "barpolar"
           }
          ],
          "carpet": [
           {
            "aaxis": {
             "endlinecolor": "#2a3f5f",
             "gridcolor": "white",
             "linecolor": "white",
             "minorgridcolor": "white",
             "startlinecolor": "#2a3f5f"
            },
            "baxis": {
             "endlinecolor": "#2a3f5f",
             "gridcolor": "white",
             "linecolor": "white",
             "minorgridcolor": "white",
             "startlinecolor": "#2a3f5f"
            },
            "type": "carpet"
           }
          ],
          "choropleth": [
           {
            "colorbar": {
             "outlinewidth": 0,
             "ticks": ""
            },
            "type": "choropleth"
           }
          ],
          "contour": [
           {
            "colorbar": {
             "outlinewidth": 0,
             "ticks": ""
            },
            "colorscale": [
             [
              0,
              "#0d0887"
             ],
             [
              0.1111111111111111,
              "#46039f"
             ],
             [
              0.2222222222222222,
              "#7201a8"
             ],
             [
              0.3333333333333333,
              "#9c179e"
             ],
             [
              0.4444444444444444,
              "#bd3786"
             ],
             [
              0.5555555555555556,
              "#d8576b"
             ],
             [
              0.6666666666666666,
              "#ed7953"
             ],
             [
              0.7777777777777778,
              "#fb9f3a"
             ],
             [
              0.8888888888888888,
              "#fdca26"
             ],
             [
              1,
              "#f0f921"
             ]
            ],
            "type": "contour"
           }
          ],
          "contourcarpet": [
           {
            "colorbar": {
             "outlinewidth": 0,
             "ticks": ""
            },
            "type": "contourcarpet"
           }
          ],
          "heatmap": [
           {
            "colorbar": {
             "outlinewidth": 0,
             "ticks": ""
            },
            "colorscale": [
             [
              0,
              "#0d0887"
             ],
             [
              0.1111111111111111,
              "#46039f"
             ],
             [
              0.2222222222222222,
              "#7201a8"
             ],
             [
              0.3333333333333333,
              "#9c179e"
             ],
             [
              0.4444444444444444,
              "#bd3786"
             ],
             [
              0.5555555555555556,
              "#d8576b"
             ],
             [
              0.6666666666666666,
              "#ed7953"
             ],
             [
              0.7777777777777778,
              "#fb9f3a"
             ],
             [
              0.8888888888888888,
              "#fdca26"
             ],
             [
              1,
              "#f0f921"
             ]
            ],
            "type": "heatmap"
           }
          ],
          "heatmapgl": [
           {
            "colorbar": {
             "outlinewidth": 0,
             "ticks": ""
            },
            "colorscale": [
             [
              0,
              "#0d0887"
             ],
             [
              0.1111111111111111,
              "#46039f"
             ],
             [
              0.2222222222222222,
              "#7201a8"
             ],
             [
              0.3333333333333333,
              "#9c179e"
             ],
             [
              0.4444444444444444,
              "#bd3786"
             ],
             [
              0.5555555555555556,
              "#d8576b"
             ],
             [
              0.6666666666666666,
              "#ed7953"
             ],
             [
              0.7777777777777778,
              "#fb9f3a"
             ],
             [
              0.8888888888888888,
              "#fdca26"
             ],
             [
              1,
              "#f0f921"
             ]
            ],
            "type": "heatmapgl"
           }
          ],
          "histogram": [
           {
            "marker": {
             "pattern": {
              "fillmode": "overlay",
              "size": 10,
              "solidity": 0.2
             }
            },
            "type": "histogram"
           }
          ],
          "histogram2d": [
           {
            "colorbar": {
             "outlinewidth": 0,
             "ticks": ""
            },
            "colorscale": [
             [
              0,
              "#0d0887"
             ],
             [
              0.1111111111111111,
              "#46039f"
             ],
             [
              0.2222222222222222,
              "#7201a8"
             ],
             [
              0.3333333333333333,
              "#9c179e"
             ],
             [
              0.4444444444444444,
              "#bd3786"
             ],
             [
              0.5555555555555556,
              "#d8576b"
             ],
             [
              0.6666666666666666,
              "#ed7953"
             ],
             [
              0.7777777777777778,
              "#fb9f3a"
             ],
             [
              0.8888888888888888,
              "#fdca26"
             ],
             [
              1,
              "#f0f921"
             ]
            ],
            "type": "histogram2d"
           }
          ],
          "histogram2dcontour": [
           {
            "colorbar": {
             "outlinewidth": 0,
             "ticks": ""
            },
            "colorscale": [
             [
              0,
              "#0d0887"
             ],
             [
              0.1111111111111111,
              "#46039f"
             ],
             [
              0.2222222222222222,
              "#7201a8"
             ],
             [
              0.3333333333333333,
              "#9c179e"
             ],
             [
              0.4444444444444444,
              "#bd3786"
             ],
             [
              0.5555555555555556,
              "#d8576b"
             ],
             [
              0.6666666666666666,
              "#ed7953"
             ],
             [
              0.7777777777777778,
              "#fb9f3a"
             ],
             [
              0.8888888888888888,
              "#fdca26"
             ],
             [
              1,
              "#f0f921"
             ]
            ],
            "type": "histogram2dcontour"
           }
          ],
          "mesh3d": [
           {
            "colorbar": {
             "outlinewidth": 0,
             "ticks": ""
            },
            "type": "mesh3d"
           }
          ],
          "parcoords": [
           {
            "line": {
             "colorbar": {
              "outlinewidth": 0,
              "ticks": ""
             }
            },
            "type": "parcoords"
           }
          ],
          "pie": [
           {
            "automargin": true,
            "type": "pie"
           }
          ],
          "scatter": [
           {
            "fillpattern": {
             "fillmode": "overlay",
             "size": 10,
             "solidity": 0.2
            },
            "type": "scatter"
           }
          ],
          "scatter3d": [
           {
            "line": {
             "colorbar": {
              "outlinewidth": 0,
              "ticks": ""
             }
            },
            "marker": {
             "colorbar": {
              "outlinewidth": 0,
              "ticks": ""
             }
            },
            "type": "scatter3d"
           }
          ],
          "scattercarpet": [
           {
            "marker": {
             "colorbar": {
              "outlinewidth": 0,
              "ticks": ""
             }
            },
            "type": "scattercarpet"
           }
          ],
          "scattergeo": [
           {
            "marker": {
             "colorbar": {
              "outlinewidth": 0,
              "ticks": ""
             }
            },
            "type": "scattergeo"
           }
          ],
          "scattergl": [
           {
            "marker": {
             "colorbar": {
              "outlinewidth": 0,
              "ticks": ""
             }
            },
            "type": "scattergl"
           }
          ],
          "scattermapbox": [
           {
            "marker": {
             "colorbar": {
              "outlinewidth": 0,
              "ticks": ""
             }
            },
            "type": "scattermapbox"
           }
          ],
          "scatterpolar": [
           {
            "marker": {
             "colorbar": {
              "outlinewidth": 0,
              "ticks": ""
             }
            },
            "type": "scatterpolar"
           }
          ],
          "scatterpolargl": [
           {
            "marker": {
             "colorbar": {
              "outlinewidth": 0,
              "ticks": ""
             }
            },
            "type": "scatterpolargl"
           }
          ],
          "scatterternary": [
           {
            "marker": {
             "colorbar": {
              "outlinewidth": 0,
              "ticks": ""
             }
            },
            "type": "scatterternary"
           }
          ],
          "surface": [
           {
            "colorbar": {
             "outlinewidth": 0,
             "ticks": ""
            },
            "colorscale": [
             [
              0,
              "#0d0887"
             ],
             [
              0.1111111111111111,
              "#46039f"
             ],
             [
              0.2222222222222222,
              "#7201a8"
             ],
             [
              0.3333333333333333,
              "#9c179e"
             ],
             [
              0.4444444444444444,
              "#bd3786"
             ],
             [
              0.5555555555555556,
              "#d8576b"
             ],
             [
              0.6666666666666666,
              "#ed7953"
             ],
             [
              0.7777777777777778,
              "#fb9f3a"
             ],
             [
              0.8888888888888888,
              "#fdca26"
             ],
             [
              1,
              "#f0f921"
             ]
            ],
            "type": "surface"
           }
          ],
          "table": [
           {
            "cells": {
             "fill": {
              "color": "#EBF0F8"
             },
             "line": {
              "color": "white"
             }
            },
            "header": {
             "fill": {
              "color": "#C8D4E3"
             },
             "line": {
              "color": "white"
             }
            },
            "type": "table"
           }
          ]
         },
         "layout": {
          "annotationdefaults": {
           "arrowcolor": "#2a3f5f",
           "arrowhead": 0,
           "arrowwidth": 1
          },
          "autotypenumbers": "strict",
          "coloraxis": {
           "colorbar": {
            "outlinewidth": 0,
            "ticks": ""
           }
          },
          "colorscale": {
           "diverging": [
            [
             0,
             "#8e0152"
            ],
            [
             0.1,
             "#c51b7d"
            ],
            [
             0.2,
             "#de77ae"
            ],
            [
             0.3,
             "#f1b6da"
            ],
            [
             0.4,
             "#fde0ef"
            ],
            [
             0.5,
             "#f7f7f7"
            ],
            [
             0.6,
             "#e6f5d0"
            ],
            [
             0.7,
             "#b8e186"
            ],
            [
             0.8,
             "#7fbc41"
            ],
            [
             0.9,
             "#4d9221"
            ],
            [
             1,
             "#276419"
            ]
           ],
           "sequential": [
            [
             0,
             "#0d0887"
            ],
            [
             0.1111111111111111,
             "#46039f"
            ],
            [
             0.2222222222222222,
             "#7201a8"
            ],
            [
             0.3333333333333333,
             "#9c179e"
            ],
            [
             0.4444444444444444,
             "#bd3786"
            ],
            [
             0.5555555555555556,
             "#d8576b"
            ],
            [
             0.6666666666666666,
             "#ed7953"
            ],
            [
             0.7777777777777778,
             "#fb9f3a"
            ],
            [
             0.8888888888888888,
             "#fdca26"
            ],
            [
             1,
             "#f0f921"
            ]
           ],
           "sequentialminus": [
            [
             0,
             "#0d0887"
            ],
            [
             0.1111111111111111,
             "#46039f"
            ],
            [
             0.2222222222222222,
             "#7201a8"
            ],
            [
             0.3333333333333333,
             "#9c179e"
            ],
            [
             0.4444444444444444,
             "#bd3786"
            ],
            [
             0.5555555555555556,
             "#d8576b"
            ],
            [
             0.6666666666666666,
             "#ed7953"
            ],
            [
             0.7777777777777778,
             "#fb9f3a"
            ],
            [
             0.8888888888888888,
             "#fdca26"
            ],
            [
             1,
             "#f0f921"
            ]
           ]
          },
          "colorway": [
           "#636efa",
           "#EF553B",
           "#00cc96",
           "#ab63fa",
           "#FFA15A",
           "#19d3f3",
           "#FF6692",
           "#B6E880",
           "#FF97FF",
           "#FECB52"
          ],
          "font": {
           "color": "#2a3f5f"
          },
          "geo": {
           "bgcolor": "white",
           "lakecolor": "white",
           "landcolor": "#E5ECF6",
           "showlakes": true,
           "showland": true,
           "subunitcolor": "white"
          },
          "hoverlabel": {
           "align": "left"
          },
          "hovermode": "closest",
          "mapbox": {
           "style": "light"
          },
          "paper_bgcolor": "white",
          "plot_bgcolor": "#E5ECF6",
          "polar": {
           "angularaxis": {
            "gridcolor": "white",
            "linecolor": "white",
            "ticks": ""
           },
           "bgcolor": "#E5ECF6",
           "radialaxis": {
            "gridcolor": "white",
            "linecolor": "white",
            "ticks": ""
           }
          },
          "scene": {
           "xaxis": {
            "backgroundcolor": "#E5ECF6",
            "gridcolor": "white",
            "gridwidth": 2,
            "linecolor": "white",
            "showbackground": true,
            "ticks": "",
            "zerolinecolor": "white"
           },
           "yaxis": {
            "backgroundcolor": "#E5ECF6",
            "gridcolor": "white",
            "gridwidth": 2,
            "linecolor": "white",
            "showbackground": true,
            "ticks": "",
            "zerolinecolor": "white"
           },
           "zaxis": {
            "backgroundcolor": "#E5ECF6",
            "gridcolor": "white",
            "gridwidth": 2,
            "linecolor": "white",
            "showbackground": true,
            "ticks": "",
            "zerolinecolor": "white"
           }
          },
          "shapedefaults": {
           "line": {
            "color": "#2a3f5f"
           }
          },
          "ternary": {
           "aaxis": {
            "gridcolor": "white",
            "linecolor": "white",
            "ticks": ""
           },
           "baxis": {
            "gridcolor": "white",
            "linecolor": "white",
            "ticks": ""
           },
           "bgcolor": "#E5ECF6",
           "caxis": {
            "gridcolor": "white",
            "linecolor": "white",
            "ticks": ""
           }
          },
          "title": {
           "x": 0.05
          },
          "xaxis": {
           "automargin": true,
           "gridcolor": "white",
           "linecolor": "white",
           "ticks": "",
           "title": {
            "standoff": 15
           },
           "zerolinecolor": "white",
           "zerolinewidth": 2
          },
          "yaxis": {
           "automargin": true,
           "gridcolor": "white",
           "linecolor": "white",
           "ticks": "",
           "title": {
            "standoff": 15
           },
           "zerolinecolor": "white",
           "zerolinewidth": 2
          }
         }
        },
        "title": {
         "text": "Difference between the point-spread function magnitude (psfMag) and <br>the model magnitude (modelMag) as a function of magnitude"
        },
        "xaxis": {
         "anchor": "y",
         "autorange": true,
         "domain": [
          0,
          1
         ],
         "range": [
          13.855661910755149,
          21.42066808924485
         ],
         "title": {
          "text": "Magnitude (r)"
         },
         "type": "linear"
        },
        "yaxis": {
         "anchor": "x",
         "autorange": true,
         "domain": [
          0,
          1
         ],
         "range": [
          -0.4298461538461504,
          5.003096153846152
         ],
         "title": {
          "text": "psfMag-modelMag"
         },
         "type": "linear"
        }
       }
      },
      "image/png": "[encoded data removed]",
      "text/html": [
       "<div>                            <div id=\"857a2314-a0ba-43d5-918d-c043821182f6\" class=\"plotly-graph-div\" style=\"height:525px; width:100%;\"></div>            <script type=\"text/javascript\">                require([\"plotly\"], function(Plotly) {                    window.PLOTLYENV=window.PLOTLYENV || {};                                    if (document.getElementById(\"857a2314-a0ba-43d5-918d-c043821182f6\")) {                    Plotly.newPlot(                        \"857a2314-a0ba-43d5-918d-c043821182f6\",                        [{\"hovertemplate\":\"Category=Galaxy<br>Magnitude (r)=%{x}<br>psfMag-modelMag=%{y}<extra></extra>\",\"legendgroup\":\"Galaxy\",\"marker\":{\"color\":\"#636efa\",\"symbol\":\"circle\",\"size\":4},\"mode\":\"markers\",\"name\":\"Galaxy\",\"orientation\":\"v\",\"showlegend\":true,\"x\":[17.10843,17.18537,18.17948,16.34904,17.76433,17.32248,17.48644,17.099,18.48194,17.5526,16.29855,14.84339,17.35176,16.68037,17.32569,16.31064,16.06443,16.79819,17.26201,16.89323,17.26755,15.94516,17.12875,15.95122,18.65736,16.89675,17.07836,17.26775,17.17278,17.52258,18.35629,17.65255,16.59794,18.63303,14.8071,16.70505,17.7295,17.03231,17.45293,16.0966,17.86436,17.44153,18.3254,16.5141,16.84574,17.2146,17.74978,16.83116,16.96584,17.01575,16.49424,17.53258,17.80675,17.71918,16.99188,17.28416,17.35306,16.54319,19.44086,17.43598,17.10601,17.60714,17.47797,18.40866,18.61947,17.541,18.76754,17.00601,16.25405,17.8148,17.57325,16.22914,15.0498,16.89755,17.58144,18.57307,18.74324,17.57518,16.3406,17.14253,17.3693,19.00306,16.7741,19.06574,17.7014,17.41103,18.40206,16.58397,16.38822,16.71874,18.39476,17.37636,17.78745,17.41531,18.24199,19.53987,15.39687,17.29104,16.34067,16.92922,18.5022,17.18759,17.16499,17.58995,17.48005,17.94994,17.4181,17.63656,16.85447,17.06229,17.68508,17.35401,17.6688,16.76908,19.19642,16.94808,19.1037,17.43482,17.38924,17.59016,17.04289,17.20566,16.67908,17.54901,17.51635,18.77266,17.60687,16.48243,18.29474,18.73847,16.94776,17.64356,17.00091,17.6819,16.97877,17.26495,17.3685,16.20154,15.81502,15.56166,16.49036,16.76453,17.57533,17.46997,17.27748,14.31007,17.87694,16.57592,16.57571,17.06829,18.35413,16.22836,17.54212,18.40357,19.04896,17.15797,17.08334,17.92617,18.37021,17.36784,17.49484,16.87117,17.44134,16.47394,17.32827,17.42776,18.66257,16.88528,14.7859,16.30593,18.00595,17.38228,16.21191,19.3622,17.63004,16.5218,19.06986,19.06677,16.6614,17.25489,15.67487,17.43932,16.94927,17.16195,17.29951,17.36504,15.68907,17.57812,17.24698,17.01722,17.19693,17.73274,17.60736,16.90572,17.4518,17.32275,16.66452,17.16482,17.35519,17.63398,17.04145,15.38313,17.64747,18.92,16.73412,17.39679,17.59779,16.82572,17.4552,16.48055,16.60841,17.64122,17.14047,17.16739,17.32535,19.04848,17.6853,16.49979,16.49822,15.97679,14.81349,17.21881,16.69501,16.48276,15.26153,17.5742,17.50074,16.8477,17.38647,18.30028,15.20487,16.03401,17.21478,17.79979,17.2057,16.12024,17.57893,16.94857,17.62763,17.44694,16.8441,15.20688,17.71999,17.48271,17.1269,17.4897,17.6987,17.52325,17.3914,16.05276,17.17703,16.46352,18.67877,17.16194,17.50354,20.34814,15.90991,19.17047,17.3795,18.68659,19.47492,16.16912,19.24784,17.41839,15.55011,18.49387,17.68885,17.24308,16.77829,17.33488,17.69104,17.19104,16.31985,17.99166,17.09681,16.53882,14.91903,17.48747,17.12837,17.73855,17.39559,16.49772,16.19535,15.96229,15.76443,17.2441,17.31225,18.91833,17.5191,17.32311,17.0104,17.02987,16.73025,17.4085,17.405,17.66312,17.40638,17.41104,17.06723,17.48537,17.73109,16.73141,17.20214,17.01031,16.32802,18.4707,17.71778,15.8192,17.52929,17.47865,17.62371,17.58902,17.23012,17.44835,17.65637,17.03832,17.16067,17.41273,17.70284,17.36995,14.98023,17.51548,18.17785,17.09721,18.81012,19.40314,17.77641,17.38555,16.48384,17.32998,19.42713,17.66376,17.18457,17.80136,17.3934,16.72336,17.30235,17.65228,17.04952,17.53645,16.47011,17.78967,17.51517,16.98642,16.42415,17.59228,16.35505,15.44046,16.61687,17.47913,17.5745,16.582,17.69959,17.4644,16.9236,18.61859,17.58077,18.14212,16.5758,17.68511,16.74023,16.93004,15.22111,15.60278,16.7599,17.05527,17.67187,17.13444,17.09958,17.62613,17.73362,17.68862,14.71143,16.93026,16.37306,17.7576,17.58936,16.49806,17.04557,14.63265,17.07174,17.11447,17.15104,16.96913,17.51987,18.5795,16.62579,18.07247,16.73875,17.01215,17.3332,17.05955,18.50612,16.48288,17.33856,17.7514,17.37274,16.93749,16.09249,17.71671,17.69947,16.82049,16.7966,16.99383,17.45315,16.8636,17.37382,17.29694,17.74739,17.30769,17.25798,17.46757,18.5704,16.87612,17.53514,17.47689,18.61726,16.02339,17.77314,17.51303,17.37682,16.42383,17.47496,17.37418,16.55075,18.25099,16.89694,17.20612,18.26381,15.12613,16.39657,17.45567,17.44523,16.72075,17.09186,18.64162,17.76972,17.65666,17.76395,16.45849,17.72017,17.52776,16.73919,17.64379,17.27371,17.01749,17.82249,17.62986,17.50323,18.07905,19.90748,17.34164,16.37629,17.61124,16.00307,17.20904,16.38126,16.94315,15.51219,17.17868,15.9164,16.35932,15.94243,17.37556,17.54032,18.57256,17.03629,15.65547,18.51539,18.66773,17.26653,16.6162,19.63564,19.33091,18.8002,17.67484,17.57273,17.05229,16.52182,16.90744,17.31725,17.19488,17.70269,17.6234,17.54979,15.2442,17.74942,16.64637,20.53422,18.84851,17.85465,17.62493,17.24401,14.98545,16.76704,19.2393,17.68668,16.96789,17.75108,17.63077,17.55602,19.99446,17.72715,16.80391,17.24443,15.31205,15.25701,17.28665,19.23261,16.52011,17.65499,17.25718,15.02235,18.07671,17.32092,17.61019,16.07882,17.27632,17.50439,16.5361,17.74458,17.56268,16.36347,18.57287,17.67614,17.53199,17.807,15.56427,16.06092,17.55381,17.49525,16.57046,17.14053,19.11818,15.23393,16.82771,20.24124,16.68974,18.92951,18.17825,16.36767,17.96952,17.94141,17.75718,16.94892,18.14844,18.36983,17.66021,15.8542,17.50732,16.68914,17.67567,16.92323,17.58655,17.54002,17.50712,17.73196,16.33247,16.74475,17.85168,17.31356,17.31994,17.81903,15.12521,17.63708,18.98513,17.60722,17.23065],\"xaxis\":\"x\",\"y\":[2.3990800000000014,1.2878500000000024,0.5898899999999969,1.7993200000000016,1.2873699999999992,1.63288,0.8917799999999971,0.3306299999999993,1.1456899999999983,0.81663,1.46481,3.9546799999999998,0.8041800000000023,2.205580000000001,1.5721599999999967,2.2107400000000013,1.5872799999999998,2.2128499999999995,1.0123099999999994,2.889310000000002,2.2253000000000007,2.9294600000000006,0.7692699999999988,1.713519999999999,0.962609999999998,1.0472900000000003,1.1544999999999987,1.481110000000001,1.269829999999999,1.1037999999999997,0.9307999999999979,1.4505199999999974,1.872869999999999,1.718519999999998,1.870890000000001,1.4573999999999998,1.3440399999999997,1.0138400000000019,1.0860900000000022,1.4226799999999997,2.6661399999999986,0.9370200000000004,0.7186400000000006,1.4332600000000006,0.7312200000000004,1.1013999999999982,2.4885199999999976,2.0799199999999978,2.44454,1.2515099999999997,1.2134,1.0396999999999998,0.9024999999999999,1.704229999999999,1.3435700000000033,2.3230700000000013,1.8337700000000012,1.3260199999999998,1.2104,1.10088,1.9724499999999985,1.5176099999999977,1.445920000000001,1.4730199999999982,1.1543600000000005,1.3010699999999993,0.48414,2.5318299999999994,1.6219500000000018,0.8392199999999974,1.1663499999999978,1.8574699999999993,1.9847100000000015,1.9890100000000004,0.7495699999999985,1.7174999999999976,1.231069999999999,1.7634700000000016,1.9195400000000014,1.0677999999999983,1.2895400000000024,1.4905799999999978,2.0533499999999982,0.6800899999999999,1.2494300000000003,1.4608899999999991,1.4338499999999996,1.5848799999999983,1.8394899999999978,2.9314,0.8323399999999985,1.6608400000000003,0.9552000000000014,0.8729399999999998,1.1600499999999982,1.1393099999999983,1.8055899999999987,1.6069400000000016,1.6188199999999995,1.1793099999999974,1.2245300000000015,1.6577899999999985,1.311600000000002,1.43037,1.3234700000000004,1.6332699999999996,1.4514099999999992,1.4968700000000013,1.5904699999999998,1.9513800000000003,1.6922300000000021,1.7855000000000025,0.8927099999999975,1.3992199999999997,1.1548499999999997,1.7554899999999982,0.9131900000000002,1.2380500000000012,1.3049,0.8336199999999998,1.9824200000000012,1.6971399999999974,1.5617800000000024,2.162390000000002,1.2134199999999993,0.9780700000000024,2.143729999999998,2.527709999999999,0.5459099999999992,1.5024699999999989,1.00629,1.3117400000000004,1.5083299999999973,1.9329800000000006,1.7638599999999975,1.8614700000000006,1.031179999999999,1.3271599999999992,1.7538899999999984,2.2392199999999995,2.3208699999999993,1.7170300000000012,0.7474600000000002,0.7360000000000007,1.0527599999999993,2.7280200000000008,1.1078899999999976,1.8208400000000005,1.5227299999999993,1.3032900000000005,1.0968099999999978,2.2921600000000026,0.6752299999999991,0.44841000000000264,0.9378899999999994,2.4258699999999997,0.7062899999999992,1.3207200000000014,1.0211700000000015,2.60182,1.56447,0.807459999999999,2.273900000000001,0.6286699999999996,1.2490500000000004,1.5345000000000013,1.2045600000000007,1.2978699999999996,1.9524099999999986,1.4173200000000001,0.97438,2.142859999999999,2.1815999999999995,1.4098100000000002,1.7456899999999997,1.3971800000000023,1.2218000000000018,0.8309599999999975,2.448920000000001,1.1586099999999995,2.671249999999999,1.6014100000000013,1.2978500000000004,0.7589799999999975,1.6263299999999994,1.2267499999999991,2.6992600000000007,0.7633200000000002,1.7044399999999982,2.2171800000000026,0.9690300000000001,1.6025400000000012,2.2388800000000018,2.070140000000002,1.1570200000000028,1.0151199999999996,1.5432799999999993,0.7617200000000004,1.6872599999999984,0.8077900000000007,1.7985599999999984,1.5095800000000015,0.4442800000000027,1.1407199999999982,1.8040500000000002,0.9563699999999997,1.2931099999999986,2.3997899999999994,1.0919899999999991,1.7748199999999983,0.9748699999999992,0.6548799999999986,1.5649300000000004,1.1357800000000005,2.262699999999999,0.6450699999999969,0.6720999999999968,2.1843699999999977,1.7386599999999994,1.7941500000000001,1.9146300000000007,1.312269999999998,1.7168799999999997,1.498350000000002,2.107039999999998,1.5806499999999986,0.7642099999999985,0.8460600000000014,0.9829900000000009,1.39058,3.5356699999999996,1.1279900000000005,0.7881399999999985,1.5297899999999984,1.4721699999999984,2.2315199999999997,1.810839999999999,0.8932299999999991,1.1878600000000006,0.9508599999999987,0.8452400000000004,1.9465999999999983,1.6340299999999992,1.2502199999999988,1.6216000000000008,0.8372300000000017,2.21969,1.3845099999999988,1.1004799999999975,2.1825200000000002,1.6125900000000009,1.4841100000000012,0.8202999999999996,1.5219799999999992,2.7187300000000008,0.5732999999999997,2.40728,1.371769999999998,0.7439099999999996,1.4340900000000012,0.8718299999999992,1.3630400000000016,1.0597999999999992,1.4897100000000023,4.6408999999999985,1.0149899999999974,0.7828300000000006,1.0119000000000007,2.467320000000001,1.0279900000000026,2.04674,2.0758599999999987,1.5498900000000013,1.4737299999999998,1.3458100000000002,1.6464299999999987,2.3311600000000006,0.799190000000003,1.232800000000001,1.1913300000000007,0.8768200000000022,2.22532,1.388099999999998,1.4783100000000005,1.639710000000001,2.539480000000001,1.3272600000000025,1.07273,1.0144299999999973,1.1787099999999988,1.191279999999999,1.3245500000000021,3.0418999999999983,1.2991400000000013,1.6557599999999972,2.177669999999999,1.5714199999999998,1.0548900000000003,1.5399200000000022,0.9297399999999989,1.8946700000000014,1.8541699999999999,1.270859999999999,2.0408399999999993,1.713630000000002,1.392479999999999,1.2430899999999987,2.461039999999999,0.7796500000000002,1.0689600000000006,1.0583400000000012,1.2613999999999983,1.72119,1.6994899999999973,1.9674600000000027,1.699810000000003,1.3860300000000016,1.667460000000002,1.6717700000000022,1.8973499999999994,2.5054399999999983,1.95843,1.3489700000000013,2.2310100000000013,1.0984999999999978,1.0622499999999988,1.1712200000000017,1.6288000000000018,2.737449999999999,0.934070000000002,1.053410000000003,1.4537699999999987,1.6222700000000003,1.8877400000000009,1.4823400000000007,2.780630000000002,1.4500600000000006,1.1611399999999996,2.21396,2.5652700000000017,2.2075100000000027,1.334579999999999,0.8464799999999997,1.5224500000000027,1.2292299999999976,1.1309199999999997,1.2559600000000017,1.4765500000000014,2.9415200000000006,1.5997500000000002,0.4998900000000006,1.296129999999998,1.3320000000000007,1.59178,1.7525399999999998,1.13157,1.935459999999999,1.5351600000000012,1.4470799999999997,2.0757499999999993,0.990079999999999,1.9362699999999968,3.2512100000000004,2.99503,2.443360000000002,1.8973399999999998,2.21706,1.8404799999999994,2.14612,1.6587700000000005,1.1552100000000003,1.296289999999999,2.1238799999999998,2.099779999999999,1.5957000000000008,1.1447600000000016,2.0726900000000015,1.18121,3.656519999999997,2.7743899999999986,2.1624300000000005,1.796599999999998,1.4483800000000002,1.9786099999999998,1.62031,0.9152799999999992,1.167340000000003,0.6963800000000013,2.11946,1.16967,1.6045899999999982,1.5270399999999995,1.1529300000000013,2.521799999999999,1.1579999999999977,1.8687299999999993,1.013770000000001,1.7420000000000009,1.3706499999999977,1.7436900000000009,1.4544799999999967,1.6252099999999992,1.7935999999999979,1.4395900000000026,0.9132099999999994,1.5034699999999965,1.8079800000000006,1.8348499999999994,1.9367800000000024,1.6023599999999973,1.06616,1.271130000000003,0.8734700000000011,2.6275799999999983,0.65381,1.6299199999999985,1.5285899999999977,2.4983400000000024,0.8372799999999998,2.0878799999999984,1.0468600000000023,1.3728000000000016,1.0362399999999994,1.3579800000000013,2.35989,1.0570599999999999,0.7560299999999991,1.637120000000003,1.115169999999999,1.791170000000001,1.090609999999998,1.5183099999999996,0.652940000000001,1.6359300000000019,1.1480299999999986,0.27623000000000175,2.1779100000000007,3.2631600000000027,1.9433299999999996,2.3756999999999984,0.8965500000000013,1.0833699999999986,1.7636800000000008,1.5423800000000014,1.7318599999999975,2.1288800000000023,1.9946300000000008,1.3176699999999997,2.308970000000002,1.4700699999999998,1.3682100000000013,2.275359999999999,1.4774299999999982,0.8692400000000013,2.0807900000000004,1.7543799999999976,2.2462799999999987,2.859930000000002,2.1050900000000006,1.7457799999999999,2.466850000000001,2.7789199999999994,1.5796200000000002,2.542719999999999,1.60839,1.9654799999999994,1.5391200000000005,1.5081900000000008,1.405339999999999,0.2831299999999999,1.5706799999999994,1.244130000000002,1.2742000000000004,1.555489999999999,1.4857499999999995,1.2748999999999988,1.1714200000000012,1.1992900000000013,1.2569499999999998,1.9646299999999997,1.2563199999999988,1.5078299999999984,1.3530200000000008,1.021650000000001,1.7325099999999978,2.19323,2.1921999999999997,1.9351199999999977,1.0975000000000001,1.6160999999999994,1.4326000000000008,2.434720000000002,1.3291700000000013,2.2011900000000004,1.4733399999999968,0.41392000000000095,1.7847299999999997,1.5174899999999987,1.5756599999999992,2.348290000000002,1.041830000000001,1.0269000000000013,1.188769999999998,1.5617800000000024,1.6732099999999974,2.02083,3.36773,1.0381699999999974,1.1323499999999989,1.0269399999999997,2.349309999999999,1.1937499999999979,3.7972199999999994,1.019120000000001,2.2439099999999996,1.3369600000000013,2.030149999999999,0.8374400000000009,1.934660000000001,1.9708499999999987,1.3436000000000021,2.0934500000000007,1.385110000000001,1.3340399999999981,1.2353400000000008,1.1477499999999985,1.0378900000000009,2.067899999999998,2.093250000000001,1.26849,1.1222100000000026,1.9295799999999979,1.7180200000000028,1.0474400000000017,1.9872200000000007,1.7840200000000017,1.04786,1.8919099999999993,1.0123299999999986,1.1382400000000032,0.8608399999999996,0.8024400000000007,2.048259999999999,0.2218599999999995,1.1742899999999992,1.0466300000000004,1.2511200000000002,0.910890000000002,1.7797,0.9266499999999986,1.4673900000000017,1.5701099999999997,1.64818,1.9572400000000023,1.813480000000002,1.9591399999999979,1.1453099999999985,1.5375200000000007,1.1588700000000003,0.7391099999999966,1.0396099999999997,1.0411500000000018,1.1602999999999994,1.9516899999999993,1.7456800000000001,1.51361,1.7168099999999988,1.5492299999999979],\"yaxis\":\"y\",\"type\":\"scatter\"},{\"hovertemplate\":\"Category=Star<br>Magnitude (r)=%{x}<br>psfMag-modelMag=%{y}<extra></extra>\",\"legendgroup\":\"Star\",\"marker\":{\"color\":\"#EF553B\",\"symbol\":\"diamond\",\"size\":4},\"mode\":\"markers\",\"name\":\"Star\",\"orientation\":\"v\",\"showlegend\":true,\"x\":[18.91024,17.41087,18.25972,19.03688,18.2161,17.63342,17.1965,16.78753,17.65035,16.95576,17.21675,17.95611,19.57245,17.63933,15.8263,18.06654,19.32869,17.92718,19.13528,18.59558,17.62424,16.94509,19.36049,19.81885,16.23324,15.74055,18.69658,20.65701,19.83199,19.90992,19.17928,17.41557,20.09403,18.44631,19.71119,18.85324,15.22678,18.78693,20.4282,16.29301,17.7929,17.10448,19.04765,15.82113,17.05992,20.1261,19.83149,18.87251,15.26631,17.75325,16.27093,19.40263,19.23538,19.45119,18.58751,17.28604,18.4479,15.51335,19.32617,17.07307,20.17124,18.82497,15.90713,18.73803,18.65659,18.18965,20.1902,19.41028,19.10339,19.52895,19.35394,17.95434,17.51997,17.83836,20.18345,17.56592,18.60116,19.44209,16.31894,18.78837,15.40078,18.13281,18.50702,16.99448,19.01052,15.44519,20.26193,16.69511,15.91882,17.65939,20.50345,16.84312,18.80783,17.68767,19.0464,18.84994,20.02118,14.96503,20.0131,16.86655,15.08468,20.57936,19.86976,17.53139,20.08442,16.00353,17.66544,17.67524,18.92986,17.38368,20.349,16.39063,19.26371,19.95872,19.80888,20.59702,17.60102,18.30876,20.09334,18.55327,18.99532,18.56675,17.02478,19.742,18.12155,19.06148,16.81072,20.04303,18.29914,16.78635,19.25914,19.97697,17.81317,16.42907,19.38646,16.70097,20.00305,17.08751,17.35493,20.39348,15.8997,16.26392,16.55914,15.9853,19.02557,20.24555,18.13098,15.85586,15.82507,16.46263,17.76063,17.90835,17.7717,18.07553,17.68857,17.14221,18.86178,15.82917,18.3606,18.06853,18.12589,20.83311,20.30689,18.45445,19.04782,17.77604,19.46805,18.58992,17.27567,18.1502,17.81578,20.33833,17.71179,19.68389,20.53545,18.15258,16.27965,19.43785,18.69801,17.66888,20.25124,19.33811,19.8937,18.07986,19.41657,16.61585,18.18511,17.99322,18.64155,19.84919,18.39212,20.08633,16.81989,18.0259,19.94485,20.09976,18.78247,16.98539,18.65887,19.62951,16.77036,18.95217,16.96502,20.05707,16.74828,17.41431,17.61815,19.47491,17.84023,18.81907,19.75681,20.26079,16.5558,18.22721,15.49182,18.29908,17.35028,20.60558,17.95588,15.32209,20.09449,18.04223,16.78793,17.94602,18.30398,19.26833,18.12807,18.79163,19.09156,16.74549,16.5426,17.72017,16.98291,18.1913,16.28031,17.82646,16.05505,18.9549,17.71707,19.94845,18.06201,19.29965,18.98495,16.86424,19.73126,19.69501,18.07825,20.94894,15.30887,17.84929,17.2896,19.54331,18.25298,18.82627,17.09222,20.04907,19.71211,18.51051,18.62693,20.39442,19.3439,20.33337,17.60505,19.63529,20.06394,17.3503,18.59369,19.63253,20.44104,19.53606,19.75248,20.30054,17.29694,18.22733,18.09952,20.45063,15.81236,19.1239,17.35638,15.14193,20.7652,20.17731,17.69979,20.35375,16.82673,17.88141,20.96626,20.06947,18.29868,19.20683,18.12349,20.31853,17.81542,17.26847,18.96065,16.6006,19.06163,17.44193,18.16402,18.17122,20.44944,17.83965,16.61982,18.58999,19.1246,19.85369,18.9493,19.0245,19.42481,19.41781,16.99613,17.53582,16.09369,19.15616,17.64826,17.34531,18.93355,20.27313,19.10264,18.25774,17.40353,19.4826,17.45105,19.13227,16.41023,18.42105,18.65603,17.69707,17.69929,19.81038,20.54245,18.77801,15.32972,20.23911,17.55506,16.84538,16.26763,19.06642,18.88224,19.85784,20.00862,20.1112,17.63641,17.41552,16.98464,15.04401,19.41075,20.53554,18.48003,20.09819,16.51175,17.15686,17.58255,15.12686,18.85015,17.7083,18.10288,17.75817,19.8397,18.87818,19.87738,18.66039,17.23203,18.0134,17.7187,18.11883,15.75071,20.12681,19.98131,18.68647,19.87248,16.22578,16.70967,16.36483,17.7331,17.90085,18.22667,19.35588,16.38655,19.0527,15.10096,19.33574,19.04595,17.9861,19.95922,19.5824,19.94118,17.37426,17.73451,18.30038,17.51017,16.93817,16.5302,17.41644,19.31244,19.7951,20.56974,19.43582,20.07915,20.07014,18.14626,16.50939,17.74119,19.74,20.19536,17.83517,18.1659,20.30984,16.38114,19.48195,16.92569,18.57961,18.59318,19.78327,18.00727,16.92628,17.81852,20.41713,16.94688,18.00098,16.36293,15.0734,17.83372,19.54368,20.77082,17.95555,20.44408,17.97583,19.75397,15.25489,19.988,15.6636],\"xaxis\":\"x\",\"y\":[0.03556999999999988,-0.0012599999999984846,0.012269999999997339,-0.0021500000000003183,0.022410000000000707,0.008879999999997779,0.02804000000000073,-0.043189999999999173,0.0025100000000009004,0.006709999999998217,-0.0016500000000014836,0.00478999999999985,0.013030000000000541,-0.01688000000000045,0.04949000000000048,0.0002500000000011937,-0.00840000000000174,0.014649999999999608,0.01011999999999702,0.0013999999999967372,0.003750000000000142,0.01355999999999824,0.01184000000000296,0.018069999999998032,-0.00019999999999953388,-0.007979999999999876,0.013980000000000103,0.04607000000000028,0.021699999999999164,0.010069999999998913,0.01477000000000217,0.0015200000000028524,0.019189999999998264,-0.009450000000001069,0.04180000000000206,-0.0007200000000011642,-0.002509999999999124,0.010619999999999408,0.054710000000000036,-5.999999999772854e-05,0.012019999999999698,0.019280000000001962,-0.01256000000000057,-0.016130000000000422,0.010859999999997427,0.11162999999999812,0.002660000000002327,0.020870000000002165,-0.004010000000000957,0.5367800000000003,-0.010079999999998535,0.008639999999999759,-0.0029199999999995896,-0.0033600000000006958,-0.0009700000000023579,0.015080000000001093,-0.0071499999999993236,0.010289999999999466,0.0194599999999987,0.024619999999998754,0.03316999999999837,0.0009799999999984266,0.003429999999999822,-0.0024999999999977263,0.019059999999999633,-0.011189999999999145,0.008849999999998914,0.014900000000000801,0.007749999999997925,-0.004079999999998307,-0.00846000000000302,0.0022500000000000853,0.005819999999999936,0.0071499999999993236,0.004239999999999355,-0.0021599999999999397,0.015699999999998937,0.00017000000000066962,-0.0019700000000000273,-0.005160000000000053,0.010960000000000747,0.0041700000000020054,-0.00864999999999938,-0.0065099999999986835,0.02160999999999902,0.0003799999999998249,0.00014000000000180535,0.005919999999999703,0.000740000000000407,-0.005469999999998976,0.18771999999999878,0.006030000000002644,-0.004159999999998831,0.0024999999999977263,0.012770000000003279,0.0031399999999983663,0.0005500000000004945,0.00016999999999889326,0.02224999999999966,-0.012049999999998562,0.0072499999999990905,0.11143999999999821,0.0005799999999993588,-0.021669999999996747,-0.011580000000002144,-0.010200000000001097,-0.006859999999999644,0.9466400000000021,-0.00018999999999991246,0.013550000000002171,0.012630000000001473,-0.0015900000000002024,0.0010100000000008436,-0.021570000000000533,0.03222000000000236,-0.0041700000000020054,-0.018709999999998672,-0.01442000000000121,0.04217999999999833,0.01927999999999841,0.01261000000000223,-0.0055200000000006355,-0.005579999999998364,-0.006430000000001712,-0.008639999999999759,0.02563999999999922,-0.00846999999999909,0.05438999999999794,-0.026230000000001752,0.0027400000000028513,-0.003989999999998162,-0.00917000000000101,0.020220000000001903,0.057449999999999335,-0.005399999999998073,-0.01705000000000112,-0.007340000000002789,0.00817999999999941,0.0120900000000006,0.044010000000000105,-0.005719999999998393,-0.018299999999999983,0.008680000000001797,-0.02278000000000091,0.09354000000000084,0.023270000000000124,0.016459999999998587,0.05483000000000082,0.037670000000000314,-0.06470000000000198,-0.005720000000000169,-0.034720000000000084,0.01332000000000022,0.021809999999998553,-0.04131999999999891,0.03887000000000285,0.020690000000001874,0.02224999999999966,-0.01594000000000051,-0.0060499999999983345,-0.005189999999998918,-0.006040000000002266,-0.0066099999999984504,0.0035799999999994725,-0.007870000000000488,0.006960000000002964,0.005069999999999908,-0.002420000000000755,-0.007910000000002526,0.00070999999999799,0.002269999999999328,0.03112000000000137,0.004380000000001161,0.0003299999999981651,-0.0008400000000001739,0.020699999999997942,-0.03464999999999918,-0.0032800000000001717,0.02494000000000085,0.011179999999999524,0.01255000000000095,0.013149999999999551,0.16444000000000258,0.00916000000000139,0.02120000000000033,0.03263000000000105,0.002619999999996736,0.005039999999997491,0.016440000000002897,0.017250000000000654,0.014840000000003073,-0.007190000000001362,0.007960000000000633,0.00043000000000148475,0.07750000000000057,0.03300000000000125,0.06539000000000073,0.0037900000000021805,-0.005179999999999296,-0.0003600000000005821,-0.010950000000001125,0.005449999999999733,0.0161200000000008,0.0146000000000015,0.006180000000000518,0.005639999999999645,0.0001600000000010482,0.001120000000000232,0.018000000000000682,-0.005120000000001568,0.010849999999997806,0.014620000000000744,-0.043420000000001124,-0.020609999999997797,0.005559999999999121,0.010989999999999611,0.005319999999997549,0.05403000000000091,0.007519999999999527,0.0012900000000009015,0.030300000000000438,0.005330000000000723,-0.0040399999999998215,0.0016800000000003479,0.011179999999999524,0.004240000000002908,0.0066099999999984504,0.0021199999999979013,0.013539999999998997,-0.0008499999999997954,0.014679999999998472,0.005050000000000665,0.008779999999998012,-0.019659999999998234,-0.014980000000001326,-0.0010300000000000864,-0.002100000000002211,0.0012800000000012801,0.019069999999999254,-0.0011399999999994748,0.011019999999998475,0.014060000000000628,-0.01969000000000065,-0.004479999999997375,-0.009439999999997895,0.01600000000000179,-0.013180000000001968,0.3807399999999994,0.00522999999999918,-0.004829999999998336,-0.0035300000000013654,0.006529999999997926,0.0016199999999990666,0.00905999999999807,-0.005670000000002062,0.01571999999999818,-0.014929999999999666,0.026489999999999014,-0.006370000000000431,0.02237999999999829,-0.007110000000000838,-0.015359999999997598,0.0714100000000002,0.04312999999999789,-0.02050999999999803,-9.999999999621423e-06,-0.002340000000000231,-0.0004999999999988347,-0.014570000000002636,0.008259999999999934,0.002450000000003172,0.013669999999997628,0.001660000000001105,-0.010619999999999408,0.008160000000000167,0.07634999999999792,0.07986999999999966,0.0025600000000025602,-0.0020800000000029684,-0.01191999999999993,0.026979999999998228,0.0013199999999997658,0.006740000000000634,0.04818999999999818,-0.020300000000002427,-0.013629999999999143,0.011340000000000572,-0.0024999999999977263,0.0065099999999986835,0.02465000000000117,0.014140000000001152,0.03100000000000236,-0.0019799999999996487,-0.004529999999999035,-0.0014700000000011926,0.016020000000001033,0.13334000000000046,-0.02255999999999858,-0.00887000000000171,0.05875999999999948,-0.0113999999999983,0.030680000000000263,-0.005269999999999442,-0.003920000000000812,0.0946499999999979,-0.004310000000000258,-0.0062400000000018,0.010870000000000601,0.031340000000000146,0.002880000000001104,0.00899000000000072,0.005699999999997374,0.1819000000000024,0.0017999999999993577,0.027409999999999712,0.00070999999999799,-0.002480000000002036,0.005580000000001917,0.059499999999999886,0.024610000000002685,0.02103999999999928,-0.004509999999999792,-0.0017699999999969407,-0.06764999999999688,0.0032300000000020646,-0.0024399999999999977,0.1096199999999996,0.019719999999999516,-0.003520000000001744,0.018130000000002866,0.06676000000000215,-0.015219999999999345,0.004099999999999326,0.0025399999999997647,0.010400000000000631,0.01162000000000063,0.021889999999999077,0.00630999999999915,-0.004110000000000724,0.19189000000000078,-0.005649999999999267,0.030770000000000408,0.007209999999997052,0.08418999999999954,0.0007200000000011642,-0.021539999999999893,-0.013169999999998794,0.03715000000000046,-0.0021500000000003183,0.05799000000000021,-0.0022999999999981924,0.0031399999999983663,-0.0161200000000008,0.010119999999998797,0.019729999999999137,-0.0015900000000002024,0.014739999999999753,-0.018249999999998323,-0.020520000000001204,0.0007899999999985141,0.016610000000000014,0.010919999999998709,0.021649999999997505,0.00922999999999874,0.01162000000000063,0.005230000000000956,-0.014020000000000366,0.026900000000001256,0.011119999999998242,0.1260399999999997,-0.007059999999999178,-0.023270000000000124,-0.018629999999998148,0.026849999999999596,-0.010290000000001243,-0.013789999999996638,-0.0033799999999999386,-0.020640000000000214,0.017569999999999197,0.013219999999996901,0.0009599999999991837,0.01600999999999786,0.021379999999997068,0.006160000000001276,0.025350000000003092,0.002289999999998571,-0.002729999999999677,-0.03265999999999991,-0.005330000000000723,0.01886999999999972,0.012930000000000774,0.005500000000001393,0.07621999999999929,0.0012899999999973488,0.009360000000000923,0.012639999999997542,-0.012609999999998678,-0.0022500000000000853,0.020640000000000214,-0.0076799999999970225,0.0010999999999974364,-0.019310000000000827,0.0031199999999991235,0.01541000000000281,0.0024599999999992406,-0.00017000000000066962,0.014739999999999753,-0.01051000000000002,-0.0004899999999992133,-0.008330000000000837,-0.01933000000000007,0.010640000000002203,0.014089999999999492,0.17007999999999868,0.0005700000000032901,-0.042619999999999436,0.006109999999999616,0.03066000000000102,0.013159999999999172,0.03935000000000244,-0.011659999999999116,0.010400000000000631,0.02541000000000082,0.03433000000000064,-0.0164200000000001,-0.002569999999998629,-0.020749999999999602,-0.0027599999999985414,0.02604000000000184,0.012120000000001241,0.037990000000000634,-0.02321000000000062],\"yaxis\":\"y\",\"type\":\"scatter\"}],                        {\"template\":{\"data\":{\"histogram2dcontour\":[{\"type\":\"histogram2dcontour\",\"colorbar\":{\"outlinewidth\":0,\"ticks\":\"\"},\"colorscale\":[[0.0,\"#0d0887\"],[0.1111111111111111,\"#46039f\"],[0.2222222222222222,\"#7201a8\"],[0.3333333333333333,\"#9c179e\"],[0.4444444444444444,\"#bd3786\"],[0.5555555555555556,\"#d8576b\"],[0.6666666666666666,\"#ed7953\"],[0.7777777777777778,\"#fb9f3a\"],[0.8888888888888888,\"#fdca26\"],[1.0,\"#f0f921\"]]}],\"choropleth\":[{\"type\":\"choropleth\",\"colorbar\":{\"outlinewidth\":0,\"ticks\":\"\"}}],\"histogram2d\":[{\"type\":\"histogram2d\",\"colorbar\":{\"outlinewidth\":0,\"ticks\":\"\"},\"colorscale\":[[0.0,\"#0d0887\"],[0.1111111111111111,\"#46039f\"],[0.2222222222222222,\"#7201a8\"],[0.3333333333333333,\"#9c179e\"],[0.4444444444444444,\"#bd3786\"],[0.5555555555555556,\"#d8576b\"],[0.6666666666666666,\"#ed7953\"],[0.7777777777777778,\"#fb9f3a\"],[0.8888888888888888,\"#fdca26\"],[1.0,\"#f0f921\"]]}],\"heatmap\":[{\"type\":\"heatmap\",\"colorbar\":{\"outlinewidth\":0,\"ticks\":\"\"},\"colorscale\":[[0.0,\"#0d0887\"],[0.1111111111111111,\"#46039f\"],[0.2222222222222222,\"#7201a8\"],[0.3333333333333333,\"#9c179e\"],[0.4444444444444444,\"#bd3786\"],[0.5555555555555556,\"#d8576b\"],[0.6666666666666666,\"#ed7953\"],[0.7777777777777778,\"#fb9f3a\"],[0.8888888888888888,\"#fdca26\"],[1.0,\"#f0f921\"]]}],\"heatmapgl\":[{\"type\":\"heatmapgl\",\"colorbar\":{\"outlinewidth\":0,\"ticks\":\"\"},\"colorscale\":[[0.0,\"#0d0887\"],[0.1111111111111111,\"#46039f\"],[0.2222222222222222,\"#7201a8\"],[0.3333333333333333,\"#9c179e\"],[0.4444444444444444,\"#bd3786\"],[0.5555555555555556,\"#d8576b\"],[0.6666666666666666,\"#ed7953\"],[0.7777777777777778,\"#fb9f3a\"],[0.8888888888888888,\"#fdca26\"],[1.0,\"#f0f921\"]]}],\"contourcarpet\":[{\"type\":\"contourcarpet\",\"colorbar\":{\"outlinewidth\":0,\"ticks\":\"\"}}],\"contour\":[{\"type\":\"contour\",\"colorbar\":{\"outlinewidth\":0,\"ticks\":\"\"},\"colorscale\":[[0.0,\"#0d0887\"],[0.1111111111111111,\"#46039f\"],[0.2222222222222222,\"#7201a8\"],[0.3333333333333333,\"#9c179e\"],[0.4444444444444444,\"#bd3786\"],[0.5555555555555556,\"#d8576b\"],[0.6666666666666666,\"#ed7953\"],[0.7777777777777778,\"#fb9f3a\"],[0.8888888888888888,\"#fdca26\"],[1.0,\"#f0f921\"]]}],\"surface\":[{\"type\":\"surface\",\"colorbar\":{\"outlinewidth\":0,\"ticks\":\"\"},\"colorscale\":[[0.0,\"#0d0887\"],[0.1111111111111111,\"#46039f\"],[0.2222222222222222,\"#7201a8\"],[0.3333333333333333,\"#9c179e\"],[0.4444444444444444,\"#bd3786\"],[0.5555555555555556,\"#d8576b\"],[0.6666666666666666,\"#ed7953\"],[0.7777777777777778,\"#fb9f3a\"],[0.8888888888888888,\"#fdca26\"],[1.0,\"#f0f921\"]]}],\"mesh3d\":[{\"type\":\"mesh3d\",\"colorbar\":{\"outlinewidth\":0,\"ticks\":\"\"}}],\"scatter\":[{\"fillpattern\":{\"fillmode\":\"overlay\",\"size\":10,\"solidity\":0.2},\"type\":\"scatter\"}],\"parcoords\":[{\"type\":\"parcoords\",\"line\":{\"colorbar\":{\"outlinewidth\":0,\"ticks\":\"\"}}}],\"scatterpolargl\":[{\"type\":\"scatterpolargl\",\"marker\":{\"colorbar\":{\"outlinewidth\":0,\"ticks\":\"\"}}}],\"bar\":[{\"error_x\":{\"color\":\"#2a3f5f\"},\"error_y\":{\"color\":\"#2a3f5f\"},\"marker\":{\"line\":{\"color\":\"#E5ECF6\",\"width\":0.5},\"pattern\":{\"fillmode\":\"overlay\",\"size\":10,\"solidity\":0.2}},\"type\":\"bar\"}],\"scattergeo\":[{\"type\":\"scattergeo\",\"marker\":{\"colorbar\":{\"outlinewidth\":0,\"ticks\":\"\"}}}],\"scatterpolar\":[{\"type\":\"scatterpolar\",\"marker\":{\"colorbar\":{\"outlinewidth\":0,\"ticks\":\"\"}}}],\"histogram\":[{\"marker\":{\"pattern\":{\"fillmode\":\"overlay\",\"size\":10,\"solidity\":0.2}},\"type\":\"histogram\"}],\"scattergl\":[{\"type\":\"scattergl\",\"marker\":{\"colorbar\":{\"outlinewidth\":0,\"ticks\":\"\"}}}],\"scatter3d\":[{\"type\":\"scatter3d\",\"line\":{\"colorbar\":{\"outlinewidth\":0,\"ticks\":\"\"}},\"marker\":{\"colorbar\":{\"outlinewidth\":0,\"ticks\":\"\"}}}],\"scattermapbox\":[{\"type\":\"scattermapbox\",\"marker\":{\"colorbar\":{\"outlinewidth\":0,\"ticks\":\"\"}}}],\"scatterternary\":[{\"type\":\"scatterternary\",\"marker\":{\"colorbar\":{\"outlinewidth\":0,\"ticks\":\"\"}}}],\"scattercarpet\":[{\"type\":\"scattercarpet\",\"marker\":{\"colorbar\":{\"outlinewidth\":0,\"ticks\":\"\"}}}],\"carpet\":[{\"aaxis\":{\"endlinecolor\":\"#2a3f5f\",\"gridcolor\":\"white\",\"linecolor\":\"white\",\"minorgridcolor\":\"white\",\"startlinecolor\":\"#2a3f5f\"},\"baxis\":{\"endlinecolor\":\"#2a3f5f\",\"gridcolor\":\"white\",\"linecolor\":\"white\",\"minorgridcolor\":\"white\",\"startlinecolor\":\"#2a3f5f\"},\"type\":\"carpet\"}],\"table\":[{\"cells\":{\"fill\":{\"color\":\"#EBF0F8\"},\"line\":{\"color\":\"white\"}},\"header\":{\"fill\":{\"color\":\"#C8D4E3\"},\"line\":{\"color\":\"white\"}},\"type\":\"table\"}],\"barpolar\":[{\"marker\":{\"line\":{\"color\":\"#E5ECF6\",\"width\":0.5},\"pattern\":{\"fillmode\":\"overlay\",\"size\":10,\"solidity\":0.2}},\"type\":\"barpolar\"}],\"pie\":[{\"automargin\":true,\"type\":\"pie\"}]},\"layout\":{\"autotypenumbers\":\"strict\",\"colorway\":[\"#636efa\",\"#EF553B\",\"#00cc96\",\"#ab63fa\",\"#FFA15A\",\"#19d3f3\",\"#FF6692\",\"#B6E880\",\"#FF97FF\",\"#FECB52\"],\"font\":{\"color\":\"#2a3f5f\"},\"hovermode\":\"closest\",\"hoverlabel\":{\"align\":\"left\"},\"paper_bgcolor\":\"white\",\"plot_bgcolor\":\"#E5ECF6\",\"polar\":{\"bgcolor\":\"#E5ECF6\",\"angularaxis\":{\"gridcolor\":\"white\",\"linecolor\":\"white\",\"ticks\":\"\"},\"radialaxis\":{\"gridcolor\":\"white\",\"linecolor\":\"white\",\"ticks\":\"\"}},\"ternary\":{\"bgcolor\":\"#E5ECF6\",\"aaxis\":{\"gridcolor\":\"white\",\"linecolor\":\"white\",\"ticks\":\"\"},\"baxis\":{\"gridcolor\":\"white\",\"linecolor\":\"white\",\"ticks\":\"\"},\"caxis\":{\"gridcolor\":\"white\",\"linecolor\":\"white\",\"ticks\":\"\"}},\"coloraxis\":{\"colorbar\":{\"outlinewidth\":0,\"ticks\":\"\"}},\"colorscale\":{\"sequential\":[[0.0,\"#0d0887\"],[0.1111111111111111,\"#46039f\"],[0.2222222222222222,\"#7201a8\"],[0.3333333333333333,\"#9c179e\"],[0.4444444444444444,\"#bd3786\"],[0.5555555555555556,\"#d8576b\"],[0.6666666666666666,\"#ed7953\"],[0.7777777777777778,\"#fb9f3a\"],[0.8888888888888888,\"#fdca26\"],[1.0,\"#f0f921\"]],\"sequentialminus\":[[0.0,\"#0d0887\"],[0.1111111111111111,\"#46039f\"],[0.2222222222222222,\"#7201a8\"],[0.3333333333333333,\"#9c179e\"],[0.4444444444444444,\"#bd3786\"],[0.5555555555555556,\"#d8576b\"],[0.6666666666666666,\"#ed7953\"],[0.7777777777777778,\"#fb9f3a\"],[0.8888888888888888,\"#fdca26\"],[1.0,\"#f0f921\"]],\"diverging\":[[0,\"#8e0152\"],[0.1,\"#c51b7d\"],[0.2,\"#de77ae\"],[0.3,\"#f1b6da\"],[0.4,\"#fde0ef\"],[0.5,\"#f7f7f7\"],[0.6,\"#e6f5d0\"],[0.7,\"#b8e186\"],[0.8,\"#7fbc41\"],[0.9,\"#4d9221\"],[1,\"#276419\"]]},\"xaxis\":{\"gridcolor\":\"white\",\"linecolor\":\"white\",\"ticks\":\"\",\"title\":{\"standoff\":15},\"zerolinecolor\":\"white\",\"automargin\":true,\"zerolinewidth\":2},\"yaxis\":{\"gridcolor\":\"white\",\"linecolor\":\"white\",\"ticks\":\"\",\"title\":{\"standoff\":15},\"zerolinecolor\":\"white\",\"automargin\":true,\"zerolinewidth\":2},\"scene\":{\"xaxis\":{\"backgroundcolor\":\"#E5ECF6\",\"gridcolor\":\"white\",\"linecolor\":\"white\",\"showbackground\":true,\"ticks\":\"\",\"zerolinecolor\":\"white\",\"gridwidth\":2},\"yaxis\":{\"backgroundcolor\":\"#E5ECF6\",\"gridcolor\":\"white\",\"linecolor\":\"white\",\"showbackground\":true,\"ticks\":\"\",\"zerolinecolor\":\"white\",\"gridwidth\":2},\"zaxis\":{\"backgroundcolor\":\"#E5ECF6\",\"gridcolor\":\"white\",\"linecolor\":\"white\",\"showbackground\":true,\"ticks\":\"\",\"zerolinecolor\":\"white\",\"gridwidth\":2}},\"shapedefaults\":{\"line\":{\"color\":\"#2a3f5f\"}},\"annotationdefaults\":{\"arrowcolor\":\"#2a3f5f\",\"arrowhead\":0,\"arrowwidth\":1},\"geo\":{\"bgcolor\":\"white\",\"landcolor\":\"#E5ECF6\",\"subunitcolor\":\"white\",\"showland\":true,\"showlakes\":true,\"lakecolor\":\"white\"},\"title\":{\"x\":0.05},\"mapbox\":{\"style\":\"light\"}}},\"xaxis\":{\"anchor\":\"y\",\"domain\":[0.0,1.0],\"title\":{\"text\":\"Magnitude (r)\"}},\"yaxis\":{\"anchor\":\"x\",\"domain\":[0.0,1.0],\"title\":{\"text\":\"psfMag-modelMag\"}},\"legend\":{\"title\":{\"text\":\"Category\"},\"tracegroupgap\":0},\"title\":{\"text\":\"Difference between the point-spread function magnitude (psfMag) and <br>the model magnitude (modelMag) as a function of magnitude\"}},                        {\"responsive\": true}                    ).then(function(){\n",
       "                            \n",
       "var gd = document.getElementById('857a2314-a0ba-43d5-918d-c043821182f6');\n",
       "var x = new MutationObserver(function (mutations, observer) {{\n",
       "        var display = window.getComputedStyle(gd).display;\n",
       "        if (!display || display === 'none') {{\n",
       "            console.log([gd, 'removed!']);\n",
       "            Plotly.purge(gd);\n",
       "            observer.disconnect();\n",
       "        }}\n",
       "}});\n",
       "\n",
       "// Listen for the removal of the full notebook cells\n",
       "var notebookContainer = gd.closest('#notebook-container');\n",
       "if (notebookContainer) {{\n",
       "    x.observe(notebookContainer, {childList: true});\n",
       "}}\n",
       "\n",
       "// Listen for the clearing of the current output cell\n",
       "var outputEl = gd.closest('.output');\n",
       "if (outputEl) {{\n",
       "    x.observe(outputEl, {childList: true});\n",
       "}}\n",
       "\n",
       "                        })                };                });            </script>        </div>"
      ]
     },
     "metadata": {},
     "output_type": "display_data"
    }
   ],
   "source": [
    "ps.options.plotting.backend = \"plotly\"\n",
    "\n",
    "import plotly.graph_objects as go\n",
    "\n",
    "fig = train.sample(fraction=0.1, seed=5).to_pandas_on_spark().plot.scatter(\n",
    "    x=\"modelMag_r\",\n",
    "    y=\"psfModelDiff\",\n",
    "    color=\"obj_category\",\n",
    "    symbol=\"obj_category\",\n",
    "    title=\"Difference between the point-spread function magnitude (psfMag) and <br>the model magnitude (modelMag) as a function of magnitude\",\n",
    "    labels=dict(\n",
    "        modelMag_r=\"Magnitude (r)\",\n",
    "        psfModelDiff=\"psfMag-modelMag\",\n",
    "        obj_category=\"Category\",\n",
    "    ),\n",
    ")\n",
    "\n",
    "fig.update_traces(marker_size=4)"
   ]
  },
  {
   "cell_type": "markdown",
   "id": "67876f2b-15f8-46f8-9194-a856f22b5950",
   "metadata": {},
   "source": [
    "The magnitudes of stars that are closely accompanied by galaxies may be incorrect, and the use of supervised learning can help decrease the rate of misclassification. The distribution of object magnitudes, `modelMag_r`, in the training data is unimodal and skewed left, peaking in the range between $17.5-18$. "
   ]
  },
  {
   "cell_type": "code",
   "execution_count": 17,
   "id": "a883cf5b-bb68-4839-9262-074c13cd2cf3",
   "metadata": {},
   "outputs": [
    {
     "data": {
      "image/png": "[encoded data removed]",
      "text/plain": [
       "<Figure size 504x360 with 1 Axes>"
      ]
     },
     "metadata": {
      "needs_background": "light"
     },
     "output_type": "display_data"
    }
   ],
   "source": [
    "# Magnitude distribution\n",
    "# Using matplotlib because of a known bug in which plotly\n",
    "# does not display title, https://issues.apache.org/jira/browse/SPARK-37188\n",
    "plt.figure(figsize=(7, 5))\n",
    "plt.hist(train.to_pandas_on_spark().modelMag_r, bins=20)\n",
    "plt.xlabel(\"Magnitude (r)\")\n",
    "plt.title(\"Histogram of object magnitudes in the \\nSDSS data sample\")\n",
    "plt.grid(True)"
   ]
  },
  {
   "cell_type": "markdown",
   "id": "1415568f-9c86-4ff2-bb43-1452a10c16ba",
   "metadata": {},
   "source": [
    "Galaxies and stars have an average magnitude of 17.27 and 18.31, respectively. Since the magnitude scale is logarithmic, galaxies are approximately 2.6 times brighter than stars."
   ]
  },
  {
   "cell_type": "code",
   "execution_count": 97,
   "id": "9c0361ce-b04f-4acd-bfd2-a7e253d01a05",
   "metadata": {},
   "outputs": [
    {
     "data": {
      "text/html": [
       "<div>\n",
       "<style scoped>\n",
       "    .dataframe tbody tr th:only-of-type {\n",
       "        vertical-align: middle;\n",
       "    }\n",
       "\n",
       "    .dataframe tbody tr th {\n",
       "        vertical-align: top;\n",
       "    }\n",
       "\n",
       "    .dataframe thead th {\n",
       "        text-align: right;\n",
       "    }\n",
       "</style>\n",
       "<table border=\"1\" class=\"dataframe\">\n",
       "  <thead>\n",
       "    <tr style=\"text-align: right;\">\n",
       "      <th></th>\n",
       "      <th>obj_category</th>\n",
       "      <th>avg(modelMag_r)</th>\n",
       "      <th>min(modelMag_r)</th>\n",
       "      <th>max(modelMag_r)</th>\n",
       "      <th>stddev_samp(modelMag_r)</th>\n",
       "    </tr>\n",
       "  </thead>\n",
       "  <tbody>\n",
       "    <tr>\n",
       "      <th>0</th>\n",
       "      <td>Galaxy</td>\n",
       "      <td>17.290822</td>\n",
       "      <td>14.00007</td>\n",
       "      <td>20.99957</td>\n",
       "      <td>0.916101</td>\n",
       "    </tr>\n",
       "    <tr>\n",
       "      <th>1</th>\n",
       "      <td>Star</td>\n",
       "      <td>18.310017</td>\n",
       "      <td>14.16695</td>\n",
       "      <td>20.99920</td>\n",
       "      <td>1.384029</td>\n",
       "    </tr>\n",
       "  </tbody>\n",
       "</table>\n",
       "</div>"
      ],
      "text/plain": [
       "  obj_category  avg(modelMag_r)  min(modelMag_r)  max(modelMag_r)  stddev_samp(modelMag_r)\n",
       "0       Galaxy        17.290822         14.00007         20.99957                 0.916101\n",
       "1         Star        18.310017         14.16695         20.99920                 1.384029"
      ]
     },
     "execution_count": 97,
     "metadata": {},
     "output_type": "execute_result"
    }
   ],
   "source": [
    "from pyspark.sql.functions import max, mean, min, stddev\n",
    "\n",
    "# Group objects by category, and then\n",
    "# obtain basic statistical summaries for object magnitudes.\n",
    "# Convert to pandas-on-spark DataFrame for presentability\n",
    "train.groupby(\"obj_category\").agg(\n",
    "    mean(\"modelMag_r\"), min(\"modelMag_r\"), max(\"modelMag_r\"), stddev(\"modelMag_r\")\n",
    ").to_pandas_on_spark()"
   ]
  },
  {
   "cell_type": "markdown",
   "id": "e2caea67-3a1b-4bb9-a37f-a186d72ef819",
   "metadata": {},
   "source": [
    "<a id=\"modeling\"></a>\n",
    "# Modeling"
   ]
  },
  {
   "cell_type": "code",
   "execution_count": 48,
   "id": "4e422ddb-134e-4618-b547-3a7cb10d6dc3",
   "metadata": {},
   "outputs": [],
   "source": [
    "# Create our list of features\n",
    "\n",
    "col_list = train.select(\n",
    "    [\n",
    "        \"psfMag_r\",\n",
    "        \"modelMag_r\",\n",
    "        \"petroMag_r\",\n",
    "        \"fiberMag_r\",\n",
    "        \"petroRad_r\",\n",
    "        \"petroR50_r\",\n",
    "        \"petroR90_r\", \n",
    "        \"lnLStar_r\",\n",
    "        \"lnLExp_r\",\n",
    "        \"lnLDeV_r\",\n",
    "        \"mE1_r\",\n",
    "        \"mE2_r\",\n",
    "        \"mRrCc_r\",\n",
    "    ]\n",
    ").columns"
   ]
  },
  {
   "cell_type": "markdown",
   "id": "aeed1ec0-9887-41d5-bc26-e3b3dce4e4f0",
   "metadata": {},
   "source": [
    "## Set up transformations"
   ]
  },
  {
   "cell_type": "code",
   "execution_count": 49,
   "id": "34425a4e-99f1-436c-aae4-addff954533b",
   "metadata": {},
   "outputs": [],
   "source": [
    "from pyspark.ml.feature import Imputer\n",
    "\n",
    "imputer = Imputer(inputCols=col_list,\n",
    "                      outputCols=    [\n",
    "        \"psfMag_r_imp\",\n",
    "        \"modelMag_r_imp\",\n",
    "        \"petroMag_r_imp\",\n",
    "        \"fiberMag_r_imp\",\n",
    "        \"petroRad_r_imp\",\n",
    "        \"petroR50_r_imp\",\n",
    "        \"petroR90_r_imp\",\n",
    "        \"lnLStar_r_imp\",\n",
    "        \"lnLExp_r_imp\",\n",
    "        \"lnLDeV_r_imp\",\n",
    "        \"mE1_r_imp\",\n",
    "        \"mE2_r_imp\",\n",
    "        \"mRrCc_r_imp\",\n",
    "    ])"
   ]
  },
  {
   "cell_type": "code",
   "execution_count": 50,
   "id": "514a30a0-1a03-4e34-978b-34cf348066be",
   "metadata": {},
   "outputs": [],
   "source": [
    "features_list = [\n",
    "        \"psfMag_r_imp\",\n",
    "        \"modelMag_r_imp\",\n",
    "        \"petroMag_r_imp\",\n",
    "        \"fiberMag_r_imp\",\n",
    "        \"petroRad_r_imp\",\n",
    "        \"petroR50_r_imp\",\n",
    "        \"petroR90_r_imp\",\n",
    "        \"lnLStar_r_imp\",\n",
    "        \"lnLExp_r_imp\",\n",
    "        \"lnLDeV_r_imp\",\n",
    "        \"mE1_r_imp\",\n",
    "        \"mE2_r_imp\",\n",
    "        \"mRrCc_r_imp\",\n",
    "    ]"
   ]
  },
  {
   "cell_type": "code",
   "execution_count": 22,
   "id": "63e9a8a4-fe20-4cb2-85be-b05bc29269c4",
   "metadata": {},
   "outputs": [],
   "source": [
    "#from pyspark.ml.feature import SQLTransformer\n",
    "\n",
    "#sqlTrans = SQLTransformer(\n",
    "#    statement=\"SELECT psfMag_r, modelMag_r, petroMag_r, fiberMag_r, \\\n",
    "#                        petroRad_r, petroR50_r, petroR90_r, lnLStar_r, \\\n",
    "#                        lnLExp_r, lnLDeV_r, mE1_r, mE2_r, mRrCc_r, \\\n",
    "#                        type FROM __THIS__\"\n",
    "#)"
   ]
  },
  {
   "cell_type": "code",
   "execution_count": 51,
   "id": "bdd92c81-966c-4110-a051-ce8bdda52979",
   "metadata": {},
   "outputs": [],
   "source": [
    "from pyspark.ml import Pipeline\n",
    "from pyspark.ml.feature import StandardScaler, VectorAssembler\n",
    "\n",
    "assembler = VectorAssembler(inputCols=features_list, outputCol=\"features\")\n",
    "\n",
    "# scaler = StandardScaler(inputCol=\"unscaledFeatures\", outputCol=\"features\")"
   ]
  },
  {
   "cell_type": "markdown",
   "id": "320f296d-0921-41e0-b3a3-30b0893ae90e",
   "metadata": {},
   "source": [
    "## Logistic regression"
   ]
  },
  {
   "cell_type": "code",
   "execution_count": 52,
   "id": "28139721-83d0-4291-8e91-295fe020e6b9",
   "metadata": {},
   "outputs": [],
   "source": [
    "from pyspark.ml.feature import StringIndexer\n",
    "\n",
    "stringIndexer = StringIndexer(inputCol=\"obj_category\", outputCol=\"label\", handleInvalid=\"skip\")"
   ]
  },
  {
   "cell_type": "code",
   "execution_count": 53,
   "id": "6ced62c6-4bba-4c47-940e-d07f93a5ce5d",
   "metadata": {},
   "outputs": [],
   "source": [
    "from pyspark.ml.classification import LogisticRegression\n",
    "\n",
    "lr = LogisticRegression()"
   ]
  },
  {
   "cell_type": "markdown",
   "id": "3881bc72-ff7f-42c1-a62f-7999c6bf8bf1",
   "metadata": {},
   "source": [
    "The list of available logistic regression attributes in PySpark is available [here](https://spark.apache.org/docs/latest/api/python/reference/api/pyspark.ml.classification.LogisticRegression.html#pyspark.ml.classification.LogisticRegression.aggregationDepth)."
   ]
  },
  {
   "cell_type": "code",
   "execution_count": 56,
   "id": "5271121c-efd8-4b3c-a82f-9bdd208db6ca",
   "metadata": {},
   "outputs": [],
   "source": [
    "lr_pipeline = Pipeline(stages=[imputer, stringIndexer, assembler, lr])"
   ]
  },
  {
   "cell_type": "code",
   "execution_count": 57,
   "id": "f2b0d395-d3a6-44db-afef-b5db4a0c7fb3",
   "metadata": {},
   "outputs": [],
   "source": [
    "import numpy as np\n",
    "from pyspark.ml.evaluation import (\n",
    "    BinaryClassificationEvaluator,\n",
    "    MulticlassClassificationEvaluator,\n",
    ")\n",
    "from pyspark.ml.tuning import CrossValidator, ParamGridBuilder\n",
    "\n",
    "lr_ParamGrid = (\n",
    "    ParamGridBuilder()\n",
    "    .addGrid(lr.regParam, np.arange(0, 0.1, 0.01))\n",
    "    .addGrid(lr.elasticNetParam, [0, 1])\n",
    "    .build()\n",
    ")\n",
    "\n",
    "lr_evaluator = BinaryClassificationEvaluator(\n",
    "    labelCol=\"label\",                    \n",
    "    rawPredictionCol=\"rawPrediction\",      \n",
    "    metricName=\"areaUnderROC\",\n",
    ")\n",
    "\n",
    "lr_CrossVal = CrossValidator(\n",
    "    estimator=lr_pipeline,\n",
    "    estimatorParamMaps=lr_ParamGrid,\n",
    "    evaluator=lr_evaluator,\n",
    "    numFolds=3,\n",
    ")"
   ]
  },
  {
   "cell_type": "code",
   "execution_count": 58,
   "id": "8203083c-ea4f-46ae-b04d-24933dd492a9",
   "metadata": {},
   "outputs": [],
   "source": [
    "lr_CVModel = lr_CrossVal.fit(train)"
   ]
  },
  {
   "cell_type": "code",
   "execution_count": 59,
   "id": "9a7a6d24-e914-4de8-ae2e-f4d761eff3dc",
   "metadata": {},
   "outputs": [],
   "source": [
    "lr_Predictions = lr_CVModel.transform(test)"
   ]
  },
  {
   "cell_type": "code",
   "execution_count": 60,
   "id": "9ce69e6f-4095-4d6a-9b15-b698dadffad7",
   "metadata": {},
   "outputs": [
    {
     "name": "stdout",
     "output_type": "stream",
     "text": [
      "+----------+--------------------+--------------------+\n",
      "|prediction|       rawPrediction|         probability|\n",
      "+----------+--------------------+--------------------+\n",
      "|       0.0|[10.6977497079190...|[0.99997740478282...|\n",
      "|       0.0|[9.11171732144737...|[0.99988964715901...|\n",
      "|       0.0|[21.8943775091305...|[0.99999999968997...|\n",
      "+----------+--------------------+--------------------+\n",
      "only showing top 3 rows\n",
      "\n"
     ]
    }
   ],
   "source": [
    "lr_Predictions.select(\"prediction\", \"rawPrediction\", \"probability\").show(3, True)"
   ]
  },
  {
   "cell_type": "markdown",
   "id": "ec6d6b51-d829-4817-8d59-76952ac5b0b7",
   "metadata": {},
   "source": [
    "### Evaluating the logistic regression model"
   ]
  },
  {
   "cell_type": "markdown",
   "id": "e70edb21-2b7e-488f-9a3a-e95ffa6b8baf",
   "metadata": {},
   "source": [
    "A confusion matrix can contrast the results of the supervised training model against the true classifications of thr stellar objects. "
   ]
  },
  {
   "cell_type": "markdown",
   "id": "76e510b7-b649-4f1b-9b8e-ac0159f0a019",
   "metadata": {},
   "source": [
    "<div class=\"tg-wrap\"><table>\n",
    "<thead>\n",
    "  <tr>\n",
    "    <th rowspan=\"4\"><br><br><br><br>Label</th>\n",
    "    <th colspan=\"3\">&nbsp;&nbsp;&nbsp;&nbsp;&nbsp;&nbsp;&nbsp;Prediction</th>\n",
    "  </tr>\n",
    "  <tr>\n",
    "    <th></th>\n",
    "    <th>0</th>\n",
    "    <th>1</th>\n",
    "  </tr>\n",
    "  <tr>\n",
    "    <th>0</th>\n",
    "    <th>True negative</th>\n",
    "    <th>False positive</th>\n",
    "  </tr>\n",
    "  <tr>\n",
    "    <th>1</th>\n",
    "    <th>False negative</th>\n",
    "    <th>True positive</th>\n",
    "  </tr>\n",
    "</thead>\n",
    "<tbody>\n",
    "  <tr>\n",
    "    <td colspan=\"4\">Figure 1: The anatomy of a confusion matrix. </td>\n",
    "  </tr>\n",
    "</tbody>\n",
    "</table></div>"
   ]
  },
  {
   "cell_type": "code",
   "execution_count": 63,
   "id": "15a0c854-d490-41ab-8528-7a9b12a9cfd7",
   "metadata": {},
   "outputs": [
    {
     "name": "stdout",
     "output_type": "stream",
     "text": [
      "Logistic regression \n",
      "confusion matrix:\n",
      "+------------+-----+-----+\n",
      "|obj_category|  0.0|  1.0|\n",
      "+------------+-----+-----+\n",
      "|      Galaxy|26087|  286|\n",
      "|        Star|  123|24295|\n",
      "+------------+-----+-----+\n",
      "\n"
     ]
    }
   ],
   "source": [
    "# Create a confusion matrix for the logistic regression model\n",
    "print(\"Logistic regression \\nconfusion matrix:\")\n",
    "lr_Predictions.groupby(\"obj_category\").pivot(\"prediction\").count().show()"
   ]
  },
  {
   "cell_type": "code",
   "execution_count": 64,
   "id": "64c8f71e-568f-4fdf-836f-d647b9e958cb",
   "metadata": {},
   "outputs": [
    {
     "data": {
      "text/plain": [
       "0.9994149424041973"
      ]
     },
     "execution_count": 64,
     "metadata": {},
     "output_type": "execute_result"
    }
   ],
   "source": [
    "lr_evaluator.evaluate(lr_Predictions)"
   ]
  },
  {
   "cell_type": "code",
   "execution_count": 65,
   "id": "d947cd8f-2ddf-4f7f-b01c-3131dde48fea",
   "metadata": {},
   "outputs": [
    {
     "data": {
      "text/plain": [
       "910"
      ]
     },
     "execution_count": 65,
     "metadata": {},
     "output_type": "execute_result"
    }
   ],
   "source": [
    "lr_Predictions.filter(lrPredictions.modelMag_r >= 20.5).count()"
   ]
  },
  {
   "cell_type": "code",
   "execution_count": 66,
   "id": "03f7785b-0218-4f41-8319-8988974541f8",
   "metadata": {},
   "outputs": [
    {
     "name": "stdout",
     "output_type": "stream",
     "text": [
      "Accuracy: 0.9456341744084873\n"
     ]
    }
   ],
   "source": [
    "print(\n",
    "    \"Accuracy:\",\n",
    "    lr_evaluator.evaluate(\n",
    "        lr_Predictions.filter(lrPredictions.modelMag_r >= 20.5)\n",
    "    ),\n",
    ")"
   ]
  },
  {
   "cell_type": "code",
   "execution_count": 67,
   "id": "162933a5-9b05-4a0a-8e8f-11e34e042976",
   "metadata": {},
   "outputs": [
    {
     "name": "stdout",
     "output_type": "stream",
     "text": [
      "+------------------+-----+----------+\n",
      "|             objID|label|prediction|\n",
      "+------------------+-----+----------+\n",
      "|587726879410422590|  1.0|       0.0|\n",
      "|587724198279971122|  0.0|       1.0|\n",
      "|587727264349619714|  0.0|       1.0|\n",
      "|587724231569440810|  0.0|       1.0|\n",
      "|587726031179088000|  1.0|       0.0|\n",
      "+------------------+-----+----------+\n",
      "only showing top 5 rows\n",
      "\n"
     ]
    }
   ],
   "source": [
    "lr_Predictions.filter(\n",
    "    (lr_Predictions.modelMag_r >= 20.5)\n",
    "    & (lr_Predictions.label != lr_Predictions.prediction)\n",
    ").select([\"objID\", \"label\", \"prediction\"]).show(5)"
   ]
  },
  {
   "cell_type": "code",
   "execution_count": 58,
   "id": "af4e89b8-1b57-4aca-abdd-9dae1ce63f42",
   "metadata": {},
   "outputs": [
    {
     "data": {
      "text/html": [
       "<img src=\"http://skyservice.pha.jhu.edu/DR7/ImgCutout/getjpeg.aspx?ra=197.99224324&dec=-1.17760226&scale=0.2&width=200&height=200&opt=G\"/>"
      ],
      "text/plain": [
       "<IPython.core.display.Image object>"
      ]
     },
     "execution_count": 58,
     "metadata": {},
     "output_type": "execute_result"
    }
   ],
   "source": [
    "from IPython.core.display import HTML\n",
    "from IPython.display import Image\n",
    "\n",
    "Image(\n",
    "    url=\"http://skyservice.pha.jhu.edu/DR7/ImgCutout/getjpeg.aspx?ra=197.99224324&dec=-1.17760226&scale=0.2&width=200&height=200&opt=G\"\n",
    ")"
   ]
  },
  {
   "cell_type": "markdown",
   "id": "c9f900d6-9720-4003-bd78-13c014574f58",
   "metadata": {},
   "source": [
    "## Random forest classifier"
   ]
  },
  {
   "cell_type": "code",
   "execution_count": 37,
   "id": "712b4397-75fa-4d74-86c8-0ef1b075e9d2",
   "metadata": {},
   "outputs": [],
   "source": [
    "from pyspark.ml.classification import RandomForestClassifier\n",
    "\n",
    "rfc = RandomForestClassifier(labelCol=\"label\", featuresCol=\"features\")"
   ]
  },
  {
   "cell_type": "markdown",
   "id": "4607de70-0652-4446-9978-981e74c13d3d",
   "metadata": {},
   "source": [
    "Finally, we can set up a pipeline."
   ]
  },
  {
   "cell_type": "code",
   "execution_count": 38,
   "id": "2195408d-c8c9-4ea6-bb2b-38dc42450583",
   "metadata": {},
   "outputs": [],
   "source": [
    "rfc_pipeline = Pipeline(stages=[stringIndexer, assembler, rfc])"
   ]
  },
  {
   "cell_type": "markdown",
   "id": "b2a25947-b932-45f8-a888-3aa6df95c8c2",
   "metadata": {},
   "source": [
    "We can then set up cross-validation."
   ]
  },
  {
   "cell_type": "code",
   "execution_count": 39,
   "id": "d91aeaf1-bfb6-448f-ac80-245ac698f8f7",
   "metadata": {},
   "outputs": [],
   "source": [
    "from pyspark.ml.evaluation import (\n",
    "    BinaryClassificationEvaluator,\n",
    "    MulticlassClassificationEvaluator,\n",
    ")\n",
    "from pyspark.ml.tuning import CrossValidator, ParamGridBuilder\n",
    "\n",
    "rfcParamGrid = (\n",
    "    ParamGridBuilder()\n",
    "    .addGrid(rfc.maxDepth, [0, 10, 20, 30])\n",
    "    .addGrid(rfc.numTrees, [5, 10, 20, 30, 40])\n",
    "    .build()\n",
    ")\n",
    "\n",
    "evaluator = BinaryClassificationEvaluator(\n",
    "    labelCol=\"label\",                    \n",
    "    rawPredictionCol=\"rawPrediction\",      \n",
    "    metricName=\"areaUnderROC\",\n",
    ")\n",
    "\n",
    "rfcCrossVal = CrossValidator(\n",
    "    estimator=rfc_pipeline,\n",
    "    estimatorParamMaps=rfcParamGrid,\n",
    "    evaluator=evaluator,\n",
    "    numFolds=3,\n",
    ")"
   ]
  },
  {
   "cell_type": "code",
   "execution_count": 40,
   "id": "59d25a0c-e0c0-47f7-aa2d-7197c691f94c",
   "metadata": {},
   "outputs": [
    {
     "name": "stderr",
     "output_type": "stream",
     "text": [
      "                                                                                \r"
     ]
    }
   ],
   "source": [
    "# Run cross-validation and choose the best set of parameters\n",
    "\n",
    "rfc_cv_model = rfcCrossVal.fit(train)"
   ]
  },
  {
   "cell_type": "code",
   "execution_count": 41,
   "id": "9034ca34-5b15-4d59-819a-a6e0beec8cf8",
   "metadata": {},
   "outputs": [],
   "source": [
    "rfcPredictions = rfc_cv_model.transform(test)"
   ]
  },
  {
   "cell_type": "code",
   "execution_count": 42,
   "id": "6769ae1a-f6db-4bdd-9a0d-ebe35d1c6312",
   "metadata": {},
   "outputs": [
    {
     "name": "stdout",
     "output_type": "stream",
     "text": [
      "Accuracy: 0.999787401540977\n"
     ]
    }
   ],
   "source": [
    "print(\"Accuracy:\", evaluator.evaluate(rfcPredictions))"
   ]
  },
  {
   "cell_type": "code",
   "execution_count": 43,
   "id": "80bae3ca-8737-4bf0-b16b-e393d2e5224b",
   "metadata": {},
   "outputs": [
    {
     "name": "stdout",
     "output_type": "stream",
     "text": [
      "Logistic regression \n",
      "confusion matrix:\n"
     ]
    },
    {
     "name": "stderr",
     "output_type": "stream",
     "text": [
      "[Stage 11807:========>                                            (2 + 10) / 12]\r"
     ]
    },
    {
     "name": "stdout",
     "output_type": "stream",
     "text": [
      "+------------+-----+-----+\n",
      "|obj_category|  0.0|  1.0|\n",
      "+------------+-----+-----+\n",
      "|      Galaxy|26200|  167|\n",
      "|        Star|  146|24247|\n",
      "+------------+-----+-----+\n",
      "\n"
     ]
    },
    {
     "name": "stderr",
     "output_type": "stream",
     "text": [
      "                                                                                \r"
     ]
    }
   ],
   "source": [
    "# Create a confusion matrix for the random forest model\n",
    "print(\"Logistic regression \\nconfusion matrix:\")\n",
    "rfcPredictions.groupby(\"obj_category\").pivot(\"prediction\").count().show()"
   ]
  },
  {
   "cell_type": "code",
   "execution_count": 46,
   "id": "8e330e4f-6f4a-44f2-9d21-88113ed63719",
   "metadata": {},
   "outputs": [
    {
     "name": "stdout",
     "output_type": "stream",
     "text": [
      "+--------------------+------------+----------+\n",
      "|            features|obj_category|prediction|\n",
      "+--------------------+------------+----------+\n",
      "|[19.50751,17.1084...|      Galaxy|       0.0|\n",
      "|[18.76937,18.1794...|      Galaxy|       0.0|\n",
      "|[19.3819,17.46996...|      Galaxy|       0.0|\n",
      "|[17.01301,14.8232...|      Galaxy|       0.0|\n",
      "|[20.43995,19.4842...|      Galaxy|       0.0|\n",
      "+--------------------+------------+----------+\n",
      "only showing top 5 rows\n",
      "\n"
     ]
    }
   ],
   "source": [
    "rfcPredictions.select(\"features\", \"obj_category\", \"prediction\").show(5)"
   ]
  },
  {
   "cell_type": "code",
   "execution_count": 44,
   "id": "4f1c288d-e5bf-4c9c-a672-37e8e32c6abe",
   "metadata": {},
   "outputs": [
    {
     "name": "stdout",
     "output_type": "stream",
     "text": [
      "Accuracy: 0.9717147110569766\n"
     ]
    }
   ],
   "source": [
    "print(\n",
    "    \"Accuracy:\",\n",
    "    evaluator.evaluate(\n",
    "        rfcPredictions.filter(rfcPredictions.modelMag_r >= 20.5)\n",
    "    ),\n",
    ")"
   ]
  },
  {
   "cell_type": "code",
   "execution_count": null,
   "id": "e69eafa9-e747-4c83-9374-a1decf227c9c",
   "metadata": {},
   "outputs": [],
   "source": []
  },
  {
   "cell_type": "code",
   "execution_count": 45,
   "id": "69eab3b0-5606-40fd-93a6-6abc18ca8dfc",
   "metadata": {},
   "outputs": [
    {
     "name": "stdout",
     "output_type": "stream",
     "text": [
      "Area under ROC = 0.9938405008362398 \n"
     ]
    }
   ],
   "source": [
    "from pyspark.ml.evaluation import BinaryClassificationEvaluator\n",
    "\n",
    "evaluator = BinaryClassificationEvaluator(\n",
    "    labelCol=\"label\",\n",
    "    rawPredictionCol=\"prediction\",\n",
    "    metricName=\"areaUnderROC\",\n",
    ")\n",
    "\n",
    "accuracy = evaluator.evaluate(rfcPredictions)\n",
    "print(f\"Area under ROC = {accuracy} \")"
   ]
  },
  {
   "cell_type": "markdown",
   "id": "2bb29eac-28bf-4adb-b1b6-2530e9c52484",
   "metadata": {},
   "source": [
    "## Decision tree"
   ]
  },
  {
   "cell_type": "code",
   "execution_count": 61,
   "id": "e18e1ab9-7ecb-4b75-a0c7-c7a9aee673c3",
   "metadata": {},
   "outputs": [],
   "source": [
    "from pyspark.ml.classification import DecisionTreeClassifier\n",
    "\n",
    "dtClassifier = DecisionTreeClassifier()\n",
    "\n",
    "dtPipeline = Pipeline().setStages([sqlTrans, assembler, dtClassifier])"
   ]
  },
  {
   "cell_type": "code",
   "execution_count": 62,
   "id": "e44ef681-b2a9-4dde-ac13-1ae1a68e5904",
   "metadata": {},
   "outputs": [],
   "source": [
    "dtParamGrid = ParamGridBuilder().addGrid(dtClassifier.maxDepth, [0, 5, 10, 20]).build()\n",
    "\n",
    "dtCrossVal = CrossValidator(\n",
    "    estimator=dtPipeline,\n",
    "    estimatorParamMaps=dtParamGrid,\n",
    "    evaluator=MulticlassClassificationEvaluator(),\n",
    "    numFolds=3,\n",
    ")"
   ]
  },
  {
   "cell_type": "code",
   "execution_count": 63,
   "id": "843ac385-fc6d-4155-b414-b4adfcae503d",
   "metadata": {},
   "outputs": [
    {
     "name": "stderr",
     "output_type": "stream",
     "text": [
      "                                                                                \r"
     ]
    }
   ],
   "source": [
    "# Run cross-validation, and choose the best set of parameters\n",
    "\n",
    "dtCVModel = dtCrossVal.fit(train)"
   ]
  },
  {
   "cell_type": "code",
   "execution_count": 64,
   "id": "6c005660-12ac-4245-bf6b-4b92cef8d804",
   "metadata": {},
   "outputs": [],
   "source": [
    "dtPredictions = dtCVModel.transform(test)"
   ]
  },
  {
   "cell_type": "code",
   "execution_count": 65,
   "id": "f9294eca-450b-4b99-b818-d6b6ee921670",
   "metadata": {},
   "outputs": [
    {
     "name": "stdout",
     "output_type": "stream",
     "text": [
      "Accuracy: 0.9937226278921604\n"
     ]
    }
   ],
   "source": [
    "print(\"Accuracy:\", MulticlassClassificationEvaluator().evaluate(dtPredictions))"
   ]
  },
  {
   "cell_type": "markdown",
   "id": "90db3cd2-04c9-4178-bfb0-5a5be9e2cf76",
   "metadata": {},
   "source": [
    "## Gradient-boosted trees"
   ]
  },
  {
   "cell_type": "code",
   "execution_count": 87,
   "id": "d0604c70-605c-47a9-aaa9-4c023c438b7d",
   "metadata": {},
   "outputs": [],
   "source": [
    "from pyspark.ml.classification import GBTClassifier\n",
    "from pyspark.ml.feature import StringIndexer\n",
    "\n",
    "stringIndexer = StringIndexer(inputCol=\"type\", outputCol=\"label\", handleInvalid=\"skip\")\n",
    "\n",
    "gbtSQLTrans = SQLTransformer(\n",
    "    statement=\"SELECT psfMag_r, modelMag_r, petroMag_r, fiberMag_r, \\\n",
    "                        petroRad_r, petroR50_r, petroR90_r, lnLStar_r, \\\n",
    "                        lnLExp_r, lnLDeV_r, mE1_r, mE2_r, mRrCc_r, \\\n",
    "                        label FROM __THIS__\"\n",
    ")\n",
    "\n",
    "gbtClassifier = GBTClassifier()\n",
    "\n",
    "gbtPipeline = Pipeline().setStages([stringIndexer, gbtSQLTrans, assembler, gbtClassifier])"
   ]
  },
  {
   "cell_type": "code",
   "execution_count": 88,
   "id": "13adbca6-275f-47fb-bbfd-ac4586286dca",
   "metadata": {},
   "outputs": [],
   "source": [
    "gbtParamGrid = (\n",
    "    ParamGridBuilder().addGrid(gbtClassifier.maxDepth, [0, 5, 10, 20]).build()\n",
    ")\n",
    "\n",
    "gbtCrossVal = CrossValidator(\n",
    "    estimator=gbtPipeline,\n",
    "    estimatorParamMaps=gbtParamGrid,\n",
    "    evaluator=MulticlassClassificationEvaluator(),\n",
    "    numFolds=3,\n",
    ")"
   ]
  },
  {
   "cell_type": "code",
   "execution_count": 89,
   "id": "4d83d8e7-7554-4753-93d5-30aceeb8f201",
   "metadata": {},
   "outputs": [
    {
     "name": "stderr",
     "output_type": "stream",
     "text": [
      "                                                                                \r"
     ]
    }
   ],
   "source": [
    "gbtCVModel = gbtCrossVal.fit(train)"
   ]
  },
  {
   "cell_type": "code",
   "execution_count": 90,
   "id": "22addcac-e090-4a6c-acc1-18a27682d54a",
   "metadata": {},
   "outputs": [],
   "source": [
    "gbtPredictions = gbtCVModel.transform(test)"
   ]
  },
  {
   "cell_type": "code",
   "execution_count": 91,
   "id": "d514a39b-a5b2-480c-85f0-e39f5bc5a311",
   "metadata": {},
   "outputs": [
    {
     "name": "stderr",
     "output_type": "stream",
     "text": [
      "[Stage 22790:>                                                    (0 + 12) / 12]\r"
     ]
    },
    {
     "name": "stdout",
     "output_type": "stream",
     "text": [
      "Accuracy: 0.9443559120437752\n"
     ]
    },
    {
     "name": "stderr",
     "output_type": "stream",
     "text": [
      "                                                                                \r"
     ]
    }
   ],
   "source": [
    "print(\n",
    "    \"Accuracy:\",\n",
    "    MulticlassClassificationEvaluator().evaluate(\n",
    "        gbtPredictions.filter(gbtPredictions.modelMag_r >= 20.5)\n",
    "    ),\n",
    ")"
   ]
  },
  {
   "cell_type": "markdown",
   "id": "915c423e-ceaa-44ae-bfba-e6e35c2adf8b",
   "metadata": {},
   "source": [
    "<a id=\"conclusion\"></a>\n",
    "# Conclusion"
   ]
  },
  {
   "cell_type": "markdown",
   "id": "b9e633a6-b381-4d52-b252-543810f75bb4",
   "metadata": {},
   "source": [
    "# References"
   ]
  },
  {
   "cell_type": "markdown",
   "id": "5b3035b8-3dda-46b3-918f-19e66032d695",
   "metadata": {},
   "source": [
    "<!-- BIBLIOGRAPHY START -->\n",
    "<div class=\"csl-bib-body\">\n",
    "  <div class=\"csl-entry\"><i id=\"zotero|6578788/3B8U6ZL5\"></i><i>About Rubin Observatory | Rubin Observatory</i>. (2022). Vera C. Rubin Observatory. <a href=\"https://www.lsst.org/about\">https://www.lsst.org/about</a></div>\n",
    "  <div class=\"csl-entry\"><i id=\"zotero|6578788/M4AXTGNR\"></i><i>Data Volume | SDSS</i>. (2021). Sloan Digital Sky Survey. <a href=\"https://www.sdss.org/dr17/data_access/volume\">https://www.sdss.org/dr17/data_access/volume</a></div>\n",
    "  <div class=\"csl-entry\"><i id=\"zotero|6578788/LXV9B3I3\"></i>Fluke, C. J., &#38; Jacobs, C. (2020). Surveying the reach and maturity of machine learning and artificial intelligence in astronomy. <i>WIREs Data Mining and Knowledge Discovery</i>, <i>10</i>(2), e1349. <a href=\"https://doi.org/10.1002/widm.1349\">https://doi.org/10.1002/widm.1349</a></div>\n",
    "  <div class=\"csl-entry\"><i id=\"zotero|6578788/WRVILYFW\"></i><i>SDSS Data Release 7</i>. (2013). Sloan Digital Sky Survey. <a href=\"http://classic.sdss.org/dr7/\">http://classic.sdss.org/dr7/</a></div>\n",
    "  <div class=\"csl-entry\"><i id=\"zotero|6578788/Z75D4M6Y\"></i><i>Sloan Digital Sky Surveys | SDSS</i>. (n.d.). Retrieved April 28, 2022, from <a href=\"https://www.sdss.org/surveys/\">https://www.sdss.org/surveys/</a></div>\n",
    "  <div class=\"csl-entry\"><i id=\"zotero|6578788/ELIRRS3L\"></i>Tatsat, H., Puri, S., &#38; Lookabaugh, B. (2020). Machine Learning and Data Science Blueprints for Finance. In <i>Machine Learning and Data Science Blueprints for Finance</i>. O’Reilly Media. <a href=\"https://learning.oreilly.com/library/view/machine-learning-and/9781492073048/\">https://learning.oreilly.com/library/view/machine-learning-and/9781492073048/</a></div>\n",
    "  <div class=\"csl-entry\"><i id=\"zotero|6578788/UXVJ3YSM\"></i>Vasconcellos, E. C., Carvalho, R. R. de, Gal, R. R., LaBarbera, F. L., Capelato, H. V., Velho, H. F. C., Trevisan, M., &#38; Ruiz, R. S. R. (2011). DECISION TREE CLASSIFIERS FOR STAR/GALAXY SEPARATION. <i>The Astronomical Journal</i>, <i>141</i>(6), 189. <a href=\"https://doi.org/10.1088/0004-6256/141/6/189\">https://doi.org/10.1088/0004-6256/141/6/189</a></div>\n",
    "</div>\n",
    "<!-- BIBLIOGRAPHY END -->"
   ]
  },
  {
   "cell_type": "code",
   "execution_count": null,
   "id": "512bf3a4-682c-4e44-8070-dfcbc6461dbd",
   "metadata": {},
   "outputs": [],
   "source": []
  }
 ],
 "metadata": {
  "citation-manager": {
   "items": {
    "zotero": {
     "6578788/3B8U6ZL5": {
      "URL": "https://www.lsst.org/about",
      "accessed": {
       "date-parts": [
        [
         2022,
         4,
         30
        ]
       ]
      },
      "container-title": "Vera C. Rubin Observatory",
      "id": "6578788/3B8U6ZL5",
      "issued": {
       "date-parts": [
        [
         2022
        ]
       ]
      },
      "system_id": "zotero|6578788/3B8U6ZL5",
      "title": "About Rubin Observatory | Rubin Observatory",
      "type": "webpage"
     },
     "6578788/ELIRRS3L": {
      "URL": "https://learning.oreilly.com/library/view/machine-learning-and/9781492073048/",
      "accessed": {
       "date-parts": [
        [
         2022,
         4,
         29
        ]
       ]
      },
      "author": [
       {
        "family": "Tatsat",
        "given": "Hariom"
       },
       {
        "family": "Puri",
        "given": "Sahil"
       },
       {
        "family": "Lookabaugh",
        "given": "Brad"
       }
      ],
      "container-title": "Machine Learning and Data Science Blueprints for Finance",
      "id": "6578788/ELIRRS3L",
      "issued": {
       "date-parts": [
        [
         "2020",
         10
        ]
       ]
      },
      "publisher": "O'Reilly Media",
      "system_id": "zotero|6578788/ELIRRS3L",
      "title": "Machine Learning and Data Science Blueprints for Finance",
      "type": "chapter"
     },
     "6578788/LXV9B3I3": {
      "DOI": "10.1002/widm.1349",
      "URL": "http://onlinelibrary.wiley.com/doi/abs/10.1002/widm.1349",
      "abstract": "Machine learning (automated processes that learn by example in order to classify, predict, discover, or generate new data) and artificial intelligence (methods by which a computer makes decisions or discoveries that would usually require human intelligence) are now firmly established in astronomy. Every week, new applications of machine learning and artificial intelligence are added to a growing corpus of work. Random forests, support vector machines, and neural networks are now having a genuine impact for applications as diverse as discovering extrasolar planets, transient objects, quasars, and gravitationally lensed systems, forecasting solar activity, and distinguishing between signals and instrumental effects in gravitational wave astronomy. This review surveys contemporary, published literature on machine learning and artificial intelligence in astronomy and astrophysics. Applications span seven main categories of activity: classification, regression, clustering, forecasting, generation, discovery, and the development of new scientific insights. These categories form the basis of a hierarchy of maturity, as the use of machine learning and artificial intelligence emerges, progresses, or becomes established. This article is categorized under: Application Areas > Science and Technology Fundamental Concepts of Data and Knowledge > Motivation and Emergence of Data Mining Technologies > Machine Learning",
      "accessed": {
       "date-parts": [
        [
         2022,
         4,
         30
        ]
       ]
      },
      "author": [
       {
        "family": "Fluke",
        "given": "Christopher J."
       },
       {
        "family": "Jacobs",
        "given": "Colin"
       }
      ],
      "container-title": "WIREs Data Mining and Knowledge Discovery",
      "id": "6578788/LXV9B3I3",
      "issue": "2",
      "issued": {
       "date-parts": [
        [
         2020
        ]
       ]
      },
      "language": "en",
      "note": "_eprint: https://wires.onlinelibrary.wiley.com/doi/pdf/10.1002/widm.1349",
      "page": "e1349",
      "system_id": "zotero|6578788/LXV9B3I3",
      "title": "Surveying the reach and maturity of machine learning and artificial intelligence in astronomy",
      "type": "article-journal",
      "volume": "10"
     },
     "6578788/M4AXTGNR": {
      "URL": "https://www.sdss.org/dr17/data_access/volume",
      "accessed": {
       "date-parts": [
        [
         2022,
         4,
         30
        ]
       ]
      },
      "container-title": "Sloan Digital Sky Survey",
      "id": "6578788/M4AXTGNR",
      "issued": {
       "date-parts": [
        [
         2021
        ]
       ]
      },
      "system_id": "zotero|6578788/M4AXTGNR",
      "title": "Data Volume | SDSS",
      "type": "webpage"
     },
     "6578788/UXVJ3YSM": {
      "DOI": "10.1088/0004-6256/141/6/189",
      "URL": "https://doi.org/10.1088/0004-6256/141/6/189",
      "abstract": "We study the star/galaxy classification efficiency of 13 different decision tree algorithms applied to photometric objects in the Sloan Digital Sky Survey Data Release Seven (SDSS-DR7). Each algorithm is defined by a set of parameters which, when varied, produce different final classification trees. We extensively explore the parameter space of each algorithm, using the set of 884,126 SDSS objects with spectroscopic data as the training set. The efficiency of star–galaxy separation is measured using the completeness function. We find that the Functional Tree algorithm (FT) yields the best results as measured by the mean completeness in two magnitude intervals: 14 ⩽ r ⩽ 21 (85.2%) and r ⩾ 19 (82.1%). We compare the performance of the tree generated with the optimal FT configuration to the classifications provided by the SDSS parametric classifier, 2DPHOT, and Ball et al. We find that our FT classifier is comparable to or better in completeness over the full magnitude range 15 ⩽ r ⩽ 21, with much lower contamination than all but the Ball et al. classifier. At the faintest magnitudes (r > 19), our classifier is the only one that maintains high completeness (>80%) while simultaneously achieving low contamination (∼2.5%). We also examine the SDSS parametric classifier (psfMag − modelMag) to see if the dividing line between stars and galaxies can be adjusted to improve the classifier. We find that currently stars in close pairs are often misclassified as galaxies, and suggest a new cut to improve the classifier. Finally, we apply our FT classifier to separate stars from galaxies in the full set of 69,545,326 SDSS photometric objects in the magnitude range 14 ⩽ r ⩽ 21.",
      "accessed": {
       "date-parts": [
        [
         2022,
         4,
         28
        ]
       ]
      },
      "author": [
       {
        "family": "Vasconcellos",
        "given": "E. C."
       },
       {
        "family": "Carvalho",
        "given": "R. R. de"
       },
       {
        "family": "Gal",
        "given": "R. R."
       },
       {
        "family": "LaBarbera",
        "given": "F. L."
       },
       {
        "family": "Capelato",
        "given": "H. V."
       },
       {
        "family": "Velho",
        "given": "H. Frago Campos"
       },
       {
        "family": "Trevisan",
        "given": "M."
       },
       {
        "family": "Ruiz",
        "given": "R. S. R."
       }
      ],
      "container-title": "The Astronomical Journal",
      "id": "6578788/UXVJ3YSM",
      "issue": "6",
      "issued": {
       "date-parts": [
        [
         2011,
         5
        ]
       ]
      },
      "journalAbbreviation": "AJ",
      "language": "en",
      "note": "Publisher: American Astronomical Society",
      "page": "189",
      "system_id": "zotero|6578788/UXVJ3YSM",
      "title": "DECISION TREE CLASSIFIERS FOR STAR/GALAXY SEPARATION",
      "type": "article-journal",
      "volume": "141"
     },
     "6578788/WRVILYFW": {
      "URL": "http://classic.sdss.org/dr7/",
      "accessed": {
       "date-parts": [
        [
         2022,
         4,
         29
        ]
       ]
      },
      "container-title": "Sloan Digital Sky Survey",
      "id": "6578788/WRVILYFW",
      "issued": {
       "date-parts": [
        [
         2013
        ]
       ]
      },
      "system_id": "zotero|6578788/WRVILYFW",
      "title": "SDSS Data Release 7",
      "type": "webpage"
     },
     "6578788/Z75D4M6Y": {
      "URL": "https://www.sdss.org/surveys/",
      "accessed": {
       "date-parts": [
        [
         2022,
         4,
         28
        ]
       ]
      },
      "id": "6578788/Z75D4M6Y",
      "system_id": "zotero|6578788/Z75D4M6Y",
      "title": "Sloan Digital Sky Surveys | SDSS",
      "type": "webpage"
     }
    }
   },
   "style": "apa.csl"
  },
  "kernelspec": {
   "display_name": "Python 3 (ipykernel)",
   "language": "python",
   "name": "python3"
  },
  "language_info": {
   "codemirror_mode": {
    "name": "ipython",
    "version": 3
   },
   "file_extension": ".py",
   "mimetype": "text/x-python",
   "name": "python",
   "nbconvert_exporter": "python",
   "pygments_lexer": "ipython3",
   "version": "3.10.4"
  },
  "toc-autonumbering": true
 },
 "nbformat": 4,
 "nbformat_minor": 5
}
